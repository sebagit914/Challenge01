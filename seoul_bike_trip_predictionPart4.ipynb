{
  "nbformat": 4,
  "nbformat_minor": 0,
  "metadata": {
    "colab": {
      "name": "seoul_bike_trip_predictionPart4.ipynb",
      "provenance": [],
      "collapsed_sections": [
        "UjA0-n5YSexu",
        "z9--iGgCTzeX",
        "sxvvJsIQXNeg",
        "oIMZ8mQWOTfA",
        "KR-blDxsTPuF",
        "elv28Y8qkOVY",
        "HjxNi24ldMNU",
        "_RDgKAoaoviA",
        "I4ngqJIPgPjs"
      ],
      "toc_visible": true,
      "include_colab_link": true
    },
    "kernelspec": {
      "display_name": "Python 3",
      "language": "python",
      "name": "python3"
    },
    "language_info": {
      "codemirror_mode": {
        "name": "ipython",
        "version": 3
      },
      "file_extension": ".py",
      "mimetype": "text/x-python",
      "name": "python",
      "nbconvert_exporter": "python",
      "pygments_lexer": "ipython3",
      "version": "3.7.6"
    }
  },
  "cells": [
    {
      "cell_type": "markdown",
      "metadata": {
        "id": "view-in-github",
        "colab_type": "text"
      },
      "source": [
        "<a href=\"https://colab.research.google.com/github/sebagit914/Challenge01/blob/master/seoul_bike_trip_predictionPart4.ipynb\" target=\"_parent\"><img src=\"https://colab.research.google.com/assets/colab-badge.svg\" alt=\"Open In Colab\"/></a>"
      ]
    },
    {
      "cell_type": "markdown",
      "metadata": {
        "id": "TQSiKH2f3XNo"
      },
      "source": [
        "# SEOUL BIKE TRIP DURATION PREDICTION\n",
        "\n",
        "Necesitamos predecir la duración del viaje a partir de todos los demás datos del conjunto de datos, como la distancia, la ubicación y la información meteorológica.\n",
        "La duración del viaje es la medida más fundamental en todos los modos de transporte. Por lo tanto, el desafío es predecir el tiempo de viaje con precisión para el avance de los sistemas de transporte inteligente (ITS) y los sistemas de información al viajero.\n"
      ]
    },
    {
      "cell_type": "markdown",
      "metadata": {
        "id": "-qW9-zzP4Fvb"
      },
      "source": [
        "# Sobre el dataset\n",
        "Dataset contains 1 file for_modeling.csv ( 9601139 , 26 )"
      ]
    },
    {
      "cell_type": "markdown",
      "metadata": {
        "id": "UCxa772j-nNy"
      },
      "source": [
        "# Columnas en el dataset\n",
        "Unnamed: 0\n",
        "\n",
        "Duration \n",
        "\n",
        "Distance\n",
        "\n",
        "PLong\n",
        "\n",
        "PLatd\n",
        "\n",
        "DLong\n",
        "\n",
        "DLatd\n",
        "\n",
        "Haversine\n",
        "\n",
        "Pmonth\n",
        "\n",
        "Pday\n",
        "\n",
        "Phour\n",
        "\n",
        "Pmin\n",
        "\n",
        "PDweek\n",
        "\n",
        "Dmonth\n",
        "\n",
        "Dday\n",
        "\n",
        "Dhour\n",
        "\n",
        "Dmin\n",
        "\n",
        "DDweek\n",
        "\n",
        "Temp\n",
        "\n",
        "Precip\n",
        "\n",
        "Wind\n",
        "\n",
        "Humid\n",
        "\n",
        "Solar\n",
        "\n",
        "Snow\n",
        "\n",
        "GroundTemp\n",
        "\n",
        "Dust"
      ]
    },
    {
      "cell_type": "markdown",
      "metadata": {
        "id": "RtrdqvjCSDd8"
      },
      "source": [
        "### Importar librerias\n"
      ]
    },
    {
      "cell_type": "code",
      "metadata": {
        "id": "Wlni6fOW6sW_"
      },
      "source": [
        "#DataFrame y visualización\n",
        "import pandas as pd\n",
        "import numpy as np\n",
        "import matplotlib.pyplot as plt\n",
        "import seaborn as sns\n",
        "\n",
        "#Entrenamiento y testeo\n",
        "from sklearn.model_selection import train_test_split\n",
        "\n",
        "#Metricas y preprocesamiento\n",
        "from sklearn import metrics\n",
        "from sklearn import preprocessing\n",
        "from sklearn.preprocessing import PowerTransformer\n",
        "from sklearn.preprocessing import StandardScaler\n",
        "from sklearn.metrics import confusion_matrix,classification_report,accuracy_score\n",
        "\n",
        "#Modelos\n",
        "from sklearn.neighbors import KNeighborsClassifier\n",
        "from sklearn.tree import DecisionTreeClassifier\n",
        "from sklearn.ensemble import RandomForestClassifier\n",
        "from sklearn.svm import SVC\n",
        "from sklearn.linear_model import LogisticRegression, LogisticRegressionCV\n",
        "\n",
        "#Optimizador Hiperparametros\n",
        "from sklearn.model_selection import GridSearchCV\n",
        "from sklearn.model_selection import cross_val_score\n",
        "\n",
        "#Warnings\n",
        "import warnings"
      ],
      "execution_count": null,
      "outputs": []
    },
    {
      "cell_type": "markdown",
      "metadata": {
        "id": "zldrFWomSRkI"
      },
      "source": [
        "### Importar dataset"
      ]
    },
    {
      "cell_type": "code",
      "metadata": {
        "colab": {
          "base_uri": "https://localhost:8080/"
        },
        "id": "x8CktgI66Ziz",
        "outputId": "733ad806-d88b-4255-b0e0-82e64f439c44"
      },
      "source": [
        "from google.colab import drive\n",
        "drive.mount('/content/drive')"
      ],
      "execution_count": null,
      "outputs": [
        {
          "output_type": "stream",
          "name": "stdout",
          "text": [
            "Drive already mounted at /content/drive; to attempt to forcibly remount, call drive.mount(\"/content/drive\", force_remount=True).\n"
          ]
        }
      ]
    },
    {
      "cell_type": "code",
      "metadata": {
        "colab": {
          "base_uri": "https://localhost:8080/",
          "height": 244
        },
        "id": "67yMMoVC6gvA",
        "outputId": "44e9b4f3-f36b-4350-e6cb-aedc35b1dad8"
      },
      "source": [
        "filename = '/content/drive/MyDrive/Assigment/Project2/Seoul Bike/For_modeling.csv'\n",
        "\n",
        "df = pd.read_csv(filename)\n",
        "df.head(5)"
      ],
      "execution_count": null,
      "outputs": [
        {
          "output_type": "execute_result",
          "data": {
            "text/html": [
              "<div>\n",
              "<style scoped>\n",
              "    .dataframe tbody tr th:only-of-type {\n",
              "        vertical-align: middle;\n",
              "    }\n",
              "\n",
              "    .dataframe tbody tr th {\n",
              "        vertical-align: top;\n",
              "    }\n",
              "\n",
              "    .dataframe thead th {\n",
              "        text-align: right;\n",
              "    }\n",
              "</style>\n",
              "<table border=\"1\" class=\"dataframe\">\n",
              "  <thead>\n",
              "    <tr style=\"text-align: right;\">\n",
              "      <th></th>\n",
              "      <th>Unnamed: 0</th>\n",
              "      <th>Duration</th>\n",
              "      <th>Distance</th>\n",
              "      <th>PLong</th>\n",
              "      <th>PLatd</th>\n",
              "      <th>DLong</th>\n",
              "      <th>DLatd</th>\n",
              "      <th>Haversine</th>\n",
              "      <th>Pmonth</th>\n",
              "      <th>Pday</th>\n",
              "      <th>Phour</th>\n",
              "      <th>Pmin</th>\n",
              "      <th>PDweek</th>\n",
              "      <th>Dmonth</th>\n",
              "      <th>Dday</th>\n",
              "      <th>Dhour</th>\n",
              "      <th>Dmin</th>\n",
              "      <th>DDweek</th>\n",
              "      <th>Temp</th>\n",
              "      <th>Precip</th>\n",
              "      <th>Wind</th>\n",
              "      <th>Humid</th>\n",
              "      <th>Solar</th>\n",
              "      <th>Snow</th>\n",
              "      <th>GroundTemp</th>\n",
              "      <th>Dust</th>\n",
              "    </tr>\n",
              "  </thead>\n",
              "  <tbody>\n",
              "    <tr>\n",
              "      <th>0</th>\n",
              "      <td>0</td>\n",
              "      <td>3</td>\n",
              "      <td>50</td>\n",
              "      <td>37.544666</td>\n",
              "      <td>126.888359</td>\n",
              "      <td>37.544666</td>\n",
              "      <td>126.888359</td>\n",
              "      <td>0.000000</td>\n",
              "      <td>1</td>\n",
              "      <td>1</td>\n",
              "      <td>0</td>\n",
              "      <td>0</td>\n",
              "      <td>0</td>\n",
              "      <td>1</td>\n",
              "      <td>1</td>\n",
              "      <td>0</td>\n",
              "      <td>4</td>\n",
              "      <td>0</td>\n",
              "      <td>-3.2</td>\n",
              "      <td>0.0</td>\n",
              "      <td>0.5</td>\n",
              "      <td>40.0</td>\n",
              "      <td>0.0</td>\n",
              "      <td>0.0</td>\n",
              "      <td>-2.2</td>\n",
              "      <td>25.0</td>\n",
              "    </tr>\n",
              "    <tr>\n",
              "      <th>1</th>\n",
              "      <td>1</td>\n",
              "      <td>24</td>\n",
              "      <td>7670</td>\n",
              "      <td>37.506199</td>\n",
              "      <td>127.003944</td>\n",
              "      <td>37.551250</td>\n",
              "      <td>127.035103</td>\n",
              "      <td>5.713529</td>\n",
              "      <td>1</td>\n",
              "      <td>1</td>\n",
              "      <td>0</td>\n",
              "      <td>0</td>\n",
              "      <td>0</td>\n",
              "      <td>1</td>\n",
              "      <td>1</td>\n",
              "      <td>0</td>\n",
              "      <td>25</td>\n",
              "      <td>0</td>\n",
              "      <td>-3.2</td>\n",
              "      <td>0.0</td>\n",
              "      <td>0.5</td>\n",
              "      <td>40.0</td>\n",
              "      <td>0.0</td>\n",
              "      <td>0.0</td>\n",
              "      <td>-2.2</td>\n",
              "      <td>25.0</td>\n",
              "    </tr>\n",
              "    <tr>\n",
              "      <th>2</th>\n",
              "      <td>2</td>\n",
              "      <td>8</td>\n",
              "      <td>1390</td>\n",
              "      <td>37.544590</td>\n",
              "      <td>127.057083</td>\n",
              "      <td>37.537014</td>\n",
              "      <td>127.061096</td>\n",
              "      <td>0.913702</td>\n",
              "      <td>1</td>\n",
              "      <td>1</td>\n",
              "      <td>0</td>\n",
              "      <td>0</td>\n",
              "      <td>0</td>\n",
              "      <td>1</td>\n",
              "      <td>1</td>\n",
              "      <td>0</td>\n",
              "      <td>9</td>\n",
              "      <td>0</td>\n",
              "      <td>-3.2</td>\n",
              "      <td>0.0</td>\n",
              "      <td>0.5</td>\n",
              "      <td>40.0</td>\n",
              "      <td>0.0</td>\n",
              "      <td>0.0</td>\n",
              "      <td>-2.2</td>\n",
              "      <td>25.0</td>\n",
              "    </tr>\n",
              "    <tr>\n",
              "      <th>3</th>\n",
              "      <td>3</td>\n",
              "      <td>8</td>\n",
              "      <td>1820</td>\n",
              "      <td>37.571102</td>\n",
              "      <td>127.023560</td>\n",
              "      <td>37.561447</td>\n",
              "      <td>127.034920</td>\n",
              "      <td>1.468027</td>\n",
              "      <td>1</td>\n",
              "      <td>1</td>\n",
              "      <td>0</td>\n",
              "      <td>1</td>\n",
              "      <td>0</td>\n",
              "      <td>1</td>\n",
              "      <td>1</td>\n",
              "      <td>0</td>\n",
              "      <td>10</td>\n",
              "      <td>0</td>\n",
              "      <td>-3.2</td>\n",
              "      <td>0.0</td>\n",
              "      <td>0.5</td>\n",
              "      <td>40.0</td>\n",
              "      <td>0.0</td>\n",
              "      <td>0.0</td>\n",
              "      <td>-2.2</td>\n",
              "      <td>25.0</td>\n",
              "    </tr>\n",
              "    <tr>\n",
              "      <th>4</th>\n",
              "      <td>4</td>\n",
              "      <td>4</td>\n",
              "      <td>850</td>\n",
              "      <td>37.573242</td>\n",
              "      <td>127.015907</td>\n",
              "      <td>37.565849</td>\n",
              "      <td>127.016403</td>\n",
              "      <td>0.823227</td>\n",
              "      <td>1</td>\n",
              "      <td>1</td>\n",
              "      <td>0</td>\n",
              "      <td>1</td>\n",
              "      <td>0</td>\n",
              "      <td>1</td>\n",
              "      <td>1</td>\n",
              "      <td>0</td>\n",
              "      <td>6</td>\n",
              "      <td>0</td>\n",
              "      <td>-3.2</td>\n",
              "      <td>0.0</td>\n",
              "      <td>0.5</td>\n",
              "      <td>40.0</td>\n",
              "      <td>0.0</td>\n",
              "      <td>0.0</td>\n",
              "      <td>-2.2</td>\n",
              "      <td>25.0</td>\n",
              "    </tr>\n",
              "  </tbody>\n",
              "</table>\n",
              "</div>"
            ],
            "text/plain": [
              "   Unnamed: 0  Duration  Distance      PLong  ...  Solar  Snow  GroundTemp  Dust\n",
              "0           0         3        50  37.544666  ...    0.0   0.0        -2.2  25.0\n",
              "1           1        24      7670  37.506199  ...    0.0   0.0        -2.2  25.0\n",
              "2           2         8      1390  37.544590  ...    0.0   0.0        -2.2  25.0\n",
              "3           3         8      1820  37.571102  ...    0.0   0.0        -2.2  25.0\n",
              "4           4         4       850  37.573242  ...    0.0   0.0        -2.2  25.0\n",
              "\n",
              "[5 rows x 26 columns]"
            ]
          },
          "metadata": {},
          "execution_count": 46
        }
      ]
    },
    {
      "cell_type": "markdown",
      "metadata": {
        "id": "UjA0-n5YSexu"
      },
      "source": [
        "# Identificar el numero de features\n"
      ]
    },
    {
      "cell_type": "markdown",
      "metadata": {
        "id": "Cj3Ob2XQShHt"
      },
      "source": [
        "# Conocer todos los nombres de las columnas"
      ]
    },
    {
      "cell_type": "code",
      "metadata": {
        "colab": {
          "base_uri": "https://localhost:8080/"
        },
        "id": "DzMeIi7p4FuA",
        "outputId": "ce12ec95-2e67-4a23-8795-0427fe1cf9ff"
      },
      "source": [
        "# Revisar todas las columnas del dataset\n",
        "df.columns"
      ],
      "execution_count": null,
      "outputs": [
        {
          "output_type": "execute_result",
          "data": {
            "text/plain": [
              "Index(['Unnamed: 0', 'Duration', 'Distance', 'PLong', 'PLatd', 'DLong',\n",
              "       'DLatd', 'Haversine', 'Pmonth', 'Pday', 'Phour', 'Pmin', 'PDweek',\n",
              "       'Dmonth', 'Dday', 'Dhour', 'Dmin', 'DDweek', 'Temp', 'Precip', 'Wind',\n",
              "       'Humid', 'Solar', 'Snow', 'GroundTemp', 'Dust'],\n",
              "      dtype='object')"
            ]
          },
          "metadata": {},
          "execution_count": 6
        }
      ]
    },
    {
      "cell_type": "markdown",
      "metadata": {
        "id": "gzm3jGrDSrWB"
      },
      "source": [
        "# Eliminar columnas irrelevantes desde el dataset"
      ]
    },
    {
      "cell_type": "code",
      "metadata": {
        "id": "vJf9Zcb5WZH_",
        "colab": {
          "base_uri": "https://localhost:8080/"
        },
        "outputId": "dcf4d261-7840-42d7-84d8-2b74af5bfac8"
      },
      "source": [
        "# Eliminación de columna irrelevante Unnamed: 0\n",
        "df.drop(columns = 'Unnamed: 0', inplace= True)\n",
        "df.columns"
      ],
      "execution_count": null,
      "outputs": [
        {
          "output_type": "execute_result",
          "data": {
            "text/plain": [
              "Index(['Duration', 'Distance', 'PLong', 'PLatd', 'DLong', 'DLatd', 'Haversine',\n",
              "       'Pmonth', 'Pday', 'Phour', 'Pmin', 'PDweek', 'Dmonth', 'Dday', 'Dhour',\n",
              "       'Dmin', 'DDweek', 'Temp', 'Precip', 'Wind', 'Humid', 'Solar', 'Snow',\n",
              "       'GroundTemp', 'Dust'],\n",
              "      dtype='object')"
            ]
          },
          "metadata": {},
          "execution_count": 47
        }
      ]
    },
    {
      "cell_type": "markdown",
      "metadata": {
        "id": "h07rq4XLS8gu"
      },
      "source": [
        "# Análisis , información tipo de columnas"
      ]
    },
    {
      "cell_type": "code",
      "metadata": {
        "colab": {
          "base_uri": "https://localhost:8080/"
        },
        "id": "SnCXTQ5T4F-t",
        "outputId": "b56f23ff-ce26-4c83-af7a-dd433216eefb"
      },
      "source": [
        "# Revisar que columnas son categoricas, numéricas o booleanas\n",
        "df.info()"
      ],
      "execution_count": null,
      "outputs": [
        {
          "output_type": "stream",
          "name": "stdout",
          "text": [
            "<class 'pandas.core.frame.DataFrame'>\n",
            "RangeIndex: 9601139 entries, 0 to 9601138\n",
            "Data columns (total 25 columns):\n",
            " #   Column      Dtype  \n",
            "---  ------      -----  \n",
            " 0   Duration    int64  \n",
            " 1   Distance    int64  \n",
            " 2   PLong       float64\n",
            " 3   PLatd       float64\n",
            " 4   DLong       float64\n",
            " 5   DLatd       float64\n",
            " 6   Haversine   float64\n",
            " 7   Pmonth      int64  \n",
            " 8   Pday        int64  \n",
            " 9   Phour       int64  \n",
            " 10  Pmin        int64  \n",
            " 11  PDweek      int64  \n",
            " 12  Dmonth      int64  \n",
            " 13  Dday        int64  \n",
            " 14  Dhour       int64  \n",
            " 15  Dmin        int64  \n",
            " 16  DDweek      int64  \n",
            " 17  Temp        float64\n",
            " 18  Precip      float64\n",
            " 19  Wind        float64\n",
            " 20  Humid       float64\n",
            " 21  Solar       float64\n",
            " 22  Snow        float64\n",
            " 23  GroundTemp  float64\n",
            " 24  Dust        float64\n",
            "dtypes: float64(13), int64(12)\n",
            "memory usage: 1.8 GB\n"
          ]
        }
      ]
    },
    {
      "cell_type": "markdown",
      "metadata": {
        "id": "qwMf-V9cBQ0s"
      },
      "source": [
        "** Después de verificar los Dtypes de todas las columnas **\n",
        "\n",
        "Features:\n",
        "\n",
        "\n",
        "** objeto: valores de cadena **\n",
        "\n",
        "** float64 - Valores numéricos **\n",
        "\n",
        "** Observación: No hay valores de cadena, por lo que no hay datos categóricos **"
      ]
    },
    {
      "cell_type": "markdown",
      "metadata": {
        "id": "DYyz_CkXTIx0"
      },
      "source": [
        "# Conocoer más relaciones matemáticas "
      ]
    },
    {
      "cell_type": "code",
      "metadata": {
        "colab": {
          "base_uri": "https://localhost:8080/",
          "height": 320
        },
        "id": "18TrIIH54GOl",
        "outputId": "2f1085bf-4c03-4292-ea3f-23fc3219fba3"
      },
      "source": [
        "# Para obtener más información sobre el conjunto de datos, como el recuento total en todas las columnas\n",
        "# valores mínimos, máximos y más información de las respectivas columnas\n",
        "df.describe()"
      ],
      "execution_count": null,
      "outputs": [
        {
          "output_type": "execute_result",
          "data": {
            "text/html": [
              "<div>\n",
              "<style scoped>\n",
              "    .dataframe tbody tr th:only-of-type {\n",
              "        vertical-align: middle;\n",
              "    }\n",
              "\n",
              "    .dataframe tbody tr th {\n",
              "        vertical-align: top;\n",
              "    }\n",
              "\n",
              "    .dataframe thead th {\n",
              "        text-align: right;\n",
              "    }\n",
              "</style>\n",
              "<table border=\"1\" class=\"dataframe\">\n",
              "  <thead>\n",
              "    <tr style=\"text-align: right;\">\n",
              "      <th></th>\n",
              "      <th>Duration</th>\n",
              "      <th>Distance</th>\n",
              "      <th>PLong</th>\n",
              "      <th>PLatd</th>\n",
              "      <th>DLong</th>\n",
              "      <th>DLatd</th>\n",
              "      <th>Haversine</th>\n",
              "      <th>Pmonth</th>\n",
              "      <th>Pday</th>\n",
              "      <th>Phour</th>\n",
              "      <th>Pmin</th>\n",
              "      <th>PDweek</th>\n",
              "      <th>Dmonth</th>\n",
              "      <th>Dday</th>\n",
              "      <th>Dhour</th>\n",
              "      <th>Dmin</th>\n",
              "      <th>DDweek</th>\n",
              "      <th>Temp</th>\n",
              "      <th>Precip</th>\n",
              "      <th>Wind</th>\n",
              "      <th>Humid</th>\n",
              "      <th>Solar</th>\n",
              "      <th>Snow</th>\n",
              "      <th>GroundTemp</th>\n",
              "      <th>Dust</th>\n",
              "    </tr>\n",
              "  </thead>\n",
              "  <tbody>\n",
              "    <tr>\n",
              "      <th>count</th>\n",
              "      <td>9.601139e+06</td>\n",
              "      <td>9.601139e+06</td>\n",
              "      <td>9.601139e+06</td>\n",
              "      <td>9.601139e+06</td>\n",
              "      <td>9.601139e+06</td>\n",
              "      <td>9.601139e+06</td>\n",
              "      <td>9.601139e+06</td>\n",
              "      <td>9.601139e+06</td>\n",
              "      <td>9.601139e+06</td>\n",
              "      <td>9.601139e+06</td>\n",
              "      <td>9.601139e+06</td>\n",
              "      <td>9.601139e+06</td>\n",
              "      <td>9.601139e+06</td>\n",
              "      <td>9.601139e+06</td>\n",
              "      <td>9.601139e+06</td>\n",
              "      <td>9.601139e+06</td>\n",
              "      <td>9.601139e+06</td>\n",
              "      <td>9.601139e+06</td>\n",
              "      <td>9.601139e+06</td>\n",
              "      <td>9.601139e+06</td>\n",
              "      <td>9.601139e+06</td>\n",
              "      <td>9.601139e+06</td>\n",
              "      <td>9.601139e+06</td>\n",
              "      <td>9.601139e+06</td>\n",
              "      <td>9.601139e+06</td>\n",
              "    </tr>\n",
              "    <tr>\n",
              "      <th>mean</th>\n",
              "      <td>2.580294e+01</td>\n",
              "      <td>3.713519e+03</td>\n",
              "      <td>3.754761e+01</td>\n",
              "      <td>1.269908e+02</td>\n",
              "      <td>3.754770e+01</td>\n",
              "      <td>1.269907e+02</td>\n",
              "      <td>1.870315e+00</td>\n",
              "      <td>7.578754e+00</td>\n",
              "      <td>1.576714e+01</td>\n",
              "      <td>1.437801e+01</td>\n",
              "      <td>2.914948e+01</td>\n",
              "      <td>2.943812e+00</td>\n",
              "      <td>7.579198e+00</td>\n",
              "      <td>1.576666e+01</td>\n",
              "      <td>1.442620e+01</td>\n",
              "      <td>2.999278e+01</td>\n",
              "      <td>2.945771e+00</td>\n",
              "      <td>1.856201e+01</td>\n",
              "      <td>1.784856e-02</td>\n",
              "      <td>1.819274e+00</td>\n",
              "      <td>5.397565e+01</td>\n",
              "      <td>7.300679e-01</td>\n",
              "      <td>9.948924e-03</td>\n",
              "      <td>2.072376e+01</td>\n",
              "      <td>3.245798e+01</td>\n",
              "    </tr>\n",
              "    <tr>\n",
              "      <th>std</th>\n",
              "      <td>2.504333e+01</td>\n",
              "      <td>3.956611e+03</td>\n",
              "      <td>4.441376e-02</td>\n",
              "      <td>8.257065e-02</td>\n",
              "      <td>4.445305e-02</td>\n",
              "      <td>8.323726e-02</td>\n",
              "      <td>1.995361e+00</td>\n",
              "      <td>2.696797e+00</td>\n",
              "      <td>8.748012e+00</td>\n",
              "      <td>6.249244e+00</td>\n",
              "      <td>1.725837e+01</td>\n",
              "      <td>1.976063e+00</td>\n",
              "      <td>2.696781e+00</td>\n",
              "      <td>8.747788e+00</td>\n",
              "      <td>6.484493e+00</td>\n",
              "      <td>1.730960e+01</td>\n",
              "      <td>1.977624e+00</td>\n",
              "      <td>9.498075e+00</td>\n",
              "      <td>3.736282e-01</td>\n",
              "      <td>9.710258e-01</td>\n",
              "      <td>1.742159e+01</td>\n",
              "      <td>9.175004e-01</td>\n",
              "      <td>1.628091e-01</td>\n",
              "      <td>1.265221e+01</td>\n",
              "      <td>2.407264e+01</td>\n",
              "    </tr>\n",
              "    <tr>\n",
              "      <th>min</th>\n",
              "      <td>1.000000e+00</td>\n",
              "      <td>1.000000e+00</td>\n",
              "      <td>3.743727e+01</td>\n",
              "      <td>1.267986e+02</td>\n",
              "      <td>3.743727e+01</td>\n",
              "      <td>1.267986e+02</td>\n",
              "      <td>0.000000e+00</td>\n",
              "      <td>1.000000e+00</td>\n",
              "      <td>1.000000e+00</td>\n",
              "      <td>0.000000e+00</td>\n",
              "      <td>0.000000e+00</td>\n",
              "      <td>0.000000e+00</td>\n",
              "      <td>1.000000e+00</td>\n",
              "      <td>1.000000e+00</td>\n",
              "      <td>0.000000e+00</td>\n",
              "      <td>0.000000e+00</td>\n",
              "      <td>0.000000e+00</td>\n",
              "      <td>-1.780000e+01</td>\n",
              "      <td>0.000000e+00</td>\n",
              "      <td>0.000000e+00</td>\n",
              "      <td>1.000000e+01</td>\n",
              "      <td>0.000000e+00</td>\n",
              "      <td>0.000000e+00</td>\n",
              "      <td>-1.360000e+01</td>\n",
              "      <td>0.000000e+00</td>\n",
              "    </tr>\n",
              "    <tr>\n",
              "      <th>25%</th>\n",
              "      <td>8.000000e+00</td>\n",
              "      <td>1.230000e+03</td>\n",
              "      <td>3.751424e+01</td>\n",
              "      <td>1.269200e+02</td>\n",
              "      <td>3.751424e+01</td>\n",
              "      <td>1.269194e+02</td>\n",
              "      <td>6.758669e-01</td>\n",
              "      <td>6.000000e+00</td>\n",
              "      <td>8.000000e+00</td>\n",
              "      <td>1.000000e+01</td>\n",
              "      <td>1.400000e+01</td>\n",
              "      <td>1.000000e+00</td>\n",
              "      <td>6.000000e+00</td>\n",
              "      <td>8.000000e+00</td>\n",
              "      <td>1.000000e+01</td>\n",
              "      <td>1.500000e+01</td>\n",
              "      <td>1.000000e+00</td>\n",
              "      <td>1.220000e+01</td>\n",
              "      <td>0.000000e+00</td>\n",
              "      <td>1.100000e+00</td>\n",
              "      <td>4.100000e+01</td>\n",
              "      <td>0.000000e+00</td>\n",
              "      <td>0.000000e+00</td>\n",
              "      <td>1.160000e+01</td>\n",
              "      <td>1.600000e+01</td>\n",
              "    </tr>\n",
              "    <tr>\n",
              "      <th>50%</th>\n",
              "      <td>1.600000e+01</td>\n",
              "      <td>2.280000e+03</td>\n",
              "      <td>3.754693e+01</td>\n",
              "      <td>1.269943e+02</td>\n",
              "      <td>3.754655e+01</td>\n",
              "      <td>1.269947e+02</td>\n",
              "      <td>1.257498e+00</td>\n",
              "      <td>8.000000e+00</td>\n",
              "      <td>1.600000e+01</td>\n",
              "      <td>1.600000e+01</td>\n",
              "      <td>2.900000e+01</td>\n",
              "      <td>3.000000e+00</td>\n",
              "      <td>8.000000e+00</td>\n",
              "      <td>1.600000e+01</td>\n",
              "      <td>1.600000e+01</td>\n",
              "      <td>3.000000e+01</td>\n",
              "      <td>3.000000e+00</td>\n",
              "      <td>2.010000e+01</td>\n",
              "      <td>0.000000e+00</td>\n",
              "      <td>1.700000e+00</td>\n",
              "      <td>5.300000e+01</td>\n",
              "      <td>2.700000e-01</td>\n",
              "      <td>0.000000e+00</td>\n",
              "      <td>2.110000e+01</td>\n",
              "      <td>2.700000e+01</td>\n",
              "    </tr>\n",
              "    <tr>\n",
              "      <th>75%</th>\n",
              "      <td>3.600000e+01</td>\n",
              "      <td>4.620000e+03</td>\n",
              "      <td>3.757324e+01</td>\n",
              "      <td>1.270618e+02</td>\n",
              "      <td>3.757324e+01</td>\n",
              "      <td>1.270624e+02</td>\n",
              "      <td>2.363812e+00</td>\n",
              "      <td>1.000000e+01</td>\n",
              "      <td>2.300000e+01</td>\n",
              "      <td>1.900000e+01</td>\n",
              "      <td>4.400000e+01</td>\n",
              "      <td>5.000000e+00</td>\n",
              "      <td>1.000000e+01</td>\n",
              "      <td>2.300000e+01</td>\n",
              "      <td>2.000000e+01</td>\n",
              "      <td>4.500000e+01</td>\n",
              "      <td>5.000000e+00</td>\n",
              "      <td>2.550000e+01</td>\n",
              "      <td>0.000000e+00</td>\n",
              "      <td>2.400000e+00</td>\n",
              "      <td>6.700000e+01</td>\n",
              "      <td>1.260000e+00</td>\n",
              "      <td>0.000000e+00</td>\n",
              "      <td>2.850000e+01</td>\n",
              "      <td>4.200000e+01</td>\n",
              "    </tr>\n",
              "    <tr>\n",
              "      <th>max</th>\n",
              "      <td>1.190000e+02</td>\n",
              "      <td>3.329000e+04</td>\n",
              "      <td>3.768972e+01</td>\n",
              "      <td>1.271803e+02</td>\n",
              "      <td>3.768972e+01</td>\n",
              "      <td>1.271803e+02</td>\n",
              "      <td>2.863448e+01</td>\n",
              "      <td>1.200000e+01</td>\n",
              "      <td>3.100000e+01</td>\n",
              "      <td>2.300000e+01</td>\n",
              "      <td>5.900000e+01</td>\n",
              "      <td>6.000000e+00</td>\n",
              "      <td>1.200000e+01</td>\n",
              "      <td>3.100000e+01</td>\n",
              "      <td>2.300000e+01</td>\n",
              "      <td>5.900000e+01</td>\n",
              "      <td>6.000000e+00</td>\n",
              "      <td>3.940000e+01</td>\n",
              "      <td>3.500000e+01</td>\n",
              "      <td>7.400000e+00</td>\n",
              "      <td>9.800000e+01</td>\n",
              "      <td>3.520000e+00</td>\n",
              "      <td>8.800000e+00</td>\n",
              "      <td>6.220000e+01</td>\n",
              "      <td>3.040000e+02</td>\n",
              "    </tr>\n",
              "  </tbody>\n",
              "</table>\n",
              "</div>"
            ],
            "text/plain": [
              "           Duration      Distance  ...    GroundTemp          Dust\n",
              "count  9.601139e+06  9.601139e+06  ...  9.601139e+06  9.601139e+06\n",
              "mean   2.580294e+01  3.713519e+03  ...  2.072376e+01  3.245798e+01\n",
              "std    2.504333e+01  3.956611e+03  ...  1.265221e+01  2.407264e+01\n",
              "min    1.000000e+00  1.000000e+00  ... -1.360000e+01  0.000000e+00\n",
              "25%    8.000000e+00  1.230000e+03  ...  1.160000e+01  1.600000e+01\n",
              "50%    1.600000e+01  2.280000e+03  ...  2.110000e+01  2.700000e+01\n",
              "75%    3.600000e+01  4.620000e+03  ...  2.850000e+01  4.200000e+01\n",
              "max    1.190000e+02  3.329000e+04  ...  6.220000e+01  3.040000e+02\n",
              "\n",
              "[8 rows x 25 columns]"
            ]
          },
          "metadata": {},
          "execution_count": 82
        }
      ]
    },
    {
      "cell_type": "markdown",
      "metadata": {
        "id": "yuNr2NopTVnC"
      },
      "source": [
        "# Obtenga el número total de muestras usando la función len ()"
      ]
    },
    {
      "cell_type": "code",
      "metadata": {
        "colab": {
          "base_uri": "https://localhost:8080/"
        },
        "id": "OrvntdIh4GZp",
        "outputId": "ad0d7464-4e81-485a-fa0d-5c8b38728d43"
      },
      "source": [
        "# comprobar la longitud del conjunto de datos\n",
        "\n",
        "print('df length:', len(df))"
      ],
      "execution_count": null,
      "outputs": [
        {
          "output_type": "stream",
          "name": "stdout",
          "text": [
            "df length: 9601139\n"
          ]
        }
      ]
    },
    {
      "cell_type": "markdown",
      "metadata": {
        "id": "PcUIIYspyeFW"
      },
      "source": [
        "#Valores únicos"
      ]
    },
    {
      "cell_type": "code",
      "metadata": {
        "colab": {
          "base_uri": "https://localhost:8080/"
        },
        "id": "nSbydUaFyjbQ",
        "outputId": "58f7a750-1e8f-4f26-a422-adef1654d6ba"
      },
      "source": [
        "# revisar valores únicos dataset\n",
        "for x in df.columns:\n",
        "  print(x, ';', len(df[x].unique()))"
      ],
      "execution_count": null,
      "outputs": [
        {
          "output_type": "stream",
          "name": "stdout",
          "text": [
            "Duration ; 119\n",
            "Distance ; 3385\n",
            "PLong ; 1497\n",
            "PLatd ; 1504\n",
            "DLong ; 1501\n",
            "DLatd ; 1508\n",
            "Haversine ; 238583\n",
            "Pmonth ; 12\n",
            "Pday ; 31\n",
            "Phour ; 24\n",
            "Pmin ; 60\n",
            "PDweek ; 7\n",
            "Dmonth ; 12\n",
            "Dday ; 31\n",
            "Dhour ; 24\n",
            "Dmin ; 60\n",
            "DDweek ; 7\n",
            "Temp ; 547\n",
            "Precip ; 60\n",
            "Wind ; 65\n",
            "Humid ; 89\n",
            "Solar ; 345\n",
            "Snow ; 42\n",
            "GroundTemp ; 700\n",
            "Dust ; 163\n"
          ]
        }
      ]
    },
    {
      "cell_type": "markdown",
      "metadata": {
        "id": "aL09Bsy9Ttl0"
      },
      "source": [
        "# Contar valores nulos en todas las columnas"
      ]
    },
    {
      "cell_type": "code",
      "metadata": {
        "colab": {
          "base_uri": "https://localhost:8080/"
        },
        "id": "qHiTa26b4G1X",
        "outputId": "b5c8434e-53cd-4094-cad2-27898cc841e4"
      },
      "source": [
        "# Verifique los valores faltantes en todas las columnas del conjunto de datos\n",
        "df.isnull().sum()"
      ],
      "execution_count": null,
      "outputs": [
        {
          "output_type": "execute_result",
          "data": {
            "text/plain": [
              "Duration      0\n",
              "Distance      0\n",
              "PLong         0\n",
              "PLatd         0\n",
              "DLong         0\n",
              "DLatd         0\n",
              "Haversine     0\n",
              "Pmonth        0\n",
              "Pday          0\n",
              "Phour         0\n",
              "Pmin          0\n",
              "PDweek        0\n",
              "Dmonth        0\n",
              "Dday          0\n",
              "Dhour         0\n",
              "Dmin          0\n",
              "DDweek        0\n",
              "Temp          0\n",
              "Precip        0\n",
              "Wind          0\n",
              "Humid         0\n",
              "Solar         0\n",
              "Snow          0\n",
              "GroundTemp    0\n",
              "Dust          0\n",
              "dtype: int64"
            ]
          },
          "metadata": {},
          "execution_count": 85
        }
      ]
    },
    {
      "cell_type": "markdown",
      "metadata": {
        "id": "xb2JbyQICMkY"
      },
      "source": [
        "No faltan valores en este conjunto de datos"
      ]
    },
    {
      "cell_type": "markdown",
      "metadata": {
        "id": "z9--iGgCTzeX"
      },
      "source": [
        "#EDA"
      ]
    },
    {
      "cell_type": "markdown",
      "metadata": {
        "id": "WwtXSvUuSu3u"
      },
      "source": [
        "# CORRELATION MATRIX\n",
        "\n",
        "\n",
        "Por qué ?\n",
        "\n",
        "**Una matriz de correlación es una tabla que muestra los coeficientes de correlación entre variables.\n",
        "Hay tres razones generales para calcular una matriz de correlación:**\n",
        "\n",
        "\n",
        "\n",
        "Resumir una gran cantidad de datos donde el objetivo es ver patrones. En nuestro ejemplo anterior, el patrón observable es que todas las variables están altamente correlacionadas entre sí.\n",
        "\n",
        "Para ingresar en otros análisis. Por ejemplo, las personas suelen utilizar matrices de correlación como entradas para el análisis factorial exploratorio, el análisis factorial confirmatorio, los modelos de ecuaciones estructurales y la regresión lineal cuando se excluyen los valores perdidos por pares.\n",
        "\n",
        "Como diagnóstico al comprobar otros análisis. Por ejemplo, con la regresión lineal, una gran cantidad de correlaciones sugiere que las estimaciones de la regresión lineal no serán confiables.\n"
      ]
    },
    {
      "cell_type": "code",
      "metadata": {
        "colab": {
          "base_uri": "https://localhost:8080/",
          "height": 853
        },
        "id": "D2qOKdrU-TE6",
        "outputId": "edb310aa-bb68-4fec-bded-7d85fd1f5baf"
      },
      "source": [
        "#correlation matrix Using pandas\n",
        "corr = df.corr()\n",
        "corr.style.background_gradient(cmap = 'coolwarm').set_precision(2)"
      ],
      "execution_count": null,
      "outputs": [
        {
          "output_type": "execute_result",
          "data": {
            "text/html": [
              "<style  type=\"text/css\" >\n",
              "#T_1d149322_3d70_11ec_aa55_0242ac1c0002row0_col0,#T_1d149322_3d70_11ec_aa55_0242ac1c0002row1_col1,#T_1d149322_3d70_11ec_aa55_0242ac1c0002row2_col2,#T_1d149322_3d70_11ec_aa55_0242ac1c0002row3_col3,#T_1d149322_3d70_11ec_aa55_0242ac1c0002row4_col4,#T_1d149322_3d70_11ec_aa55_0242ac1c0002row5_col5,#T_1d149322_3d70_11ec_aa55_0242ac1c0002row6_col6,#T_1d149322_3d70_11ec_aa55_0242ac1c0002row7_col7,#T_1d149322_3d70_11ec_aa55_0242ac1c0002row7_col12,#T_1d149322_3d70_11ec_aa55_0242ac1c0002row8_col8,#T_1d149322_3d70_11ec_aa55_0242ac1c0002row8_col13,#T_1d149322_3d70_11ec_aa55_0242ac1c0002row9_col9,#T_1d149322_3d70_11ec_aa55_0242ac1c0002row10_col10,#T_1d149322_3d70_11ec_aa55_0242ac1c0002row11_col11,#T_1d149322_3d70_11ec_aa55_0242ac1c0002row12_col7,#T_1d149322_3d70_11ec_aa55_0242ac1c0002row12_col12,#T_1d149322_3d70_11ec_aa55_0242ac1c0002row13_col8,#T_1d149322_3d70_11ec_aa55_0242ac1c0002row13_col13,#T_1d149322_3d70_11ec_aa55_0242ac1c0002row14_col14,#T_1d149322_3d70_11ec_aa55_0242ac1c0002row15_col15,#T_1d149322_3d70_11ec_aa55_0242ac1c0002row16_col16,#T_1d149322_3d70_11ec_aa55_0242ac1c0002row17_col17,#T_1d149322_3d70_11ec_aa55_0242ac1c0002row18_col18,#T_1d149322_3d70_11ec_aa55_0242ac1c0002row19_col19,#T_1d149322_3d70_11ec_aa55_0242ac1c0002row20_col20,#T_1d149322_3d70_11ec_aa55_0242ac1c0002row21_col21,#T_1d149322_3d70_11ec_aa55_0242ac1c0002row22_col22,#T_1d149322_3d70_11ec_aa55_0242ac1c0002row23_col23,#T_1d149322_3d70_11ec_aa55_0242ac1c0002row24_col24{\n",
              "            background-color:  #b40426;\n",
              "            color:  #f1f1f1;\n",
              "        }#T_1d149322_3d70_11ec_aa55_0242ac1c0002row0_col1{\n",
              "            background-color:  #f4987a;\n",
              "            color:  #000000;\n",
              "        }#T_1d149322_3d70_11ec_aa55_0242ac1c0002row0_col2,#T_1d149322_3d70_11ec_aa55_0242ac1c0002row0_col4,#T_1d149322_3d70_11ec_aa55_0242ac1c0002row1_col2,#T_1d149322_3d70_11ec_aa55_0242ac1c0002row1_col3,#T_1d149322_3d70_11ec_aa55_0242ac1c0002row1_col4,#T_1d149322_3d70_11ec_aa55_0242ac1c0002row1_col5,#T_1d149322_3d70_11ec_aa55_0242ac1c0002row2_col1,#T_1d149322_3d70_11ec_aa55_0242ac1c0002row2_col6,#T_1d149322_3d70_11ec_aa55_0242ac1c0002row6_col10,#T_1d149322_3d70_11ec_aa55_0242ac1c0002row7_col8,#T_1d149322_3d70_11ec_aa55_0242ac1c0002row7_col13,#T_1d149322_3d70_11ec_aa55_0242ac1c0002row7_col23,#T_1d149322_3d70_11ec_aa55_0242ac1c0002row9_col10,#T_1d149322_3d70_11ec_aa55_0242ac1c0002row9_col15,#T_1d149322_3d70_11ec_aa55_0242ac1c0002row12_col8,#T_1d149322_3d70_11ec_aa55_0242ac1c0002row12_col13,#T_1d149322_3d70_11ec_aa55_0242ac1c0002row12_col23,#T_1d149322_3d70_11ec_aa55_0242ac1c0002row14_col15,#T_1d149322_3d70_11ec_aa55_0242ac1c0002row17_col22,#T_1d149322_3d70_11ec_aa55_0242ac1c0002row17_col24,#T_1d149322_3d70_11ec_aa55_0242ac1c0002row19_col7,#T_1d149322_3d70_11ec_aa55_0242ac1c0002row19_col12,#T_1d149322_3d70_11ec_aa55_0242ac1c0002row20_col0,#T_1d149322_3d70_11ec_aa55_0242ac1c0002row20_col9,#T_1d149322_3d70_11ec_aa55_0242ac1c0002row20_col11,#T_1d149322_3d70_11ec_aa55_0242ac1c0002row20_col14,#T_1d149322_3d70_11ec_aa55_0242ac1c0002row20_col16,#T_1d149322_3d70_11ec_aa55_0242ac1c0002row20_col19,#T_1d149322_3d70_11ec_aa55_0242ac1c0002row20_col21,#T_1d149322_3d70_11ec_aa55_0242ac1c0002row21_col6,#T_1d149322_3d70_11ec_aa55_0242ac1c0002row21_col18,#T_1d149322_3d70_11ec_aa55_0242ac1c0002row21_col20,#T_1d149322_3d70_11ec_aa55_0242ac1c0002row24_col17,#T_1d149322_3d70_11ec_aa55_0242ac1c0002row24_col18{\n",
              "            background-color:  #3b4cc0;\n",
              "            color:  #f1f1f1;\n",
              "        }#T_1d149322_3d70_11ec_aa55_0242ac1c0002row0_col3,#T_1d149322_3d70_11ec_aa55_0242ac1c0002row0_col5,#T_1d149322_3d70_11ec_aa55_0242ac1c0002row1_col10,#T_1d149322_3d70_11ec_aa55_0242ac1c0002row7_col1,#T_1d149322_3d70_11ec_aa55_0242ac1c0002row12_col1,#T_1d149322_3d70_11ec_aa55_0242ac1c0002row16_col15,#T_1d149322_3d70_11ec_aa55_0242ac1c0002row17_col15,#T_1d149322_3d70_11ec_aa55_0242ac1c0002row18_col3,#T_1d149322_3d70_11ec_aa55_0242ac1c0002row18_col5,#T_1d149322_3d70_11ec_aa55_0242ac1c0002row19_col3,#T_1d149322_3d70_11ec_aa55_0242ac1c0002row19_col5,#T_1d149322_3d70_11ec_aa55_0242ac1c0002row19_col15,#T_1d149322_3d70_11ec_aa55_0242ac1c0002row20_col5,#T_1d149322_3d70_11ec_aa55_0242ac1c0002row21_col3,#T_1d149322_3d70_11ec_aa55_0242ac1c0002row21_col5,#T_1d149322_3d70_11ec_aa55_0242ac1c0002row22_col3,#T_1d149322_3d70_11ec_aa55_0242ac1c0002row22_col5,#T_1d149322_3d70_11ec_aa55_0242ac1c0002row24_col3,#T_1d149322_3d70_11ec_aa55_0242ac1c0002row24_col5{\n",
              "            background-color:  #3d50c3;\n",
              "            color:  #f1f1f1;\n",
              "        }#T_1d149322_3d70_11ec_aa55_0242ac1c0002row0_col6,#T_1d149322_3d70_11ec_aa55_0242ac1c0002row0_col21,#T_1d149322_3d70_11ec_aa55_0242ac1c0002row11_col21,#T_1d149322_3d70_11ec_aa55_0242ac1c0002row16_col21{\n",
              "            background-color:  #b9d0f9;\n",
              "            color:  #000000;\n",
              "        }#T_1d149322_3d70_11ec_aa55_0242ac1c0002row0_col7,#T_1d149322_3d70_11ec_aa55_0242ac1c0002row0_col12,#T_1d149322_3d70_11ec_aa55_0242ac1c0002row15_col23,#T_1d149322_3d70_11ec_aa55_0242ac1c0002row18_col22,#T_1d149322_3d70_11ec_aa55_0242ac1c0002row22_col8,#T_1d149322_3d70_11ec_aa55_0242ac1c0002row22_col13{\n",
              "            background-color:  #5e7de7;\n",
              "            color:  #000000;\n",
              "        }#T_1d149322_3d70_11ec_aa55_0242ac1c0002row0_col8,#T_1d149322_3d70_11ec_aa55_0242ac1c0002row0_col13,#T_1d149322_3d70_11ec_aa55_0242ac1c0002row1_col8,#T_1d149322_3d70_11ec_aa55_0242ac1c0002row1_col13,#T_1d149322_3d70_11ec_aa55_0242ac1c0002row21_col2{\n",
              "            background-color:  #4b64d5;\n",
              "            color:  #f1f1f1;\n",
              "        }#T_1d149322_3d70_11ec_aa55_0242ac1c0002row0_col9,#T_1d149322_3d70_11ec_aa55_0242ac1c0002row16_col20{\n",
              "            background-color:  #96b7ff;\n",
              "            color:  #000000;\n",
              "        }#T_1d149322_3d70_11ec_aa55_0242ac1c0002row0_col10,#T_1d149322_3d70_11ec_aa55_0242ac1c0002row3_col15,#T_1d149322_3d70_11ec_aa55_0242ac1c0002row4_col15,#T_1d149322_3d70_11ec_aa55_0242ac1c0002row5_col15,#T_1d149322_3d70_11ec_aa55_0242ac1c0002row6_col4,#T_1d149322_3d70_11ec_aa55_0242ac1c0002row9_col3,#T_1d149322_3d70_11ec_aa55_0242ac1c0002row11_col3,#T_1d149322_3d70_11ec_aa55_0242ac1c0002row11_col5,#T_1d149322_3d70_11ec_aa55_0242ac1c0002row12_col15,#T_1d149322_3d70_11ec_aa55_0242ac1c0002row14_col5,#T_1d149322_3d70_11ec_aa55_0242ac1c0002row16_col3,#T_1d149322_3d70_11ec_aa55_0242ac1c0002row16_col5,#T_1d149322_3d70_11ec_aa55_0242ac1c0002row17_col3,#T_1d149322_3d70_11ec_aa55_0242ac1c0002row17_col5,#T_1d149322_3d70_11ec_aa55_0242ac1c0002row19_col18,#T_1d149322_3d70_11ec_aa55_0242ac1c0002row20_col10,#T_1d149322_3d70_11ec_aa55_0242ac1c0002row22_col15,#T_1d149322_3d70_11ec_aa55_0242ac1c0002row23_col22{\n",
              "            background-color:  #3f53c6;\n",
              "            color:  #f1f1f1;\n",
              "        }#T_1d149322_3d70_11ec_aa55_0242ac1c0002row0_col11,#T_1d149322_3d70_11ec_aa55_0242ac1c0002row0_col16,#T_1d149322_3d70_11ec_aa55_0242ac1c0002row2_col9,#T_1d149322_3d70_11ec_aa55_0242ac1c0002row7_col9,#T_1d149322_3d70_11ec_aa55_0242ac1c0002row8_col22,#T_1d149322_3d70_11ec_aa55_0242ac1c0002row12_col9,#T_1d149322_3d70_11ec_aa55_0242ac1c0002row13_col22,#T_1d149322_3d70_11ec_aa55_0242ac1c0002row18_col7,#T_1d149322_3d70_11ec_aa55_0242ac1c0002row18_col12{\n",
              "            background-color:  #6a8bef;\n",
              "            color:  #000000;\n",
              "        }#T_1d149322_3d70_11ec_aa55_0242ac1c0002row0_col14,#T_1d149322_3d70_11ec_aa55_0242ac1c0002row0_col19{\n",
              "            background-color:  #9ebeff;\n",
              "            color:  #000000;\n",
              "        }#T_1d149322_3d70_11ec_aa55_0242ac1c0002row0_col15,#T_1d149322_3d70_11ec_aa55_0242ac1c0002row4_col1,#T_1d149322_3d70_11ec_aa55_0242ac1c0002row14_col10{\n",
              "            background-color:  #3c4ec2;\n",
              "            color:  #f1f1f1;\n",
              "        }#T_1d149322_3d70_11ec_aa55_0242ac1c0002row0_col17,#T_1d149322_3d70_11ec_aa55_0242ac1c0002row19_col23{\n",
              "            background-color:  #9bbcff;\n",
              "            color:  #000000;\n",
              "        }#T_1d149322_3d70_11ec_aa55_0242ac1c0002row0_col18,#T_1d149322_3d70_11ec_aa55_0242ac1c0002row1_col18,#T_1d149322_3d70_11ec_aa55_0242ac1c0002row2_col10,#T_1d149322_3d70_11ec_aa55_0242ac1c0002row2_col15,#T_1d149322_3d70_11ec_aa55_0242ac1c0002row3_col10,#T_1d149322_3d70_11ec_aa55_0242ac1c0002row4_col10,#T_1d149322_3d70_11ec_aa55_0242ac1c0002row5_col10,#T_1d149322_3d70_11ec_aa55_0242ac1c0002row6_col3,#T_1d149322_3d70_11ec_aa55_0242ac1c0002row6_col5,#T_1d149322_3d70_11ec_aa55_0242ac1c0002row6_col15,#T_1d149322_3d70_11ec_aa55_0242ac1c0002row7_col10,#T_1d149322_3d70_11ec_aa55_0242ac1c0002row7_col15,#T_1d149322_3d70_11ec_aa55_0242ac1c0002row8_col10,#T_1d149322_3d70_11ec_aa55_0242ac1c0002row8_col15,#T_1d149322_3d70_11ec_aa55_0242ac1c0002row9_col5,#T_1d149322_3d70_11ec_aa55_0242ac1c0002row9_col18,#T_1d149322_3d70_11ec_aa55_0242ac1c0002row10_col6,#T_1d149322_3d70_11ec_aa55_0242ac1c0002row12_col10,#T_1d149322_3d70_11ec_aa55_0242ac1c0002row13_col10,#T_1d149322_3d70_11ec_aa55_0242ac1c0002row13_col15,#T_1d149322_3d70_11ec_aa55_0242ac1c0002row14_col18,#T_1d149322_3d70_11ec_aa55_0242ac1c0002row17_col10,#T_1d149322_3d70_11ec_aa55_0242ac1c0002row18_col15,#T_1d149322_3d70_11ec_aa55_0242ac1c0002row19_col10,#T_1d149322_3d70_11ec_aa55_0242ac1c0002row21_col15,#T_1d149322_3d70_11ec_aa55_0242ac1c0002row22_col10,#T_1d149322_3d70_11ec_aa55_0242ac1c0002row24_col6,#T_1d149322_3d70_11ec_aa55_0242ac1c0002row24_col15,#T_1d149322_3d70_11ec_aa55_0242ac1c0002row24_col23{\n",
              "            background-color:  #4055c8;\n",
              "            color:  #f1f1f1;\n",
              "        }#T_1d149322_3d70_11ec_aa55_0242ac1c0002row0_col20,#T_1d149322_3d70_11ec_aa55_0242ac1c0002row1_col14,#T_1d149322_3d70_11ec_aa55_0242ac1c0002row1_col17{\n",
              "            background-color:  #92b4fe;\n",
              "            color:  #000000;\n",
              "        }#T_1d149322_3d70_11ec_aa55_0242ac1c0002row0_col22,#T_1d149322_3d70_11ec_aa55_0242ac1c0002row1_col22,#T_1d149322_3d70_11ec_aa55_0242ac1c0002row8_col7,#T_1d149322_3d70_11ec_aa55_0242ac1c0002row8_col11,#T_1d149322_3d70_11ec_aa55_0242ac1c0002row8_col12,#T_1d149322_3d70_11ec_aa55_0242ac1c0002row13_col7,#T_1d149322_3d70_11ec_aa55_0242ac1c0002row13_col11,#T_1d149322_3d70_11ec_aa55_0242ac1c0002row13_col12,#T_1d149322_3d70_11ec_aa55_0242ac1c0002row21_col9,#T_1d149322_3d70_11ec_aa55_0242ac1c0002row22_col17,#T_1d149322_3d70_11ec_aa55_0242ac1c0002row23_col24{\n",
              "            background-color:  #5673e0;\n",
              "            color:  #000000;\n",
              "        }#T_1d149322_3d70_11ec_aa55_0242ac1c0002row0_col23,#T_1d149322_3d70_11ec_aa55_0242ac1c0002row8_col19,#T_1d149322_3d70_11ec_aa55_0242ac1c0002row13_col19{\n",
              "            background-color:  #85a8fc;\n",
              "            color:  #000000;\n",
              "        }#T_1d149322_3d70_11ec_aa55_0242ac1c0002row0_col24,#T_1d149322_3d70_11ec_aa55_0242ac1c0002row3_col4,#T_1d149322_3d70_11ec_aa55_0242ac1c0002row3_col7,#T_1d149322_3d70_11ec_aa55_0242ac1c0002row3_col9,#T_1d149322_3d70_11ec_aa55_0242ac1c0002row3_col12,#T_1d149322_3d70_11ec_aa55_0242ac1c0002row5_col4,#T_1d149322_3d70_11ec_aa55_0242ac1c0002row5_col7,#T_1d149322_3d70_11ec_aa55_0242ac1c0002row5_col12{\n",
              "            background-color:  #6f92f3;\n",
              "            color:  #000000;\n",
              "        }#T_1d149322_3d70_11ec_aa55_0242ac1c0002row1_col0{\n",
              "            background-color:  #f39475;\n",
              "            color:  #000000;\n",
              "        }#T_1d149322_3d70_11ec_aa55_0242ac1c0002row1_col6{\n",
              "            background-color:  #f1ccb8;\n",
              "            color:  #000000;\n",
              "        }#T_1d149322_3d70_11ec_aa55_0242ac1c0002row1_col7,#T_1d149322_3d70_11ec_aa55_0242ac1c0002row1_col12,#T_1d149322_3d70_11ec_aa55_0242ac1c0002row7_col24,#T_1d149322_3d70_11ec_aa55_0242ac1c0002row12_col24{\n",
              "            background-color:  #5f7fe8;\n",
              "            color:  #000000;\n",
              "        }#T_1d149322_3d70_11ec_aa55_0242ac1c0002row1_col9,#T_1d149322_3d70_11ec_aa55_0242ac1c0002row2_col19,#T_1d149322_3d70_11ec_aa55_0242ac1c0002row4_col19,#T_1d149322_3d70_11ec_aa55_0242ac1c0002row5_col19{\n",
              "            background-color:  #8badfd;\n",
              "            color:  #000000;\n",
              "        }#T_1d149322_3d70_11ec_aa55_0242ac1c0002row1_col11{\n",
              "            background-color:  #6282ea;\n",
              "            color:  #000000;\n",
              "        }#T_1d149322_3d70_11ec_aa55_0242ac1c0002row1_col15,#T_1d149322_3d70_11ec_aa55_0242ac1c0002row4_col6,#T_1d149322_3d70_11ec_aa55_0242ac1c0002row6_col2,#T_1d149322_3d70_11ec_aa55_0242ac1c0002row7_col6,#T_1d149322_3d70_11ec_aa55_0242ac1c0002row8_col3,#T_1d149322_3d70_11ec_aa55_0242ac1c0002row8_col5,#T_1d149322_3d70_11ec_aa55_0242ac1c0002row10_col3,#T_1d149322_3d70_11ec_aa55_0242ac1c0002row10_col5,#T_1d149322_3d70_11ec_aa55_0242ac1c0002row11_col15,#T_1d149322_3d70_11ec_aa55_0242ac1c0002row12_col6,#T_1d149322_3d70_11ec_aa55_0242ac1c0002row13_col3,#T_1d149322_3d70_11ec_aa55_0242ac1c0002row13_col5,#T_1d149322_3d70_11ec_aa55_0242ac1c0002row14_col3,#T_1d149322_3d70_11ec_aa55_0242ac1c0002row15_col3,#T_1d149322_3d70_11ec_aa55_0242ac1c0002row15_col5,#T_1d149322_3d70_11ec_aa55_0242ac1c0002row20_col1,#T_1d149322_3d70_11ec_aa55_0242ac1c0002row20_col3,#T_1d149322_3d70_11ec_aa55_0242ac1c0002row23_col3,#T_1d149322_3d70_11ec_aa55_0242ac1c0002row23_col5,#T_1d149322_3d70_11ec_aa55_0242ac1c0002row23_col15,#T_1d149322_3d70_11ec_aa55_0242ac1c0002row24_col1{\n",
              "            background-color:  #3e51c5;\n",
              "            color:  #f1f1f1;\n",
              "        }#T_1d149322_3d70_11ec_aa55_0242ac1c0002row1_col16,#T_1d149322_3d70_11ec_aa55_0242ac1c0002row2_col23,#T_1d149322_3d70_11ec_aa55_0242ac1c0002row3_col23,#T_1d149322_3d70_11ec_aa55_0242ac1c0002row4_col23,#T_1d149322_3d70_11ec_aa55_0242ac1c0002row5_col23,#T_1d149322_3d70_11ec_aa55_0242ac1c0002row6_col23,#T_1d149322_3d70_11ec_aa55_0242ac1c0002row18_col23{\n",
              "            background-color:  #6180e9;\n",
              "            color:  #000000;\n",
              "        }#T_1d149322_3d70_11ec_aa55_0242ac1c0002row1_col19,#T_1d149322_3d70_11ec_aa55_0242ac1c0002row11_col19,#T_1d149322_3d70_11ec_aa55_0242ac1c0002row16_col19{\n",
              "            background-color:  #93b5fe;\n",
              "            color:  #000000;\n",
              "        }#T_1d149322_3d70_11ec_aa55_0242ac1c0002row1_col20,#T_1d149322_3d70_11ec_aa55_0242ac1c0002row17_col19{\n",
              "            background-color:  #a1c0ff;\n",
              "            color:  #000000;\n",
              "        }#T_1d149322_3d70_11ec_aa55_0242ac1c0002row1_col21,#T_1d149322_3d70_11ec_aa55_0242ac1c0002row3_col21,#T_1d149322_3d70_11ec_aa55_0242ac1c0002row5_col20,#T_1d149322_3d70_11ec_aa55_0242ac1c0002row5_col21,#T_1d149322_3d70_11ec_aa55_0242ac1c0002row10_col20{\n",
              "            background-color:  #a7c5fe;\n",
              "            color:  #000000;\n",
              "        }#T_1d149322_3d70_11ec_aa55_0242ac1c0002row1_col23,#T_1d149322_3d70_11ec_aa55_0242ac1c0002row2_col17,#T_1d149322_3d70_11ec_aa55_0242ac1c0002row3_col24,#T_1d149322_3d70_11ec_aa55_0242ac1c0002row5_col24,#T_1d149322_3d70_11ec_aa55_0242ac1c0002row8_col14,#T_1d149322_3d70_11ec_aa55_0242ac1c0002row13_col14,#T_1d149322_3d70_11ec_aa55_0242ac1c0002row18_col14{\n",
              "            background-color:  #7597f6;\n",
              "            color:  #000000;\n",
              "        }#T_1d149322_3d70_11ec_aa55_0242ac1c0002row1_col24,#T_1d149322_3d70_11ec_aa55_0242ac1c0002row10_col7,#T_1d149322_3d70_11ec_aa55_0242ac1c0002row10_col12,#T_1d149322_3d70_11ec_aa55_0242ac1c0002row11_col9,#T_1d149322_3d70_11ec_aa55_0242ac1c0002row15_col7,#T_1d149322_3d70_11ec_aa55_0242ac1c0002row15_col12,#T_1d149322_3d70_11ec_aa55_0242ac1c0002row19_col0,#T_1d149322_3d70_11ec_aa55_0242ac1c0002row21_col0{\n",
              "            background-color:  #6b8df0;\n",
              "            color:  #000000;\n",
              "        }#T_1d149322_3d70_11ec_aa55_0242ac1c0002row2_col0,#T_1d149322_3d70_11ec_aa55_0242ac1c0002row3_col6,#T_1d149322_3d70_11ec_aa55_0242ac1c0002row7_col0,#T_1d149322_3d70_11ec_aa55_0242ac1c0002row10_col4,#T_1d149322_3d70_11ec_aa55_0242ac1c0002row12_col0,#T_1d149322_3d70_11ec_aa55_0242ac1c0002row17_col2,#T_1d149322_3d70_11ec_aa55_0242ac1c0002row18_col2,#T_1d149322_3d70_11ec_aa55_0242ac1c0002row19_col2,#T_1d149322_3d70_11ec_aa55_0242ac1c0002row19_col8,#T_1d149322_3d70_11ec_aa55_0242ac1c0002row20_col4,#T_1d149322_3d70_11ec_aa55_0242ac1c0002row20_col6,#T_1d149322_3d70_11ec_aa55_0242ac1c0002row21_col1,#T_1d149322_3d70_11ec_aa55_0242ac1c0002row21_col4,#T_1d149322_3d70_11ec_aa55_0242ac1c0002row22_col2,#T_1d149322_3d70_11ec_aa55_0242ac1c0002row24_col4{\n",
              "            background-color:  #485fd1;\n",
              "            color:  #f1f1f1;\n",
              "        }#T_1d149322_3d70_11ec_aa55_0242ac1c0002row2_col3,#T_1d149322_3d70_11ec_aa55_0242ac1c0002row2_col5,#T_1d149322_3d70_11ec_aa55_0242ac1c0002row9_col7,#T_1d149322_3d70_11ec_aa55_0242ac1c0002row9_col12,#T_1d149322_3d70_11ec_aa55_0242ac1c0002row11_col22,#T_1d149322_3d70_11ec_aa55_0242ac1c0002row14_col1,#T_1d149322_3d70_11ec_aa55_0242ac1c0002row14_col7,#T_1d149322_3d70_11ec_aa55_0242ac1c0002row14_col12,#T_1d149322_3d70_11ec_aa55_0242ac1c0002row16_col22,#T_1d149322_3d70_11ec_aa55_0242ac1c0002row17_col1,#T_1d149322_3d70_11ec_aa55_0242ac1c0002row21_col16,#T_1d149322_3d70_11ec_aa55_0242ac1c0002row24_col9{\n",
              "            background-color:  #6687ed;\n",
              "            color:  #000000;\n",
              "        }#T_1d149322_3d70_11ec_aa55_0242ac1c0002row2_col4,#T_1d149322_3d70_11ec_aa55_0242ac1c0002row4_col2{\n",
              "            background-color:  #cc403a;\n",
              "            color:  #f1f1f1;\n",
              "        }#T_1d149322_3d70_11ec_aa55_0242ac1c0002row2_col7,#T_1d149322_3d70_11ec_aa55_0242ac1c0002row2_col12,#T_1d149322_3d70_11ec_aa55_0242ac1c0002row4_col7,#T_1d149322_3d70_11ec_aa55_0242ac1c0002row4_col12,#T_1d149322_3d70_11ec_aa55_0242ac1c0002row10_col9,#T_1d149322_3d70_11ec_aa55_0242ac1c0002row15_col9,#T_1d149322_3d70_11ec_aa55_0242ac1c0002row22_col7,#T_1d149322_3d70_11ec_aa55_0242ac1c0002row22_col9,#T_1d149322_3d70_11ec_aa55_0242ac1c0002row22_col12{\n",
              "            background-color:  #688aef;\n",
              "            color:  #000000;\n",
              "        }#T_1d149322_3d70_11ec_aa55_0242ac1c0002row2_col8,#T_1d149322_3d70_11ec_aa55_0242ac1c0002row2_col13,#T_1d149322_3d70_11ec_aa55_0242ac1c0002row3_col8,#T_1d149322_3d70_11ec_aa55_0242ac1c0002row3_col13,#T_1d149322_3d70_11ec_aa55_0242ac1c0002row4_col8,#T_1d149322_3d70_11ec_aa55_0242ac1c0002row4_col13,#T_1d149322_3d70_11ec_aa55_0242ac1c0002row5_col8,#T_1d149322_3d70_11ec_aa55_0242ac1c0002row5_col13,#T_1d149322_3d70_11ec_aa55_0242ac1c0002row7_col11,#T_1d149322_3d70_11ec_aa55_0242ac1c0002row9_col11,#T_1d149322_3d70_11ec_aa55_0242ac1c0002row9_col16,#T_1d149322_3d70_11ec_aa55_0242ac1c0002row10_col8,#T_1d149322_3d70_11ec_aa55_0242ac1c0002row10_col13,#T_1d149322_3d70_11ec_aa55_0242ac1c0002row12_col11,#T_1d149322_3d70_11ec_aa55_0242ac1c0002row14_col11,#T_1d149322_3d70_11ec_aa55_0242ac1c0002row14_col16,#T_1d149322_3d70_11ec_aa55_0242ac1c0002row15_col8,#T_1d149322_3d70_11ec_aa55_0242ac1c0002row15_col13,#T_1d149322_3d70_11ec_aa55_0242ac1c0002row15_col16,#T_1d149322_3d70_11ec_aa55_0242ac1c0002row24_col0{\n",
              "            background-color:  #4f69d9;\n",
              "            color:  #000000;\n",
              "        }#T_1d149322_3d70_11ec_aa55_0242ac1c0002row2_col11,#T_1d149322_3d70_11ec_aa55_0242ac1c0002row2_col16,#T_1d149322_3d70_11ec_aa55_0242ac1c0002row8_col0,#T_1d149322_3d70_11ec_aa55_0242ac1c0002row10_col11,#T_1d149322_3d70_11ec_aa55_0242ac1c0002row10_col16,#T_1d149322_3d70_11ec_aa55_0242ac1c0002row11_col8,#T_1d149322_3d70_11ec_aa55_0242ac1c0002row11_col13,#T_1d149322_3d70_11ec_aa55_0242ac1c0002row13_col0,#T_1d149322_3d70_11ec_aa55_0242ac1c0002row16_col8,#T_1d149322_3d70_11ec_aa55_0242ac1c0002row16_col13,#T_1d149322_3d70_11ec_aa55_0242ac1c0002row18_col0{\n",
              "            background-color:  #536edd;\n",
              "            color:  #000000;\n",
              "        }#T_1d149322_3d70_11ec_aa55_0242ac1c0002row2_col14,#T_1d149322_3d70_11ec_aa55_0242ac1c0002row3_col2,#T_1d149322_3d70_11ec_aa55_0242ac1c0002row5_col2,#T_1d149322_3d70_11ec_aa55_0242ac1c0002row5_col9,#T_1d149322_3d70_11ec_aa55_0242ac1c0002row6_col24,#T_1d149322_3d70_11ec_aa55_0242ac1c0002row12_col14,#T_1d149322_3d70_11ec_aa55_0242ac1c0002row15_col14,#T_1d149322_3d70_11ec_aa55_0242ac1c0002row22_col14{\n",
              "            background-color:  #7093f3;\n",
              "            color:  #000000;\n",
              "        }#T_1d149322_3d70_11ec_aa55_0242ac1c0002row2_col18,#T_1d149322_3d70_11ec_aa55_0242ac1c0002row4_col18,#T_1d149322_3d70_11ec_aa55_0242ac1c0002row7_col3,#T_1d149322_3d70_11ec_aa55_0242ac1c0002row7_col5,#T_1d149322_3d70_11ec_aa55_0242ac1c0002row12_col3,#T_1d149322_3d70_11ec_aa55_0242ac1c0002row12_col5,#T_1d149322_3d70_11ec_aa55_0242ac1c0002row15_col18,#T_1d149322_3d70_11ec_aa55_0242ac1c0002row16_col18,#T_1d149322_3d70_11ec_aa55_0242ac1c0002row20_col8,#T_1d149322_3d70_11ec_aa55_0242ac1c0002row20_col13,#T_1d149322_3d70_11ec_aa55_0242ac1c0002row20_col23,#T_1d149322_3d70_11ec_aa55_0242ac1c0002row22_col6,#T_1d149322_3d70_11ec_aa55_0242ac1c0002row24_col11{\n",
              "            background-color:  #4358cb;\n",
              "            color:  #f1f1f1;\n",
              "        }#T_1d149322_3d70_11ec_aa55_0242ac1c0002row2_col20,#T_1d149322_3d70_11ec_aa55_0242ac1c0002row3_col20,#T_1d149322_3d70_11ec_aa55_0242ac1c0002row4_col20,#T_1d149322_3d70_11ec_aa55_0242ac1c0002row4_col21,#T_1d149322_3d70_11ec_aa55_0242ac1c0002row8_col21,#T_1d149322_3d70_11ec_aa55_0242ac1c0002row13_col21,#T_1d149322_3d70_11ec_aa55_0242ac1c0002row15_col21{\n",
              "            background-color:  #a9c6fd;\n",
              "            color:  #000000;\n",
              "        }#T_1d149322_3d70_11ec_aa55_0242ac1c0002row2_col21,#T_1d149322_3d70_11ec_aa55_0242ac1c0002row6_col20,#T_1d149322_3d70_11ec_aa55_0242ac1c0002row15_col20,#T_1d149322_3d70_11ec_aa55_0242ac1c0002row24_col19{\n",
              "            background-color:  #aac7fd;\n",
              "            color:  #000000;\n",
              "        }#T_1d149322_3d70_11ec_aa55_0242ac1c0002row2_col22,#T_1d149322_3d70_11ec_aa55_0242ac1c0002row4_col22,#T_1d149322_3d70_11ec_aa55_0242ac1c0002row8_col23,#T_1d149322_3d70_11ec_aa55_0242ac1c0002row13_col23,#T_1d149322_3d70_11ec_aa55_0242ac1c0002row15_col22{\n",
              "            background-color:  #5a78e4;\n",
              "            color:  #000000;\n",
              "        }#T_1d149322_3d70_11ec_aa55_0242ac1c0002row2_col24,#T_1d149322_3d70_11ec_aa55_0242ac1c0002row4_col24,#T_1d149322_3d70_11ec_aa55_0242ac1c0002row5_col14,#T_1d149322_3d70_11ec_aa55_0242ac1c0002row5_col17,#T_1d149322_3d70_11ec_aa55_0242ac1c0002row10_col24{\n",
              "            background-color:  #779af7;\n",
              "            color:  #000000;\n",
              "        }#T_1d149322_3d70_11ec_aa55_0242ac1c0002row3_col0,#T_1d149322_3d70_11ec_aa55_0242ac1c0002row3_col11,#T_1d149322_3d70_11ec_aa55_0242ac1c0002row3_col16,#T_1d149322_3d70_11ec_aa55_0242ac1c0002row5_col0,#T_1d149322_3d70_11ec_aa55_0242ac1c0002row5_col11,#T_1d149322_3d70_11ec_aa55_0242ac1c0002row5_col16,#T_1d149322_3d70_11ec_aa55_0242ac1c0002row10_col0,#T_1d149322_3d70_11ec_aa55_0242ac1c0002row21_col22,#T_1d149322_3d70_11ec_aa55_0242ac1c0002row24_col7{\n",
              "            background-color:  #5470de;\n",
              "            color:  #000000;\n",
              "        }#T_1d149322_3d70_11ec_aa55_0242ac1c0002row3_col1,#T_1d149322_3d70_11ec_aa55_0242ac1c0002row5_col1,#T_1d149322_3d70_11ec_aa55_0242ac1c0002row7_col4,#T_1d149322_3d70_11ec_aa55_0242ac1c0002row9_col4,#T_1d149322_3d70_11ec_aa55_0242ac1c0002row10_col1,#T_1d149322_3d70_11ec_aa55_0242ac1c0002row10_col18,#T_1d149322_3d70_11ec_aa55_0242ac1c0002row11_col6,#T_1d149322_3d70_11ec_aa55_0242ac1c0002row12_col4,#T_1d149322_3d70_11ec_aa55_0242ac1c0002row15_col6,#T_1d149322_3d70_11ec_aa55_0242ac1c0002row16_col6,#T_1d149322_3d70_11ec_aa55_0242ac1c0002row21_col7,#T_1d149322_3d70_11ec_aa55_0242ac1c0002row21_col12,#T_1d149322_3d70_11ec_aa55_0242ac1c0002row22_col4,#T_1d149322_3d70_11ec_aa55_0242ac1c0002row22_col23,#T_1d149322_3d70_11ec_aa55_0242ac1c0002row23_col12{\n",
              "            background-color:  #455cce;\n",
              "            color:  #f1f1f1;\n",
              "        }#T_1d149322_3d70_11ec_aa55_0242ac1c0002row3_col5,#T_1d149322_3d70_11ec_aa55_0242ac1c0002row5_col3{\n",
              "            background-color:  #c12b30;\n",
              "            color:  #f1f1f1;\n",
              "        }#T_1d149322_3d70_11ec_aa55_0242ac1c0002row3_col14,#T_1d149322_3d70_11ec_aa55_0242ac1c0002row3_col17,#T_1d149322_3d70_11ec_aa55_0242ac1c0002row4_col17,#T_1d149322_3d70_11ec_aa55_0242ac1c0002row10_col17,#T_1d149322_3d70_11ec_aa55_0242ac1c0002row15_col24{\n",
              "            background-color:  #7699f6;\n",
              "            color:  #000000;\n",
              "        }#T_1d149322_3d70_11ec_aa55_0242ac1c0002row3_col18,#T_1d149322_3d70_11ec_aa55_0242ac1c0002row5_col18,#T_1d149322_3d70_11ec_aa55_0242ac1c0002row6_col18,#T_1d149322_3d70_11ec_aa55_0242ac1c0002row7_col18,#T_1d149322_3d70_11ec_aa55_0242ac1c0002row11_col10,#T_1d149322_3d70_11ec_aa55_0242ac1c0002row11_col18,#T_1d149322_3d70_11ec_aa55_0242ac1c0002row12_col18,#T_1d149322_3d70_11ec_aa55_0242ac1c0002row16_col10,#T_1d149322_3d70_11ec_aa55_0242ac1c0002row18_col10,#T_1d149322_3d70_11ec_aa55_0242ac1c0002row20_col15,#T_1d149322_3d70_11ec_aa55_0242ac1c0002row20_col24,#T_1d149322_3d70_11ec_aa55_0242ac1c0002row24_col10,#T_1d149322_3d70_11ec_aa55_0242ac1c0002row24_col16{\n",
              "            background-color:  #4257c9;\n",
              "            color:  #f1f1f1;\n",
              "        }#T_1d149322_3d70_11ec_aa55_0242ac1c0002row3_col19,#T_1d149322_3d70_11ec_aa55_0242ac1c0002row15_col19,#T_1d149322_3d70_11ec_aa55_0242ac1c0002row23_col9{\n",
              "            background-color:  #89acfd;\n",
              "            color:  #000000;\n",
              "        }#T_1d149322_3d70_11ec_aa55_0242ac1c0002row3_col22,#T_1d149322_3d70_11ec_aa55_0242ac1c0002row5_col22,#T_1d149322_3d70_11ec_aa55_0242ac1c0002row7_col22,#T_1d149322_3d70_11ec_aa55_0242ac1c0002row12_col22{\n",
              "            background-color:  #5977e3;\n",
              "            color:  #000000;\n",
              "        }#T_1d149322_3d70_11ec_aa55_0242ac1c0002row4_col0,#T_1d149322_3d70_11ec_aa55_0242ac1c0002row5_col6,#T_1d149322_3d70_11ec_aa55_0242ac1c0002row8_col2,#T_1d149322_3d70_11ec_aa55_0242ac1c0002row9_col6,#T_1d149322_3d70_11ec_aa55_0242ac1c0002row10_col2,#T_1d149322_3d70_11ec_aa55_0242ac1c0002row11_col2,#T_1d149322_3d70_11ec_aa55_0242ac1c0002row13_col2,#T_1d149322_3d70_11ec_aa55_0242ac1c0002row15_col2,#T_1d149322_3d70_11ec_aa55_0242ac1c0002row16_col2,#T_1d149322_3d70_11ec_aa55_0242ac1c0002row19_col13,#T_1d149322_3d70_11ec_aa55_0242ac1c0002row21_col10,#T_1d149322_3d70_11ec_aa55_0242ac1c0002row23_col2,#T_1d149322_3d70_11ec_aa55_0242ac1c0002row23_col8,#T_1d149322_3d70_11ec_aa55_0242ac1c0002row23_col13{\n",
              "            background-color:  #4961d2;\n",
              "            color:  #f1f1f1;\n",
              "        }#T_1d149322_3d70_11ec_aa55_0242ac1c0002row4_col3,#T_1d149322_3d70_11ec_aa55_0242ac1c0002row4_col5,#T_1d149322_3d70_11ec_aa55_0242ac1c0002row9_col1,#T_1d149322_3d70_11ec_aa55_0242ac1c0002row11_col7,#T_1d149322_3d70_11ec_aa55_0242ac1c0002row11_col12,#T_1d149322_3d70_11ec_aa55_0242ac1c0002row11_col24,#T_1d149322_3d70_11ec_aa55_0242ac1c0002row16_col7,#T_1d149322_3d70_11ec_aa55_0242ac1c0002row16_col12,#T_1d149322_3d70_11ec_aa55_0242ac1c0002row16_col24,#T_1d149322_3d70_11ec_aa55_0242ac1c0002row21_col11,#T_1d149322_3d70_11ec_aa55_0242ac1c0002row24_col8,#T_1d149322_3d70_11ec_aa55_0242ac1c0002row24_col13{\n",
              "            background-color:  #6788ee;\n",
              "            color:  #000000;\n",
              "        }#T_1d149322_3d70_11ec_aa55_0242ac1c0002row4_col9,#T_1d149322_3d70_11ec_aa55_0242ac1c0002row8_col9,#T_1d149322_3d70_11ec_aa55_0242ac1c0002row13_col9,#T_1d149322_3d70_11ec_aa55_0242ac1c0002row16_col9,#T_1d149322_3d70_11ec_aa55_0242ac1c0002row18_col9,#T_1d149322_3d70_11ec_aa55_0242ac1c0002row20_col22{\n",
              "            background-color:  #6c8ff1;\n",
              "            color:  #000000;\n",
              "        }#T_1d149322_3d70_11ec_aa55_0242ac1c0002row4_col11,#T_1d149322_3d70_11ec_aa55_0242ac1c0002row4_col16,#T_1d149322_3d70_11ec_aa55_0242ac1c0002row6_col11,#T_1d149322_3d70_11ec_aa55_0242ac1c0002row6_col16,#T_1d149322_3d70_11ec_aa55_0242ac1c0002row15_col0,#T_1d149322_3d70_11ec_aa55_0242ac1c0002row18_col8,#T_1d149322_3d70_11ec_aa55_0242ac1c0002row18_col11,#T_1d149322_3d70_11ec_aa55_0242ac1c0002row18_col13,#T_1d149322_3d70_11ec_aa55_0242ac1c0002row18_col16,#T_1d149322_3d70_11ec_aa55_0242ac1c0002row19_col1{\n",
              "            background-color:  #516ddb;\n",
              "            color:  #000000;\n",
              "        }#T_1d149322_3d70_11ec_aa55_0242ac1c0002row4_col14,#T_1d149322_3d70_11ec_aa55_0242ac1c0002row11_col14,#T_1d149322_3d70_11ec_aa55_0242ac1c0002row11_col23,#T_1d149322_3d70_11ec_aa55_0242ac1c0002row14_col20,#T_1d149322_3d70_11ec_aa55_0242ac1c0002row14_col24,#T_1d149322_3d70_11ec_aa55_0242ac1c0002row15_col17,#T_1d149322_3d70_11ec_aa55_0242ac1c0002row16_col14,#T_1d149322_3d70_11ec_aa55_0242ac1c0002row16_col23,#T_1d149322_3d70_11ec_aa55_0242ac1c0002row24_col14{\n",
              "            background-color:  #7396f5;\n",
              "            color:  #000000;\n",
              "        }#T_1d149322_3d70_11ec_aa55_0242ac1c0002row6_col0{\n",
              "            background-color:  #c3d5f4;\n",
              "            color:  #000000;\n",
              "        }#T_1d149322_3d70_11ec_aa55_0242ac1c0002row6_col1{\n",
              "            background-color:  #f2cbb7;\n",
              "            color:  #000000;\n",
              "        }#T_1d149322_3d70_11ec_aa55_0242ac1c0002row6_col7,#T_1d149322_3d70_11ec_aa55_0242ac1c0002row6_col12,#T_1d149322_3d70_11ec_aa55_0242ac1c0002row20_col18{\n",
              "            background-color:  #6384eb;\n",
              "            color:  #000000;\n",
              "        }#T_1d149322_3d70_11ec_aa55_0242ac1c0002row6_col8,#T_1d149322_3d70_11ec_aa55_0242ac1c0002row6_col13,#T_1d149322_3d70_11ec_aa55_0242ac1c0002row7_col16,#T_1d149322_3d70_11ec_aa55_0242ac1c0002row12_col16,#T_1d149322_3d70_11ec_aa55_0242ac1c0002row17_col6,#T_1d149322_3d70_11ec_aa55_0242ac1c0002row21_col8,#T_1d149322_3d70_11ec_aa55_0242ac1c0002row21_col13{\n",
              "            background-color:  #4e68d8;\n",
              "            color:  #000000;\n",
              "        }#T_1d149322_3d70_11ec_aa55_0242ac1c0002row6_col9,#T_1d149322_3d70_11ec_aa55_0242ac1c0002row7_col14,#T_1d149322_3d70_11ec_aa55_0242ac1c0002row10_col14,#T_1d149322_3d70_11ec_aa55_0242ac1c0002row20_col7,#T_1d149322_3d70_11ec_aa55_0242ac1c0002row20_col12{\n",
              "            background-color:  #7295f4;\n",
              "            color:  #000000;\n",
              "        }#T_1d149322_3d70_11ec_aa55_0242ac1c0002row6_col14,#T_1d149322_3d70_11ec_aa55_0242ac1c0002row9_col20,#T_1d149322_3d70_11ec_aa55_0242ac1c0002row23_col0,#T_1d149322_3d70_11ec_aa55_0242ac1c0002row24_col20{\n",
              "            background-color:  #7a9df8;\n",
              "            color:  #000000;\n",
              "        }#T_1d149322_3d70_11ec_aa55_0242ac1c0002row6_col17,#T_1d149322_3d70_11ec_aa55_0242ac1c0002row17_col0{\n",
              "            background-color:  #7da0f9;\n",
              "            color:  #000000;\n",
              "        }#T_1d149322_3d70_11ec_aa55_0242ac1c0002row6_col19,#T_1d149322_3d70_11ec_aa55_0242ac1c0002row10_col19,#T_1d149322_3d70_11ec_aa55_0242ac1c0002row20_col17{\n",
              "            background-color:  #8caffe;\n",
              "            color:  #000000;\n",
              "        }#T_1d149322_3d70_11ec_aa55_0242ac1c0002row6_col21,#T_1d149322_3d70_11ec_aa55_0242ac1c0002row8_col20,#T_1d149322_3d70_11ec_aa55_0242ac1c0002row13_col20,#T_1d149322_3d70_11ec_aa55_0242ac1c0002row17_col9{\n",
              "            background-color:  #9fbfff;\n",
              "            color:  #000000;\n",
              "        }#T_1d149322_3d70_11ec_aa55_0242ac1c0002row6_col22,#T_1d149322_3d70_11ec_aa55_0242ac1c0002row7_col17,#T_1d149322_3d70_11ec_aa55_0242ac1c0002row11_col1,#T_1d149322_3d70_11ec_aa55_0242ac1c0002row12_col17,#T_1d149322_3d70_11ec_aa55_0242ac1c0002row16_col1,#T_1d149322_3d70_11ec_aa55_0242ac1c0002row19_col22{\n",
              "            background-color:  #5875e1;\n",
              "            color:  #000000;\n",
              "        }#T_1d149322_3d70_11ec_aa55_0242ac1c0002row7_col2,#T_1d149322_3d70_11ec_aa55_0242ac1c0002row8_col1,#T_1d149322_3d70_11ec_aa55_0242ac1c0002row8_col4,#T_1d149322_3d70_11ec_aa55_0242ac1c0002row8_col18,#T_1d149322_3d70_11ec_aa55_0242ac1c0002row11_col4,#T_1d149322_3d70_11ec_aa55_0242ac1c0002row12_col2,#T_1d149322_3d70_11ec_aa55_0242ac1c0002row13_col1,#T_1d149322_3d70_11ec_aa55_0242ac1c0002row13_col4,#T_1d149322_3d70_11ec_aa55_0242ac1c0002row13_col18,#T_1d149322_3d70_11ec_aa55_0242ac1c0002row15_col1,#T_1d149322_3d70_11ec_aa55_0242ac1c0002row15_col4,#T_1d149322_3d70_11ec_aa55_0242ac1c0002row16_col4,#T_1d149322_3d70_11ec_aa55_0242ac1c0002row17_col4,#T_1d149322_3d70_11ec_aa55_0242ac1c0002row17_col8,#T_1d149322_3d70_11ec_aa55_0242ac1c0002row17_col13,#T_1d149322_3d70_11ec_aa55_0242ac1c0002row17_col18,#T_1d149322_3d70_11ec_aa55_0242ac1c0002row18_col1,#T_1d149322_3d70_11ec_aa55_0242ac1c0002row18_col4,#T_1d149322_3d70_11ec_aa55_0242ac1c0002row19_col4,#T_1d149322_3d70_11ec_aa55_0242ac1c0002row19_col6,#T_1d149322_3d70_11ec_aa55_0242ac1c0002row22_col18,#T_1d149322_3d70_11ec_aa55_0242ac1c0002row23_col4,#T_1d149322_3d70_11ec_aa55_0242ac1c0002row23_col6{\n",
              "            background-color:  #465ecf;\n",
              "            color:  #f1f1f1;\n",
              "        }#T_1d149322_3d70_11ec_aa55_0242ac1c0002row7_col19,#T_1d149322_3d70_11ec_aa55_0242ac1c0002row10_col22,#T_1d149322_3d70_11ec_aa55_0242ac1c0002row12_col19,#T_1d149322_3d70_11ec_aa55_0242ac1c0002row17_col16,#T_1d149322_3d70_11ec_aa55_0242ac1c0002row19_col11,#T_1d149322_3d70_11ec_aa55_0242ac1c0002row19_col16{\n",
              "            background-color:  #5b7ae5;\n",
              "            color:  #000000;\n",
              "        }#T_1d149322_3d70_11ec_aa55_0242ac1c0002row7_col20,#T_1d149322_3d70_11ec_aa55_0242ac1c0002row12_col20{\n",
              "            background-color:  #aec9fc;\n",
              "            color:  #000000;\n",
              "        }#T_1d149322_3d70_11ec_aa55_0242ac1c0002row7_col21,#T_1d149322_3d70_11ec_aa55_0242ac1c0002row12_col21,#T_1d149322_3d70_11ec_aa55_0242ac1c0002row18_col19,#T_1d149322_3d70_11ec_aa55_0242ac1c0002row22_col19{\n",
              "            background-color:  #88abfd;\n",
              "            color:  #000000;\n",
              "        }#T_1d149322_3d70_11ec_aa55_0242ac1c0002row8_col6,#T_1d149322_3d70_11ec_aa55_0242ac1c0002row9_col2,#T_1d149322_3d70_11ec_aa55_0242ac1c0002row13_col6,#T_1d149322_3d70_11ec_aa55_0242ac1c0002row14_col2,#T_1d149322_3d70_11ec_aa55_0242ac1c0002row14_col4,#T_1d149322_3d70_11ec_aa55_0242ac1c0002row18_col6,#T_1d149322_3d70_11ec_aa55_0242ac1c0002row22_col1,#T_1d149322_3d70_11ec_aa55_0242ac1c0002row23_col7,#T_1d149322_3d70_11ec_aa55_0242ac1c0002row23_col10,#T_1d149322_3d70_11ec_aa55_0242ac1c0002row23_col18{\n",
              "            background-color:  #445acc;\n",
              "            color:  #f1f1f1;\n",
              "        }#T_1d149322_3d70_11ec_aa55_0242ac1c0002row8_col16,#T_1d149322_3d70_11ec_aa55_0242ac1c0002row9_col22,#T_1d149322_3d70_11ec_aa55_0242ac1c0002row10_col15,#T_1d149322_3d70_11ec_aa55_0242ac1c0002row13_col16,#T_1d149322_3d70_11ec_aa55_0242ac1c0002row14_col22,#T_1d149322_3d70_11ec_aa55_0242ac1c0002row15_col10,#T_1d149322_3d70_11ec_aa55_0242ac1c0002row24_col12{\n",
              "            background-color:  #5572df;\n",
              "            color:  #000000;\n",
              "        }#T_1d149322_3d70_11ec_aa55_0242ac1c0002row8_col17,#T_1d149322_3d70_11ec_aa55_0242ac1c0002row9_col24,#T_1d149322_3d70_11ec_aa55_0242ac1c0002row11_col0,#T_1d149322_3d70_11ec_aa55_0242ac1c0002row13_col17,#T_1d149322_3d70_11ec_aa55_0242ac1c0002row16_col0,#T_1d149322_3d70_11ec_aa55_0242ac1c0002row18_col24,#T_1d149322_3d70_11ec_aa55_0242ac1c0002row21_col14{\n",
              "            background-color:  #6e90f2;\n",
              "            color:  #000000;\n",
              "        }#T_1d149322_3d70_11ec_aa55_0242ac1c0002row8_col24,#T_1d149322_3d70_11ec_aa55_0242ac1c0002row13_col24,#T_1d149322_3d70_11ec_aa55_0242ac1c0002row19_col17{\n",
              "            background-color:  #8db0fe;\n",
              "            color:  #000000;\n",
              "        }#T_1d149322_3d70_11ec_aa55_0242ac1c0002row9_col0{\n",
              "            background-color:  #7ea1fa;\n",
              "            color:  #000000;\n",
              "        }#T_1d149322_3d70_11ec_aa55_0242ac1c0002row9_col8,#T_1d149322_3d70_11ec_aa55_0242ac1c0002row9_col13,#T_1d149322_3d70_11ec_aa55_0242ac1c0002row14_col8,#T_1d149322_3d70_11ec_aa55_0242ac1c0002row14_col13,#T_1d149322_3d70_11ec_aa55_0242ac1c0002row17_col7,#T_1d149322_3d70_11ec_aa55_0242ac1c0002row17_col12{\n",
              "            background-color:  #4c66d6;\n",
              "            color:  #000000;\n",
              "        }#T_1d149322_3d70_11ec_aa55_0242ac1c0002row9_col14{\n",
              "            background-color:  #d24b40;\n",
              "            color:  #f1f1f1;\n",
              "        }#T_1d149322_3d70_11ec_aa55_0242ac1c0002row9_col17,#T_1d149322_3d70_11ec_aa55_0242ac1c0002row14_col17,#T_1d149322_3d70_11ec_aa55_0242ac1c0002row17_col14{\n",
              "            background-color:  #a6c4fe;\n",
              "            color:  #000000;\n",
              "        }#T_1d149322_3d70_11ec_aa55_0242ac1c0002row9_col19,#T_1d149322_3d70_11ec_aa55_0242ac1c0002row21_col17{\n",
              "            background-color:  #c5d6f2;\n",
              "            color:  #000000;\n",
              "        }#T_1d149322_3d70_11ec_aa55_0242ac1c0002row9_col21,#T_1d149322_3d70_11ec_aa55_0242ac1c0002row11_col20{\n",
              "            background-color:  #94b6ff;\n",
              "            color:  #000000;\n",
              "        }#T_1d149322_3d70_11ec_aa55_0242ac1c0002row9_col23{\n",
              "            background-color:  #7b9ff9;\n",
              "            color:  #000000;\n",
              "        }#T_1d149322_3d70_11ec_aa55_0242ac1c0002row10_col21,#T_1d149322_3d70_11ec_aa55_0242ac1c0002row21_col24{\n",
              "            background-color:  #afcafc;\n",
              "            color:  #000000;\n",
              "        }#T_1d149322_3d70_11ec_aa55_0242ac1c0002row10_col23,#T_1d149322_3d70_11ec_aa55_0242ac1c0002row23_col11,#T_1d149322_3d70_11ec_aa55_0242ac1c0002row23_col16{\n",
              "            background-color:  #6485ec;\n",
              "            color:  #000000;\n",
              "        }#T_1d149322_3d70_11ec_aa55_0242ac1c0002row11_col16,#T_1d149322_3d70_11ec_aa55_0242ac1c0002row16_col11{\n",
              "            background-color:  #b70d28;\n",
              "            color:  #f1f1f1;\n",
              "        }#T_1d149322_3d70_11ec_aa55_0242ac1c0002row11_col17,#T_1d149322_3d70_11ec_aa55_0242ac1c0002row16_col17{\n",
              "            background-color:  #80a3fa;\n",
              "            color:  #000000;\n",
              "        }#T_1d149322_3d70_11ec_aa55_0242ac1c0002row14_col0{\n",
              "            background-color:  #81a4fb;\n",
              "            color:  #000000;\n",
              "        }#T_1d149322_3d70_11ec_aa55_0242ac1c0002row14_col6,#T_1d149322_3d70_11ec_aa55_0242ac1c0002row20_col2,#T_1d149322_3d70_11ec_aa55_0242ac1c0002row24_col2{\n",
              "            background-color:  #4a63d3;\n",
              "            color:  #f1f1f1;\n",
              "        }#T_1d149322_3d70_11ec_aa55_0242ac1c0002row14_col9{\n",
              "            background-color:  #d44e41;\n",
              "            color:  #000000;\n",
              "        }#T_1d149322_3d70_11ec_aa55_0242ac1c0002row14_col19{\n",
              "            background-color:  #cbd8ee;\n",
              "            color:  #000000;\n",
              "        }#T_1d149322_3d70_11ec_aa55_0242ac1c0002row14_col21,#T_1d149322_3d70_11ec_aa55_0242ac1c0002row18_col21,#T_1d149322_3d70_11ec_aa55_0242ac1c0002row22_col21{\n",
              "            background-color:  #a2c1ff;\n",
              "            color:  #000000;\n",
              "        }#T_1d149322_3d70_11ec_aa55_0242ac1c0002row14_col23{\n",
              "            background-color:  #82a6fb;\n",
              "            color:  #000000;\n",
              "        }#T_1d149322_3d70_11ec_aa55_0242ac1c0002row15_col11,#T_1d149322_3d70_11ec_aa55_0242ac1c0002row22_col0{\n",
              "            background-color:  #506bda;\n",
              "            color:  #000000;\n",
              "        }#T_1d149322_3d70_11ec_aa55_0242ac1c0002row17_col11,#T_1d149322_3d70_11ec_aa55_0242ac1c0002row19_col20,#T_1d149322_3d70_11ec_aa55_0242ac1c0002row22_col11,#T_1d149322_3d70_11ec_aa55_0242ac1c0002row22_col16,#T_1d149322_3d70_11ec_aa55_0242ac1c0002row23_col1,#T_1d149322_3d70_11ec_aa55_0242ac1c0002row24_col22{\n",
              "            background-color:  #5d7ce6;\n",
              "            color:  #000000;\n",
              "        }#T_1d149322_3d70_11ec_aa55_0242ac1c0002row17_col20{\n",
              "            background-color:  #bad0f8;\n",
              "            color:  #000000;\n",
              "        }#T_1d149322_3d70_11ec_aa55_0242ac1c0002row17_col21{\n",
              "            background-color:  #e2dad5;\n",
              "            color:  #000000;\n",
              "        }#T_1d149322_3d70_11ec_aa55_0242ac1c0002row17_col23{\n",
              "            background-color:  #d1493f;\n",
              "            color:  #f1f1f1;\n",
              "        }#T_1d149322_3d70_11ec_aa55_0242ac1c0002row18_col17,#T_1d149322_3d70_11ec_aa55_0242ac1c0002row22_col24{\n",
              "            background-color:  #799cf8;\n",
              "            color:  #000000;\n",
              "        }#T_1d149322_3d70_11ec_aa55_0242ac1c0002row18_col20{\n",
              "            background-color:  #bfd3f6;\n",
              "            color:  #000000;\n",
              "        }#T_1d149322_3d70_11ec_aa55_0242ac1c0002row19_col9{\n",
              "            background-color:  #b1cbfc;\n",
              "            color:  #000000;\n",
              "        }#T_1d149322_3d70_11ec_aa55_0242ac1c0002row19_col14{\n",
              "            background-color:  #bcd2f7;\n",
              "            color:  #000000;\n",
              "        }#T_1d149322_3d70_11ec_aa55_0242ac1c0002row19_col21{\n",
              "            background-color:  #ead5c9;\n",
              "            color:  #000000;\n",
              "        }#T_1d149322_3d70_11ec_aa55_0242ac1c0002row19_col24,#T_1d149322_3d70_11ec_aa55_0242ac1c0002row23_col14{\n",
              "            background-color:  #97b8ff;\n",
              "            color:  #000000;\n",
              "        }#T_1d149322_3d70_11ec_aa55_0242ac1c0002row21_col19{\n",
              "            background-color:  #dbdcde;\n",
              "            color:  #000000;\n",
              "        }#T_1d149322_3d70_11ec_aa55_0242ac1c0002row21_col23{\n",
              "            background-color:  #f7b99e;\n",
              "            color:  #000000;\n",
              "        }#T_1d149322_3d70_11ec_aa55_0242ac1c0002row22_col20{\n",
              "            background-color:  #b6cefa;\n",
              "            color:  #000000;\n",
              "        }#T_1d149322_3d70_11ec_aa55_0242ac1c0002row23_col17{\n",
              "            background-color:  #d0473d;\n",
              "            color:  #f1f1f1;\n",
              "        }#T_1d149322_3d70_11ec_aa55_0242ac1c0002row23_col19{\n",
              "            background-color:  #bed2f6;\n",
              "            color:  #000000;\n",
              "        }#T_1d149322_3d70_11ec_aa55_0242ac1c0002row23_col20{\n",
              "            background-color:  #8fb1fe;\n",
              "            color:  #000000;\n",
              "        }#T_1d149322_3d70_11ec_aa55_0242ac1c0002row23_col21{\n",
              "            background-color:  #f59d7e;\n",
              "            color:  #000000;\n",
              "        }#T_1d149322_3d70_11ec_aa55_0242ac1c0002row24_col21{\n",
              "            background-color:  #d4dbe6;\n",
              "            color:  #000000;\n",
              "        }</style><table id=\"T_1d149322_3d70_11ec_aa55_0242ac1c0002\" class=\"dataframe\"><thead>    <tr>        <th class=\"blank level0\" ></th>        <th class=\"col_heading level0 col0\" >Duration</th>        <th class=\"col_heading level0 col1\" >Distance</th>        <th class=\"col_heading level0 col2\" >PLong</th>        <th class=\"col_heading level0 col3\" >PLatd</th>        <th class=\"col_heading level0 col4\" >DLong</th>        <th class=\"col_heading level0 col5\" >DLatd</th>        <th class=\"col_heading level0 col6\" >Haversine</th>        <th class=\"col_heading level0 col7\" >Pmonth</th>        <th class=\"col_heading level0 col8\" >Pday</th>        <th class=\"col_heading level0 col9\" >Phour</th>        <th class=\"col_heading level0 col10\" >Pmin</th>        <th class=\"col_heading level0 col11\" >PDweek</th>        <th class=\"col_heading level0 col12\" >Dmonth</th>        <th class=\"col_heading level0 col13\" >Dday</th>        <th class=\"col_heading level0 col14\" >Dhour</th>        <th class=\"col_heading level0 col15\" >Dmin</th>        <th class=\"col_heading level0 col16\" >DDweek</th>        <th class=\"col_heading level0 col17\" >Temp</th>        <th class=\"col_heading level0 col18\" >Precip</th>        <th class=\"col_heading level0 col19\" >Wind</th>        <th class=\"col_heading level0 col20\" >Humid</th>        <th class=\"col_heading level0 col21\" >Solar</th>        <th class=\"col_heading level0 col22\" >Snow</th>        <th class=\"col_heading level0 col23\" >GroundTemp</th>        <th class=\"col_heading level0 col24\" >Dust</th>    </tr></thead><tbody>\n",
              "                <tr>\n",
              "                        <th id=\"T_1d149322_3d70_11ec_aa55_0242ac1c0002level0_row0\" class=\"row_heading level0 row0\" >Duration</th>\n",
              "                        <td id=\"T_1d149322_3d70_11ec_aa55_0242ac1c0002row0_col0\" class=\"data row0 col0\" >1.00</td>\n",
              "                        <td id=\"T_1d149322_3d70_11ec_aa55_0242ac1c0002row0_col1\" class=\"data row0 col1\" >0.74</td>\n",
              "                        <td id=\"T_1d149322_3d70_11ec_aa55_0242ac1c0002row0_col2\" class=\"data row0 col2\" >-0.05</td>\n",
              "                        <td id=\"T_1d149322_3d70_11ec_aa55_0242ac1c0002row0_col3\" class=\"data row0 col3\" >-0.00</td>\n",
              "                        <td id=\"T_1d149322_3d70_11ec_aa55_0242ac1c0002row0_col4\" class=\"data row0 col4\" >-0.04</td>\n",
              "                        <td id=\"T_1d149322_3d70_11ec_aa55_0242ac1c0002row0_col5\" class=\"data row0 col5\" >-0.00</td>\n",
              "                        <td id=\"T_1d149322_3d70_11ec_aa55_0242ac1c0002row0_col6\" class=\"data row0 col6\" >0.35</td>\n",
              "                        <td id=\"T_1d149322_3d70_11ec_aa55_0242ac1c0002row0_col7\" class=\"data row0 col7\" >-0.05</td>\n",
              "                        <td id=\"T_1d149322_3d70_11ec_aa55_0242ac1c0002row0_col8\" class=\"data row0 col8\" >-0.01</td>\n",
              "                        <td id=\"T_1d149322_3d70_11ec_aa55_0242ac1c0002row0_col9\" class=\"data row0 col9\" >0.13</td>\n",
              "                        <td id=\"T_1d149322_3d70_11ec_aa55_0242ac1c0002row0_col10\" class=\"data row0 col10\" >-0.00</td>\n",
              "                        <td id=\"T_1d149322_3d70_11ec_aa55_0242ac1c0002row0_col11\" class=\"data row0 col11\" >0.08</td>\n",
              "                        <td id=\"T_1d149322_3d70_11ec_aa55_0242ac1c0002row0_col12\" class=\"data row0 col12\" >-0.05</td>\n",
              "                        <td id=\"T_1d149322_3d70_11ec_aa55_0242ac1c0002row0_col13\" class=\"data row0 col13\" >-0.01</td>\n",
              "                        <td id=\"T_1d149322_3d70_11ec_aa55_0242ac1c0002row0_col14\" class=\"data row0 col14\" >0.14</td>\n",
              "                        <td id=\"T_1d149322_3d70_11ec_aa55_0242ac1c0002row0_col15\" class=\"data row0 col15\" >-0.01</td>\n",
              "                        <td id=\"T_1d149322_3d70_11ec_aa55_0242ac1c0002row0_col16\" class=\"data row0 col16\" >0.08</td>\n",
              "                        <td id=\"T_1d149322_3d70_11ec_aa55_0242ac1c0002row0_col17\" class=\"data row0 col17\" >0.13</td>\n",
              "                        <td id=\"T_1d149322_3d70_11ec_aa55_0242ac1c0002row0_col18\" class=\"data row0 col18\" >-0.01</td>\n",
              "                        <td id=\"T_1d149322_3d70_11ec_aa55_0242ac1c0002row0_col19\" class=\"data row0 col19\" >0.07</td>\n",
              "                        <td id=\"T_1d149322_3d70_11ec_aa55_0242ac1c0002row0_col20\" class=\"data row0 col20\" >-0.10</td>\n",
              "                        <td id=\"T_1d149322_3d70_11ec_aa55_0242ac1c0002row0_col21\" class=\"data row0 col21\" >0.07</td>\n",
              "                        <td id=\"T_1d149322_3d70_11ec_aa55_0242ac1c0002row0_col22\" class=\"data row0 col22\" >-0.02</td>\n",
              "                        <td id=\"T_1d149322_3d70_11ec_aa55_0242ac1c0002row0_col23\" class=\"data row0 col23\" >0.12</td>\n",
              "                        <td id=\"T_1d149322_3d70_11ec_aa55_0242ac1c0002row0_col24\" class=\"data row0 col24\" >-0.02</td>\n",
              "            </tr>\n",
              "            <tr>\n",
              "                        <th id=\"T_1d149322_3d70_11ec_aa55_0242ac1c0002level0_row1\" class=\"row_heading level0 row1\" >Distance</th>\n",
              "                        <td id=\"T_1d149322_3d70_11ec_aa55_0242ac1c0002row1_col0\" class=\"data row1 col0\" >0.74</td>\n",
              "                        <td id=\"T_1d149322_3d70_11ec_aa55_0242ac1c0002row1_col1\" class=\"data row1 col1\" >1.00</td>\n",
              "                        <td id=\"T_1d149322_3d70_11ec_aa55_0242ac1c0002row1_col2\" class=\"data row1 col2\" >-0.05</td>\n",
              "                        <td id=\"T_1d149322_3d70_11ec_aa55_0242ac1c0002row1_col3\" class=\"data row1 col3\" >-0.01</td>\n",
              "                        <td id=\"T_1d149322_3d70_11ec_aa55_0242ac1c0002row1_col4\" class=\"data row1 col4\" >-0.04</td>\n",
              "                        <td id=\"T_1d149322_3d70_11ec_aa55_0242ac1c0002row1_col5\" class=\"data row1 col5\" >-0.01</td>\n",
              "                        <td id=\"T_1d149322_3d70_11ec_aa55_0242ac1c0002row1_col6\" class=\"data row1 col6\" >0.58</td>\n",
              "                        <td id=\"T_1d149322_3d70_11ec_aa55_0242ac1c0002row1_col7\" class=\"data row1 col7\" >-0.04</td>\n",
              "                        <td id=\"T_1d149322_3d70_11ec_aa55_0242ac1c0002row1_col8\" class=\"data row1 col8\" >-0.01</td>\n",
              "                        <td id=\"T_1d149322_3d70_11ec_aa55_0242ac1c0002row1_col9\" class=\"data row1 col9\" >0.10</td>\n",
              "                        <td id=\"T_1d149322_3d70_11ec_aa55_0242ac1c0002row1_col10\" class=\"data row1 col10\" >-0.01</td>\n",
              "                        <td id=\"T_1d149322_3d70_11ec_aa55_0242ac1c0002row1_col11\" class=\"data row1 col11\" >0.05</td>\n",
              "                        <td id=\"T_1d149322_3d70_11ec_aa55_0242ac1c0002row1_col12\" class=\"data row1 col12\" >-0.04</td>\n",
              "                        <td id=\"T_1d149322_3d70_11ec_aa55_0242ac1c0002row1_col13\" class=\"data row1 col13\" >-0.01</td>\n",
              "                        <td id=\"T_1d149322_3d70_11ec_aa55_0242ac1c0002row1_col14\" class=\"data row1 col14\" >0.10</td>\n",
              "                        <td id=\"T_1d149322_3d70_11ec_aa55_0242ac1c0002row1_col15\" class=\"data row1 col15\" >-0.01</td>\n",
              "                        <td id=\"T_1d149322_3d70_11ec_aa55_0242ac1c0002row1_col16\" class=\"data row1 col16\" >0.05</td>\n",
              "                        <td id=\"T_1d149322_3d70_11ec_aa55_0242ac1c0002row1_col17\" class=\"data row1 col17\" >0.10</td>\n",
              "                        <td id=\"T_1d149322_3d70_11ec_aa55_0242ac1c0002row1_col18\" class=\"data row1 col18\" >-0.01</td>\n",
              "                        <td id=\"T_1d149322_3d70_11ec_aa55_0242ac1c0002row1_col19\" class=\"data row1 col19\" >0.03</td>\n",
              "                        <td id=\"T_1d149322_3d70_11ec_aa55_0242ac1c0002row1_col20\" class=\"data row1 col20\" >-0.03</td>\n",
              "                        <td id=\"T_1d149322_3d70_11ec_aa55_0242ac1c0002row1_col21\" class=\"data row1 col21\" >-0.00</td>\n",
              "                        <td id=\"T_1d149322_3d70_11ec_aa55_0242ac1c0002row1_col22\" class=\"data row1 col22\" >-0.02</td>\n",
              "                        <td id=\"T_1d149322_3d70_11ec_aa55_0242ac1c0002row1_col23\" class=\"data row1 col23\" >0.07</td>\n",
              "                        <td id=\"T_1d149322_3d70_11ec_aa55_0242ac1c0002row1_col24\" class=\"data row1 col24\" >-0.04</td>\n",
              "            </tr>\n",
              "            <tr>\n",
              "                        <th id=\"T_1d149322_3d70_11ec_aa55_0242ac1c0002level0_row2\" class=\"row_heading level0 row2\" >PLong</th>\n",
              "                        <td id=\"T_1d149322_3d70_11ec_aa55_0242ac1c0002row2_col0\" class=\"data row2 col0\" >-0.05</td>\n",
              "                        <td id=\"T_1d149322_3d70_11ec_aa55_0242ac1c0002row2_col1\" class=\"data row2 col1\" >-0.05</td>\n",
              "                        <td id=\"T_1d149322_3d70_11ec_aa55_0242ac1c0002row2_col2\" class=\"data row2 col2\" >1.00</td>\n",
              "                        <td id=\"T_1d149322_3d70_11ec_aa55_0242ac1c0002row2_col3\" class=\"data row2 col3\" >0.13</td>\n",
              "                        <td id=\"T_1d149322_3d70_11ec_aa55_0242ac1c0002row2_col4\" class=\"data row2 col4\" >0.93</td>\n",
              "                        <td id=\"T_1d149322_3d70_11ec_aa55_0242ac1c0002row2_col5\" class=\"data row2 col5\" >0.13</td>\n",
              "                        <td id=\"T_1d149322_3d70_11ec_aa55_0242ac1c0002row2_col6\" class=\"data row2 col6\" >-0.04</td>\n",
              "                        <td id=\"T_1d149322_3d70_11ec_aa55_0242ac1c0002row2_col7\" class=\"data row2 col7\" >-0.01</td>\n",
              "                        <td id=\"T_1d149322_3d70_11ec_aa55_0242ac1c0002row2_col8\" class=\"data row2 col8\" >0.00</td>\n",
              "                        <td id=\"T_1d149322_3d70_11ec_aa55_0242ac1c0002row2_col9\" class=\"data row2 col9\" >-0.01</td>\n",
              "                        <td id=\"T_1d149322_3d70_11ec_aa55_0242ac1c0002row2_col10\" class=\"data row2 col10\" >0.00</td>\n",
              "                        <td id=\"T_1d149322_3d70_11ec_aa55_0242ac1c0002row2_col11\" class=\"data row2 col11\" >0.00</td>\n",
              "                        <td id=\"T_1d149322_3d70_11ec_aa55_0242ac1c0002row2_col12\" class=\"data row2 col12\" >-0.01</td>\n",
              "                        <td id=\"T_1d149322_3d70_11ec_aa55_0242ac1c0002row2_col13\" class=\"data row2 col13\" >0.00</td>\n",
              "                        <td id=\"T_1d149322_3d70_11ec_aa55_0242ac1c0002row2_col14\" class=\"data row2 col14\" >-0.02</td>\n",
              "                        <td id=\"T_1d149322_3d70_11ec_aa55_0242ac1c0002row2_col15\" class=\"data row2 col15\" >0.00</td>\n",
              "                        <td id=\"T_1d149322_3d70_11ec_aa55_0242ac1c0002row2_col16\" class=\"data row2 col16\" >0.00</td>\n",
              "                        <td id=\"T_1d149322_3d70_11ec_aa55_0242ac1c0002row2_col17\" class=\"data row2 col17\" >-0.00</td>\n",
              "                        <td id=\"T_1d149322_3d70_11ec_aa55_0242ac1c0002row2_col18\" class=\"data row2 col18\" >-0.00</td>\n",
              "                        <td id=\"T_1d149322_3d70_11ec_aa55_0242ac1c0002row2_col19\" class=\"data row2 col19\" >-0.00</td>\n",
              "                        <td id=\"T_1d149322_3d70_11ec_aa55_0242ac1c0002row2_col20\" class=\"data row2 col20\" >0.00</td>\n",
              "                        <td id=\"T_1d149322_3d70_11ec_aa55_0242ac1c0002row2_col21\" class=\"data row2 col21\" >0.01</td>\n",
              "                        <td id=\"T_1d149322_3d70_11ec_aa55_0242ac1c0002row2_col22\" class=\"data row2 col22\" >-0.00</td>\n",
              "                        <td id=\"T_1d149322_3d70_11ec_aa55_0242ac1c0002row2_col23\" class=\"data row2 col23\" >0.00</td>\n",
              "                        <td id=\"T_1d149322_3d70_11ec_aa55_0242ac1c0002row2_col24\" class=\"data row2 col24\" >0.00</td>\n",
              "            </tr>\n",
              "            <tr>\n",
              "                        <th id=\"T_1d149322_3d70_11ec_aa55_0242ac1c0002level0_row3\" class=\"row_heading level0 row3\" >PLatd</th>\n",
              "                        <td id=\"T_1d149322_3d70_11ec_aa55_0242ac1c0002row3_col0\" class=\"data row3 col0\" >-0.00</td>\n",
              "                        <td id=\"T_1d149322_3d70_11ec_aa55_0242ac1c0002row3_col1\" class=\"data row3 col1\" >-0.01</td>\n",
              "                        <td id=\"T_1d149322_3d70_11ec_aa55_0242ac1c0002row3_col2\" class=\"data row3 col2\" >0.13</td>\n",
              "                        <td id=\"T_1d149322_3d70_11ec_aa55_0242ac1c0002row3_col3\" class=\"data row3 col3\" >1.00</td>\n",
              "                        <td id=\"T_1d149322_3d70_11ec_aa55_0242ac1c0002row3_col4\" class=\"data row3 col4\" >0.13</td>\n",
              "                        <td id=\"T_1d149322_3d70_11ec_aa55_0242ac1c0002row3_col5\" class=\"data row3 col5\" >0.96</td>\n",
              "                        <td id=\"T_1d149322_3d70_11ec_aa55_0242ac1c0002row3_col6\" class=\"data row3 col6\" >0.01</td>\n",
              "                        <td id=\"T_1d149322_3d70_11ec_aa55_0242ac1c0002row3_col7\" class=\"data row3 col7\" >0.02</td>\n",
              "                        <td id=\"T_1d149322_3d70_11ec_aa55_0242ac1c0002row3_col8\" class=\"data row3 col8\" >0.00</td>\n",
              "                        <td id=\"T_1d149322_3d70_11ec_aa55_0242ac1c0002row3_col9\" class=\"data row3 col9\" >0.00</td>\n",
              "                        <td id=\"T_1d149322_3d70_11ec_aa55_0242ac1c0002row3_col10\" class=\"data row3 col10\" >0.00</td>\n",
              "                        <td id=\"T_1d149322_3d70_11ec_aa55_0242ac1c0002row3_col11\" class=\"data row3 col11\" >0.01</td>\n",
              "                        <td id=\"T_1d149322_3d70_11ec_aa55_0242ac1c0002row3_col12\" class=\"data row3 col12\" >0.02</td>\n",
              "                        <td id=\"T_1d149322_3d70_11ec_aa55_0242ac1c0002row3_col13\" class=\"data row3 col13\" >0.00</td>\n",
              "                        <td id=\"T_1d149322_3d70_11ec_aa55_0242ac1c0002row3_col14\" class=\"data row3 col14\" >0.00</td>\n",
              "                        <td id=\"T_1d149322_3d70_11ec_aa55_0242ac1c0002row3_col15\" class=\"data row3 col15\" >-0.00</td>\n",
              "                        <td id=\"T_1d149322_3d70_11ec_aa55_0242ac1c0002row3_col16\" class=\"data row3 col16\" >0.01</td>\n",
              "                        <td id=\"T_1d149322_3d70_11ec_aa55_0242ac1c0002row3_col17\" class=\"data row3 col17\" >0.00</td>\n",
              "                        <td id=\"T_1d149322_3d70_11ec_aa55_0242ac1c0002row3_col18\" class=\"data row3 col18\" >-0.00</td>\n",
              "                        <td id=\"T_1d149322_3d70_11ec_aa55_0242ac1c0002row3_col19\" class=\"data row3 col19\" >-0.00</td>\n",
              "                        <td id=\"T_1d149322_3d70_11ec_aa55_0242ac1c0002row3_col20\" class=\"data row3 col20\" >-0.00</td>\n",
              "                        <td id=\"T_1d149322_3d70_11ec_aa55_0242ac1c0002row3_col21\" class=\"data row3 col21\" >-0.00</td>\n",
              "                        <td id=\"T_1d149322_3d70_11ec_aa55_0242ac1c0002row3_col22\" class=\"data row3 col22\" >-0.00</td>\n",
              "                        <td id=\"T_1d149322_3d70_11ec_aa55_0242ac1c0002row3_col23\" class=\"data row3 col23\" >0.00</td>\n",
              "                        <td id=\"T_1d149322_3d70_11ec_aa55_0242ac1c0002row3_col24\" class=\"data row3 col24\" >-0.00</td>\n",
              "            </tr>\n",
              "            <tr>\n",
              "                        <th id=\"T_1d149322_3d70_11ec_aa55_0242ac1c0002level0_row4\" class=\"row_heading level0 row4\" >DLong</th>\n",
              "                        <td id=\"T_1d149322_3d70_11ec_aa55_0242ac1c0002row4_col0\" class=\"data row4 col0\" >-0.04</td>\n",
              "                        <td id=\"T_1d149322_3d70_11ec_aa55_0242ac1c0002row4_col1\" class=\"data row4 col1\" >-0.04</td>\n",
              "                        <td id=\"T_1d149322_3d70_11ec_aa55_0242ac1c0002row4_col2\" class=\"data row4 col2\" >0.93</td>\n",
              "                        <td id=\"T_1d149322_3d70_11ec_aa55_0242ac1c0002row4_col3\" class=\"data row4 col3\" >0.13</td>\n",
              "                        <td id=\"T_1d149322_3d70_11ec_aa55_0242ac1c0002row4_col4\" class=\"data row4 col4\" >1.00</td>\n",
              "                        <td id=\"T_1d149322_3d70_11ec_aa55_0242ac1c0002row4_col5\" class=\"data row4 col5\" >0.13</td>\n",
              "                        <td id=\"T_1d149322_3d70_11ec_aa55_0242ac1c0002row4_col6\" class=\"data row4 col6\" >-0.02</td>\n",
              "                        <td id=\"T_1d149322_3d70_11ec_aa55_0242ac1c0002row4_col7\" class=\"data row4 col7\" >-0.01</td>\n",
              "                        <td id=\"T_1d149322_3d70_11ec_aa55_0242ac1c0002row4_col8\" class=\"data row4 col8\" >0.00</td>\n",
              "                        <td id=\"T_1d149322_3d70_11ec_aa55_0242ac1c0002row4_col9\" class=\"data row4 col9\" >-0.01</td>\n",
              "                        <td id=\"T_1d149322_3d70_11ec_aa55_0242ac1c0002row4_col10\" class=\"data row4 col10\" >0.00</td>\n",
              "                        <td id=\"T_1d149322_3d70_11ec_aa55_0242ac1c0002row4_col11\" class=\"data row4 col11\" >-0.00</td>\n",
              "                        <td id=\"T_1d149322_3d70_11ec_aa55_0242ac1c0002row4_col12\" class=\"data row4 col12\" >-0.01</td>\n",
              "                        <td id=\"T_1d149322_3d70_11ec_aa55_0242ac1c0002row4_col13\" class=\"data row4 col13\" >0.00</td>\n",
              "                        <td id=\"T_1d149322_3d70_11ec_aa55_0242ac1c0002row4_col14\" class=\"data row4 col14\" >-0.01</td>\n",
              "                        <td id=\"T_1d149322_3d70_11ec_aa55_0242ac1c0002row4_col15\" class=\"data row4 col15\" >0.00</td>\n",
              "                        <td id=\"T_1d149322_3d70_11ec_aa55_0242ac1c0002row4_col16\" class=\"data row4 col16\" >-0.00</td>\n",
              "                        <td id=\"T_1d149322_3d70_11ec_aa55_0242ac1c0002row4_col17\" class=\"data row4 col17\" >-0.00</td>\n",
              "                        <td id=\"T_1d149322_3d70_11ec_aa55_0242ac1c0002row4_col18\" class=\"data row4 col18\" >-0.00</td>\n",
              "                        <td id=\"T_1d149322_3d70_11ec_aa55_0242ac1c0002row4_col19\" class=\"data row4 col19\" >-0.00</td>\n",
              "                        <td id=\"T_1d149322_3d70_11ec_aa55_0242ac1c0002row4_col20\" class=\"data row4 col20\" >0.00</td>\n",
              "                        <td id=\"T_1d149322_3d70_11ec_aa55_0242ac1c0002row4_col21\" class=\"data row4 col21\" >0.00</td>\n",
              "                        <td id=\"T_1d149322_3d70_11ec_aa55_0242ac1c0002row4_col22\" class=\"data row4 col22\" >-0.00</td>\n",
              "                        <td id=\"T_1d149322_3d70_11ec_aa55_0242ac1c0002row4_col23\" class=\"data row4 col23\" >0.00</td>\n",
              "                        <td id=\"T_1d149322_3d70_11ec_aa55_0242ac1c0002row4_col24\" class=\"data row4 col24\" >0.00</td>\n",
              "            </tr>\n",
              "            <tr>\n",
              "                        <th id=\"T_1d149322_3d70_11ec_aa55_0242ac1c0002level0_row5\" class=\"row_heading level0 row5\" >DLatd</th>\n",
              "                        <td id=\"T_1d149322_3d70_11ec_aa55_0242ac1c0002row5_col0\" class=\"data row5 col0\" >-0.00</td>\n",
              "                        <td id=\"T_1d149322_3d70_11ec_aa55_0242ac1c0002row5_col1\" class=\"data row5 col1\" >-0.01</td>\n",
              "                        <td id=\"T_1d149322_3d70_11ec_aa55_0242ac1c0002row5_col2\" class=\"data row5 col2\" >0.13</td>\n",
              "                        <td id=\"T_1d149322_3d70_11ec_aa55_0242ac1c0002row5_col3\" class=\"data row5 col3\" >0.96</td>\n",
              "                        <td id=\"T_1d149322_3d70_11ec_aa55_0242ac1c0002row5_col4\" class=\"data row5 col4\" >0.13</td>\n",
              "                        <td id=\"T_1d149322_3d70_11ec_aa55_0242ac1c0002row5_col5\" class=\"data row5 col5\" >1.00</td>\n",
              "                        <td id=\"T_1d149322_3d70_11ec_aa55_0242ac1c0002row5_col6\" class=\"data row5 col6\" >0.01</td>\n",
              "                        <td id=\"T_1d149322_3d70_11ec_aa55_0242ac1c0002row5_col7\" class=\"data row5 col7\" >0.02</td>\n",
              "                        <td id=\"T_1d149322_3d70_11ec_aa55_0242ac1c0002row5_col8\" class=\"data row5 col8\" >0.00</td>\n",
              "                        <td id=\"T_1d149322_3d70_11ec_aa55_0242ac1c0002row5_col9\" class=\"data row5 col9\" >0.01</td>\n",
              "                        <td id=\"T_1d149322_3d70_11ec_aa55_0242ac1c0002row5_col10\" class=\"data row5 col10\" >0.00</td>\n",
              "                        <td id=\"T_1d149322_3d70_11ec_aa55_0242ac1c0002row5_col11\" class=\"data row5 col11\" >0.01</td>\n",
              "                        <td id=\"T_1d149322_3d70_11ec_aa55_0242ac1c0002row5_col12\" class=\"data row5 col12\" >0.02</td>\n",
              "                        <td id=\"T_1d149322_3d70_11ec_aa55_0242ac1c0002row5_col13\" class=\"data row5 col13\" >0.00</td>\n",
              "                        <td id=\"T_1d149322_3d70_11ec_aa55_0242ac1c0002row5_col14\" class=\"data row5 col14\" >0.00</td>\n",
              "                        <td id=\"T_1d149322_3d70_11ec_aa55_0242ac1c0002row5_col15\" class=\"data row5 col15\" >-0.00</td>\n",
              "                        <td id=\"T_1d149322_3d70_11ec_aa55_0242ac1c0002row5_col16\" class=\"data row5 col16\" >0.01</td>\n",
              "                        <td id=\"T_1d149322_3d70_11ec_aa55_0242ac1c0002row5_col17\" class=\"data row5 col17\" >0.00</td>\n",
              "                        <td id=\"T_1d149322_3d70_11ec_aa55_0242ac1c0002row5_col18\" class=\"data row5 col18\" >-0.00</td>\n",
              "                        <td id=\"T_1d149322_3d70_11ec_aa55_0242ac1c0002row5_col19\" class=\"data row5 col19\" >-0.00</td>\n",
              "                        <td id=\"T_1d149322_3d70_11ec_aa55_0242ac1c0002row5_col20\" class=\"data row5 col20\" >-0.00</td>\n",
              "                        <td id=\"T_1d149322_3d70_11ec_aa55_0242ac1c0002row5_col21\" class=\"data row5 col21\" >-0.00</td>\n",
              "                        <td id=\"T_1d149322_3d70_11ec_aa55_0242ac1c0002row5_col22\" class=\"data row5 col22\" >-0.00</td>\n",
              "                        <td id=\"T_1d149322_3d70_11ec_aa55_0242ac1c0002row5_col23\" class=\"data row5 col23\" >0.00</td>\n",
              "                        <td id=\"T_1d149322_3d70_11ec_aa55_0242ac1c0002row5_col24\" class=\"data row5 col24\" >-0.00</td>\n",
              "            </tr>\n",
              "            <tr>\n",
              "                        <th id=\"T_1d149322_3d70_11ec_aa55_0242ac1c0002level0_row6\" class=\"row_heading level0 row6\" >Haversine</th>\n",
              "                        <td id=\"T_1d149322_3d70_11ec_aa55_0242ac1c0002row6_col0\" class=\"data row6 col0\" >0.35</td>\n",
              "                        <td id=\"T_1d149322_3d70_11ec_aa55_0242ac1c0002row6_col1\" class=\"data row6 col1\" >0.58</td>\n",
              "                        <td id=\"T_1d149322_3d70_11ec_aa55_0242ac1c0002row6_col2\" class=\"data row6 col2\" >-0.04</td>\n",
              "                        <td id=\"T_1d149322_3d70_11ec_aa55_0242ac1c0002row6_col3\" class=\"data row6 col3\" >0.01</td>\n",
              "                        <td id=\"T_1d149322_3d70_11ec_aa55_0242ac1c0002row6_col4\" class=\"data row6 col4\" >-0.02</td>\n",
              "                        <td id=\"T_1d149322_3d70_11ec_aa55_0242ac1c0002row6_col5\" class=\"data row6 col5\" >0.01</td>\n",
              "                        <td id=\"T_1d149322_3d70_11ec_aa55_0242ac1c0002row6_col6\" class=\"data row6 col6\" >1.00</td>\n",
              "                        <td id=\"T_1d149322_3d70_11ec_aa55_0242ac1c0002row6_col7\" class=\"data row6 col7\" >-0.03</td>\n",
              "                        <td id=\"T_1d149322_3d70_11ec_aa55_0242ac1c0002row6_col8\" class=\"data row6 col8\" >-0.00</td>\n",
              "                        <td id=\"T_1d149322_3d70_11ec_aa55_0242ac1c0002row6_col9\" class=\"data row6 col9\" >0.01</td>\n",
              "                        <td id=\"T_1d149322_3d70_11ec_aa55_0242ac1c0002row6_col10\" class=\"data row6 col10\" >-0.02</td>\n",
              "                        <td id=\"T_1d149322_3d70_11ec_aa55_0242ac1c0002row6_col11\" class=\"data row6 col11\" >-0.00</td>\n",
              "                        <td id=\"T_1d149322_3d70_11ec_aa55_0242ac1c0002row6_col12\" class=\"data row6 col12\" >-0.03</td>\n",
              "                        <td id=\"T_1d149322_3d70_11ec_aa55_0242ac1c0002row6_col13\" class=\"data row6 col13\" >-0.00</td>\n",
              "                        <td id=\"T_1d149322_3d70_11ec_aa55_0242ac1c0002row6_col14\" class=\"data row6 col14\" >0.02</td>\n",
              "                        <td id=\"T_1d149322_3d70_11ec_aa55_0242ac1c0002row6_col15\" class=\"data row6 col15\" >0.00</td>\n",
              "                        <td id=\"T_1d149322_3d70_11ec_aa55_0242ac1c0002row6_col16\" class=\"data row6 col16\" >-0.00</td>\n",
              "                        <td id=\"T_1d149322_3d70_11ec_aa55_0242ac1c0002row6_col17\" class=\"data row6 col17\" >0.03</td>\n",
              "                        <td id=\"T_1d149322_3d70_11ec_aa55_0242ac1c0002row6_col18\" class=\"data row6 col18\" >-0.01</td>\n",
              "                        <td id=\"T_1d149322_3d70_11ec_aa55_0242ac1c0002row6_col19\" class=\"data row6 col19\" >0.00</td>\n",
              "                        <td id=\"T_1d149322_3d70_11ec_aa55_0242ac1c0002row6_col20\" class=\"data row6 col20\" >0.01</td>\n",
              "                        <td id=\"T_1d149322_3d70_11ec_aa55_0242ac1c0002row6_col21\" class=\"data row6 col21\" >-0.04</td>\n",
              "                        <td id=\"T_1d149322_3d70_11ec_aa55_0242ac1c0002row6_col22\" class=\"data row6 col22\" >-0.01</td>\n",
              "                        <td id=\"T_1d149322_3d70_11ec_aa55_0242ac1c0002row6_col23\" class=\"data row6 col23\" >0.00</td>\n",
              "                        <td id=\"T_1d149322_3d70_11ec_aa55_0242ac1c0002row6_col24\" class=\"data row6 col24\" >-0.02</td>\n",
              "            </tr>\n",
              "            <tr>\n",
              "                        <th id=\"T_1d149322_3d70_11ec_aa55_0242ac1c0002level0_row7\" class=\"row_heading level0 row7\" >Pmonth</th>\n",
              "                        <td id=\"T_1d149322_3d70_11ec_aa55_0242ac1c0002row7_col0\" class=\"data row7 col0\" >-0.05</td>\n",
              "                        <td id=\"T_1d149322_3d70_11ec_aa55_0242ac1c0002row7_col1\" class=\"data row7 col1\" >-0.04</td>\n",
              "                        <td id=\"T_1d149322_3d70_11ec_aa55_0242ac1c0002row7_col2\" class=\"data row7 col2\" >-0.01</td>\n",
              "                        <td id=\"T_1d149322_3d70_11ec_aa55_0242ac1c0002row7_col3\" class=\"data row7 col3\" >0.02</td>\n",
              "                        <td id=\"T_1d149322_3d70_11ec_aa55_0242ac1c0002row7_col4\" class=\"data row7 col4\" >-0.01</td>\n",
              "                        <td id=\"T_1d149322_3d70_11ec_aa55_0242ac1c0002row7_col5\" class=\"data row7 col5\" >0.02</td>\n",
              "                        <td id=\"T_1d149322_3d70_11ec_aa55_0242ac1c0002row7_col6\" class=\"data row7 col6\" >-0.03</td>\n",
              "                        <td id=\"T_1d149322_3d70_11ec_aa55_0242ac1c0002row7_col7\" class=\"data row7 col7\" >1.00</td>\n",
              "                        <td id=\"T_1d149322_3d70_11ec_aa55_0242ac1c0002row7_col8\" class=\"data row7 col8\" >-0.07</td>\n",
              "                        <td id=\"T_1d149322_3d70_11ec_aa55_0242ac1c0002row7_col9\" class=\"data row7 col9\" >-0.02</td>\n",
              "                        <td id=\"T_1d149322_3d70_11ec_aa55_0242ac1c0002row7_col10\" class=\"data row7 col10\" >-0.00</td>\n",
              "                        <td id=\"T_1d149322_3d70_11ec_aa55_0242ac1c0002row7_col11\" class=\"data row7 col11\" >-0.01</td>\n",
              "                        <td id=\"T_1d149322_3d70_11ec_aa55_0242ac1c0002row7_col12\" class=\"data row7 col12\" >1.00</td>\n",
              "                        <td id=\"T_1d149322_3d70_11ec_aa55_0242ac1c0002row7_col13\" class=\"data row7 col13\" >-0.07</td>\n",
              "                        <td id=\"T_1d149322_3d70_11ec_aa55_0242ac1c0002row7_col14\" class=\"data row7 col14\" >-0.02</td>\n",
              "                        <td id=\"T_1d149322_3d70_11ec_aa55_0242ac1c0002row7_col15\" class=\"data row7 col15\" >0.00</td>\n",
              "                        <td id=\"T_1d149322_3d70_11ec_aa55_0242ac1c0002row7_col16\" class=\"data row7 col16\" >-0.01</td>\n",
              "                        <td id=\"T_1d149322_3d70_11ec_aa55_0242ac1c0002row7_col17\" class=\"data row7 col17\" >-0.11</td>\n",
              "                        <td id=\"T_1d149322_3d70_11ec_aa55_0242ac1c0002row7_col18\" class=\"data row7 col18\" >-0.00</td>\n",
              "                        <td id=\"T_1d149322_3d70_11ec_aa55_0242ac1c0002row7_col19\" class=\"data row7 col19\" >-0.18</td>\n",
              "                        <td id=\"T_1d149322_3d70_11ec_aa55_0242ac1c0002row7_col20\" class=\"data row7 col20\" >0.02</td>\n",
              "                        <td id=\"T_1d149322_3d70_11ec_aa55_0242ac1c0002row7_col21\" class=\"data row7 col21\" >-0.14</td>\n",
              "                        <td id=\"T_1d149322_3d70_11ec_aa55_0242ac1c0002row7_col22\" class=\"data row7 col22\" >-0.01</td>\n",
              "                        <td id=\"T_1d149322_3d70_11ec_aa55_0242ac1c0002row7_col23\" class=\"data row7 col23\" >-0.14</td>\n",
              "                        <td id=\"T_1d149322_3d70_11ec_aa55_0242ac1c0002row7_col24\" class=\"data row7 col24\" >-0.08</td>\n",
              "            </tr>\n",
              "            <tr>\n",
              "                        <th id=\"T_1d149322_3d70_11ec_aa55_0242ac1c0002level0_row8\" class=\"row_heading level0 row8\" >Pday</th>\n",
              "                        <td id=\"T_1d149322_3d70_11ec_aa55_0242ac1c0002row8_col0\" class=\"data row8 col0\" >-0.01</td>\n",
              "                        <td id=\"T_1d149322_3d70_11ec_aa55_0242ac1c0002row8_col1\" class=\"data row8 col1\" >-0.01</td>\n",
              "                        <td id=\"T_1d149322_3d70_11ec_aa55_0242ac1c0002row8_col2\" class=\"data row8 col2\" >0.00</td>\n",
              "                        <td id=\"T_1d149322_3d70_11ec_aa55_0242ac1c0002row8_col3\" class=\"data row8 col3\" >0.00</td>\n",
              "                        <td id=\"T_1d149322_3d70_11ec_aa55_0242ac1c0002row8_col4\" class=\"data row8 col4\" >0.00</td>\n",
              "                        <td id=\"T_1d149322_3d70_11ec_aa55_0242ac1c0002row8_col5\" class=\"data row8 col5\" >0.00</td>\n",
              "                        <td id=\"T_1d149322_3d70_11ec_aa55_0242ac1c0002row8_col6\" class=\"data row8 col6\" >-0.00</td>\n",
              "                        <td id=\"T_1d149322_3d70_11ec_aa55_0242ac1c0002row8_col7\" class=\"data row8 col7\" >-0.07</td>\n",
              "                        <td id=\"T_1d149322_3d70_11ec_aa55_0242ac1c0002row8_col8\" class=\"data row8 col8\" >1.00</td>\n",
              "                        <td id=\"T_1d149322_3d70_11ec_aa55_0242ac1c0002row8_col9\" class=\"data row8 col9\" >-0.01</td>\n",
              "                        <td id=\"T_1d149322_3d70_11ec_aa55_0242ac1c0002row8_col10\" class=\"data row8 col10\" >0.00</td>\n",
              "                        <td id=\"T_1d149322_3d70_11ec_aa55_0242ac1c0002row8_col11\" class=\"data row8 col11\" >0.01</td>\n",
              "                        <td id=\"T_1d149322_3d70_11ec_aa55_0242ac1c0002row8_col12\" class=\"data row8 col12\" >-0.07</td>\n",
              "                        <td id=\"T_1d149322_3d70_11ec_aa55_0242ac1c0002row8_col13\" class=\"data row8 col13\" >1.00</td>\n",
              "                        <td id=\"T_1d149322_3d70_11ec_aa55_0242ac1c0002row8_col14\" class=\"data row8 col14\" >-0.01</td>\n",
              "                        <td id=\"T_1d149322_3d70_11ec_aa55_0242ac1c0002row8_col15\" class=\"data row8 col15\" >0.00</td>\n",
              "                        <td id=\"T_1d149322_3d70_11ec_aa55_0242ac1c0002row8_col16\" class=\"data row8 col16\" >0.01</td>\n",
              "                        <td id=\"T_1d149322_3d70_11ec_aa55_0242ac1c0002row8_col17\" class=\"data row8 col17\" >-0.03</td>\n",
              "                        <td id=\"T_1d149322_3d70_11ec_aa55_0242ac1c0002row8_col18\" class=\"data row8 col18\" >0.01</td>\n",
              "                        <td id=\"T_1d149322_3d70_11ec_aa55_0242ac1c0002row8_col19\" class=\"data row8 col19\" >-0.02</td>\n",
              "                        <td id=\"T_1d149322_3d70_11ec_aa55_0242ac1c0002row8_col20\" class=\"data row8 col20\" >-0.04</td>\n",
              "                        <td id=\"T_1d149322_3d70_11ec_aa55_0242ac1c0002row8_col21\" class=\"data row8 col21\" >-0.00</td>\n",
              "                        <td id=\"T_1d149322_3d70_11ec_aa55_0242ac1c0002row8_col22\" class=\"data row8 col22\" >0.05</td>\n",
              "                        <td id=\"T_1d149322_3d70_11ec_aa55_0242ac1c0002row8_col23\" class=\"data row8 col23\" >-0.02</td>\n",
              "                        <td id=\"T_1d149322_3d70_11ec_aa55_0242ac1c0002row8_col24\" class=\"data row8 col24\" >0.08</td>\n",
              "            </tr>\n",
              "            <tr>\n",
              "                        <th id=\"T_1d149322_3d70_11ec_aa55_0242ac1c0002level0_row9\" class=\"row_heading level0 row9\" >Phour</th>\n",
              "                        <td id=\"T_1d149322_3d70_11ec_aa55_0242ac1c0002row9_col0\" class=\"data row9 col0\" >0.13</td>\n",
              "                        <td id=\"T_1d149322_3d70_11ec_aa55_0242ac1c0002row9_col1\" class=\"data row9 col1\" >0.10</td>\n",
              "                        <td id=\"T_1d149322_3d70_11ec_aa55_0242ac1c0002row9_col2\" class=\"data row9 col2\" >-0.01</td>\n",
              "                        <td id=\"T_1d149322_3d70_11ec_aa55_0242ac1c0002row9_col3\" class=\"data row9 col3\" >0.00</td>\n",
              "                        <td id=\"T_1d149322_3d70_11ec_aa55_0242ac1c0002row9_col4\" class=\"data row9 col4\" >-0.01</td>\n",
              "                        <td id=\"T_1d149322_3d70_11ec_aa55_0242ac1c0002row9_col5\" class=\"data row9 col5\" >0.01</td>\n",
              "                        <td id=\"T_1d149322_3d70_11ec_aa55_0242ac1c0002row9_col6\" class=\"data row9 col6\" >0.01</td>\n",
              "                        <td id=\"T_1d149322_3d70_11ec_aa55_0242ac1c0002row9_col7\" class=\"data row9 col7\" >-0.02</td>\n",
              "                        <td id=\"T_1d149322_3d70_11ec_aa55_0242ac1c0002row9_col8\" class=\"data row9 col8\" >-0.01</td>\n",
              "                        <td id=\"T_1d149322_3d70_11ec_aa55_0242ac1c0002row9_col9\" class=\"data row9 col9\" >1.00</td>\n",
              "                        <td id=\"T_1d149322_3d70_11ec_aa55_0242ac1c0002row9_col10\" class=\"data row9 col10\" >-0.02</td>\n",
              "                        <td id=\"T_1d149322_3d70_11ec_aa55_0242ac1c0002row9_col11\" class=\"data row9 col11\" >-0.01</td>\n",
              "                        <td id=\"T_1d149322_3d70_11ec_aa55_0242ac1c0002row9_col12\" class=\"data row9 col12\" >-0.02</td>\n",
              "                        <td id=\"T_1d149322_3d70_11ec_aa55_0242ac1c0002row9_col13\" class=\"data row9 col13\" >-0.01</td>\n",
              "                        <td id=\"T_1d149322_3d70_11ec_aa55_0242ac1c0002row9_col14\" class=\"data row9 col14\" >0.89</td>\n",
              "                        <td id=\"T_1d149322_3d70_11ec_aa55_0242ac1c0002row9_col15\" class=\"data row9 col15\" >-0.02</td>\n",
              "                        <td id=\"T_1d149322_3d70_11ec_aa55_0242ac1c0002row9_col16\" class=\"data row9 col16\" >-0.01</td>\n",
              "                        <td id=\"T_1d149322_3d70_11ec_aa55_0242ac1c0002row9_col17\" class=\"data row9 col17\" >0.17</td>\n",
              "                        <td id=\"T_1d149322_3d70_11ec_aa55_0242ac1c0002row9_col18\" class=\"data row9 col18\" >-0.01</td>\n",
              "                        <td id=\"T_1d149322_3d70_11ec_aa55_0242ac1c0002row9_col19\" class=\"data row9 col19\" >0.23</td>\n",
              "                        <td id=\"T_1d149322_3d70_11ec_aa55_0242ac1c0002row9_col20\" class=\"data row9 col20\" >-0.20</td>\n",
              "                        <td id=\"T_1d149322_3d70_11ec_aa55_0242ac1c0002row9_col21\" class=\"data row9 col21\" >-0.08</td>\n",
              "                        <td id=\"T_1d149322_3d70_11ec_aa55_0242ac1c0002row9_col22\" class=\"data row9 col22\" >-0.02</td>\n",
              "                        <td id=\"T_1d149322_3d70_11ec_aa55_0242ac1c0002row9_col23\" class=\"data row9 col23\" >0.09</td>\n",
              "                        <td id=\"T_1d149322_3d70_11ec_aa55_0242ac1c0002row9_col24\" class=\"data row9 col24\" >-0.03</td>\n",
              "            </tr>\n",
              "            <tr>\n",
              "                        <th id=\"T_1d149322_3d70_11ec_aa55_0242ac1c0002level0_row10\" class=\"row_heading level0 row10\" >Pmin</th>\n",
              "                        <td id=\"T_1d149322_3d70_11ec_aa55_0242ac1c0002row10_col0\" class=\"data row10 col0\" >-0.00</td>\n",
              "                        <td id=\"T_1d149322_3d70_11ec_aa55_0242ac1c0002row10_col1\" class=\"data row10 col1\" >-0.01</td>\n",
              "                        <td id=\"T_1d149322_3d70_11ec_aa55_0242ac1c0002row10_col2\" class=\"data row10 col2\" >0.00</td>\n",
              "                        <td id=\"T_1d149322_3d70_11ec_aa55_0242ac1c0002row10_col3\" class=\"data row10 col3\" >0.00</td>\n",
              "                        <td id=\"T_1d149322_3d70_11ec_aa55_0242ac1c0002row10_col4\" class=\"data row10 col4\" >0.00</td>\n",
              "                        <td id=\"T_1d149322_3d70_11ec_aa55_0242ac1c0002row10_col5\" class=\"data row10 col5\" >0.00</td>\n",
              "                        <td id=\"T_1d149322_3d70_11ec_aa55_0242ac1c0002row10_col6\" class=\"data row10 col6\" >-0.02</td>\n",
              "                        <td id=\"T_1d149322_3d70_11ec_aa55_0242ac1c0002row10_col7\" class=\"data row10 col7\" >-0.00</td>\n",
              "                        <td id=\"T_1d149322_3d70_11ec_aa55_0242ac1c0002row10_col8\" class=\"data row10 col8\" >0.00</td>\n",
              "                        <td id=\"T_1d149322_3d70_11ec_aa55_0242ac1c0002row10_col9\" class=\"data row10 col9\" >-0.02</td>\n",
              "                        <td id=\"T_1d149322_3d70_11ec_aa55_0242ac1c0002row10_col10\" class=\"data row10 col10\" >1.00</td>\n",
              "                        <td id=\"T_1d149322_3d70_11ec_aa55_0242ac1c0002row10_col11\" class=\"data row10 col11\" >0.00</td>\n",
              "                        <td id=\"T_1d149322_3d70_11ec_aa55_0242ac1c0002row10_col12\" class=\"data row10 col12\" >-0.00</td>\n",
              "                        <td id=\"T_1d149322_3d70_11ec_aa55_0242ac1c0002row10_col13\" class=\"data row10 col13\" >0.00</td>\n",
              "                        <td id=\"T_1d149322_3d70_11ec_aa55_0242ac1c0002row10_col14\" class=\"data row10 col14\" >-0.01</td>\n",
              "                        <td id=\"T_1d149322_3d70_11ec_aa55_0242ac1c0002row10_col15\" class=\"data row10 col15\" >0.07</td>\n",
              "                        <td id=\"T_1d149322_3d70_11ec_aa55_0242ac1c0002row10_col16\" class=\"data row10 col16\" >0.00</td>\n",
              "                        <td id=\"T_1d149322_3d70_11ec_aa55_0242ac1c0002row10_col17\" class=\"data row10 col17\" >0.00</td>\n",
              "                        <td id=\"T_1d149322_3d70_11ec_aa55_0242ac1c0002row10_col18\" class=\"data row10 col18\" >0.01</td>\n",
              "                        <td id=\"T_1d149322_3d70_11ec_aa55_0242ac1c0002row10_col19\" class=\"data row10 col19\" >0.00</td>\n",
              "                        <td id=\"T_1d149322_3d70_11ec_aa55_0242ac1c0002row10_col20\" class=\"data row10 col20\" >-0.00</td>\n",
              "                        <td id=\"T_1d149322_3d70_11ec_aa55_0242ac1c0002row10_col21\" class=\"data row10 col21\" >0.03</td>\n",
              "                        <td id=\"T_1d149322_3d70_11ec_aa55_0242ac1c0002row10_col22\" class=\"data row10 col22\" >0.00</td>\n",
              "                        <td id=\"T_1d149322_3d70_11ec_aa55_0242ac1c0002row10_col23\" class=\"data row10 col23\" >0.01</td>\n",
              "                        <td id=\"T_1d149322_3d70_11ec_aa55_0242ac1c0002row10_col24\" class=\"data row10 col24\" >0.01</td>\n",
              "            </tr>\n",
              "            <tr>\n",
              "                        <th id=\"T_1d149322_3d70_11ec_aa55_0242ac1c0002level0_row11\" class=\"row_heading level0 row11\" >PDweek</th>\n",
              "                        <td id=\"T_1d149322_3d70_11ec_aa55_0242ac1c0002row11_col0\" class=\"data row11 col0\" >0.08</td>\n",
              "                        <td id=\"T_1d149322_3d70_11ec_aa55_0242ac1c0002row11_col1\" class=\"data row11 col1\" >0.05</td>\n",
              "                        <td id=\"T_1d149322_3d70_11ec_aa55_0242ac1c0002row11_col2\" class=\"data row11 col2\" >0.00</td>\n",
              "                        <td id=\"T_1d149322_3d70_11ec_aa55_0242ac1c0002row11_col3\" class=\"data row11 col3\" >0.01</td>\n",
              "                        <td id=\"T_1d149322_3d70_11ec_aa55_0242ac1c0002row11_col4\" class=\"data row11 col4\" >-0.00</td>\n",
              "                        <td id=\"T_1d149322_3d70_11ec_aa55_0242ac1c0002row11_col5\" class=\"data row11 col5\" >0.01</td>\n",
              "                        <td id=\"T_1d149322_3d70_11ec_aa55_0242ac1c0002row11_col6\" class=\"data row11 col6\" >-0.00</td>\n",
              "                        <td id=\"T_1d149322_3d70_11ec_aa55_0242ac1c0002row11_col7\" class=\"data row11 col7\" >-0.01</td>\n",
              "                        <td id=\"T_1d149322_3d70_11ec_aa55_0242ac1c0002row11_col8\" class=\"data row11 col8\" >0.01</td>\n",
              "                        <td id=\"T_1d149322_3d70_11ec_aa55_0242ac1c0002row11_col9\" class=\"data row11 col9\" >-0.01</td>\n",
              "                        <td id=\"T_1d149322_3d70_11ec_aa55_0242ac1c0002row11_col10\" class=\"data row11 col10\" >0.00</td>\n",
              "                        <td id=\"T_1d149322_3d70_11ec_aa55_0242ac1c0002row11_col11\" class=\"data row11 col11\" >1.00</td>\n",
              "                        <td id=\"T_1d149322_3d70_11ec_aa55_0242ac1c0002row11_col12\" class=\"data row11 col12\" >-0.01</td>\n",
              "                        <td id=\"T_1d149322_3d70_11ec_aa55_0242ac1c0002row11_col13\" class=\"data row11 col13\" >0.01</td>\n",
              "                        <td id=\"T_1d149322_3d70_11ec_aa55_0242ac1c0002row11_col14\" class=\"data row11 col14\" >-0.01</td>\n",
              "                        <td id=\"T_1d149322_3d70_11ec_aa55_0242ac1c0002row11_col15\" class=\"data row11 col15\" >-0.01</td>\n",
              "                        <td id=\"T_1d149322_3d70_11ec_aa55_0242ac1c0002row11_col16\" class=\"data row11 col16\" >0.99</td>\n",
              "                        <td id=\"T_1d149322_3d70_11ec_aa55_0242ac1c0002row11_col17\" class=\"data row11 col17\" >0.04</td>\n",
              "                        <td id=\"T_1d149322_3d70_11ec_aa55_0242ac1c0002row11_col18\" class=\"data row11 col18\" >-0.00</td>\n",
              "                        <td id=\"T_1d149322_3d70_11ec_aa55_0242ac1c0002row11_col19\" class=\"data row11 col19\" >0.03</td>\n",
              "                        <td id=\"T_1d149322_3d70_11ec_aa55_0242ac1c0002row11_col20\" class=\"data row11 col20\" >-0.08</td>\n",
              "                        <td id=\"T_1d149322_3d70_11ec_aa55_0242ac1c0002row11_col21\" class=\"data row11 col21\" >0.07</td>\n",
              "                        <td id=\"T_1d149322_3d70_11ec_aa55_0242ac1c0002row11_col22\" class=\"data row11 col22\" >0.04</td>\n",
              "                        <td id=\"T_1d149322_3d70_11ec_aa55_0242ac1c0002row11_col23\" class=\"data row11 col23\" >0.06</td>\n",
              "                        <td id=\"T_1d149322_3d70_11ec_aa55_0242ac1c0002row11_col24\" class=\"data row11 col24\" >-0.05</td>\n",
              "            </tr>\n",
              "            <tr>\n",
              "                        <th id=\"T_1d149322_3d70_11ec_aa55_0242ac1c0002level0_row12\" class=\"row_heading level0 row12\" >Dmonth</th>\n",
              "                        <td id=\"T_1d149322_3d70_11ec_aa55_0242ac1c0002row12_col0\" class=\"data row12 col0\" >-0.05</td>\n",
              "                        <td id=\"T_1d149322_3d70_11ec_aa55_0242ac1c0002row12_col1\" class=\"data row12 col1\" >-0.04</td>\n",
              "                        <td id=\"T_1d149322_3d70_11ec_aa55_0242ac1c0002row12_col2\" class=\"data row12 col2\" >-0.01</td>\n",
              "                        <td id=\"T_1d149322_3d70_11ec_aa55_0242ac1c0002row12_col3\" class=\"data row12 col3\" >0.02</td>\n",
              "                        <td id=\"T_1d149322_3d70_11ec_aa55_0242ac1c0002row12_col4\" class=\"data row12 col4\" >-0.01</td>\n",
              "                        <td id=\"T_1d149322_3d70_11ec_aa55_0242ac1c0002row12_col5\" class=\"data row12 col5\" >0.02</td>\n",
              "                        <td id=\"T_1d149322_3d70_11ec_aa55_0242ac1c0002row12_col6\" class=\"data row12 col6\" >-0.03</td>\n",
              "                        <td id=\"T_1d149322_3d70_11ec_aa55_0242ac1c0002row12_col7\" class=\"data row12 col7\" >1.00</td>\n",
              "                        <td id=\"T_1d149322_3d70_11ec_aa55_0242ac1c0002row12_col8\" class=\"data row12 col8\" >-0.07</td>\n",
              "                        <td id=\"T_1d149322_3d70_11ec_aa55_0242ac1c0002row12_col9\" class=\"data row12 col9\" >-0.02</td>\n",
              "                        <td id=\"T_1d149322_3d70_11ec_aa55_0242ac1c0002row12_col10\" class=\"data row12 col10\" >-0.00</td>\n",
              "                        <td id=\"T_1d149322_3d70_11ec_aa55_0242ac1c0002row12_col11\" class=\"data row12 col11\" >-0.01</td>\n",
              "                        <td id=\"T_1d149322_3d70_11ec_aa55_0242ac1c0002row12_col12\" class=\"data row12 col12\" >1.00</td>\n",
              "                        <td id=\"T_1d149322_3d70_11ec_aa55_0242ac1c0002row12_col13\" class=\"data row12 col13\" >-0.07</td>\n",
              "                        <td id=\"T_1d149322_3d70_11ec_aa55_0242ac1c0002row12_col14\" class=\"data row12 col14\" >-0.02</td>\n",
              "                        <td id=\"T_1d149322_3d70_11ec_aa55_0242ac1c0002row12_col15\" class=\"data row12 col15\" >0.00</td>\n",
              "                        <td id=\"T_1d149322_3d70_11ec_aa55_0242ac1c0002row12_col16\" class=\"data row12 col16\" >-0.01</td>\n",
              "                        <td id=\"T_1d149322_3d70_11ec_aa55_0242ac1c0002row12_col17\" class=\"data row12 col17\" >-0.11</td>\n",
              "                        <td id=\"T_1d149322_3d70_11ec_aa55_0242ac1c0002row12_col18\" class=\"data row12 col18\" >-0.00</td>\n",
              "                        <td id=\"T_1d149322_3d70_11ec_aa55_0242ac1c0002row12_col19\" class=\"data row12 col19\" >-0.18</td>\n",
              "                        <td id=\"T_1d149322_3d70_11ec_aa55_0242ac1c0002row12_col20\" class=\"data row12 col20\" >0.02</td>\n",
              "                        <td id=\"T_1d149322_3d70_11ec_aa55_0242ac1c0002row12_col21\" class=\"data row12 col21\" >-0.14</td>\n",
              "                        <td id=\"T_1d149322_3d70_11ec_aa55_0242ac1c0002row12_col22\" class=\"data row12 col22\" >-0.01</td>\n",
              "                        <td id=\"T_1d149322_3d70_11ec_aa55_0242ac1c0002row12_col23\" class=\"data row12 col23\" >-0.14</td>\n",
              "                        <td id=\"T_1d149322_3d70_11ec_aa55_0242ac1c0002row12_col24\" class=\"data row12 col24\" >-0.08</td>\n",
              "            </tr>\n",
              "            <tr>\n",
              "                        <th id=\"T_1d149322_3d70_11ec_aa55_0242ac1c0002level0_row13\" class=\"row_heading level0 row13\" >Dday</th>\n",
              "                        <td id=\"T_1d149322_3d70_11ec_aa55_0242ac1c0002row13_col0\" class=\"data row13 col0\" >-0.01</td>\n",
              "                        <td id=\"T_1d149322_3d70_11ec_aa55_0242ac1c0002row13_col1\" class=\"data row13 col1\" >-0.01</td>\n",
              "                        <td id=\"T_1d149322_3d70_11ec_aa55_0242ac1c0002row13_col2\" class=\"data row13 col2\" >0.00</td>\n",
              "                        <td id=\"T_1d149322_3d70_11ec_aa55_0242ac1c0002row13_col3\" class=\"data row13 col3\" >0.00</td>\n",
              "                        <td id=\"T_1d149322_3d70_11ec_aa55_0242ac1c0002row13_col4\" class=\"data row13 col4\" >0.00</td>\n",
              "                        <td id=\"T_1d149322_3d70_11ec_aa55_0242ac1c0002row13_col5\" class=\"data row13 col5\" >0.00</td>\n",
              "                        <td id=\"T_1d149322_3d70_11ec_aa55_0242ac1c0002row13_col6\" class=\"data row13 col6\" >-0.00</td>\n",
              "                        <td id=\"T_1d149322_3d70_11ec_aa55_0242ac1c0002row13_col7\" class=\"data row13 col7\" >-0.07</td>\n",
              "                        <td id=\"T_1d149322_3d70_11ec_aa55_0242ac1c0002row13_col8\" class=\"data row13 col8\" >1.00</td>\n",
              "                        <td id=\"T_1d149322_3d70_11ec_aa55_0242ac1c0002row13_col9\" class=\"data row13 col9\" >-0.01</td>\n",
              "                        <td id=\"T_1d149322_3d70_11ec_aa55_0242ac1c0002row13_col10\" class=\"data row13 col10\" >0.00</td>\n",
              "                        <td id=\"T_1d149322_3d70_11ec_aa55_0242ac1c0002row13_col11\" class=\"data row13 col11\" >0.01</td>\n",
              "                        <td id=\"T_1d149322_3d70_11ec_aa55_0242ac1c0002row13_col12\" class=\"data row13 col12\" >-0.07</td>\n",
              "                        <td id=\"T_1d149322_3d70_11ec_aa55_0242ac1c0002row13_col13\" class=\"data row13 col13\" >1.00</td>\n",
              "                        <td id=\"T_1d149322_3d70_11ec_aa55_0242ac1c0002row13_col14\" class=\"data row13 col14\" >-0.01</td>\n",
              "                        <td id=\"T_1d149322_3d70_11ec_aa55_0242ac1c0002row13_col15\" class=\"data row13 col15\" >0.00</td>\n",
              "                        <td id=\"T_1d149322_3d70_11ec_aa55_0242ac1c0002row13_col16\" class=\"data row13 col16\" >0.01</td>\n",
              "                        <td id=\"T_1d149322_3d70_11ec_aa55_0242ac1c0002row13_col17\" class=\"data row13 col17\" >-0.03</td>\n",
              "                        <td id=\"T_1d149322_3d70_11ec_aa55_0242ac1c0002row13_col18\" class=\"data row13 col18\" >0.01</td>\n",
              "                        <td id=\"T_1d149322_3d70_11ec_aa55_0242ac1c0002row13_col19\" class=\"data row13 col19\" >-0.02</td>\n",
              "                        <td id=\"T_1d149322_3d70_11ec_aa55_0242ac1c0002row13_col20\" class=\"data row13 col20\" >-0.04</td>\n",
              "                        <td id=\"T_1d149322_3d70_11ec_aa55_0242ac1c0002row13_col21\" class=\"data row13 col21\" >-0.00</td>\n",
              "                        <td id=\"T_1d149322_3d70_11ec_aa55_0242ac1c0002row13_col22\" class=\"data row13 col22\" >0.05</td>\n",
              "                        <td id=\"T_1d149322_3d70_11ec_aa55_0242ac1c0002row13_col23\" class=\"data row13 col23\" >-0.02</td>\n",
              "                        <td id=\"T_1d149322_3d70_11ec_aa55_0242ac1c0002row13_col24\" class=\"data row13 col24\" >0.08</td>\n",
              "            </tr>\n",
              "            <tr>\n",
              "                        <th id=\"T_1d149322_3d70_11ec_aa55_0242ac1c0002level0_row14\" class=\"row_heading level0 row14\" >Dhour</th>\n",
              "                        <td id=\"T_1d149322_3d70_11ec_aa55_0242ac1c0002row14_col0\" class=\"data row14 col0\" >0.14</td>\n",
              "                        <td id=\"T_1d149322_3d70_11ec_aa55_0242ac1c0002row14_col1\" class=\"data row14 col1\" >0.10</td>\n",
              "                        <td id=\"T_1d149322_3d70_11ec_aa55_0242ac1c0002row14_col2\" class=\"data row14 col2\" >-0.02</td>\n",
              "                        <td id=\"T_1d149322_3d70_11ec_aa55_0242ac1c0002row14_col3\" class=\"data row14 col3\" >0.00</td>\n",
              "                        <td id=\"T_1d149322_3d70_11ec_aa55_0242ac1c0002row14_col4\" class=\"data row14 col4\" >-0.01</td>\n",
              "                        <td id=\"T_1d149322_3d70_11ec_aa55_0242ac1c0002row14_col5\" class=\"data row14 col5\" >0.00</td>\n",
              "                        <td id=\"T_1d149322_3d70_11ec_aa55_0242ac1c0002row14_col6\" class=\"data row14 col6\" >0.02</td>\n",
              "                        <td id=\"T_1d149322_3d70_11ec_aa55_0242ac1c0002row14_col7\" class=\"data row14 col7\" >-0.02</td>\n",
              "                        <td id=\"T_1d149322_3d70_11ec_aa55_0242ac1c0002row14_col8\" class=\"data row14 col8\" >-0.01</td>\n",
              "                        <td id=\"T_1d149322_3d70_11ec_aa55_0242ac1c0002row14_col9\" class=\"data row14 col9\" >0.89</td>\n",
              "                        <td id=\"T_1d149322_3d70_11ec_aa55_0242ac1c0002row14_col10\" class=\"data row14 col10\" >-0.01</td>\n",
              "                        <td id=\"T_1d149322_3d70_11ec_aa55_0242ac1c0002row14_col11\" class=\"data row14 col11\" >-0.01</td>\n",
              "                        <td id=\"T_1d149322_3d70_11ec_aa55_0242ac1c0002row14_col12\" class=\"data row14 col12\" >-0.02</td>\n",
              "                        <td id=\"T_1d149322_3d70_11ec_aa55_0242ac1c0002row14_col13\" class=\"data row14 col13\" >-0.01</td>\n",
              "                        <td id=\"T_1d149322_3d70_11ec_aa55_0242ac1c0002row14_col14\" class=\"data row14 col14\" >1.00</td>\n",
              "                        <td id=\"T_1d149322_3d70_11ec_aa55_0242ac1c0002row14_col15\" class=\"data row14 col15\" >-0.02</td>\n",
              "                        <td id=\"T_1d149322_3d70_11ec_aa55_0242ac1c0002row14_col16\" class=\"data row14 col16\" >-0.01</td>\n",
              "                        <td id=\"T_1d149322_3d70_11ec_aa55_0242ac1c0002row14_col17\" class=\"data row14 col17\" >0.17</td>\n",
              "                        <td id=\"T_1d149322_3d70_11ec_aa55_0242ac1c0002row14_col18\" class=\"data row14 col18\" >-0.01</td>\n",
              "                        <td id=\"T_1d149322_3d70_11ec_aa55_0242ac1c0002row14_col19\" class=\"data row14 col19\" >0.25</td>\n",
              "                        <td id=\"T_1d149322_3d70_11ec_aa55_0242ac1c0002row14_col20\" class=\"data row14 col20\" >-0.23</td>\n",
              "                        <td id=\"T_1d149322_3d70_11ec_aa55_0242ac1c0002row14_col21\" class=\"data row14 col21\" >-0.03</td>\n",
              "                        <td id=\"T_1d149322_3d70_11ec_aa55_0242ac1c0002row14_col22\" class=\"data row14 col22\" >-0.02</td>\n",
              "                        <td id=\"T_1d149322_3d70_11ec_aa55_0242ac1c0002row14_col23\" class=\"data row14 col23\" >0.11</td>\n",
              "                        <td id=\"T_1d149322_3d70_11ec_aa55_0242ac1c0002row14_col24\" class=\"data row14 col24\" >-0.01</td>\n",
              "            </tr>\n",
              "            <tr>\n",
              "                        <th id=\"T_1d149322_3d70_11ec_aa55_0242ac1c0002level0_row15\" class=\"row_heading level0 row15\" >Dmin</th>\n",
              "                        <td id=\"T_1d149322_3d70_11ec_aa55_0242ac1c0002row15_col0\" class=\"data row15 col0\" >-0.01</td>\n",
              "                        <td id=\"T_1d149322_3d70_11ec_aa55_0242ac1c0002row15_col1\" class=\"data row15 col1\" >-0.01</td>\n",
              "                        <td id=\"T_1d149322_3d70_11ec_aa55_0242ac1c0002row15_col2\" class=\"data row15 col2\" >0.00</td>\n",
              "                        <td id=\"T_1d149322_3d70_11ec_aa55_0242ac1c0002row15_col3\" class=\"data row15 col3\" >-0.00</td>\n",
              "                        <td id=\"T_1d149322_3d70_11ec_aa55_0242ac1c0002row15_col4\" class=\"data row15 col4\" >0.00</td>\n",
              "                        <td id=\"T_1d149322_3d70_11ec_aa55_0242ac1c0002row15_col5\" class=\"data row15 col5\" >-0.00</td>\n",
              "                        <td id=\"T_1d149322_3d70_11ec_aa55_0242ac1c0002row15_col6\" class=\"data row15 col6\" >0.00</td>\n",
              "                        <td id=\"T_1d149322_3d70_11ec_aa55_0242ac1c0002row15_col7\" class=\"data row15 col7\" >0.00</td>\n",
              "                        <td id=\"T_1d149322_3d70_11ec_aa55_0242ac1c0002row15_col8\" class=\"data row15 col8\" >0.00</td>\n",
              "                        <td id=\"T_1d149322_3d70_11ec_aa55_0242ac1c0002row15_col9\" class=\"data row15 col9\" >-0.02</td>\n",
              "                        <td id=\"T_1d149322_3d70_11ec_aa55_0242ac1c0002row15_col10\" class=\"data row15 col10\" >0.07</td>\n",
              "                        <td id=\"T_1d149322_3d70_11ec_aa55_0242ac1c0002row15_col11\" class=\"data row15 col11\" >-0.01</td>\n",
              "                        <td id=\"T_1d149322_3d70_11ec_aa55_0242ac1c0002row15_col12\" class=\"data row15 col12\" >0.00</td>\n",
              "                        <td id=\"T_1d149322_3d70_11ec_aa55_0242ac1c0002row15_col13\" class=\"data row15 col13\" >0.00</td>\n",
              "                        <td id=\"T_1d149322_3d70_11ec_aa55_0242ac1c0002row15_col14\" class=\"data row15 col14\" >-0.02</td>\n",
              "                        <td id=\"T_1d149322_3d70_11ec_aa55_0242ac1c0002row15_col15\" class=\"data row15 col15\" >1.00</td>\n",
              "                        <td id=\"T_1d149322_3d70_11ec_aa55_0242ac1c0002row15_col16\" class=\"data row15 col16\" >-0.01</td>\n",
              "                        <td id=\"T_1d149322_3d70_11ec_aa55_0242ac1c0002row15_col17\" class=\"data row15 col17\" >-0.01</td>\n",
              "                        <td id=\"T_1d149322_3d70_11ec_aa55_0242ac1c0002row15_col18\" class=\"data row15 col18\" >0.00</td>\n",
              "                        <td id=\"T_1d149322_3d70_11ec_aa55_0242ac1c0002row15_col19\" class=\"data row15 col19\" >-0.01</td>\n",
              "                        <td id=\"T_1d149322_3d70_11ec_aa55_0242ac1c0002row15_col20\" class=\"data row15 col20\" >0.01</td>\n",
              "                        <td id=\"T_1d149322_3d70_11ec_aa55_0242ac1c0002row15_col21\" class=\"data row15 col21\" >0.00</td>\n",
              "                        <td id=\"T_1d149322_3d70_11ec_aa55_0242ac1c0002row15_col22\" class=\"data row15 col22\" >0.00</td>\n",
              "                        <td id=\"T_1d149322_3d70_11ec_aa55_0242ac1c0002row15_col23\" class=\"data row15 col23\" >-0.01</td>\n",
              "                        <td id=\"T_1d149322_3d70_11ec_aa55_0242ac1c0002row15_col24\" class=\"data row15 col24\" >0.00</td>\n",
              "            </tr>\n",
              "            <tr>\n",
              "                        <th id=\"T_1d149322_3d70_11ec_aa55_0242ac1c0002level0_row16\" class=\"row_heading level0 row16\" >DDweek</th>\n",
              "                        <td id=\"T_1d149322_3d70_11ec_aa55_0242ac1c0002row16_col0\" class=\"data row16 col0\" >0.08</td>\n",
              "                        <td id=\"T_1d149322_3d70_11ec_aa55_0242ac1c0002row16_col1\" class=\"data row16 col1\" >0.05</td>\n",
              "                        <td id=\"T_1d149322_3d70_11ec_aa55_0242ac1c0002row16_col2\" class=\"data row16 col2\" >0.00</td>\n",
              "                        <td id=\"T_1d149322_3d70_11ec_aa55_0242ac1c0002row16_col3\" class=\"data row16 col3\" >0.01</td>\n",
              "                        <td id=\"T_1d149322_3d70_11ec_aa55_0242ac1c0002row16_col4\" class=\"data row16 col4\" >-0.00</td>\n",
              "                        <td id=\"T_1d149322_3d70_11ec_aa55_0242ac1c0002row16_col5\" class=\"data row16 col5\" >0.01</td>\n",
              "                        <td id=\"T_1d149322_3d70_11ec_aa55_0242ac1c0002row16_col6\" class=\"data row16 col6\" >-0.00</td>\n",
              "                        <td id=\"T_1d149322_3d70_11ec_aa55_0242ac1c0002row16_col7\" class=\"data row16 col7\" >-0.01</td>\n",
              "                        <td id=\"T_1d149322_3d70_11ec_aa55_0242ac1c0002row16_col8\" class=\"data row16 col8\" >0.01</td>\n",
              "                        <td id=\"T_1d149322_3d70_11ec_aa55_0242ac1c0002row16_col9\" class=\"data row16 col9\" >-0.01</td>\n",
              "                        <td id=\"T_1d149322_3d70_11ec_aa55_0242ac1c0002row16_col10\" class=\"data row16 col10\" >0.00</td>\n",
              "                        <td id=\"T_1d149322_3d70_11ec_aa55_0242ac1c0002row16_col11\" class=\"data row16 col11\" >0.99</td>\n",
              "                        <td id=\"T_1d149322_3d70_11ec_aa55_0242ac1c0002row16_col12\" class=\"data row16 col12\" >-0.01</td>\n",
              "                        <td id=\"T_1d149322_3d70_11ec_aa55_0242ac1c0002row16_col13\" class=\"data row16 col13\" >0.01</td>\n",
              "                        <td id=\"T_1d149322_3d70_11ec_aa55_0242ac1c0002row16_col14\" class=\"data row16 col14\" >-0.01</td>\n",
              "                        <td id=\"T_1d149322_3d70_11ec_aa55_0242ac1c0002row16_col15\" class=\"data row16 col15\" >-0.01</td>\n",
              "                        <td id=\"T_1d149322_3d70_11ec_aa55_0242ac1c0002row16_col16\" class=\"data row16 col16\" >1.00</td>\n",
              "                        <td id=\"T_1d149322_3d70_11ec_aa55_0242ac1c0002row16_col17\" class=\"data row16 col17\" >0.04</td>\n",
              "                        <td id=\"T_1d149322_3d70_11ec_aa55_0242ac1c0002row16_col18\" class=\"data row16 col18\" >-0.00</td>\n",
              "                        <td id=\"T_1d149322_3d70_11ec_aa55_0242ac1c0002row16_col19\" class=\"data row16 col19\" >0.03</td>\n",
              "                        <td id=\"T_1d149322_3d70_11ec_aa55_0242ac1c0002row16_col20\" class=\"data row16 col20\" >-0.08</td>\n",
              "                        <td id=\"T_1d149322_3d70_11ec_aa55_0242ac1c0002row16_col21\" class=\"data row16 col21\" >0.07</td>\n",
              "                        <td id=\"T_1d149322_3d70_11ec_aa55_0242ac1c0002row16_col22\" class=\"data row16 col22\" >0.04</td>\n",
              "                        <td id=\"T_1d149322_3d70_11ec_aa55_0242ac1c0002row16_col23\" class=\"data row16 col23\" >0.06</td>\n",
              "                        <td id=\"T_1d149322_3d70_11ec_aa55_0242ac1c0002row16_col24\" class=\"data row16 col24\" >-0.05</td>\n",
              "            </tr>\n",
              "            <tr>\n",
              "                        <th id=\"T_1d149322_3d70_11ec_aa55_0242ac1c0002level0_row17\" class=\"row_heading level0 row17\" >Temp</th>\n",
              "                        <td id=\"T_1d149322_3d70_11ec_aa55_0242ac1c0002row17_col0\" class=\"data row17 col0\" >0.13</td>\n",
              "                        <td id=\"T_1d149322_3d70_11ec_aa55_0242ac1c0002row17_col1\" class=\"data row17 col1\" >0.10</td>\n",
              "                        <td id=\"T_1d149322_3d70_11ec_aa55_0242ac1c0002row17_col2\" class=\"data row17 col2\" >-0.00</td>\n",
              "                        <td id=\"T_1d149322_3d70_11ec_aa55_0242ac1c0002row17_col3\" class=\"data row17 col3\" >0.00</td>\n",
              "                        <td id=\"T_1d149322_3d70_11ec_aa55_0242ac1c0002row17_col4\" class=\"data row17 col4\" >-0.00</td>\n",
              "                        <td id=\"T_1d149322_3d70_11ec_aa55_0242ac1c0002row17_col5\" class=\"data row17 col5\" >0.00</td>\n",
              "                        <td id=\"T_1d149322_3d70_11ec_aa55_0242ac1c0002row17_col6\" class=\"data row17 col6\" >0.03</td>\n",
              "                        <td id=\"T_1d149322_3d70_11ec_aa55_0242ac1c0002row17_col7\" class=\"data row17 col7\" >-0.11</td>\n",
              "                        <td id=\"T_1d149322_3d70_11ec_aa55_0242ac1c0002row17_col8\" class=\"data row17 col8\" >-0.03</td>\n",
              "                        <td id=\"T_1d149322_3d70_11ec_aa55_0242ac1c0002row17_col9\" class=\"data row17 col9\" >0.17</td>\n",
              "                        <td id=\"T_1d149322_3d70_11ec_aa55_0242ac1c0002row17_col10\" class=\"data row17 col10\" >0.00</td>\n",
              "                        <td id=\"T_1d149322_3d70_11ec_aa55_0242ac1c0002row17_col11\" class=\"data row17 col11\" >0.04</td>\n",
              "                        <td id=\"T_1d149322_3d70_11ec_aa55_0242ac1c0002row17_col12\" class=\"data row17 col12\" >-0.11</td>\n",
              "                        <td id=\"T_1d149322_3d70_11ec_aa55_0242ac1c0002row17_col13\" class=\"data row17 col13\" >-0.03</td>\n",
              "                        <td id=\"T_1d149322_3d70_11ec_aa55_0242ac1c0002row17_col14\" class=\"data row17 col14\" >0.17</td>\n",
              "                        <td id=\"T_1d149322_3d70_11ec_aa55_0242ac1c0002row17_col15\" class=\"data row17 col15\" >-0.01</td>\n",
              "                        <td id=\"T_1d149322_3d70_11ec_aa55_0242ac1c0002row17_col16\" class=\"data row17 col16\" >0.04</td>\n",
              "                        <td id=\"T_1d149322_3d70_11ec_aa55_0242ac1c0002row17_col17\" class=\"data row17 col17\" >1.00</td>\n",
              "                        <td id=\"T_1d149322_3d70_11ec_aa55_0242ac1c0002row17_col18\" class=\"data row17 col18\" >0.01</td>\n",
              "                        <td id=\"T_1d149322_3d70_11ec_aa55_0242ac1c0002row17_col19\" class=\"data row17 col19\" >0.08</td>\n",
              "                        <td id=\"T_1d149322_3d70_11ec_aa55_0242ac1c0002row17_col20\" class=\"data row17 col20\" >0.08</td>\n",
              "                        <td id=\"T_1d149322_3d70_11ec_aa55_0242ac1c0002row17_col21\" class=\"data row17 col21\" >0.28</td>\n",
              "                        <td id=\"T_1d149322_3d70_11ec_aa55_0242ac1c0002row17_col22\" class=\"data row17 col22\" >-0.12</td>\n",
              "                        <td id=\"T_1d149322_3d70_11ec_aa55_0242ac1c0002row17_col23\" class=\"data row17 col23\" >0.90</td>\n",
              "                        <td id=\"T_1d149322_3d70_11ec_aa55_0242ac1c0002row17_col24\" class=\"data row17 col24\" >-0.23</td>\n",
              "            </tr>\n",
              "            <tr>\n",
              "                        <th id=\"T_1d149322_3d70_11ec_aa55_0242ac1c0002level0_row18\" class=\"row_heading level0 row18\" >Precip</th>\n",
              "                        <td id=\"T_1d149322_3d70_11ec_aa55_0242ac1c0002row18_col0\" class=\"data row18 col0\" >-0.01</td>\n",
              "                        <td id=\"T_1d149322_3d70_11ec_aa55_0242ac1c0002row18_col1\" class=\"data row18 col1\" >-0.01</td>\n",
              "                        <td id=\"T_1d149322_3d70_11ec_aa55_0242ac1c0002row18_col2\" class=\"data row18 col2\" >-0.00</td>\n",
              "                        <td id=\"T_1d149322_3d70_11ec_aa55_0242ac1c0002row18_col3\" class=\"data row18 col3\" >-0.00</td>\n",
              "                        <td id=\"T_1d149322_3d70_11ec_aa55_0242ac1c0002row18_col4\" class=\"data row18 col4\" >-0.00</td>\n",
              "                        <td id=\"T_1d149322_3d70_11ec_aa55_0242ac1c0002row18_col5\" class=\"data row18 col5\" >-0.00</td>\n",
              "                        <td id=\"T_1d149322_3d70_11ec_aa55_0242ac1c0002row18_col6\" class=\"data row18 col6\" >-0.01</td>\n",
              "                        <td id=\"T_1d149322_3d70_11ec_aa55_0242ac1c0002row18_col7\" class=\"data row18 col7\" >-0.00</td>\n",
              "                        <td id=\"T_1d149322_3d70_11ec_aa55_0242ac1c0002row18_col8\" class=\"data row18 col8\" >0.01</td>\n",
              "                        <td id=\"T_1d149322_3d70_11ec_aa55_0242ac1c0002row18_col9\" class=\"data row18 col9\" >-0.01</td>\n",
              "                        <td id=\"T_1d149322_3d70_11ec_aa55_0242ac1c0002row18_col10\" class=\"data row18 col10\" >0.01</td>\n",
              "                        <td id=\"T_1d149322_3d70_11ec_aa55_0242ac1c0002row18_col11\" class=\"data row18 col11\" >-0.00</td>\n",
              "                        <td id=\"T_1d149322_3d70_11ec_aa55_0242ac1c0002row18_col12\" class=\"data row18 col12\" >-0.00</td>\n",
              "                        <td id=\"T_1d149322_3d70_11ec_aa55_0242ac1c0002row18_col13\" class=\"data row18 col13\" >0.01</td>\n",
              "                        <td id=\"T_1d149322_3d70_11ec_aa55_0242ac1c0002row18_col14\" class=\"data row18 col14\" >-0.01</td>\n",
              "                        <td id=\"T_1d149322_3d70_11ec_aa55_0242ac1c0002row18_col15\" class=\"data row18 col15\" >0.00</td>\n",
              "                        <td id=\"T_1d149322_3d70_11ec_aa55_0242ac1c0002row18_col16\" class=\"data row18 col16\" >-0.00</td>\n",
              "                        <td id=\"T_1d149322_3d70_11ec_aa55_0242ac1c0002row18_col17\" class=\"data row18 col17\" >0.01</td>\n",
              "                        <td id=\"T_1d149322_3d70_11ec_aa55_0242ac1c0002row18_col18\" class=\"data row18 col18\" >1.00</td>\n",
              "                        <td id=\"T_1d149322_3d70_11ec_aa55_0242ac1c0002row18_col19\" class=\"data row18 col19\" >-0.01</td>\n",
              "                        <td id=\"T_1d149322_3d70_11ec_aa55_0242ac1c0002row18_col20\" class=\"data row18 col20\" >0.10</td>\n",
              "                        <td id=\"T_1d149322_3d70_11ec_aa55_0242ac1c0002row18_col21\" class=\"data row18 col21\" >-0.03</td>\n",
              "                        <td id=\"T_1d149322_3d70_11ec_aa55_0242ac1c0002row18_col22\" class=\"data row18 col22\" >0.01</td>\n",
              "                        <td id=\"T_1d149322_3d70_11ec_aa55_0242ac1c0002row18_col23\" class=\"data row18 col23\" >0.00</td>\n",
              "                        <td id=\"T_1d149322_3d70_11ec_aa55_0242ac1c0002row18_col24\" class=\"data row18 col24\" >-0.03</td>\n",
              "            </tr>\n",
              "            <tr>\n",
              "                        <th id=\"T_1d149322_3d70_11ec_aa55_0242ac1c0002level0_row19\" class=\"row_heading level0 row19\" >Wind</th>\n",
              "                        <td id=\"T_1d149322_3d70_11ec_aa55_0242ac1c0002row19_col0\" class=\"data row19 col0\" >0.07</td>\n",
              "                        <td id=\"T_1d149322_3d70_11ec_aa55_0242ac1c0002row19_col1\" class=\"data row19 col1\" >0.03</td>\n",
              "                        <td id=\"T_1d149322_3d70_11ec_aa55_0242ac1c0002row19_col2\" class=\"data row19 col2\" >-0.00</td>\n",
              "                        <td id=\"T_1d149322_3d70_11ec_aa55_0242ac1c0002row19_col3\" class=\"data row19 col3\" >-0.00</td>\n",
              "                        <td id=\"T_1d149322_3d70_11ec_aa55_0242ac1c0002row19_col4\" class=\"data row19 col4\" >-0.00</td>\n",
              "                        <td id=\"T_1d149322_3d70_11ec_aa55_0242ac1c0002row19_col5\" class=\"data row19 col5\" >-0.00</td>\n",
              "                        <td id=\"T_1d149322_3d70_11ec_aa55_0242ac1c0002row19_col6\" class=\"data row19 col6\" >0.00</td>\n",
              "                        <td id=\"T_1d149322_3d70_11ec_aa55_0242ac1c0002row19_col7\" class=\"data row19 col7\" >-0.18</td>\n",
              "                        <td id=\"T_1d149322_3d70_11ec_aa55_0242ac1c0002row19_col8\" class=\"data row19 col8\" >-0.02</td>\n",
              "                        <td id=\"T_1d149322_3d70_11ec_aa55_0242ac1c0002row19_col9\" class=\"data row19 col9\" >0.23</td>\n",
              "                        <td id=\"T_1d149322_3d70_11ec_aa55_0242ac1c0002row19_col10\" class=\"data row19 col10\" >0.00</td>\n",
              "                        <td id=\"T_1d149322_3d70_11ec_aa55_0242ac1c0002row19_col11\" class=\"data row19 col11\" >0.03</td>\n",
              "                        <td id=\"T_1d149322_3d70_11ec_aa55_0242ac1c0002row19_col12\" class=\"data row19 col12\" >-0.18</td>\n",
              "                        <td id=\"T_1d149322_3d70_11ec_aa55_0242ac1c0002row19_col13\" class=\"data row19 col13\" >-0.02</td>\n",
              "                        <td id=\"T_1d149322_3d70_11ec_aa55_0242ac1c0002row19_col14\" class=\"data row19 col14\" >0.25</td>\n",
              "                        <td id=\"T_1d149322_3d70_11ec_aa55_0242ac1c0002row19_col15\" class=\"data row19 col15\" >-0.01</td>\n",
              "                        <td id=\"T_1d149322_3d70_11ec_aa55_0242ac1c0002row19_col16\" class=\"data row19 col16\" >0.03</td>\n",
              "                        <td id=\"T_1d149322_3d70_11ec_aa55_0242ac1c0002row19_col17\" class=\"data row19 col17\" >0.08</td>\n",
              "                        <td id=\"T_1d149322_3d70_11ec_aa55_0242ac1c0002row19_col18\" class=\"data row19 col18\" >-0.01</td>\n",
              "                        <td id=\"T_1d149322_3d70_11ec_aa55_0242ac1c0002row19_col19\" class=\"data row19 col19\" >1.00</td>\n",
              "                        <td id=\"T_1d149322_3d70_11ec_aa55_0242ac1c0002row19_col20\" class=\"data row19 col20\" >-0.32</td>\n",
              "                        <td id=\"T_1d149322_3d70_11ec_aa55_0242ac1c0002row19_col21\" class=\"data row19 col21\" >0.33</td>\n",
              "                        <td id=\"T_1d149322_3d70_11ec_aa55_0242ac1c0002row19_col22\" class=\"data row19 col22\" >-0.01</td>\n",
              "                        <td id=\"T_1d149322_3d70_11ec_aa55_0242ac1c0002row19_col23\" class=\"data row19 col23\" >0.19</td>\n",
              "                        <td id=\"T_1d149322_3d70_11ec_aa55_0242ac1c0002row19_col24\" class=\"data row19 col24\" >0.12</td>\n",
              "            </tr>\n",
              "            <tr>\n",
              "                        <th id=\"T_1d149322_3d70_11ec_aa55_0242ac1c0002level0_row20\" class=\"row_heading level0 row20\" >Humid</th>\n",
              "                        <td id=\"T_1d149322_3d70_11ec_aa55_0242ac1c0002row20_col0\" class=\"data row20 col0\" >-0.10</td>\n",
              "                        <td id=\"T_1d149322_3d70_11ec_aa55_0242ac1c0002row20_col1\" class=\"data row20 col1\" >-0.03</td>\n",
              "                        <td id=\"T_1d149322_3d70_11ec_aa55_0242ac1c0002row20_col2\" class=\"data row20 col2\" >0.00</td>\n",
              "                        <td id=\"T_1d149322_3d70_11ec_aa55_0242ac1c0002row20_col3\" class=\"data row20 col3\" >-0.00</td>\n",
              "                        <td id=\"T_1d149322_3d70_11ec_aa55_0242ac1c0002row20_col4\" class=\"data row20 col4\" >0.00</td>\n",
              "                        <td id=\"T_1d149322_3d70_11ec_aa55_0242ac1c0002row20_col5\" class=\"data row20 col5\" >-0.00</td>\n",
              "                        <td id=\"T_1d149322_3d70_11ec_aa55_0242ac1c0002row20_col6\" class=\"data row20 col6\" >0.01</td>\n",
              "                        <td id=\"T_1d149322_3d70_11ec_aa55_0242ac1c0002row20_col7\" class=\"data row20 col7\" >0.02</td>\n",
              "                        <td id=\"T_1d149322_3d70_11ec_aa55_0242ac1c0002row20_col8\" class=\"data row20 col8\" >-0.04</td>\n",
              "                        <td id=\"T_1d149322_3d70_11ec_aa55_0242ac1c0002row20_col9\" class=\"data row20 col9\" >-0.20</td>\n",
              "                        <td id=\"T_1d149322_3d70_11ec_aa55_0242ac1c0002row20_col10\" class=\"data row20 col10\" >-0.00</td>\n",
              "                        <td id=\"T_1d149322_3d70_11ec_aa55_0242ac1c0002row20_col11\" class=\"data row20 col11\" >-0.08</td>\n",
              "                        <td id=\"T_1d149322_3d70_11ec_aa55_0242ac1c0002row20_col12\" class=\"data row20 col12\" >0.02</td>\n",
              "                        <td id=\"T_1d149322_3d70_11ec_aa55_0242ac1c0002row20_col13\" class=\"data row20 col13\" >-0.04</td>\n",
              "                        <td id=\"T_1d149322_3d70_11ec_aa55_0242ac1c0002row20_col14\" class=\"data row20 col14\" >-0.23</td>\n",
              "                        <td id=\"T_1d149322_3d70_11ec_aa55_0242ac1c0002row20_col15\" class=\"data row20 col15\" >0.01</td>\n",
              "                        <td id=\"T_1d149322_3d70_11ec_aa55_0242ac1c0002row20_col16\" class=\"data row20 col16\" >-0.08</td>\n",
              "                        <td id=\"T_1d149322_3d70_11ec_aa55_0242ac1c0002row20_col17\" class=\"data row20 col17\" >0.08</td>\n",
              "                        <td id=\"T_1d149322_3d70_11ec_aa55_0242ac1c0002row20_col18\" class=\"data row20 col18\" >0.10</td>\n",
              "                        <td id=\"T_1d149322_3d70_11ec_aa55_0242ac1c0002row20_col19\" class=\"data row20 col19\" >-0.32</td>\n",
              "                        <td id=\"T_1d149322_3d70_11ec_aa55_0242ac1c0002row20_col20\" class=\"data row20 col20\" >1.00</td>\n",
              "                        <td id=\"T_1d149322_3d70_11ec_aa55_0242ac1c0002row20_col21\" class=\"data row20 col21\" >-0.49</td>\n",
              "                        <td id=\"T_1d149322_3d70_11ec_aa55_0242ac1c0002row20_col22\" class=\"data row20 col22\" >0.06</td>\n",
              "                        <td id=\"T_1d149322_3d70_11ec_aa55_0242ac1c0002row20_col23\" class=\"data row20 col23\" >-0.11</td>\n",
              "                        <td id=\"T_1d149322_3d70_11ec_aa55_0242ac1c0002row20_col24\" class=\"data row20 col24\" >-0.19</td>\n",
              "            </tr>\n",
              "            <tr>\n",
              "                        <th id=\"T_1d149322_3d70_11ec_aa55_0242ac1c0002level0_row21\" class=\"row_heading level0 row21\" >Solar</th>\n",
              "                        <td id=\"T_1d149322_3d70_11ec_aa55_0242ac1c0002row21_col0\" class=\"data row21 col0\" >0.07</td>\n",
              "                        <td id=\"T_1d149322_3d70_11ec_aa55_0242ac1c0002row21_col1\" class=\"data row21 col1\" >-0.00</td>\n",
              "                        <td id=\"T_1d149322_3d70_11ec_aa55_0242ac1c0002row21_col2\" class=\"data row21 col2\" >0.01</td>\n",
              "                        <td id=\"T_1d149322_3d70_11ec_aa55_0242ac1c0002row21_col3\" class=\"data row21 col3\" >-0.00</td>\n",
              "                        <td id=\"T_1d149322_3d70_11ec_aa55_0242ac1c0002row21_col4\" class=\"data row21 col4\" >0.00</td>\n",
              "                        <td id=\"T_1d149322_3d70_11ec_aa55_0242ac1c0002row21_col5\" class=\"data row21 col5\" >-0.00</td>\n",
              "                        <td id=\"T_1d149322_3d70_11ec_aa55_0242ac1c0002row21_col6\" class=\"data row21 col6\" >-0.04</td>\n",
              "                        <td id=\"T_1d149322_3d70_11ec_aa55_0242ac1c0002row21_col7\" class=\"data row21 col7\" >-0.14</td>\n",
              "                        <td id=\"T_1d149322_3d70_11ec_aa55_0242ac1c0002row21_col8\" class=\"data row21 col8\" >-0.00</td>\n",
              "                        <td id=\"T_1d149322_3d70_11ec_aa55_0242ac1c0002row21_col9\" class=\"data row21 col9\" >-0.08</td>\n",
              "                        <td id=\"T_1d149322_3d70_11ec_aa55_0242ac1c0002row21_col10\" class=\"data row21 col10\" >0.03</td>\n",
              "                        <td id=\"T_1d149322_3d70_11ec_aa55_0242ac1c0002row21_col11\" class=\"data row21 col11\" >0.07</td>\n",
              "                        <td id=\"T_1d149322_3d70_11ec_aa55_0242ac1c0002row21_col12\" class=\"data row21 col12\" >-0.14</td>\n",
              "                        <td id=\"T_1d149322_3d70_11ec_aa55_0242ac1c0002row21_col13\" class=\"data row21 col13\" >-0.00</td>\n",
              "                        <td id=\"T_1d149322_3d70_11ec_aa55_0242ac1c0002row21_col14\" class=\"data row21 col14\" >-0.03</td>\n",
              "                        <td id=\"T_1d149322_3d70_11ec_aa55_0242ac1c0002row21_col15\" class=\"data row21 col15\" >0.00</td>\n",
              "                        <td id=\"T_1d149322_3d70_11ec_aa55_0242ac1c0002row21_col16\" class=\"data row21 col16\" >0.07</td>\n",
              "                        <td id=\"T_1d149322_3d70_11ec_aa55_0242ac1c0002row21_col17\" class=\"data row21 col17\" >0.28</td>\n",
              "                        <td id=\"T_1d149322_3d70_11ec_aa55_0242ac1c0002row21_col18\" class=\"data row21 col18\" >-0.03</td>\n",
              "                        <td id=\"T_1d149322_3d70_11ec_aa55_0242ac1c0002row21_col19\" class=\"data row21 col19\" >0.33</td>\n",
              "                        <td id=\"T_1d149322_3d70_11ec_aa55_0242ac1c0002row21_col20\" class=\"data row21 col20\" >-0.49</td>\n",
              "                        <td id=\"T_1d149322_3d70_11ec_aa55_0242ac1c0002row21_col21\" class=\"data row21 col21\" >1.00</td>\n",
              "                        <td id=\"T_1d149322_3d70_11ec_aa55_0242ac1c0002row21_col22\" class=\"data row21 col22\" >-0.03</td>\n",
              "                        <td id=\"T_1d149322_3d70_11ec_aa55_0242ac1c0002row21_col23\" class=\"data row21 col23\" >0.61</td>\n",
              "                        <td id=\"T_1d149322_3d70_11ec_aa55_0242ac1c0002row21_col24\" class=\"data row21 col24\" >0.20</td>\n",
              "            </tr>\n",
              "            <tr>\n",
              "                        <th id=\"T_1d149322_3d70_11ec_aa55_0242ac1c0002level0_row22\" class=\"row_heading level0 row22\" >Snow</th>\n",
              "                        <td id=\"T_1d149322_3d70_11ec_aa55_0242ac1c0002row22_col0\" class=\"data row22 col0\" >-0.02</td>\n",
              "                        <td id=\"T_1d149322_3d70_11ec_aa55_0242ac1c0002row22_col1\" class=\"data row22 col1\" >-0.02</td>\n",
              "                        <td id=\"T_1d149322_3d70_11ec_aa55_0242ac1c0002row22_col2\" class=\"data row22 col2\" >-0.00</td>\n",
              "                        <td id=\"T_1d149322_3d70_11ec_aa55_0242ac1c0002row22_col3\" class=\"data row22 col3\" >-0.00</td>\n",
              "                        <td id=\"T_1d149322_3d70_11ec_aa55_0242ac1c0002row22_col4\" class=\"data row22 col4\" >-0.00</td>\n",
              "                        <td id=\"T_1d149322_3d70_11ec_aa55_0242ac1c0002row22_col5\" class=\"data row22 col5\" >-0.00</td>\n",
              "                        <td id=\"T_1d149322_3d70_11ec_aa55_0242ac1c0002row22_col6\" class=\"data row22 col6\" >-0.01</td>\n",
              "                        <td id=\"T_1d149322_3d70_11ec_aa55_0242ac1c0002row22_col7\" class=\"data row22 col7\" >-0.01</td>\n",
              "                        <td id=\"T_1d149322_3d70_11ec_aa55_0242ac1c0002row22_col8\" class=\"data row22 col8\" >0.05</td>\n",
              "                        <td id=\"T_1d149322_3d70_11ec_aa55_0242ac1c0002row22_col9\" class=\"data row22 col9\" >-0.02</td>\n",
              "                        <td id=\"T_1d149322_3d70_11ec_aa55_0242ac1c0002row22_col10\" class=\"data row22 col10\" >0.00</td>\n",
              "                        <td id=\"T_1d149322_3d70_11ec_aa55_0242ac1c0002row22_col11\" class=\"data row22 col11\" >0.04</td>\n",
              "                        <td id=\"T_1d149322_3d70_11ec_aa55_0242ac1c0002row22_col12\" class=\"data row22 col12\" >-0.01</td>\n",
              "                        <td id=\"T_1d149322_3d70_11ec_aa55_0242ac1c0002row22_col13\" class=\"data row22 col13\" >0.05</td>\n",
              "                        <td id=\"T_1d149322_3d70_11ec_aa55_0242ac1c0002row22_col14\" class=\"data row22 col14\" >-0.02</td>\n",
              "                        <td id=\"T_1d149322_3d70_11ec_aa55_0242ac1c0002row22_col15\" class=\"data row22 col15\" >0.00</td>\n",
              "                        <td id=\"T_1d149322_3d70_11ec_aa55_0242ac1c0002row22_col16\" class=\"data row22 col16\" >0.04</td>\n",
              "                        <td id=\"T_1d149322_3d70_11ec_aa55_0242ac1c0002row22_col17\" class=\"data row22 col17\" >-0.12</td>\n",
              "                        <td id=\"T_1d149322_3d70_11ec_aa55_0242ac1c0002row22_col18\" class=\"data row22 col18\" >0.01</td>\n",
              "                        <td id=\"T_1d149322_3d70_11ec_aa55_0242ac1c0002row22_col19\" class=\"data row22 col19\" >-0.01</td>\n",
              "                        <td id=\"T_1d149322_3d70_11ec_aa55_0242ac1c0002row22_col20\" class=\"data row22 col20\" >0.06</td>\n",
              "                        <td id=\"T_1d149322_3d70_11ec_aa55_0242ac1c0002row22_col21\" class=\"data row22 col21\" >-0.03</td>\n",
              "                        <td id=\"T_1d149322_3d70_11ec_aa55_0242ac1c0002row22_col22\" class=\"data row22 col22\" >1.00</td>\n",
              "                        <td id=\"T_1d149322_3d70_11ec_aa55_0242ac1c0002row22_col23\" class=\"data row22 col23\" >-0.10</td>\n",
              "                        <td id=\"T_1d149322_3d70_11ec_aa55_0242ac1c0002row22_col24\" class=\"data row22 col24\" >0.01</td>\n",
              "            </tr>\n",
              "            <tr>\n",
              "                        <th id=\"T_1d149322_3d70_11ec_aa55_0242ac1c0002level0_row23\" class=\"row_heading level0 row23\" >GroundTemp</th>\n",
              "                        <td id=\"T_1d149322_3d70_11ec_aa55_0242ac1c0002row23_col0\" class=\"data row23 col0\" >0.12</td>\n",
              "                        <td id=\"T_1d149322_3d70_11ec_aa55_0242ac1c0002row23_col1\" class=\"data row23 col1\" >0.07</td>\n",
              "                        <td id=\"T_1d149322_3d70_11ec_aa55_0242ac1c0002row23_col2\" class=\"data row23 col2\" >0.00</td>\n",
              "                        <td id=\"T_1d149322_3d70_11ec_aa55_0242ac1c0002row23_col3\" class=\"data row23 col3\" >0.00</td>\n",
              "                        <td id=\"T_1d149322_3d70_11ec_aa55_0242ac1c0002row23_col4\" class=\"data row23 col4\" >0.00</td>\n",
              "                        <td id=\"T_1d149322_3d70_11ec_aa55_0242ac1c0002row23_col5\" class=\"data row23 col5\" >0.00</td>\n",
              "                        <td id=\"T_1d149322_3d70_11ec_aa55_0242ac1c0002row23_col6\" class=\"data row23 col6\" >0.00</td>\n",
              "                        <td id=\"T_1d149322_3d70_11ec_aa55_0242ac1c0002row23_col7\" class=\"data row23 col7\" >-0.14</td>\n",
              "                        <td id=\"T_1d149322_3d70_11ec_aa55_0242ac1c0002row23_col8\" class=\"data row23 col8\" >-0.02</td>\n",
              "                        <td id=\"T_1d149322_3d70_11ec_aa55_0242ac1c0002row23_col9\" class=\"data row23 col9\" >0.09</td>\n",
              "                        <td id=\"T_1d149322_3d70_11ec_aa55_0242ac1c0002row23_col10\" class=\"data row23 col10\" >0.01</td>\n",
              "                        <td id=\"T_1d149322_3d70_11ec_aa55_0242ac1c0002row23_col11\" class=\"data row23 col11\" >0.06</td>\n",
              "                        <td id=\"T_1d149322_3d70_11ec_aa55_0242ac1c0002row23_col12\" class=\"data row23 col12\" >-0.14</td>\n",
              "                        <td id=\"T_1d149322_3d70_11ec_aa55_0242ac1c0002row23_col13\" class=\"data row23 col13\" >-0.02</td>\n",
              "                        <td id=\"T_1d149322_3d70_11ec_aa55_0242ac1c0002row23_col14\" class=\"data row23 col14\" >0.11</td>\n",
              "                        <td id=\"T_1d149322_3d70_11ec_aa55_0242ac1c0002row23_col15\" class=\"data row23 col15\" >-0.01</td>\n",
              "                        <td id=\"T_1d149322_3d70_11ec_aa55_0242ac1c0002row23_col16\" class=\"data row23 col16\" >0.06</td>\n",
              "                        <td id=\"T_1d149322_3d70_11ec_aa55_0242ac1c0002row23_col17\" class=\"data row23 col17\" >0.90</td>\n",
              "                        <td id=\"T_1d149322_3d70_11ec_aa55_0242ac1c0002row23_col18\" class=\"data row23 col18\" >0.00</td>\n",
              "                        <td id=\"T_1d149322_3d70_11ec_aa55_0242ac1c0002row23_col19\" class=\"data row23 col19\" >0.19</td>\n",
              "                        <td id=\"T_1d149322_3d70_11ec_aa55_0242ac1c0002row23_col20\" class=\"data row23 col20\" >-0.11</td>\n",
              "                        <td id=\"T_1d149322_3d70_11ec_aa55_0242ac1c0002row23_col21\" class=\"data row23 col21\" >0.61</td>\n",
              "                        <td id=\"T_1d149322_3d70_11ec_aa55_0242ac1c0002row23_col22\" class=\"data row23 col22\" >-0.10</td>\n",
              "                        <td id=\"T_1d149322_3d70_11ec_aa55_0242ac1c0002row23_col23\" class=\"data row23 col23\" >1.00</td>\n",
              "                        <td id=\"T_1d149322_3d70_11ec_aa55_0242ac1c0002row23_col24\" class=\"data row23 col24\" >-0.12</td>\n",
              "            </tr>\n",
              "            <tr>\n",
              "                        <th id=\"T_1d149322_3d70_11ec_aa55_0242ac1c0002level0_row24\" class=\"row_heading level0 row24\" >Dust</th>\n",
              "                        <td id=\"T_1d149322_3d70_11ec_aa55_0242ac1c0002row24_col0\" class=\"data row24 col0\" >-0.02</td>\n",
              "                        <td id=\"T_1d149322_3d70_11ec_aa55_0242ac1c0002row24_col1\" class=\"data row24 col1\" >-0.04</td>\n",
              "                        <td id=\"T_1d149322_3d70_11ec_aa55_0242ac1c0002row24_col2\" class=\"data row24 col2\" >0.00</td>\n",
              "                        <td id=\"T_1d149322_3d70_11ec_aa55_0242ac1c0002row24_col3\" class=\"data row24 col3\" >-0.00</td>\n",
              "                        <td id=\"T_1d149322_3d70_11ec_aa55_0242ac1c0002row24_col4\" class=\"data row24 col4\" >0.00</td>\n",
              "                        <td id=\"T_1d149322_3d70_11ec_aa55_0242ac1c0002row24_col5\" class=\"data row24 col5\" >-0.00</td>\n",
              "                        <td id=\"T_1d149322_3d70_11ec_aa55_0242ac1c0002row24_col6\" class=\"data row24 col6\" >-0.02</td>\n",
              "                        <td id=\"T_1d149322_3d70_11ec_aa55_0242ac1c0002row24_col7\" class=\"data row24 col7\" >-0.08</td>\n",
              "                        <td id=\"T_1d149322_3d70_11ec_aa55_0242ac1c0002row24_col8\" class=\"data row24 col8\" >0.08</td>\n",
              "                        <td id=\"T_1d149322_3d70_11ec_aa55_0242ac1c0002row24_col9\" class=\"data row24 col9\" >-0.03</td>\n",
              "                        <td id=\"T_1d149322_3d70_11ec_aa55_0242ac1c0002row24_col10\" class=\"data row24 col10\" >0.01</td>\n",
              "                        <td id=\"T_1d149322_3d70_11ec_aa55_0242ac1c0002row24_col11\" class=\"data row24 col11\" >-0.05</td>\n",
              "                        <td id=\"T_1d149322_3d70_11ec_aa55_0242ac1c0002row24_col12\" class=\"data row24 col12\" >-0.08</td>\n",
              "                        <td id=\"T_1d149322_3d70_11ec_aa55_0242ac1c0002row24_col13\" class=\"data row24 col13\" >0.08</td>\n",
              "                        <td id=\"T_1d149322_3d70_11ec_aa55_0242ac1c0002row24_col14\" class=\"data row24 col14\" >-0.01</td>\n",
              "                        <td id=\"T_1d149322_3d70_11ec_aa55_0242ac1c0002row24_col15\" class=\"data row24 col15\" >0.00</td>\n",
              "                        <td id=\"T_1d149322_3d70_11ec_aa55_0242ac1c0002row24_col16\" class=\"data row24 col16\" >-0.05</td>\n",
              "                        <td id=\"T_1d149322_3d70_11ec_aa55_0242ac1c0002row24_col17\" class=\"data row24 col17\" >-0.23</td>\n",
              "                        <td id=\"T_1d149322_3d70_11ec_aa55_0242ac1c0002row24_col18\" class=\"data row24 col18\" >-0.03</td>\n",
              "                        <td id=\"T_1d149322_3d70_11ec_aa55_0242ac1c0002row24_col19\" class=\"data row24 col19\" >0.12</td>\n",
              "                        <td id=\"T_1d149322_3d70_11ec_aa55_0242ac1c0002row24_col20\" class=\"data row24 col20\" >-0.19</td>\n",
              "                        <td id=\"T_1d149322_3d70_11ec_aa55_0242ac1c0002row24_col21\" class=\"data row24 col21\" >0.20</td>\n",
              "                        <td id=\"T_1d149322_3d70_11ec_aa55_0242ac1c0002row24_col22\" class=\"data row24 col22\" >0.01</td>\n",
              "                        <td id=\"T_1d149322_3d70_11ec_aa55_0242ac1c0002row24_col23\" class=\"data row24 col23\" >-0.12</td>\n",
              "                        <td id=\"T_1d149322_3d70_11ec_aa55_0242ac1c0002row24_col24\" class=\"data row24 col24\" >1.00</td>\n",
              "            </tr>\n",
              "    </tbody></table>"
            ],
            "text/plain": [
              "<pandas.io.formats.style.Styler at 0x7ff41e2f3ed0>"
            ]
          },
          "metadata": {},
          "execution_count": 11
        }
      ]
    },
    {
      "cell_type": "code",
      "metadata": {
        "colab": {
          "base_uri": "https://localhost:8080/",
          "height": 310
        },
        "id": "Pa9K6Hhn-S7q",
        "outputId": "dacd4917-e388-41b4-dd28-2bf68aea08c1"
      },
      "source": [
        "# Matriz de correlación usando Seaborn\n",
        "ax = sns.heatmap(corr, vmin= -1, vmax=1, center=0, cmap = sns.diverging_palette(20, 220, n=200), square = True)\n",
        "\n",
        "ax.set_xticklabels(\n",
        "    ax.get_xticklabels(), \n",
        "    rotation = 45, \n",
        "    horizontalalignment = 'right'\n",
        "    );"
      ],
      "execution_count": null,
      "outputs": [
        {
          "output_type": "display_data",
          "data": {
            "image/png": "[encoded data removed]",
            "text/plain": [
              "<Figure size 432x288 with 2 Axes>"
            ]
          },
          "metadata": {
            "needs_background": "light"
          }
        }
      ]
    },
    {
      "cell_type": "markdown",
      "metadata": {
        "id": "rcdtnddwZKE5"
      },
      "source": [
        "\n",
        "**Observación desde arriba correlación mattix**\n",
        "1. la distancia y la duración están fuertemente relacionadas\n",
        "Haversine y duración y correlacionados entre sí.\n",
        "2. la temperatura del suelo y la radiación solar están correlacionadas\n",
        "3. la temperatura y las radiaciones solares están correlacionadas\n",
        "phour y dhour no están relacionados con la humedad"
      ]
    },
    {
      "cell_type": "code",
      "metadata": {
        "colab": {
          "base_uri": "https://localhost:8080/",
          "height": 666
        },
        "id": "KHAg4eEHAqxj",
        "outputId": "40ac20be-c7a3-4934-baf1-b7a2b50f17ef"
      },
      "source": [
        "d = df.drop(['Duration'], axis=1)\n",
        "d.corrwith(df['Duration']).plot(kind='bar', figsize=(10,10))\n",
        "plt.title('Correlation between Duration and Independant features', size=20)\n",
        "plt.show()"
      ],
      "execution_count": null,
      "outputs": [
        {
          "output_type": "display_data",
          "data": {
            "image/png": "[encoded data removed]",
            "text/plain": [
              "<Figure size 720x720 with 1 Axes>"
            ]
          },
          "metadata": {
            "needs_background": "light"
          }
        }
      ]
    },
    {
      "cell_type": "code",
      "metadata": {
        "colab": {
          "base_uri": "https://localhost:8080/",
          "height": 704
        },
        "id": "LkuFGwhPAywx",
        "outputId": "37f1d648-383a-47c1-ccf3-94d5d45813e0"
      },
      "source": [
        "plt.figure(figsize=(15,12))\n",
        "sns.boxplot(data=df, orient='h');\n",
        "plt.xscale('log')"
      ],
      "execution_count": null,
      "outputs": [
        {
          "output_type": "display_data",
          "data": {
            "image/png": "[encoded data removed]",
            "text/plain": [
              "<Figure size 1080x864 with 1 Axes>"
            ]
          },
          "metadata": {
            "needs_background": "light"
          }
        }
      ]
    },
    {
      "cell_type": "markdown",
      "metadata": {
        "id": "sxvvJsIQXNeg"
      },
      "source": [
        "# HISTOGRAMA"
      ]
    },
    {
      "cell_type": "markdown",
      "metadata": {
        "id": "9ZI5vQc5U1ez"
      },
      "source": [
        "1. Un histograma es una representación aproximada de la distribución de datos numéricos.\n",
        "\n",
        "2. Para construir un histograma, el primer paso es \"agrupar\" (o \"cubo\") el rango de valores, es decir, dividir todo el rango de valores en una serie de intervalos, y luego contar cuántos valores caen en cada intervalo.\n",
        "\n",
        "3. Las palabras utilizadas para describir los patrones en un histograma son: \"simétrico\", \"sesgado a la izquierda\" o \"derecha\", \"unimodal\", \"bimodal\" o \"multimodal\"."
      ]
    },
    {
      "cell_type": "code",
      "metadata": {
        "colab": {
          "base_uri": "https://localhost:8080/",
          "height": 505
        },
        "id": "-Vx_iLkk-SqN",
        "outputId": "f5985a2e-f5d7-4f3e-d7d7-8154f2098177"
      },
      "source": [
        "#Histograma usando pandas\n",
        "df.hist(figsize = (15,8))"
      ],
      "execution_count": null,
      "outputs": [
        {
          "output_type": "execute_result",
          "data": {
            "text/plain": [
              "array([[<matplotlib.axes._subplots.AxesSubplot object at 0x7ff41101f390>,\n",
              "        <matplotlib.axes._subplots.AxesSubplot object at 0x7ff4110a35d0>,\n",
              "        <matplotlib.axes._subplots.AxesSubplot object at 0x7ff411091f10>,\n",
              "        <matplotlib.axes._subplots.AxesSubplot object at 0x7ff4114d2850>,\n",
              "        <matplotlib.axes._subplots.AxesSubplot object at 0x7ff4112b8210>],\n",
              "       [<matplotlib.axes._subplots.AxesSubplot object at 0x7ff4111f4e90>,\n",
              "        <matplotlib.axes._subplots.AxesSubplot object at 0x7ff41125ef10>,\n",
              "        <matplotlib.axes._subplots.AxesSubplot object at 0x7ff411509ed0>,\n",
              "        <matplotlib.axes._subplots.AxesSubplot object at 0x7ff411509e50>,\n",
              "        <matplotlib.axes._subplots.AxesSubplot object at 0x7ff4114e9cd0>],\n",
              "       [<matplotlib.axes._subplots.AxesSubplot object at 0x7ff41118d150>,\n",
              "        <matplotlib.axes._subplots.AxesSubplot object at 0x7ff4112747d0>,\n",
              "        <matplotlib.axes._subplots.AxesSubplot object at 0x7ff41154ce50>,\n",
              "        <matplotlib.axes._subplots.AxesSubplot object at 0x7ff411570510>,\n",
              "        <matplotlib.axes._subplots.AxesSubplot object at 0x7ff4110a7b90>],\n",
              "       [<matplotlib.axes._subplots.AxesSubplot object at 0x7ff4114af250>,\n",
              "        <matplotlib.axes._subplots.AxesSubplot object at 0x7ff4115c88d0>,\n",
              "        <matplotlib.axes._subplots.AxesSubplot object at 0x7ff4112d5f50>,\n",
              "        <matplotlib.axes._subplots.AxesSubplot object at 0x7ff411255610>,\n",
              "        <matplotlib.axes._subplots.AxesSubplot object at 0x7ff41141bc90>],\n",
              "       [<matplotlib.axes._subplots.AxesSubplot object at 0x7ff411300350>,\n",
              "        <matplotlib.axes._subplots.AxesSubplot object at 0x7ff410fc59d0>,\n",
              "        <matplotlib.axes._subplots.AxesSubplot object at 0x7ff411365b90>,\n",
              "        <matplotlib.axes._subplots.AxesSubplot object at 0x7ff411409710>,\n",
              "        <matplotlib.axes._subplots.AxesSubplot object at 0x7ff411338d90>]],\n",
              "      dtype=object)"
            ]
          },
          "metadata": {},
          "execution_count": 15
        },
        {
          "output_type": "display_data",
          "data": {
            "image/png": "[encoded data removed]",
            "text/plain": [
              "<Figure size 1080x576 with 25 Axes>"
            ]
          },
          "metadata": {
            "needs_background": "light"
          }
        }
      ]
    },
    {
      "cell_type": "code",
      "metadata": {
        "colab": {
          "base_uri": "https://localhost:8080/",
          "height": 54
        },
        "id": "mIn62KZPBBHW",
        "outputId": "5549e0fb-8970-414e-86c7-77edc723db8e"
      },
      "source": [
        "df.hist(bins=50,figsize=(20,18),density=True)\n",
        "plt.show()"
      ],
      "execution_count": null,
      "outputs": [
        {
          "output_type": "display_data",
          "data": {
            "image/png": "[encoded data removed]",
            "text/plain": [
              "<Figure size 1440x1296 with 25 Axes>"
            ]
          },
          "metadata": {
            "needs_background": "light"
          }
        }
      ]
    },
    {
      "cell_type": "markdown",
      "metadata": {
        "id": "eCo3lcHzKb7K"
      },
      "source": [
        "\n",
        "Observación -\n",
        "1. La distribución de datos de duración, distancia, haversina, precipitación, radiación solar, nieve y polvo están sesgadas a la izquierda.\n",
        "2. La distribución de datos de la humedad es simétrica\n",
        "3. La distribución de datos de Pmin y Dmin está sesgada a la derecha.\n",
        "4. La distribución de datos de Phour y Dhour es la misma.\n",
        "5. La distribución de datos de pday y Dday es la misma.\n",
        "6. La distribución de datos de Pmonth y Dmonth es la misma"
      ]
    },
    {
      "cell_type": "markdown",
      "metadata": {
        "id": "oIMZ8mQWOTfA"
      },
      "source": [
        "# box plot"
      ]
    },
    {
      "cell_type": "markdown",
      "metadata": {
        "id": "xRtv_YwrU8_f"
      },
      "source": [
        "Un diagrama de caja es una forma estandarizada de mostrar el conjunto de datos basado en un resumen de cinco números:\n",
        "\n",
        "     1. Mínimo (Q0 o percentil 0): el punto de datos más bajo excluyendo cualquier valor atípico.\n",
        "\n",
        "     2. Máximo (Q4 o percentil 100): el punto de datos más grande excluyendo cualquier valor atípico.\n",
        "\n",
        "     3. Mediana (Q2 o percentil 50): el valor medio del conjunto de datos.\n",
        "\n",
        "     4. Primer cuartil (Q1 o percentil 25): también conocido como el cuartil inferior qn (0,25), es la mediana de la mitad inferior del conjunto de datos.\n",
        "\n",
        "     5. Tercer cuartil (Q3 o percentil 75): también conocido como el cuartil superior qn (0,75), es la mediana de la mitad superior del conjunto de datos."
      ]
    },
    {
      "cell_type": "code",
      "metadata": {
        "colab": {
          "base_uri": "https://localhost:8080/",
          "height": 54
        },
        "id": "erppX5_R-SlL",
        "outputId": "f5bbae2b-855e-48c4-9f64-c0765a6da6dd"
      },
      "source": [
        "# Performance de un boxplot sobre Duration column of the dataset\n",
        "df.boxplot(column = 'Duration', figsize = (15,10))\n",
        "plt.show()"
      ],
      "execution_count": null,
      "outputs": [
        {
          "output_type": "display_data",
          "data": {
            "image/png": "[encoded data removed]",
            "text/plain": [
              "<Figure size 1080x720 with 1 Axes>"
            ]
          },
          "metadata": {
            "needs_background": "light"
          }
        }
      ]
    },
    {
      "cell_type": "markdown",
      "metadata": {
        "id": "7-GmFO9TDaT-"
      },
      "source": [
        "from above box plot graph:\n",
        "\n",
        "duration\n",
        "\n",
        "25% of duration have value between range 0 to 8\n",
        "\n",
        "25% of duration have value between range 8 to 18\n",
        "\n",
        "25% of duration have value between range 18 to 35\n",
        "\n",
        "25% of duration have value between range 35 to 77\n",
        "\n",
        "The mean duration is around 18\n",
        "\n",
        "**Mostly the duration are on the lower side of the spectrum. Means small duration trips are the common trips**\n"
      ]
    },
    {
      "cell_type": "code",
      "metadata": {
        "colab": {
          "base_uri": "https://localhost:8080/",
          "height": 54
        },
        "id": "voTO-_PkDkD4",
        "outputId": "bef2dec8-3430-4ecb-900f-d2511b737d75"
      },
      "source": [
        "# Perform boxplot on Distance column of the dataset\n",
        "df.boxplot(column = 'Distance', figsize = (15,10))\n",
        "plt.show()"
      ],
      "execution_count": null,
      "outputs": [
        {
          "output_type": "display_data",
          "data": {
            "image/png": "[encoded data removed]",
            "text/plain": [
              "<Figure size 1080x720 with 1 Axes>"
            ]
          },
          "metadata": {
            "needs_background": "light"
          }
        }
      ]
    },
    {
      "cell_type": "markdown",
      "metadata": {
        "id": "WzxPUZQVDySx"
      },
      "source": [
        "from above box plot graph:\n",
        "\n",
        "distance\n",
        "\n",
        "25% of distance have value between range 0 to 1000\n",
        "\n",
        "25% of distance have value between range 1000 to 2500\n",
        "\n",
        "25% of distance have value between range 2500 to 4900\n",
        "\n",
        "25% of distance have value between range 4900 to 9900\n",
        "\n",
        "The mean distance is around 2500\n",
        "\n",
        " Mostly the distance are on the lower side of the spectrum. Means small distance trips are the common trips\n",
        "\n"
      ]
    },
    {
      "cell_type": "code",
      "metadata": {
        "colab": {
          "base_uri": "https://localhost:8080/",
          "height": 54
        },
        "id": "PLBMBWqXGDeh",
        "outputId": "cbb01631-725d-4b59-eca4-65f0ca9065c9"
      },
      "source": [
        "# Perform boxplot on PLong column of the dataset\n",
        "df.boxplot(column = 'PLong', figsize = (15,10))\n",
        "plt.show()"
      ],
      "execution_count": null,
      "outputs": [
        {
          "output_type": "display_data",
          "data": {
            "image/png": "[encoded data removed]",
            "text/plain": [
              "<Figure size 1080x720 with 1 Axes>"
            ]
          },
          "metadata": {
            "needs_background": "light"
          }
        }
      ]
    },
    {
      "cell_type": "markdown",
      "metadata": {
        "id": "tFjQuSZKRhpZ"
      },
      "source": [
        "from above box plot graph:\n",
        "\n",
        "PLong\n",
        "\n",
        "25% of PLong have value between range 37.44 to 37.52\n",
        "\n",
        "25% of PLong have value between range 37.52 to 37.559\n",
        "\n",
        "25% of PLong have value between range 37.559 to 37.58\n",
        "\n",
        "25% of PLong have value between range 37.58 to 37.66\n",
        "\n",
        "The mean PLong is around 37.559"
      ]
    },
    {
      "cell_type": "code",
      "metadata": {
        "colab": {
          "base_uri": "https://localhost:8080/",
          "height": 54
        },
        "id": "9tzgABU8GDaI",
        "outputId": "fd67ab1c-a7a2-4c0d-e7cc-3128381c6cd3"
      },
      "source": [
        "# Perform boxplot on PLatd column of the dataset\n",
        "df.boxplot(column = 'PLatd', figsize = (15,10))\n",
        "plt.show()"
      ],
      "execution_count": null,
      "outputs": [
        {
          "output_type": "display_data",
          "data": {
            "image/png": "[encoded data removed]",
            "text/plain": [
              "<Figure size 1080x720 with 1 Axes>"
            ]
          },
          "metadata": {
            "needs_background": "light"
          }
        }
      ]
    },
    {
      "cell_type": "markdown",
      "metadata": {
        "id": "VxhNoJh2R943"
      },
      "source": [
        "from above box plot graph:\n",
        "\n",
        "PLatd\n",
        "\n",
        "25% of PLatd have value between range 126.80 to 162.92\n",
        "\n",
        "25% of PLatd have value between range 126.92 to 126.99\n",
        "\n",
        "25% of PLatd have value between range 126.99 to 127.07\n",
        "\n",
        "25% of PLatd have value between range 127.07 to 127.18\n",
        "\n",
        "The mean PLatd is around 126.99"
      ]
    },
    {
      "cell_type": "code",
      "metadata": {
        "colab": {
          "base_uri": "https://localhost:8080/",
          "height": 54
        },
        "id": "6ynU7sD0GDYg",
        "outputId": "8012599a-5da4-4c34-870d-df967c6ce729"
      },
      "source": [
        "# Perform boxplot on Dlong column of the dataset\n",
        "df.boxplot(column = 'DLong', figsize = (15,10))\n",
        "plt.show()"
      ],
      "execution_count": null,
      "outputs": [
        {
          "output_type": "display_data",
          "data": {
            "image/png": "[encoded data removed]",
            "text/plain": [
              "<Figure size 1080x720 with 1 Axes>"
            ]
          },
          "metadata": {
            "needs_background": "light"
          }
        }
      ]
    },
    {
      "cell_type": "markdown",
      "metadata": {
        "id": "h7Of9rj5SRF8"
      },
      "source": [
        "from above box plot graph:\n",
        "\n",
        "DLong\n",
        "\n",
        "25% of DLong have value between range 37.43 to 37.52\n",
        "\n",
        "25% of DLong have value between range 37.52 to 37.545\n",
        "\n",
        "25% of DLong have value between range 37.545 to 37.575\n",
        "\n",
        "25% of DLong have value between range 37.575 to 37.665\n",
        "\n",
        "The mean DLong is around 37.545"
      ]
    },
    {
      "cell_type": "code",
      "metadata": {
        "colab": {
          "base_uri": "https://localhost:8080/",
          "height": 54
        },
        "id": "X6Hko96jGDUH",
        "outputId": "bea3610a-4271-4b10-bc30-a419cdf636e6"
      },
      "source": [
        "# Perform boxplot on DLatd column of the dataset\n",
        "df.boxplot(column = 'DLatd', figsize = (15,10))\n",
        "plt.show()"
      ],
      "execution_count": null,
      "outputs": [
        {
          "output_type": "display_data",
          "data": {
            "image/png": "[encoded data removed]",
            "text/plain": [
              "<Figure size 1080x720 with 1 Axes>"
            ]
          },
          "metadata": {
            "needs_background": "light"
          }
        }
      ]
    },
    {
      "cell_type": "markdown",
      "metadata": {
        "id": "WyWx_l3cSszU"
      },
      "source": [
        "from above box plot graph:\n",
        "\n",
        "DLatd\n",
        "\n",
        "25% of DLatd have value between range 126.80 to 126.92\n",
        "\n",
        "25% of DLatd have value between range 126.92 to 126.995\n",
        "\n",
        "25% of DLatd have value between range 126.995 to 127.055\n",
        "\n",
        "25% of DLatd have value between range 127.055 to 127.175\n",
        "\n",
        "The mean DLatd is around 126.995"
      ]
    },
    {
      "cell_type": "code",
      "metadata": {
        "colab": {
          "base_uri": "https://localhost:8080/",
          "height": 54
        },
        "id": "SPs7djHRGDSu",
        "outputId": "2a9483dd-5a8b-4a1f-cf00-6ea26cdd04c7"
      },
      "source": [
        "# Perform boxplot on Haversine column of the dataset\n",
        "df.boxplot(column = 'Haversine', figsize = (15,10))\n",
        "plt.show()"
      ],
      "execution_count": null,
      "outputs": [
        {
          "output_type": "display_data",
          "data": {
            "image/png": "[encoded data removed]",
            "text/plain": [
              "<Figure size 1080x720 with 1 Axes>"
            ]
          },
          "metadata": {
            "needs_background": "light"
          }
        }
      ]
    },
    {
      "cell_type": "markdown",
      "metadata": {
        "id": "H1VREzhuTN5a"
      },
      "source": [
        "from above box plot graph:\n",
        "\n",
        "haversine\n",
        "\n",
        "25% of haversine have value between range 0 to 0.25\n",
        "\n",
        "25% of haversine have value between range 0.25 to 1\n",
        "\n",
        "25% of haversine have value between range 1 to 2.5\n",
        "\n",
        "25% of haversine have value between range 2.5 to 5\n",
        "\n",
        "The mean haversine is around 1"
      ]
    },
    {
      "cell_type": "markdown",
      "metadata": {
        "id": "sFoDl88y9uLb"
      },
      "source": [
        "Observation: Mostly the haversine are on the lower side of the spectrum. Means small distance trips are the common trips"
      ]
    },
    {
      "cell_type": "code",
      "metadata": {
        "colab": {
          "base_uri": "https://localhost:8080/",
          "height": 54
        },
        "id": "gWQjWdPjGDQE",
        "outputId": "d0373b8c-c3c0-4290-eac0-305bf9e8f27d"
      },
      "source": [
        "# Perform boxplot on pmonth column of the dataset\n",
        "df.boxplot(column = 'Pmonth', figsize = (15,10))\n",
        "plt.show()"
      ],
      "execution_count": null,
      "outputs": [
        {
          "output_type": "display_data",
          "data": {
            "image/png": "[encoded data removed]",
            "text/plain": [
              "<Figure size 1080x720 with 1 Axes>"
            ]
          },
          "metadata": {
            "needs_background": "light"
          }
        }
      ]
    },
    {
      "cell_type": "markdown",
      "metadata": {
        "id": "4hWw8JDgTd5n"
      },
      "source": [
        "from above box plot graph:\n",
        "\n",
        "Pmonth\n",
        "\n",
        "25% of Pmonth have value between range 1 to 6\n",
        "\n",
        "25% of Pmonth have value between range 6 to 8\n",
        "\n",
        "25% of Pmonth have value between range 8 to 10\n",
        "\n",
        "25% of Pmonth have value between range 10 to 12\n",
        "\n",
        "The mean Pmonth is around 8"
      ]
    },
    {
      "cell_type": "markdown",
      "metadata": {
        "id": "tBO5rAXHNEzK"
      },
      "source": [
        "more pickups are in the month which are at the end of the year"
      ]
    },
    {
      "cell_type": "markdown",
      "metadata": {
        "id": "KR-blDxsTPuF"
      },
      "source": [
        "# POINT PLOT"
      ]
    },
    {
      "cell_type": "markdown",
      "metadata": {
        "id": "MCS3F9DoVG3O"
      },
      "source": [
        "\n",
        "1. A point plot uses scatter plot glyphs to visualize features like point estimates and confidence intervals.\n",
        "\n",
        "2. A point plot uses scatter plot points to represent the central tendency of numeric data.\n",
        "\n",
        "3. These plots make use of error bars to indicate any uncertainty around the numeric"
      ]
    },
    {
      "cell_type": "code",
      "metadata": {
        "colab": {
          "base_uri": "https://localhost:8080/",
          "height": 54
        },
        "id": "s2zAB4zGVQYJ",
        "outputId": "f1b966da-c99f-442d-fa23-031ffd39451a"
      },
      "source": [
        "# Perform point plot between Phour and Duration values \n",
        "plt.figure(figsize= (20,6))\n",
        "sns.pointplot(x = 'Phour', y = 'Duration', data = df, palette = 'rainbow')\n",
        "plt.show()"
      ],
      "execution_count": null,
      "outputs": [
        {
          "output_type": "display_data",
          "data": {
            "image/png": "[encoded data removed]",
            "text/plain": [
              "<Figure size 1440x432 with 1 Axes>"
            ]
          },
          "metadata": {
            "needs_background": "light"
          }
        }
      ]
    },
    {
      "cell_type": "markdown",
      "metadata": {
        "id": "dSq-KECE7I9f"
      },
      "source": [
        "duration is more during morning and evening\n",
        "\n",
        "after 8 duration is increasing and after 20 its again decreasing"
      ]
    },
    {
      "cell_type": "markdown",
      "metadata": {
        "id": "elv28Y8qkOVY"
      },
      "source": [
        "# boxen plot\n",
        "\n",
        "The boxen plot, otherwise known as a Letter-value plot, is a box plot meant for large data sets (n > 10,000).\n",
        "\n",
        "The Boxen plot is very similar to box plot, except for the fact that it plots different quartile values.\n",
        "\n",
        "By plotting different quartile values, we are able to understand the shape of the distribution particularly in the head end and tail end."
      ]
    },
    {
      "cell_type": "code",
      "metadata": {
        "id": "xz-KWDQHJd9T"
      },
      "source": [
        "# Perform boxen plot between distance and Duration \n",
        "\n"
      ],
      "execution_count": null,
      "outputs": []
    },
    {
      "cell_type": "markdown",
      "metadata": {
        "id": "HjxNi24ldMNU"
      },
      "source": [
        "### DENDOGRAM"
      ]
    },
    {
      "cell_type": "markdown",
      "metadata": {
        "id": "n2N7f536dkIn"
      },
      "source": [
        "The dendrogram is a visual representation of the compound correlation data. The individual compounds are arranged along the bottom of the dendrogram and referred to as leaf nodes. Compound clusters are formed by joining individual compounds or existing compound clusters with the join point referred to as a node."
      ]
    },
    {
      "cell_type": "code",
      "metadata": {
        "id": "8-ePPovI-SHo"
      },
      "source": [
        "# Plot a Dendrogram on the columns of the dataset\n",
        "\n"
      ],
      "execution_count": null,
      "outputs": []
    },
    {
      "cell_type": "markdown",
      "metadata": {
        "id": "C8ZswPkKdpJt"
      },
      "source": [
        "\n",
        "Observación: Todos los conectados están relacionados entre sí de forma compuesta, como latitudes a longitudes, distancia a duración y muchos más."
      ]
    },
    {
      "cell_type": "markdown",
      "metadata": {
        "id": "_RDgKAoaoviA"
      },
      "source": [
        "# violin plot\n",
        "\n",
        "1. A violin plot is a method of plotting numeric data.\n",
        "\n",
        "1. Violin plots are similar to box plots, except that they also show the probability density of the data at different values, usually smoothed by a kernel density estimator.\n",
        "\n",
        "3. It has:\n",
        "\n",
        "    1. Median (a white dot on the violin plot)\n",
        "    2. Interquartile range (the black bar in the center of violin)\n",
        "    3. The lower/upper adjacent values (the black lines stretched from the bar) — defined as first quartile — 1.5 IQR and third quartile + 1.5 IQR respectively."
      ]
    },
    {
      "cell_type": "code",
      "metadata": {
        "id": "qMuxSOwc-SGs"
      },
      "source": [
        "# Perform violin plot between distance and Duration \n"
      ],
      "execution_count": null,
      "outputs": []
    },
    {
      "cell_type": "markdown",
      "metadata": {
        "id": "dTwQcCLHIrwn"
      },
      "source": [
        "Distance and duration arecorrelated\n",
        "\n",
        "as duration increases distance also increases"
      ]
    },
    {
      "cell_type": "markdown",
      "metadata": {
        "id": "nCsc7LWw-Rs8"
      },
      "source": [
        "# Modelo"
      ]
    },
    {
      "cell_type": "code",
      "metadata": {
        "id": "wMLAq6vBCruz"
      },
      "source": [
        "#Seleccionamos una submuestra , dado que son 9 millones de filas"
      ],
      "execution_count": null,
      "outputs": []
    },
    {
      "cell_type": "code",
      "metadata": {
        "id": "rJeUtW47Cg_f"
      },
      "source": [
        "import random"
      ],
      "execution_count": null,
      "outputs": []
    },
    {
      "cell_type": "code",
      "metadata": {
        "colab": {
          "base_uri": "https://localhost:8080/"
        },
        "id": "YRYuOTHIE6X8",
        "outputId": "6aa09208-cf78-4910-92f0-c4c948f4b2ca"
      },
      "source": [
        "df = df.sample(n=500, random_state=3)\n",
        "df.shape"
      ],
      "execution_count": null,
      "outputs": [
        {
          "output_type": "execute_result",
          "data": {
            "text/plain": [
              "(500, 25)"
            ]
          },
          "metadata": {},
          "execution_count": 48
        }
      ]
    },
    {
      "cell_type": "code",
      "metadata": {
        "id": "tZiUoeZ_F921"
      },
      "source": [
        "df = df.reset_index()"
      ],
      "execution_count": null,
      "outputs": []
    },
    {
      "cell_type": "code",
      "metadata": {
        "colab": {
          "base_uri": "https://localhost:8080/",
          "height": 226
        },
        "id": "s9RxZjKiDxMA",
        "outputId": "14dc6f17-8927-45ea-e8e9-51850ee7b3ad"
      },
      "source": [
        "df.head()"
      ],
      "execution_count": null,
      "outputs": [
        {
          "output_type": "execute_result",
          "data": {
            "text/html": [
              "<div>\n",
              "<style scoped>\n",
              "    .dataframe tbody tr th:only-of-type {\n",
              "        vertical-align: middle;\n",
              "    }\n",
              "\n",
              "    .dataframe tbody tr th {\n",
              "        vertical-align: top;\n",
              "    }\n",
              "\n",
              "    .dataframe thead th {\n",
              "        text-align: right;\n",
              "    }\n",
              "</style>\n",
              "<table border=\"1\" class=\"dataframe\">\n",
              "  <thead>\n",
              "    <tr style=\"text-align: right;\">\n",
              "      <th></th>\n",
              "      <th>Duration</th>\n",
              "      <th>Distance</th>\n",
              "      <th>PLong</th>\n",
              "      <th>PLatd</th>\n",
              "      <th>DLong</th>\n",
              "      <th>DLatd</th>\n",
              "      <th>Haversine</th>\n",
              "      <th>Pmonth</th>\n",
              "      <th>Pday</th>\n",
              "      <th>Phour</th>\n",
              "      <th>Pmin</th>\n",
              "      <th>PDweek</th>\n",
              "      <th>Dmonth</th>\n",
              "      <th>Dday</th>\n",
              "      <th>Dhour</th>\n",
              "      <th>Dmin</th>\n",
              "      <th>DDweek</th>\n",
              "      <th>Temp</th>\n",
              "      <th>Precip</th>\n",
              "      <th>Wind</th>\n",
              "      <th>Humid</th>\n",
              "      <th>Solar</th>\n",
              "      <th>Snow</th>\n",
              "      <th>GroundTemp</th>\n",
              "      <th>Dust</th>\n",
              "    </tr>\n",
              "  </thead>\n",
              "  <tbody>\n",
              "    <tr>\n",
              "      <th>2779456</th>\n",
              "      <td>36</td>\n",
              "      <td>5080</td>\n",
              "      <td>37.488243</td>\n",
              "      <td>127.027016</td>\n",
              "      <td>37.506199</td>\n",
              "      <td>127.003944</td>\n",
              "      <td>2.851213</td>\n",
              "      <td>6</td>\n",
              "      <td>12</td>\n",
              "      <td>22</td>\n",
              "      <td>42</td>\n",
              "      <td>1</td>\n",
              "      <td>6</td>\n",
              "      <td>12</td>\n",
              "      <td>23</td>\n",
              "      <td>19</td>\n",
              "      <td>1</td>\n",
              "      <td>20.0</td>\n",
              "      <td>0.0</td>\n",
              "      <td>1.0</td>\n",
              "      <td>70.0</td>\n",
              "      <td>0.00</td>\n",
              "      <td>0.0</td>\n",
              "      <td>18.6</td>\n",
              "      <td>10.0</td>\n",
              "    </tr>\n",
              "    <tr>\n",
              "      <th>5592934</th>\n",
              "      <td>10</td>\n",
              "      <td>1110</td>\n",
              "      <td>37.585629</td>\n",
              "      <td>127.000679</td>\n",
              "      <td>37.590233</td>\n",
              "      <td>126.998520</td>\n",
              "      <td>0.546145</td>\n",
              "      <td>9</td>\n",
              "      <td>4</td>\n",
              "      <td>19</td>\n",
              "      <td>47</td>\n",
              "      <td>1</td>\n",
              "      <td>9</td>\n",
              "      <td>4</td>\n",
              "      <td>19</td>\n",
              "      <td>57</td>\n",
              "      <td>1</td>\n",
              "      <td>25.1</td>\n",
              "      <td>0.0</td>\n",
              "      <td>3.1</td>\n",
              "      <td>49.0</td>\n",
              "      <td>0.18</td>\n",
              "      <td>0.0</td>\n",
              "      <td>22.9</td>\n",
              "      <td>16.0</td>\n",
              "    </tr>\n",
              "    <tr>\n",
              "      <th>7228637</th>\n",
              "      <td>33</td>\n",
              "      <td>6100</td>\n",
              "      <td>37.602627</td>\n",
              "      <td>127.041634</td>\n",
              "      <td>37.602627</td>\n",
              "      <td>127.041634</td>\n",
              "      <td>0.000000</td>\n",
              "      <td>10</td>\n",
              "      <td>9</td>\n",
              "      <td>16</td>\n",
              "      <td>25</td>\n",
              "      <td>1</td>\n",
              "      <td>10</td>\n",
              "      <td>9</td>\n",
              "      <td>16</td>\n",
              "      <td>30</td>\n",
              "      <td>1</td>\n",
              "      <td>19.0</td>\n",
              "      <td>0.0</td>\n",
              "      <td>1.4</td>\n",
              "      <td>39.0</td>\n",
              "      <td>0.89</td>\n",
              "      <td>0.0</td>\n",
              "      <td>19.6</td>\n",
              "      <td>28.0</td>\n",
              "    </tr>\n",
              "    <tr>\n",
              "      <th>3314874</th>\n",
              "      <td>13</td>\n",
              "      <td>1330</td>\n",
              "      <td>37.558197</td>\n",
              "      <td>126.844261</td>\n",
              "      <td>37.552914</td>\n",
              "      <td>126.836571</td>\n",
              "      <td>0.897004</td>\n",
              "      <td>6</td>\n",
              "      <td>27</td>\n",
              "      <td>18</td>\n",
              "      <td>9</td>\n",
              "      <td>2</td>\n",
              "      <td>6</td>\n",
              "      <td>27</td>\n",
              "      <td>18</td>\n",
              "      <td>23</td>\n",
              "      <td>2</td>\n",
              "      <td>25.0</td>\n",
              "      <td>0.0</td>\n",
              "      <td>1.5</td>\n",
              "      <td>69.0</td>\n",
              "      <td>0.52</td>\n",
              "      <td>0.0</td>\n",
              "      <td>25.9</td>\n",
              "      <td>35.0</td>\n",
              "    </tr>\n",
              "    <tr>\n",
              "      <th>784074</th>\n",
              "      <td>13</td>\n",
              "      <td>2660</td>\n",
              "      <td>37.548561</td>\n",
              "      <td>127.045006</td>\n",
              "      <td>37.567970</td>\n",
              "      <td>127.046890</td>\n",
              "      <td>2.164565</td>\n",
              "      <td>4</td>\n",
              "      <td>2</td>\n",
              "      <td>8</td>\n",
              "      <td>20</td>\n",
              "      <td>0</td>\n",
              "      <td>4</td>\n",
              "      <td>2</td>\n",
              "      <td>8</td>\n",
              "      <td>34</td>\n",
              "      <td>0</td>\n",
              "      <td>15.7</td>\n",
              "      <td>0.0</td>\n",
              "      <td>1.1</td>\n",
              "      <td>75.0</td>\n",
              "      <td>0.11</td>\n",
              "      <td>0.0</td>\n",
              "      <td>13.9</td>\n",
              "      <td>65.0</td>\n",
              "    </tr>\n",
              "  </tbody>\n",
              "</table>\n",
              "</div>"
            ],
            "text/plain": [
              "         Duration  Distance      PLong  ...  Snow  GroundTemp  Dust\n",
              "2779456        36      5080  37.488243  ...   0.0        18.6  10.0\n",
              "5592934        10      1110  37.585629  ...   0.0        22.9  16.0\n",
              "7228637        33      6100  37.602627  ...   0.0        19.6  28.0\n",
              "3314874        13      1330  37.558197  ...   0.0        25.9  35.0\n",
              "784074         13      2660  37.548561  ...   0.0        13.9  65.0\n",
              "\n",
              "[5 rows x 25 columns]"
            ]
          },
          "metadata": {},
          "execution_count": 49
        }
      ]
    },
    {
      "cell_type": "code",
      "metadata": {
        "id": "gz8sG9gNZjie",
        "colab": {
          "base_uri": "https://localhost:8080/"
        },
        "outputId": "94b5cecb-0bbd-4d4e-ffb1-d5cb2c483fca"
      },
      "source": [
        "# Splitting data into Labels and target\n",
        "df.shape  "
      ],
      "execution_count": null,
      "outputs": [
        {
          "output_type": "execute_result",
          "data": {
            "text/plain": [
              "(500, 25)"
            ]
          },
          "metadata": {},
          "execution_count": 50
        }
      ]
    },
    {
      "cell_type": "code",
      "metadata": {
        "id": "BUIGS6-pbAqQ"
      },
      "source": [
        "# Processing the whole dataframe\n",
        "X = df.drop(columns = ['Duration'])\n",
        "\n",
        "y = df[['Duration']]"
      ],
      "execution_count": null,
      "outputs": []
    },
    {
      "cell_type": "code",
      "metadata": {
        "id": "P_m-sp-pPcjE"
      },
      "source": [
        "from sklearn.preprocessing import StandardScaler"
      ],
      "execution_count": null,
      "outputs": []
    },
    {
      "cell_type": "code",
      "metadata": {
        "colab": {
          "base_uri": "https://localhost:8080/"
        },
        "id": "FercrjewPg8z",
        "outputId": "de2e85f9-79c1-4df7-f622-5ec9c6ca0449"
      },
      "source": [
        "y.shape"
      ],
      "execution_count": null,
      "outputs": [
        {
          "output_type": "execute_result",
          "data": {
            "text/plain": [
              "(500, 1)"
            ]
          },
          "metadata": {},
          "execution_count": 53
        }
      ]
    },
    {
      "cell_type": "code",
      "metadata": {
        "id": "DGpO4E38Q3R0"
      },
      "source": [
        "# Splitting the dataset into train and test set\n",
        "X_train, X_test, y_train, y_test = train_test_split(X, y, random_state=3)"
      ],
      "execution_count": null,
      "outputs": []
    },
    {
      "cell_type": "code",
      "metadata": {
        "colab": {
          "base_uri": "https://localhost:8080/"
        },
        "id": "5XLPYAnyRAXO",
        "outputId": "a046acbb-aec2-4bd8-d034-8e82d93c8568"
      },
      "source": [
        "# Check the shape of all the splitted dataset\n",
        "X_train.shape, X_test.shape,y_train.shape,y_test.shape"
      ],
      "execution_count": null,
      "outputs": [
        {
          "output_type": "execute_result",
          "data": {
            "text/plain": [
              "((375, 24), (125, 24), (375, 1), (125, 1))"
            ]
          },
          "metadata": {},
          "execution_count": 55
        }
      ]
    },
    {
      "cell_type": "code",
      "metadata": {
        "id": "RrdTGZ9SR5-P"
      },
      "source": [
        "scalerX = StandardScaler().fit(X_train)\n",
        "scalery = StandardScaler().fit(y_train)"
      ],
      "execution_count": null,
      "outputs": []
    },
    {
      "cell_type": "code",
      "metadata": {
        "id": "LlSIwx1QR6Kq"
      },
      "source": [
        "\n",
        "X_train = scalerX.transform(X_train)\n",
        "y_train = scalery.transform(y_train)\n",
        "X_test = scalerX.transform(X_test)\n",
        "y_test = scalery.transform(y_test)"
      ],
      "execution_count": null,
      "outputs": []
    },
    {
      "cell_type": "code",
      "metadata": {
        "id": "OQdFUIVVRMpn"
      },
      "source": [
        "# importing necessary libraries for geting metrics of models\n",
        "from sklearn.model_selection import train_test_split\n",
        "\n",
        "from sklearn.metrics import mean_squared_error, mean_absolute_error, r2_score\n",
        "from sklearn.ensemble import RandomForestRegressor\n",
        "from sklearn.tree import DecisionTreeClassifier\n",
        "from sklearn.neighbors import KNeighborsClassifier\n",
        "import xgboost as xgb\n",
        "from xgboost import XGBRegressor, plot_importance\n",
        "from lightgbm import LGBMRegressor, plot_importance\n",
        "import math\n",
        "import sklearn.metrics as metrics\n",
        "from sklearn.metrics import median_absolute_error\n",
        "from sklearn.metrics import mean_squared_error\n",
        "# Function for calculating RMSE \n",
        "\n",
        "def rmse(x,y):\n",
        "  return math.sqrt(((x-y)**2).mean())\n",
        "\n",
        "# Funcion para calcular todas las metricas relevantes\n",
        "\n",
        " \n",
        "def print_score(m):\n",
        "  res = [rmse(m.predict(X_train),y_train),rmse(m.predict(X_test), y_test),\n",
        "         m.score(X_train, y_train), m.score(X_test, y_test),\n",
        "         mean_squared_error(m.predict(X_train), y_train), mean_squared_error(m.predict(X_test), y_test),\n",
        "         metrics.median_absolute_error(m.predict(X_train), y_train), metrics.median_absolute_error(m.predict(X_test), y_test),] \n",
        "\n",
        "\n",
        "  print('RMSE-train: ' + str(res[0])+ '\\nRMSE-test: ' + str(res[1])+ \n",
        "      '\\nScore-Train: ' + str(res[2]) + '\\nScore-Test: ' + str(res[3])+\n",
        "      '\\nMSE-Train: ' + str(res[4]) + '\\nMSE-Test: ' + str(res[5])+\n",
        "      '\\nMAE-Train: ' + str(res[6]) + '\\nMAE-Test: '+ str(res[7]))\n",
        "  "
      ],
      "execution_count": null,
      "outputs": []
    },
    {
      "cell_type": "markdown",
      "metadata": {
        "id": "l8BjCLgZinW5"
      },
      "source": [
        "\n",
        "## Linear Regression"
      ]
    },
    {
      "cell_type": "markdown",
      "metadata": {
        "id": "rcLd8D2ePYrE"
      },
      "source": [
        "La regresión lineal intenta modelar la relación entre dos variables ajustando una ecuación lineal a los datos observados. Una variable se considera una variable explicativa y la otra una variable dependiente."
      ]
    },
    {
      "cell_type": "code",
      "metadata": {
        "colab": {
          "base_uri": "https://localhost:8080/"
        },
        "id": "SrQcPuCXGDqi",
        "outputId": "0e435981-bc4d-4f28-dc8a-888b07c70b9c"
      },
      "source": [
        "%%time\n",
        "# Fit a Linear Regression model to the train dataset\n",
        "# Import LinearRegressor\n",
        "from sklearn.linear_model import LinearRegression # Instantiate the model\n",
        "lModel = LinearRegression() # Fit the model to the data\n",
        "lModel.fit(X_train,y_train)\n"
      ],
      "execution_count": null,
      "outputs": [
        {
          "output_type": "stream",
          "name": "stdout",
          "text": [
            "CPU times: user 8.32 ms, sys: 12 ms, total: 20.3 ms\n",
            "Wall time: 21.4 ms\n"
          ]
        }
      ]
    },
    {
      "cell_type": "code",
      "metadata": {
        "colab": {
          "base_uri": "https://localhost:8080/"
        },
        "id": "nVUvreQXS5DA",
        "outputId": "869658ca-d458-4864-ba49-f301527b73ef"
      },
      "source": [
        "print_score(lModel)"
      ],
      "execution_count": null,
      "outputs": [
        {
          "output_type": "stream",
          "name": "stdout",
          "text": [
            "RMSE-train: 0.19780156332432627\n",
            "RMSE-test: 0.09038185875792086\n",
            "Score-Train: 0.9608745415464526\n",
            "Score-Test: 0.9943172031257631\n",
            "MSE-Train: 0.03912545845354746\n",
            "MSE-Test: 0.008168880392536756\n",
            "MAE-Train: 0.038363321606006306\n",
            "MAE-Test: 0.03901728780968039\n"
          ]
        }
      ]
    },
    {
      "cell_type": "markdown",
      "metadata": {
        "id": "FkubZPWL2A-o"
      },
      "source": [
        "## Random Forest Regressor"
      ]
    },
    {
      "cell_type": "markdown",
      "metadata": {
        "id": "njdsYwgoQSk8"
      },
      "source": [
        "El bosque aleatorio es un algoritmo de aprendizaje automático flexible y fácil de usar que produce, incluso sin ajuste de hiperparámetros, un gran resultado la mayor parte del tiempo. También es uno de los algoritmos más utilizados, por su sencillez y diversidad."
      ]
    },
    {
      "cell_type": "code",
      "metadata": {
        "colab": {
          "base_uri": "https://localhost:8080/"
        },
        "id": "qTFQ85T32HGL",
        "outputId": "8ed207a9-405f-4edd-d4f3-fa613e384653"
      },
      "source": [
        "\n",
        "# Fit a Random Forest Regressor model to the train dataset\n",
        "# Import RandomForrestRegressor\n",
        "from sklearn.ensemble import RandomForestRegressor\n",
        "# Instantiate the model\n",
        "rf = RandomForestRegressor() # Fit the model to the data\n",
        "rf.fit(X_train,y_train)\n",
        "\n"
      ],
      "execution_count": null,
      "outputs": [
        {
          "output_type": "stream",
          "name": "stderr",
          "text": [
            "/usr/local/lib/python3.7/dist-packages/ipykernel_launcher.py:7: DataConversionWarning: A column-vector y was passed when a 1d array was expected. Please change the shape of y to (n_samples,), for example using ravel().\n",
            "  import sys\n"
          ]
        },
        {
          "output_type": "execute_result",
          "data": {
            "text/plain": [
              "RandomForestRegressor(bootstrap=True, ccp_alpha=0.0, criterion='mse',\n",
              "                      max_depth=None, max_features='auto', max_leaf_nodes=None,\n",
              "                      max_samples=None, min_impurity_decrease=0.0,\n",
              "                      min_impurity_split=None, min_samples_leaf=1,\n",
              "                      min_samples_split=2, min_weight_fraction_leaf=0.0,\n",
              "                      n_estimators=100, n_jobs=None, oob_score=False,\n",
              "                      random_state=None, verbose=0, warm_start=False)"
            ]
          },
          "metadata": {},
          "execution_count": 61
        }
      ]
    },
    {
      "cell_type": "code",
      "metadata": {
        "colab": {
          "base_uri": "https://localhost:8080/"
        },
        "id": "hLgMEK62UMYF",
        "outputId": "83eb5493-ff47-4d21-fb21-fa39ea1b735f"
      },
      "source": [
        "# print score of the model\n",
        "print_score(rf)"
      ],
      "execution_count": null,
      "outputs": [
        {
          "output_type": "stream",
          "name": "stdout",
          "text": [
            "RMSE-train: 1.3664174000331382\n",
            "RMSE-test: 1.4896706100918709\n",
            "Score-Train: 0.9672336725448872\n",
            "Score-Test: 0.5525154659759639\n",
            "MSE-Train: 0.03276632745511273\n",
            "MSE-Test: 0.6432479845486686\n",
            "MAE-Train: 0.060187023048965616\n",
            "MAE-Test: 0.1990470833690801\n"
          ]
        }
      ]
    },
    {
      "cell_type": "markdown",
      "metadata": {
        "id": "08wPRquGizaE"
      },
      "source": [
        "## KNeighbors Regressor"
      ]
    },
    {
      "cell_type": "markdown",
      "metadata": {
        "id": "Rq8JtxXHSMCt"
      },
      "source": [
        "La regresión KNN es un método no paramétrico que, de manera intuitiva, aproxima la asociación entre las variables independientes y el resultado continuo promediando las observaciones en el mismo vecindario. El analista debe establecer el tamaño del vecindario o puede elegirse mediante validación cruzada para seleccionar el tamaño que minimice el error cuadrático medio."
      ]
    },
    {
      "cell_type": "code",
      "metadata": {
        "colab": {
          "base_uri": "https://localhost:8080/"
        },
        "id": "zc3DsWlKa_LK",
        "outputId": "99291c29-c7a2-4b58-9342-da82244f3957"
      },
      "source": [
        "# Fit a K-Neighbour Regressor model to the train dataset # Import KNeighbourRegressor\n",
        "from sklearn.neighbors import KNeighborsRegressor # Instantiate the model\n",
        "knnr = KNeighborsRegressor()\n",
        "# Fit the model to the data\n",
        "knnr.fit(X_train, y_train)"
      ],
      "execution_count": null,
      "outputs": [
        {
          "output_type": "execute_result",
          "data": {
            "text/plain": [
              "KNeighborsRegressor(algorithm='auto', leaf_size=30, metric='minkowski',\n",
              "                    metric_params=None, n_jobs=None, n_neighbors=5, p=2,\n",
              "                    weights='uniform')"
            ]
          },
          "metadata": {},
          "execution_count": 63
        }
      ]
    },
    {
      "cell_type": "code",
      "metadata": {
        "colab": {
          "base_uri": "https://localhost:8080/"
        },
        "id": "unMG2THNVQSf",
        "outputId": "2d1d58be-afa6-46f2-879c-18522ec33c3b"
      },
      "source": [
        "# print score of the model\n",
        "print_score(knnr)"
      ],
      "execution_count": null,
      "outputs": [
        {
          "output_type": "stream",
          "name": "stdout",
          "text": [
            "RMSE-train: 0.7101069349185622\n",
            "RMSE-test: 1.1369009738429416\n",
            "Score-Train: 0.49574814098056463\n",
            "Score-Test: 0.10082365615252131\n",
            "MSE-Train: 0.5042518590194353\n",
            "MSE-Test: 1.292543824325029\n",
            "MAE-Train: 0.3095332613946814\n",
            "MAE-Test: 0.3525239921439427\n"
          ]
        }
      ]
    },
    {
      "cell_type": "markdown",
      "metadata": {
        "id": "o4Bnh-fZ2SMz"
      },
      "source": [
        "## Gradient Boosting Regressor"
      ]
    },
    {
      "cell_type": "markdown",
      "metadata": {
        "id": "rjkexk-sTMMG"
      },
      "source": [
        "El algoritmo de aumento de gradiente se usa generalmente cuando queremos disminuir el error de sesgo. construye un modelo aditivo de manera progresiva por etapas; permite la optimización de funciones de pérdida diferenciables arbitrarias. En cada etapa se ajusta un árbol de regresión sobre el gradiente negativo de la función de pérdida dada."
      ]
    },
    {
      "cell_type": "code",
      "metadata": {
        "colab": {
          "base_uri": "https://localhost:8080/"
        },
        "id": "PbaZmSUFaZKC",
        "outputId": "384bfdf6-2f1b-4337-a46b-b9836b833919"
      },
      "source": [
        "from sklearn.ensemble import GradientBoostingRegressor # Instantiate the model\n",
        "GBR = GradientBoostingRegressor() # Fit the model to the data\n",
        "GBR.fit(X_train, y_train)"
      ],
      "execution_count": null,
      "outputs": [
        {
          "output_type": "stream",
          "name": "stderr",
          "text": [
            "/usr/local/lib/python3.7/dist-packages/sklearn/ensemble/_gb.py:1454: DataConversionWarning: A column-vector y was passed when a 1d array was expected. Please change the shape of y to (n_samples, ), for example using ravel().\n",
            "  y = column_or_1d(y, warn=True)\n"
          ]
        },
        {
          "output_type": "execute_result",
          "data": {
            "text/plain": [
              "GradientBoostingRegressor(alpha=0.9, ccp_alpha=0.0, criterion='friedman_mse',\n",
              "                          init=None, learning_rate=0.1, loss='ls', max_depth=3,\n",
              "                          max_features=None, max_leaf_nodes=None,\n",
              "                          min_impurity_decrease=0.0, min_impurity_split=None,\n",
              "                          min_samples_leaf=1, min_samples_split=2,\n",
              "                          min_weight_fraction_leaf=0.0, n_estimators=100,\n",
              "                          n_iter_no_change=None, presort='deprecated',\n",
              "                          random_state=None, subsample=1.0, tol=0.0001,\n",
              "                          validation_fraction=0.1, verbose=0, warm_start=False)"
            ]
          },
          "metadata": {},
          "execution_count": 65
        }
      ]
    },
    {
      "cell_type": "code",
      "metadata": {
        "colab": {
          "base_uri": "https://localhost:8080/"
        },
        "id": "6-mOu4TlafCm",
        "outputId": "10e1f303-66d6-4471-ca6c-c28daef20e1c"
      },
      "source": [
        "# print score of the model\n",
        "print_score(GBR)"
      ],
      "execution_count": null,
      "outputs": [
        {
          "output_type": "stream",
          "name": "stdout",
          "text": [
            "RMSE-train: 1.3643409462761262\n",
            "RMSE-test: 1.520287775780827\n",
            "Score-Train: 0.9625286324309696\n",
            "Score-Test: 0.5308411250592358\n",
            "MSE-Train: 0.03747136756903034\n",
            "MSE-Test: 0.6744043152171988\n",
            "MAE-Train: 0.08359581075196898\n",
            "MAE-Test: 0.18894335110879168\n"
          ]
        }
      ]
    },
    {
      "cell_type": "markdown",
      "metadata": {
        "id": "S-2EADna2vZ6"
      },
      "source": [
        "## Decision Tree Regressor"
      ]
    },
    {
      "cell_type": "markdown",
      "metadata": {
        "id": "NYZS9JnGTfZb"
      },
      "source": [
        "El árbol de decisiones crea modelos de regresión o clasificación en forma de estructura de árbol. Divide un conjunto de datos en subconjuntos cada vez más pequeños mientras que, al mismo tiempo, se desarrolla de forma incremental un árbol de decisiones asociado. El resultado final es un árbol con nodos de decisión y nodos de hoja."
      ]
    },
    {
      "cell_type": "code",
      "metadata": {
        "colab": {
          "base_uri": "https://localhost:8080/"
        },
        "id": "toBZkudBakXw",
        "outputId": "a252d31f-1e6d-4d15-de0f-6172d465bbdd"
      },
      "source": [
        "from sklearn.tree import DecisionTreeRegressor # Instantiate the model\n",
        "DTR = DecisionTreeRegressor() # Fit the model to the data\n",
        "DTR.fit(X_train, y_train)\n"
      ],
      "execution_count": null,
      "outputs": [
        {
          "output_type": "execute_result",
          "data": {
            "text/plain": [
              "DecisionTreeRegressor(ccp_alpha=0.0, criterion='mse', max_depth=None,\n",
              "                      max_features=None, max_leaf_nodes=None,\n",
              "                      min_impurity_decrease=0.0, min_impurity_split=None,\n",
              "                      min_samples_leaf=1, min_samples_split=2,\n",
              "                      min_weight_fraction_leaf=0.0, presort='deprecated',\n",
              "                      random_state=None, splitter='best')"
            ]
          },
          "metadata": {},
          "execution_count": 67
        }
      ]
    },
    {
      "cell_type": "code",
      "metadata": {
        "colab": {
          "base_uri": "https://localhost:8080/"
        },
        "id": "K7yFfyHIamrv",
        "outputId": "29fc06e6-1275-48cf-be9a-ff86c0039758"
      },
      "source": [
        "# print score of the model\n",
        "print_score(GBR)"
      ],
      "execution_count": null,
      "outputs": [
        {
          "output_type": "stream",
          "name": "stdout",
          "text": [
            "RMSE-train: 1.3643409462761262\n",
            "RMSE-test: 1.520287775780827\n",
            "Score-Train: 0.9625286324309696\n",
            "Score-Test: 0.5308411250592358\n",
            "MSE-Train: 0.03747136756903034\n",
            "MSE-Test: 0.6744043152171988\n",
            "MAE-Train: 0.08359581075196898\n",
            "MAE-Test: 0.18894335110879168\n"
          ]
        }
      ]
    },
    {
      "cell_type": "markdown",
      "metadata": {
        "id": "-gHvnesT24i9"
      },
      "source": [
        "## AdaBoostRegressor"
      ]
    },
    {
      "cell_type": "markdown",
      "metadata": {
        "id": "wfec03RyTtI-"
      },
      "source": [
        "Un regresor AdaBoost es un metaestimador que comienza ajustando un regresor en el conjunto de datos original y luego ajusta copias adicionales del regresor en el mismo conjunto de datos, pero donde los pesos de las instancias se ajustan según el error de la predicción actual."
      ]
    },
    {
      "cell_type": "code",
      "metadata": {
        "colab": {
          "base_uri": "https://localhost:8080/"
        },
        "id": "VPn1VL5Navwa",
        "outputId": "5653f807-86d3-4a5f-aed3-b29aebe5b4fd"
      },
      "source": [
        "from sklearn.ensemble import AdaBoostRegressor # Instantiate the model\n",
        "AdaBoost = AdaBoostRegressor() # Fit the model to the data\n",
        "AdaBoost.fit(X_train, y_train)\n"
      ],
      "execution_count": null,
      "outputs": [
        {
          "output_type": "stream",
          "name": "stderr",
          "text": [
            "/usr/local/lib/python3.7/dist-packages/sklearn/utils/validation.py:760: DataConversionWarning: A column-vector y was passed when a 1d array was expected. Please change the shape of y to (n_samples, ), for example using ravel().\n",
            "  y = column_or_1d(y, warn=True)\n"
          ]
        },
        {
          "output_type": "execute_result",
          "data": {
            "text/plain": [
              "AdaBoostRegressor(base_estimator=None, learning_rate=1.0, loss='linear',\n",
              "                  n_estimators=50, random_state=None)"
            ]
          },
          "metadata": {},
          "execution_count": 69
        }
      ]
    },
    {
      "cell_type": "code",
      "metadata": {
        "colab": {
          "base_uri": "https://localhost:8080/"
        },
        "id": "79WIZJM6a0m2",
        "outputId": "d8998ad9-0109-4865-c76b-a88570498be7"
      },
      "source": [
        "# print score of the model\n",
        "print_score(AdaBoost)"
      ],
      "execution_count": null,
      "outputs": [
        {
          "output_type": "stream",
          "name": "stdout",
          "text": [
            "RMSE-train: 1.2676032751640358\n",
            "RMSE-test: 1.3788810086701253\n",
            "Score-Train: 0.7447522365442235\n",
            "Score-Test: 0.5324183367806166\n",
            "MSE-Train: 0.25524776345577643\n",
            "MSE-Test: 0.6721371122552072\n",
            "MAE-Train: 0.44372575666201847\n",
            "MAE-Test: 0.5005349365806854\n"
          ]
        }
      ]
    },
    {
      "cell_type": "markdown",
      "metadata": {
        "id": "o8An6vt8ZLsG"
      },
      "source": [
        ""
      ]
    },
    {
      "cell_type": "markdown",
      "metadata": {
        "id": "zJLJxSlB2_rl"
      },
      "source": [
        "## XGB Regressor"
      ]
    },
    {
      "cell_type": "markdown",
      "metadata": {
        "id": "A8-R0acqTzj4"
      },
      "source": [
        "XGBoost es un método de aprendizaje conjunto. A veces, puede que no sea suficiente confiar en los resultados de un solo modelo de aprendizaje automático. El aprendizaje conjunto ofrece una solución sistemática para combinar el poder predictivo de múltiples alumnos. El resultado es un modelo único que da la salida agregada de varios modelos."
      ]
    },
    {
      "cell_type": "code",
      "metadata": {
        "colab": {
          "base_uri": "https://localhost:8080/"
        },
        "id": "zZNNL2Qxa4dc",
        "outputId": "bc5e5b27-1ec0-4b9e-fdf3-0644988b07ce"
      },
      "source": [
        "from xgboost import XGBRegressor # Instantiate the model\n",
        "xgbr = XGBRegressor()\n",
        "# Fit the model to the data\n",
        "xgbr.fit(X_train,y_train)"
      ],
      "execution_count": null,
      "outputs": [
        {
          "output_type": "stream",
          "name": "stdout",
          "text": [
            "[19:52:31] WARNING: /workspace/src/objective/regression_obj.cu:152: reg:linear is now deprecated in favor of reg:squarederror.\n"
          ]
        },
        {
          "output_type": "execute_result",
          "data": {
            "text/plain": [
              "XGBRegressor(base_score=0.5, booster='gbtree', colsample_bylevel=1,\n",
              "             colsample_bynode=1, colsample_bytree=1, gamma=0,\n",
              "             importance_type='gain', learning_rate=0.1, max_delta_step=0,\n",
              "             max_depth=3, min_child_weight=1, missing=None, n_estimators=100,\n",
              "             n_jobs=1, nthread=None, objective='reg:linear', random_state=0,\n",
              "             reg_alpha=0, reg_lambda=1, scale_pos_weight=1, seed=None,\n",
              "             silent=None, subsample=1, verbosity=1)"
            ]
          },
          "metadata": {},
          "execution_count": 71
        }
      ]
    },
    {
      "cell_type": "code",
      "metadata": {
        "colab": {
          "base_uri": "https://localhost:8080/"
        },
        "id": "Awqrqluza89y",
        "outputId": "a8002473-29bc-4af0-cbee-0adec75b40e2"
      },
      "source": [
        "# print score of the model\n",
        "print_score(xgbr)"
      ],
      "execution_count": null,
      "outputs": [
        {
          "output_type": "stream",
          "name": "stdout",
          "text": [
            "RMSE-train: 1.362696759876335\n",
            "RMSE-test: 1.5041756380772422\n",
            "Score-Train: 0.9559799652353096\n",
            "Score-Test: 0.5431541350209825\n",
            "MSE-Train: 0.04402003476469039\n",
            "MSE-Test: 0.6567046669848963\n",
            "MAE-Train: 0.08560044345271219\n",
            "MAE-Test: 0.19938782514833442\n"
          ]
        }
      ]
    },
    {
      "cell_type": "markdown",
      "metadata": {
        "id": "ShMXfHCM2mzW"
      },
      "source": [
        "## Light Gradient Boosted Machine"
      ]
    },
    {
      "cell_type": "code",
      "metadata": {
        "colab": {
          "base_uri": "https://localhost:8080/"
        },
        "id": "eGHqN04EbCeX",
        "outputId": "5ab08728-df25-414d-cd7a-9c8073e2302b"
      },
      "source": [
        "%%time\n",
        "# import LGBMregressor\n",
        "import lightgbm as lgbm # Instantiate the model\n",
        "lg = lgbm.LGBMRegressor()\n",
        "# Fit the model to the data\n",
        "lg.fit(X_train, y_train)"
      ],
      "execution_count": null,
      "outputs": [
        {
          "output_type": "stream",
          "name": "stdout",
          "text": [
            "CPU times: user 68.9 ms, sys: 5.9 ms, total: 74.8 ms\n",
            "Wall time: 79.8 ms\n"
          ]
        },
        {
          "output_type": "stream",
          "name": "stderr",
          "text": [
            "/usr/local/lib/python3.7/dist-packages/sklearn/utils/validation.py:760: DataConversionWarning: A column-vector y was passed when a 1d array was expected. Please change the shape of y to (n_samples, ), for example using ravel().\n",
            "  y = column_or_1d(y, warn=True)\n"
          ]
        }
      ]
    },
    {
      "cell_type": "code",
      "metadata": {
        "colab": {
          "base_uri": "https://localhost:8080/"
        },
        "id": "Ndj9GOTrbIrs",
        "outputId": "c436d44d-a61c-45b6-ce16-71484333a9d2"
      },
      "source": [
        "# print score of the model\n",
        "print_score(lg)"
      ],
      "execution_count": null,
      "outputs": [
        {
          "output_type": "stream",
          "name": "stdout",
          "text": [
            "RMSE-train: 1.3585589687373252\n",
            "RMSE-test: 1.5083290124168687\n",
            "Score-Train: 0.9625698644099655\n",
            "Score-Test: 0.4655901660536293\n",
            "MSE-Train: 0.03743013559003446\n",
            "MSE-Test: 0.7682009599699974\n",
            "MAE-Train: 0.055097181320102495\n",
            "MAE-Test: 0.23134478219941268\n"
          ]
        }
      ]
    }
  ]
}