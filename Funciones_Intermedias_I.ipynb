{
  "nbformat": 4,
  "nbformat_minor": 0,
  "metadata": {
    "colab": {
      "name": "Funciones_Intermedias I.ipynb",
      "provenance": [],
      "authorship_tag": "ABX9TyO/71aLhNJpDcXb94qCjKAn",
      "include_colab_link": true
    },
    "kernelspec": {
      "name": "python3",
      "display_name": "Python 3"
    },
    "language_info": {
      "name": "python"
    }
  },
  "cells": [
    {
      "cell_type": "markdown",
      "metadata": {
        "id": "view-in-github",
        "colab_type": "text"
      },
      "source": [
        "<a href=\"https://colab.research.google.com/github/sebagit914/Challenge01/blob/master/Funciones_Intermedias_I.ipynb\" target=\"_parent\"><img src=\"https://colab.research.google.com/assets/colab-badge.svg\" alt=\"Open In Colab\"/></a>"
      ]
    },
    {
      "cell_type": "code",
      "metadata": {
        "colab": {
          "base_uri": "https://localhost:8080/"
        },
        "id": "m-JvrGcBOz35",
        "outputId": "e332040c-cfb5-4507-c2c5-bbeea7dcc064"
      },
      "source": [
        "import random #importar modulo random\n",
        "def randInt(min=0 , max=100):\n",
        "    if max < 0:\n",
        "        return \"Máximo mayor. 0\"\n",
        "    elif min > max:\n",
        "        return \"No se puede completar\"\n",
        "    else:\n",
        "        num = random.random() * max + min\n",
        "        num = round(num)\n",
        "    return num\n",
        "print(randInt())\n",
        "print(randInt(max=10000000000))\n",
        "print(randInt(min=90))\n",
        "print(randInt(max=25,min=20))\n",
        "print(randInt(max=10, min=100))\n",
        "print(randInt(max=-5))"
      ],
      "execution_count": 2,
      "outputs": [
        {
          "output_type": "stream",
          "text": [
            "44\n",
            "2081861817\n",
            "159\n",
            "42\n",
            "No se puede completar\n",
            "Máximo mayor. 0\n"
          ],
          "name": "stdout"
        }
      ]
    },
    {
      "cell_type": "code",
      "metadata": {
        "id": "OvY83RZHPElG"
      },
      "source": [
        ""
      ],
      "execution_count": null,
      "outputs": []
    }
  ]
}