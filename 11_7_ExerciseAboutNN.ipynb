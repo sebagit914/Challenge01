{
  "nbformat": 4,
  "nbformat_minor": 0,
  "metadata": {
    "colab": {
      "name": "11.7_ExerciseAboutNN.ipynb",
      "provenance": [],
      "collapsed_sections": [],
      "authorship_tag": "ABX9TyPJbehpd08AOpjl3o5UhZt2",
      "include_colab_link": true
    },
    "kernelspec": {
      "display_name": "Python 3",
      "name": "python3"
    },
    "language_info": {
      "name": "python"
    }
  },
  "cells": [
    {
      "cell_type": "markdown",
      "metadata": {
        "id": "view-in-github",
        "colab_type": "text"
      },
      "source": [
        "<a href=\"https://colab.research.google.com/github/sebagit914/Challenge01/blob/master/11_7_ExerciseAboutNN.ipynb\" target=\"_parent\"><img src=\"https://colab.research.google.com/assets/colab-badge.svg\" alt=\"Open In Colab\"/></a>"
      ]
    },
    {
      "cell_type": "code",
      "metadata": {
        "id": "uK7NjLSfqh6l",
        "colab": {
          "base_uri": "https://localhost:8080/"
        },
        "outputId": "2eb7d314-5c5b-49a0-fdb1-f4168d8f704a"
      },
      "source": [
        "from google.colab import drive\n",
        "drive.mount('/content/drive')"
      ],
      "execution_count": null,
      "outputs": [
        {
          "output_type": "stream",
          "name": "stdout",
          "text": [
            "Mounted at /content/drive\n"
          ]
        }
      ]
    },
    {
      "cell_type": "code",
      "metadata": {
        "id": "tMqaSE7r_bHr"
      },
      "source": [
        "# Imports\n",
        "import numpy as np\n",
        "import matplotlib.pyplot as plt\n",
        "import pandas as pd\n",
        "from sklearn.preprocessing import MinMaxScaler\n",
        "from tensorflow.keras.models import Sequential\n",
        "from tensorflow.keras.layers import Dense, LSTM\n"
      ],
      "execution_count": null,
      "outputs": []
    },
    {
      "cell_type": "code",
      "metadata": {
        "colab": {
          "base_uri": "https://localhost:8080/",
          "height": 230
        },
        "id": "l5Uuii0xE062",
        "outputId": "590c8306-5d68-4171-96cd-c8046a5c684d"
      },
      "source": [
        "# Obtener datos\n",
        "aapl = pd.read_csv('/content/drive/MyDrive/PTDataScience/PandasForDataManipulation/AAPL.csv', index_col = 'Date')\n",
        "aapl.head()"
      ],
      "execution_count": null,
      "outputs": [
        {
          "output_type": "execute_result",
          "data": {
            "text/html": [
              "<div>\n",
              "<style scoped>\n",
              "    .dataframe tbody tr th:only-of-type {\n",
              "        vertical-align: middle;\n",
              "    }\n",
              "\n",
              "    .dataframe tbody tr th {\n",
              "        vertical-align: top;\n",
              "    }\n",
              "\n",
              "    .dataframe thead th {\n",
              "        text-align: right;\n",
              "    }\n",
              "</style>\n",
              "<table border=\"1\" class=\"dataframe\">\n",
              "  <thead>\n",
              "    <tr style=\"text-align: right;\">\n",
              "      <th></th>\n",
              "      <th>Open</th>\n",
              "      <th>High</th>\n",
              "      <th>Low</th>\n",
              "      <th>Close</th>\n",
              "      <th>Adj Close</th>\n",
              "      <th>Volume</th>\n",
              "    </tr>\n",
              "    <tr>\n",
              "      <th>Date</th>\n",
              "      <th></th>\n",
              "      <th></th>\n",
              "      <th></th>\n",
              "      <th></th>\n",
              "      <th></th>\n",
              "      <th></th>\n",
              "    </tr>\n",
              "  </thead>\n",
              "  <tbody>\n",
              "    <tr>\n",
              "      <th>2013-01-02</th>\n",
              "      <td>19.779285</td>\n",
              "      <td>19.821428</td>\n",
              "      <td>19.343929</td>\n",
              "      <td>19.608213</td>\n",
              "      <td>17.065252</td>\n",
              "      <td>560518000</td>\n",
              "    </tr>\n",
              "    <tr>\n",
              "      <th>2013-01-03</th>\n",
              "      <td>19.567142</td>\n",
              "      <td>19.631071</td>\n",
              "      <td>19.321428</td>\n",
              "      <td>19.360714</td>\n",
              "      <td>16.849854</td>\n",
              "      <td>352965200</td>\n",
              "    </tr>\n",
              "    <tr>\n",
              "      <th>2013-01-04</th>\n",
              "      <td>19.177500</td>\n",
              "      <td>19.236786</td>\n",
              "      <td>18.779642</td>\n",
              "      <td>18.821428</td>\n",
              "      <td>16.380503</td>\n",
              "      <td>594333600</td>\n",
              "    </tr>\n",
              "    <tr>\n",
              "      <th>2013-01-07</th>\n",
              "      <td>18.642857</td>\n",
              "      <td>18.903572</td>\n",
              "      <td>18.400000</td>\n",
              "      <td>18.710714</td>\n",
              "      <td>16.284145</td>\n",
              "      <td>484156400</td>\n",
              "    </tr>\n",
              "    <tr>\n",
              "      <th>2013-01-08</th>\n",
              "      <td>18.900356</td>\n",
              "      <td>18.996071</td>\n",
              "      <td>18.616072</td>\n",
              "      <td>18.761072</td>\n",
              "      <td>16.327978</td>\n",
              "      <td>458707200</td>\n",
              "    </tr>\n",
              "  </tbody>\n",
              "</table>\n",
              "</div>"
            ],
            "text/plain": [
              "                 Open       High        Low      Close  Adj Close     Volume\n",
              "Date                                                                        \n",
              "2013-01-02  19.779285  19.821428  19.343929  19.608213  17.065252  560518000\n",
              "2013-01-03  19.567142  19.631071  19.321428  19.360714  16.849854  352965200\n",
              "2013-01-04  19.177500  19.236786  18.779642  18.821428  16.380503  594333600\n",
              "2013-01-07  18.642857  18.903572  18.400000  18.710714  16.284145  484156400\n",
              "2013-01-08  18.900356  18.996071  18.616072  18.761072  16.327978  458707200"
            ]
          },
          "metadata": {},
          "execution_count": 4
        }
      ]
    },
    {
      "cell_type": "code",
      "metadata": {
        "colab": {
          "base_uri": "https://localhost:8080/",
          "height": 333
        },
        "id": "H3BtIL3AFAgF",
        "outputId": "00e5a96e-479d-4b18-de69-cf715080538b"
      },
      "source": [
        "plt.figure(figsize = (12, 5))\n",
        "aapl['Close'].plot()\n",
        "plt.ylabel('Closing Price');"
      ],
      "execution_count": null,
      "outputs": [
        {
          "output_type": "display_data",
          "data": {
            "image/png": "[encoded data removed]",
            "text/plain": [
              "<Figure size 864x360 with 1 Axes>"
            ]
          },
          "metadata": {
            "needs_background": "light"
          }
        }
      ]
    },
    {
      "cell_type": "code",
      "metadata": {
        "id": "dAsQEw-DFG1F"
      },
      "source": [
        "# Dividir los datos en entrenamiento y pruebas: el de prueba es el mes de enero de 2020\n",
        "# También usaremos solo la columna cierre\n",
        "train = np.array(aapl.loc['2013-01-02':'2019-12-31', 'Close'])\n",
        "test = np.array(aapl.loc['2020-01-01':'2020-01-31', 'Close'])"
      ],
      "execution_count": null,
      "outputs": []
    },
    {
      "cell_type": "markdown",
      "metadata": {
        "id": "e0SqpRniFLa-"
      },
      "source": [
        "Escalar datos\n",
        "\n",
        "Como de costumbre, ya que estamos usando redes neuronales, tenemos que escalar los datos . En este caso, vamos a usar MinMaxScaler para escalar los datos en 0 y 1."
      ]
    },
    {
      "cell_type": "code",
      "metadata": {
        "id": "deXqhBMKFJJE"
      },
      "source": [
        "# Escalar datos entre 0 y 1\n",
        "scaler = MinMaxScaler(feature_range = (0, 1))\n",
        "train = scaler.fit_transform(train.reshape(-1, 1))\n",
        "test = scaler.transform(test.reshape(-1, 1))"
      ],
      "execution_count": null,
      "outputs": []
    },
    {
      "cell_type": "markdown",
      "metadata": {
        "id": "L4T4JdvJFPvu"
      },
      "source": [
        "Reformar datos\n",
        "\n",
        "Ahora necesitamos reformar nuestros datos. En RNR, usamos una marca de tiempo previa para predecir los próximos valores. Para este ejemplo, vamos a usar los 60 días previos del precio de cierre para predecir el precio de cierre del día siguiente. Para hacer esto, vamos a guardar el valor de las acciones de los 60 días anteriores para nuestro conjunto de variables.\n",
        "\n",
        "Además, necesitamos que los datos sean tridimensionales para pasarlos a través de la capa RNR (vamos a ocupar una capa LSTM para el ejemplo). La primera dimensión es el número de filas, la segunda es el número de pasos en el tiempo (días) que estamos usando para predecir el precio del día siguiente y, la tercera, es el número de variables. Para este ejemplo, nuestra dimensión tiene que ser (1702, 60, 1), ya que los datos de entrenamiento tienen 1702 filas, estamos ocupando los últimos 60 días para predecir el día siguiente y solo ocupamos el precio de cierre.\n",
        "\n",
        "El siguiente código cumple con esto. De forma alternativa, puedes usar TimeseriesGeneator en Keras. Puedes ver un ejemplo de esta técnica aquí."
      ]
    },
    {
      "cell_type": "code",
      "metadata": {
        "id": "VRuYlcswFV61"
      },
      "source": [
        "# Reformar datos\n",
        "train_features = []\n",
        "days = []\n",
        "for i in range(60, train.shape[0]):\n",
        "    train_features.append(train[i-60:i, 0])\n",
        "    days.append(train[i, 0])"
      ],
      "execution_count": null,
      "outputs": []
    },
    {
      "cell_type": "code",
      "metadata": {
        "id": "H7EsbbgIFXpm"
      },
      "source": [
        "# convertir a matrices y remodelar\n",
        "train_features, days = np.array(train_features), np.array(days)\n",
        "train_features = train_features.reshape(train_features.shape[0], train_features.shape[1], 1)"
      ],
      "execution_count": null,
      "outputs": []
    },
    {
      "cell_type": "code",
      "metadata": {
        "colab": {
          "base_uri": "https://localhost:8080/"
        },
        "id": "t2D1iRKQFbMz",
        "outputId": "ab4a927d-c3ce-4117-e81f-fd03030658a3"
      },
      "source": [
        "# Paso 1: Definir nuestra estructura de red\n",
        "# Guardar la forma de entrada\n",
        "input_shape = train_features.shape[1:3]\n",
        "input_shape"
      ],
      "execution_count": null,
      "outputs": [
        {
          "output_type": "execute_result",
          "data": {
            "text/plain": [
              "(60, 1)"
            ]
          },
          "metadata": {},
          "execution_count": 10
        }
      ]
    },
    {
      "cell_type": "code",
      "metadata": {
        "id": "INWS9tIVFdUE"
      },
      "source": [
        "# Modelo secuencial\n",
        "model = Sequential()"
      ],
      "execution_count": null,
      "outputs": []
    },
    {
      "cell_type": "markdown",
      "metadata": {
        "id": "ZOln9k03FhoV"
      },
      "source": [
        "¡Ahora podemos agregar nuestras capas ocultas! Vamos a usar 3 capas LSTM en esta red.\n",
        "\n",
        "Ya que estamos haciendo una regresión, usaremos la función de activación linear en la capa de salida."
      ]
    },
    {
      "cell_type": "code",
      "metadata": {
        "id": "eQkc7pq5FfOE"
      },
      "source": [
        "# Capa LSTM\n",
        "model.add(LSTM(units = 50, \n",
        "               return_sequences = True, # True si la siguiente capa será una capa recurrente\n",
        "               input_shape = input_shape))\n",
        "model.add(LSTM(units = 50, \n",
        "               return_sequences = True))\n",
        "model.add(LSTM(units = 50, \n",
        "               return_sequences = False))\n",
        "# Capa de salida\n",
        "model.add(Dense(units = 1, activation = 'linear'))"
      ],
      "execution_count": null,
      "outputs": []
    },
    {
      "cell_type": "markdown",
      "metadata": {
        "id": "8XVXJeMOFn1s"
      },
      "source": [
        "Paso 2: Compilar el modelo\n",
        "\n",
        "Ya que este es un problema de regresión, usaremos el error cuadrático medio como función de pérdida."
      ]
    },
    {
      "cell_type": "code",
      "metadata": {
        "id": "8Ii7DG-oFlb0"
      },
      "source": [
        "# Paso 2: compilar\n",
        "model.compile(loss = 'mean_squared_error', optimizer = 'adam')"
      ],
      "execution_count": null,
      "outputs": []
    },
    {
      "cell_type": "code",
      "metadata": {
        "colab": {
          "base_uri": "https://localhost:8080/"
        },
        "id": "YWCYcgkOFqoT",
        "outputId": "352b91b1-d4c6-43a6-c110-3427d6059603"
      },
      "source": [
        "# Paso 3: ajustar nuestro modelo\n",
        "history = model.fit(train_features, days, \n",
        "                    epochs=100)"
      ],
      "execution_count": null,
      "outputs": [
        {
          "output_type": "stream",
          "name": "stdout",
          "text": [
            "Epoch 1/100\n",
            "54/54 [==============================] - 9s 79ms/step - loss: 0.0111\n",
            "Epoch 2/100\n",
            "54/54 [==============================] - 4s 82ms/step - loss: 8.3983e-04\n",
            "Epoch 3/100\n",
            "54/54 [==============================] - 4s 81ms/step - loss: 8.0810e-04\n",
            "Epoch 4/100\n",
            "54/54 [==============================] - 4s 80ms/step - loss: 7.9911e-04\n",
            "Epoch 5/100\n",
            "54/54 [==============================] - 4s 83ms/step - loss: 6.5616e-04\n",
            "Epoch 6/100\n",
            "54/54 [==============================] - 4s 82ms/step - loss: 6.4522e-04\n",
            "Epoch 7/100\n",
            "54/54 [==============================] - 4s 82ms/step - loss: 5.5953e-04\n",
            "Epoch 8/100\n",
            "54/54 [==============================] - 4s 82ms/step - loss: 7.1688e-04\n",
            "Epoch 9/100\n",
            "54/54 [==============================] - 4s 82ms/step - loss: 5.1981e-04\n",
            "Epoch 10/100\n",
            "54/54 [==============================] - 4s 83ms/step - loss: 5.5697e-04\n",
            "Epoch 11/100\n",
            "54/54 [==============================] - 4s 80ms/step - loss: 4.6933e-04\n",
            "Epoch 12/100\n",
            "54/54 [==============================] - 4s 82ms/step - loss: 5.6023e-04\n",
            "Epoch 13/100\n",
            "54/54 [==============================] - 4s 81ms/step - loss: 4.2247e-04\n",
            "Epoch 14/100\n",
            "54/54 [==============================] - 4s 83ms/step - loss: 4.4811e-04\n",
            "Epoch 15/100\n",
            "54/54 [==============================] - 4s 82ms/step - loss: 3.8174e-04\n",
            "Epoch 16/100\n",
            "54/54 [==============================] - 4s 83ms/step - loss: 3.8790e-04\n",
            "Epoch 17/100\n",
            "54/54 [==============================] - 4s 83ms/step - loss: 3.8056e-04\n",
            "Epoch 18/100\n",
            "54/54 [==============================] - 4s 82ms/step - loss: 4.0563e-04\n",
            "Epoch 19/100\n",
            "54/54 [==============================] - 4s 80ms/step - loss: 3.7468e-04\n",
            "Epoch 20/100\n",
            "54/54 [==============================] - 4s 81ms/step - loss: 3.9863e-04\n",
            "Epoch 21/100\n",
            "54/54 [==============================] - 5s 85ms/step - loss: 3.3634e-04\n",
            "Epoch 22/100\n",
            "54/54 [==============================] - 4s 80ms/step - loss: 3.3747e-04\n",
            "Epoch 23/100\n",
            "54/54 [==============================] - 4s 82ms/step - loss: 3.3291e-04\n",
            "Epoch 24/100\n",
            "54/54 [==============================] - 4s 81ms/step - loss: 3.1158e-04\n",
            "Epoch 25/100\n",
            "54/54 [==============================] - 4s 83ms/step - loss: 3.0448e-04\n",
            "Epoch 26/100\n",
            "54/54 [==============================] - 4s 82ms/step - loss: 2.9433e-04\n",
            "Epoch 27/100\n",
            "54/54 [==============================] - 4s 82ms/step - loss: 2.9812e-04\n",
            "Epoch 28/100\n",
            "54/54 [==============================] - 4s 81ms/step - loss: 2.8118e-04\n",
            "Epoch 29/100\n",
            "54/54 [==============================] - 4s 81ms/step - loss: 2.8053e-04\n",
            "Epoch 30/100\n",
            "54/54 [==============================] - 4s 80ms/step - loss: 2.3169e-04\n",
            "Epoch 31/100\n",
            "54/54 [==============================] - 4s 79ms/step - loss: 4.0244e-04\n",
            "Epoch 32/100\n",
            "54/54 [==============================] - 4s 79ms/step - loss: 2.4491e-04\n",
            "Epoch 33/100\n",
            "54/54 [==============================] - 4s 82ms/step - loss: 2.1707e-04\n",
            "Epoch 34/100\n",
            "54/54 [==============================] - 4s 80ms/step - loss: 2.1775e-04\n",
            "Epoch 35/100\n",
            "54/54 [==============================] - 5s 86ms/step - loss: 2.2522e-04\n",
            "Epoch 36/100\n",
            "54/54 [==============================] - 4s 81ms/step - loss: 3.4059e-04\n",
            "Epoch 37/100\n",
            "54/54 [==============================] - 4s 81ms/step - loss: 2.5693e-04\n",
            "Epoch 38/100\n",
            "54/54 [==============================] - 4s 82ms/step - loss: 1.9931e-04\n",
            "Epoch 39/100\n",
            "54/54 [==============================] - 4s 79ms/step - loss: 1.8048e-04\n",
            "Epoch 40/100\n",
            "54/54 [==============================] - 4s 81ms/step - loss: 2.1412e-04\n",
            "Epoch 41/100\n",
            "54/54 [==============================] - 4s 80ms/step - loss: 1.6705e-04\n",
            "Epoch 42/100\n",
            "54/54 [==============================] - 4s 82ms/step - loss: 1.6320e-04\n",
            "Epoch 43/100\n",
            "54/54 [==============================] - 5s 83ms/step - loss: 1.9764e-04\n",
            "Epoch 44/100\n",
            "54/54 [==============================] - 4s 81ms/step - loss: 1.8172e-04\n",
            "Epoch 45/100\n",
            "54/54 [==============================] - 5s 84ms/step - loss: 1.8326e-04\n",
            "Epoch 46/100\n",
            "54/54 [==============================] - 4s 83ms/step - loss: 1.8738e-04\n",
            "Epoch 47/100\n",
            "54/54 [==============================] - 4s 82ms/step - loss: 1.4722e-04\n",
            "Epoch 48/100\n",
            "54/54 [==============================] - 4s 82ms/step - loss: 1.6995e-04\n",
            "Epoch 49/100\n",
            "54/54 [==============================] - 4s 82ms/step - loss: 1.7911e-04\n",
            "Epoch 50/100\n",
            "54/54 [==============================] - 4s 81ms/step - loss: 1.5778e-04\n",
            "Epoch 51/100\n",
            "54/54 [==============================] - 5s 85ms/step - loss: 1.5675e-04\n",
            "Epoch 52/100\n",
            "54/54 [==============================] - 5s 84ms/step - loss: 1.7942e-04\n",
            "Epoch 53/100\n",
            "54/54 [==============================] - 4s 80ms/step - loss: 1.9816e-04\n",
            "Epoch 54/100\n",
            "54/54 [==============================] - 4s 79ms/step - loss: 1.4424e-04\n",
            "Epoch 55/100\n",
            "54/54 [==============================] - 4s 81ms/step - loss: 1.7675e-04\n",
            "Epoch 56/100\n",
            "54/54 [==============================] - 4s 82ms/step - loss: 1.3095e-04\n",
            "Epoch 57/100\n",
            "54/54 [==============================] - 4s 81ms/step - loss: 1.2311e-04\n",
            "Epoch 58/100\n",
            "54/54 [==============================] - 4s 82ms/step - loss: 1.2487e-04\n",
            "Epoch 59/100\n",
            "54/54 [==============================] - 5s 84ms/step - loss: 1.2117e-04\n",
            "Epoch 60/100\n",
            "54/54 [==============================] - 4s 80ms/step - loss: 1.2126e-04\n",
            "Epoch 61/100\n",
            "54/54 [==============================] - 5s 83ms/step - loss: 1.1790e-04\n",
            "Epoch 62/100\n",
            "54/54 [==============================] - 4s 81ms/step - loss: 1.2102e-04\n",
            "Epoch 63/100\n",
            "54/54 [==============================] - 4s 80ms/step - loss: 1.4577e-04\n",
            "Epoch 64/100\n",
            "54/54 [==============================] - 4s 83ms/step - loss: 1.3649e-04\n",
            "Epoch 65/100\n",
            "54/54 [==============================] - 4s 80ms/step - loss: 1.3872e-04\n",
            "Epoch 66/100\n",
            "54/54 [==============================] - 4s 80ms/step - loss: 1.1589e-04\n",
            "Epoch 67/100\n",
            "54/54 [==============================] - 4s 78ms/step - loss: 1.1936e-04\n",
            "Epoch 68/100\n",
            "54/54 [==============================] - 4s 79ms/step - loss: 2.1881e-04\n",
            "Epoch 69/100\n",
            "54/54 [==============================] - 4s 80ms/step - loss: 1.5426e-04\n",
            "Epoch 70/100\n",
            "54/54 [==============================] - 4s 78ms/step - loss: 1.3462e-04\n",
            "Epoch 71/100\n",
            "54/54 [==============================] - 4s 80ms/step - loss: 1.3331e-04\n",
            "Epoch 72/100\n",
            "54/54 [==============================] - 4s 83ms/step - loss: 1.0947e-04\n",
            "Epoch 73/100\n",
            "54/54 [==============================] - 4s 80ms/step - loss: 1.4843e-04\n",
            "Epoch 74/100\n",
            "54/54 [==============================] - 4s 80ms/step - loss: 1.2865e-04\n",
            "Epoch 75/100\n",
            "54/54 [==============================] - 4s 81ms/step - loss: 1.1843e-04\n",
            "Epoch 76/100\n",
            "54/54 [==============================] - 4s 81ms/step - loss: 1.1985e-04\n",
            "Epoch 77/100\n",
            "54/54 [==============================] - 4s 81ms/step - loss: 1.0586e-04\n",
            "Epoch 78/100\n",
            "54/54 [==============================] - 4s 80ms/step - loss: 1.2450e-04\n",
            "Epoch 79/100\n",
            "54/54 [==============================] - 4s 81ms/step - loss: 1.1603e-04\n",
            "Epoch 80/100\n",
            "54/54 [==============================] - 4s 80ms/step - loss: 1.0347e-04\n",
            "Epoch 81/100\n",
            "54/54 [==============================] - 4s 82ms/step - loss: 1.4257e-04\n",
            "Epoch 82/100\n",
            "54/54 [==============================] - 4s 79ms/step - loss: 1.1349e-04\n",
            "Epoch 83/100\n",
            "54/54 [==============================] - 4s 80ms/step - loss: 1.2191e-04\n",
            "Epoch 84/100\n",
            "54/54 [==============================] - 4s 78ms/step - loss: 1.1016e-04\n",
            "Epoch 85/100\n",
            "54/54 [==============================] - 4s 79ms/step - loss: 1.0418e-04\n",
            "Epoch 86/100\n",
            "54/54 [==============================] - 4s 77ms/step - loss: 1.2329e-04\n",
            "Epoch 87/100\n",
            "54/54 [==============================] - 4s 80ms/step - loss: 1.1762e-04\n",
            "Epoch 88/100\n",
            "54/54 [==============================] - 4s 80ms/step - loss: 1.0428e-04\n",
            "Epoch 89/100\n",
            "54/54 [==============================] - 4s 81ms/step - loss: 1.5937e-04\n",
            "Epoch 90/100\n",
            "54/54 [==============================] - 4s 82ms/step - loss: 1.1267e-04\n",
            "Epoch 91/100\n",
            "54/54 [==============================] - 4s 80ms/step - loss: 1.2789e-04\n",
            "Epoch 92/100\n",
            "54/54 [==============================] - 4s 83ms/step - loss: 1.0824e-04\n",
            "Epoch 93/100\n",
            "54/54 [==============================] - 4s 82ms/step - loss: 1.1000e-04\n",
            "Epoch 94/100\n",
            "54/54 [==============================] - 4s 79ms/step - loss: 1.1235e-04\n",
            "Epoch 95/100\n",
            "54/54 [==============================] - 4s 79ms/step - loss: 1.3405e-04\n",
            "Epoch 96/100\n",
            "54/54 [==============================] - 4s 79ms/step - loss: 1.0766e-04\n",
            "Epoch 97/100\n",
            "54/54 [==============================] - 4s 82ms/step - loss: 1.2757e-04\n",
            "Epoch 98/100\n",
            "54/54 [==============================] - 4s 78ms/step - loss: 1.0936e-04\n",
            "Epoch 99/100\n",
            "54/54 [==============================] - 4s 78ms/step - loss: 1.2054e-04\n",
            "Epoch 100/100\n",
            "54/54 [==============================] - 4s 79ms/step - loss: 1.0694e-04\n"
          ]
        }
      ]
    },
    {
      "cell_type": "code",
      "metadata": {
        "colab": {
          "base_uri": "https://localhost:8080/",
          "height": 265
        },
        "id": "vYhb39zbFs10",
        "outputId": "7d06c62a-6e31-42b9-cfd3-bd1fbf3767bd"
      },
      "source": [
        "# Visualizar la perdida\n",
        "plt.plot(history.history['loss'], label='Train loss')\n",
        "plt.legend();"
      ],
      "execution_count": null,
      "outputs": [
        {
          "output_type": "display_data",
          "data": {
            "image/png": "[encoded data removed]",
            "text/plain": [
              "<Figure size 432x288 with 1 Axes>"
            ]
          },
          "metadata": {
            "needs_background": "light"
          }
        }
      ]
    },
    {
      "cell_type": "markdown",
      "metadata": {
        "id": "NhT-UtQoHj5T"
      },
      "source": [
        "Predigamos los precios de cierre del mes de enero de 2020 usando los precios de cierre de los 60 días previos. Para poder hacer esto, tenemos que hacer el mismo preprocesamiento que hicimos a los datos de entrenamiento a los datos de prueba.\n",
        "\n",
        "También tenemos que concatenar los conjuntos de entrenamiento y prueba para usar los 60 pasos en el tiempo previos."
      ]
    },
    {
      "cell_type": "code",
      "metadata": {
        "id": "MiZyYF7tG18C"
      },
      "source": [
        "full = np.concatenate((train, test))"
      ],
      "execution_count": null,
      "outputs": []
    },
    {
      "cell_type": "markdown",
      "metadata": {
        "id": "iZTl8VS6Hiqk"
      },
      "source": [
        "Necesitamos obtener los 60 días previos a enero de 2020 para usarlos en la predicción. También tenemos que reformar los datos de entrenamiento de la misma forma que lo hicimos con los datos de prueba."
      ]
    },
    {
      "cell_type": "code",
      "metadata": {
        "id": "nrlUrxdsHg3S"
      },
      "source": [
        "test_days = pd.DataFrame(full)[len(full) - len(test) - 60:].values\n",
        "# Obtener60 días anteriores para usarlos como funciones\n",
        "test_features = []\n",
        "for i in range(60, 80):\n",
        "    test_features.append(test_days[i-60:i, 0])\n",
        "# Reformar\n",
        "test_features = np.array(test_features)\n",
        "test_features = test_features.reshape(test_features.shape[0], test_features.shape[1], 1)"
      ],
      "execution_count": null,
      "outputs": []
    },
    {
      "cell_type": "markdown",
      "metadata": {
        "id": "-ZN1XwMbHq3j"
      },
      "source": [
        "Podemos guardar las predicciones en el conjunto de prueba:"
      ]
    },
    {
      "cell_type": "code",
      "metadata": {
        "id": "D4Oj0C9xHotR"
      },
      "source": [
        "preds = model.predict(test_features)"
      ],
      "execution_count": null,
      "outputs": []
    },
    {
      "cell_type": "markdown",
      "metadata": {
        "id": "XBYOpuC1HuSC"
      },
      "source": [
        "Ahora, visualicemos las predicciones del modelo comparadas a los precios de cierre reales de las acciones de Apple para el mes de enero de 2020:"
      ]
    },
    {
      "cell_type": "code",
      "metadata": {
        "colab": {
          "base_uri": "https://localhost:8080/",
          "height": 350
        },
        "id": "UZcA-jtNHsah",
        "outputId": "2d285b69-4426-4e78-c671-4d59407a2f7e"
      },
      "source": [
        "plt.figure(figsize = (12, 5))\n",
        "plt.plot(scaler.inverse_transform(test), label='Actual Price')\n",
        "plt.plot(scaler.inverse_transform(preds), label='Predicted Price')\n",
        "plt.title('Apple Closing Stock Price Prediction')\n",
        "plt.xlabel('Day (January 2020)')\n",
        "plt.ylabel('Closing Price')\n",
        "plt.legend();"
      ],
      "execution_count": null,
      "outputs": [
        {
          "output_type": "display_data",
          "data": {
            "image/png": "[encoded data removed]",
            "text/plain": [
              "<Figure size 864x360 with 1 Axes>"
            ]
          },
          "metadata": {
            "needs_background": "light"
          }
        }
      ]
    },
    {
      "cell_type": "markdown",
      "metadata": {
        "id": "r8q4aQoAHz3B"
      },
      "source": [
        "Aunque no es perfecto, nuestro modelo hace un buen trabajo al predecir los precios de las acciones para el día siguiente, usando precios de cierre de los 60 días previos."
      ]
    },
    {
      "cell_type": "code",
      "metadata": {
        "id": "1CYiKmh_HwJx"
      },
      "source": [
        ""
      ],
      "execution_count": null,
      "outputs": []
    }
  ]
}