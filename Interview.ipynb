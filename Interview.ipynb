{
  "nbformat": 4,
  "nbformat_minor": 0,
  "metadata": {
    "colab": {
      "name": "Interview.ipynb",
      "provenance": [],
      "authorship_tag": "ABX9TyP2egS82mS1/UZ7PQJQyzWi",
      "include_colab_link": true
    },
    "kernelspec": {
      "name": "python3",
      "display_name": "Python 3"
    },
    "language_info": {
      "name": "python"
    }
  },
  "cells": [
    {
      "cell_type": "markdown",
      "metadata": {
        "id": "view-in-github",
        "colab_type": "text"
      },
      "source": [
        "<a href=\"https://colab.research.google.com/github/sebagit914/Challenge01/blob/master/Interview.ipynb\" target=\"_parent\"><img src=\"https://colab.research.google.com/assets/colab-badge.svg\" alt=\"Open In Colab\"/></a>"
      ]
    },
    {
      "cell_type": "code",
      "metadata": {
        "id": "F0-NOYsVAGvL"
      },
      "source": [
        ""
      ],
      "execution_count": null,
      "outputs": []
    },
    {
      "cell_type": "markdown",
      "metadata": {
        "id": "IDAw204dAHI0"
      },
      "source": [
        "01. ¿Cuál es la diferencia entre una lista y una tupla en Python?\n",
        "Básicamente un objeto mutable (tuplas) se puede modificar una vez creado mientras que las listas no.\n",
        "02. ¿Es necesario el indentado en Python?\n",
        "\n",
        "Es necesario para indicar a qué bloque de código pertenece una declaración. Python utiliza la indentación para delimitar la estructura permitiendo establecer bloques de código. \n",
        "03. ¿Qué es un comentario en Python y cómo escribirías uno?\n",
        "\n",
        "Un comentario es una línea de texto no ejecutable, esto quiere decir que el compilador o intérprete no la tomará como una línea de código. Los comentarios en Python, así como en otros lenguajes de programación, sirven para dejar pequeñas explicaciones sobre qué es lo que hace el programa.\n",
        "\n",
        "04. ¿Qué es un diccionario en Python?\n",
        "\n",
        "Los diccionarios en Python son un tipo de estructuras de datos que permite guardar un conjunto no ordenado de pares clave-valor, siendo las claves únicas dentro de un mismo diccionario (es decir que no pueden existir dos elementos con una misma clave). \n",
        "\n",
        "05. ¿Cómo convertirías una cadena entera en mayúsculas?\n",
        "\n",
        "Con el método Upper.\n",
        "\n",
        "06. ¿Qué son los índices negativos y cómo se usan?\n",
        "\n",
        "Los índices de una lista inicia  de 0 hasta el tamaño de la lista menos uno . Cuando hablamos de indices negativos inicia desde -1 el índice del último elemento. Los índices negativos van entonces de -1 (último elemento) a -len(factura) (primer elemento )\n",
        "\n",
        "07. ¿Cómo harías referencia a un elemento específico dentro de un diccionario Python?\n",
        "\n",
        "Podemos acceder a los elementos de un diccionario haciendo referencia al nombre de su categoría clave, dentro de corchetes.\n",
        "\n",
        "08. ¿Qué hace el método .pop() a una lista?\n",
        "\n",
        "\n",
        "El método pop() elimina y retorna un elemento de una lista. Hay un parámetro opcional, el índice a ser eliminado de la lista, si no se especifica ningún índice, a. pop() elimina y retorna el último elemento de la lista.\n",
        "\n",
        "09. ¿Cómo accederías a los últimos 3 elementos en una lista dada?\n",
        "print(lista[-3:])\n",
        "10. ¿Qué es la función enumerate y por qué se usa?\n",
        "La función incorporada enumerate() permite, como lo indica su nombre, enumerar una colección (por ejemplo, una lista, una tupla, o cualquier otro objeto iterable)."
      ]
    },
    {
      "cell_type": "code",
      "metadata": {
        "id": "_rr_FW8yAIdu"
      },
      "source": [
        ""
      ],
      "execution_count": null,
      "outputs": []
    }
  ]
}