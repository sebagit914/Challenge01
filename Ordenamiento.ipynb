{
  "nbformat": 4,
  "nbformat_minor": 0,
  "metadata": {
    "colab": {
      "name": "Ordenamiento.ipynb",
      "provenance": [],
      "authorship_tag": "ABX9TyNzctlq/WzLRF9I5xBJx7F1",
      "include_colab_link": true
    },
    "kernelspec": {
      "name": "python3",
      "display_name": "Python 3"
    },
    "language_info": {
      "name": "python"
    }
  },
  "cells": [
    {
      "cell_type": "markdown",
      "metadata": {
        "id": "view-in-github",
        "colab_type": "text"
      },
      "source": [
        "<a href=\"https://colab.research.google.com/github/sebagit914/Challenge01/blob/master/Ordenamiento.ipynb\" target=\"_parent\"><img src=\"https://colab.research.google.com/assets/colab-badge.svg\" alt=\"Open In Colab\"/></a>"
      ]
    },
    {
      "cell_type": "code",
      "metadata": {
        "colab": {
          "base_uri": "https://localhost:8080/"
        },
        "id": "03u9RC-rRODe",
        "outputId": "22659e58-072f-4f7b-fc5d-324ffe02e4d7"
      },
      "source": [
        "testlist_1 = [5, 4, 3, 2, 1]\n",
        "\n",
        "def selectionsort(some_list):\n",
        "    count = 0\n",
        "    for x in range(len(some_list)):\n",
        "        minimum = some_list[x]\n",
        "        for j in range(x, len(some_list), 1):\n",
        "            if some_list[j] < minimum:\n",
        "                count += 1\n",
        "                minimum = some_list[j]\n",
        "                some_list[j], some_list[x] = some_list[x], some_list[j]\n",
        "        print(x)\n",
        "    print(count)\n",
        "    return(some_list)\n",
        "print(selectionsort(testlist_1))"
      ],
      "execution_count": 1,
      "outputs": [
        {
          "output_type": "stream",
          "text": [
            "0\n",
            "1\n",
            "2\n",
            "3\n",
            "4\n",
            "10\n",
            "[1, 2, 3, 4, 5]\n"
          ],
          "name": "stdout"
        }
      ]
    }
  ]
}