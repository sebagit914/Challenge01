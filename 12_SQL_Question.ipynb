{
  "nbformat": 4,
  "nbformat_minor": 0,
  "metadata": {
    "colab": {
      "name": "12.SQL_Question.ipynb",
      "provenance": [],
      "authorship_tag": "ABX9TyOMS/5tEUXZCD5cH1xdhBB3",
      "include_colab_link": true
    },
    "kernelspec": {
      "name": "python3",
      "display_name": "Python 3"
    },
    "language_info": {
      "name": "python"
    }
  },
  "cells": [
    {
      "cell_type": "markdown",
      "metadata": {
        "id": "view-in-github",
        "colab_type": "text"
      },
      "source": [
        "<a href=\"https://colab.research.google.com/github/sebagit914/Challenge01/blob/master/12_SQL_Question.ipynb\" target=\"_parent\"><img src=\"https://colab.research.google.com/assets/colab-badge.svg\" alt=\"Open In Colab\"/></a>"
      ]
    },
    {
      "cell_type": "code",
      "metadata": {
        "id": "J8__DqbEv6Ss"
      },
      "source": [
        ""
      ],
      "execution_count": null,
      "outputs": []
    },
    {
      "cell_type": "markdown",
      "metadata": {
        "id": "3m4mLYnaw30z"
      },
      "source": [
        "Preguntas de entrevista sobre SQL\n",
        "\n",
        "Describe los diferentes tipos de uniones SQL.\n",
        "\n",
        "¿Cuál es la diferencia entre WHERE y HAVING en una consulta SQL?\n",
        "\n",
        "¿Qué es DBMS?\n",
        "\n",
        "¿Qué es RDBMS?\n",
        "\n",
        "¿Qué es una clave primaria?\n",
        "\n",
        "¿Qué es una clave foránea?\n",
        "\n",
        "¿Cuál es la diferencia entre SQL y PostgreSQL?\n",
        "\n",
        "Dada  una tabla con columnas “a”, “b”, “c” y “d”, escribe una consulta que seleccione el promedio de la columna “b”, mayor que un número dado n.\n",
        "Dada una tabla con columnas “a”, “b”, “c” y “d”, escribe una consulta que seleccione todas las columnas y las ordene como columna “a”, de mayor valor a menor valor.\n",
        "\n",
        "¿Qué devuelve esta consulta?: "
      ]
    },
    {
      "cell_type": "code",
      "metadata": {
        "id": "52doa1Rew6qy"
      },
      "source": [
        ""
      ],
      "execution_count": null,
      "outputs": []
    }
  ]
}