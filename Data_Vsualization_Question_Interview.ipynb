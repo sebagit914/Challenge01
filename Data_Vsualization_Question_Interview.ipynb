{
  "nbformat": 4,
  "nbformat_minor": 0,
  "metadata": {
    "colab": {
      "name": "Data_Vsualization_Question_Interview.ipynb",
      "provenance": [],
      "authorship_tag": "ABX9TyOuLjl1TGtiHKlbT/6o134Y",
      "include_colab_link": true
    },
    "kernelspec": {
      "name": "python3",
      "display_name": "Python 3"
    },
    "language_info": {
      "name": "python"
    }
  },
  "cells": [
    {
      "cell_type": "markdown",
      "metadata": {
        "id": "view-in-github",
        "colab_type": "text"
      },
      "source": [
        "<a href=\"https://colab.research.google.com/github/sebagit914/Challenge01/blob/master/Data_Vsualization_Question_Interview.ipynb\" target=\"_parent\"><img src=\"https://colab.research.google.com/assets/colab-badge.svg\" alt=\"Open In Colab\"/></a>"
      ]
    },
    {
      "cell_type": "code",
      "metadata": {
        "id": "27kPlg4CSDFM"
      },
      "source": [
        ""
      ],
      "execution_count": null,
      "outputs": []
    },
    {
      "cell_type": "markdown",
      "metadata": {
        "id": "504fkCmWSG2W"
      },
      "source": [
        "Data Visualization - Interview Question Solutions\n",
        "\n",
        "Note: answers may vary on all of these - there are many correct answers to all of these questions!\n",
        "\n",
        "1. What makes data visualization good?\n",
        "    - A good data visualization allows someone to perceive the data\n",
        "      and information that is presented to them in a clear, easy to understand way.\n",
        "    - It should focus on important aspects and not include unnecessary information.\n",
        "    - It should be visually appealing to all audiences.\n",
        "\n",
        "2. Why might you want to use data visualization?\n",
        "    - To help explain trends or information to non-technical audiences\n",
        "      or to help you better understand your data.\n",
        "\n",
        "3. What are some basic elements of a graph?\n",
        "    - Graphs generally have titles, axis labels, and legends.\n",
        "\n",
        "4. How would you visualize the relationship between two quantitative variables?\n",
        "    - A scatter plot or a line graph would show relationships between two quantitative variables.\n",
        "\n",
        "5. What is a heat map?\n",
        "    - A heat map is a data visualization that shows the magnitude of a\n",
        "      variable represented as a color scale.\n",
        "    - The hue or intensity of the color reflects the value being shown.\n",
        "\n",
        "6. Name different types of graphs to visualize data.\n",
        "    - Heat map, scatter plot, line graph, bar graph, boxplot\n",
        "\n",
        "7. What are data visualization tools that you are familiar with?\n",
        "    - Answer may include: Python - matplotlib, seaborn, plotly, bokeh; R - ggplot; Tableau, etc.\n",
        "\n",
        "8. Name several data visualization libraries in Python.\n",
        "    - Matplotlib, seaborn, plotly, bokeh\n",
        "\n",
        "9. Name several data visualization tools outside of Python.\n",
        "    - Tableau, excel, Power BI\n",
        "\n",
        "10. What is the difference between a line graph and a scatter plot?\n",
        "    - A line graph connects the dots and tends to show the trends between the variables\n",
        "      or trends over time, where a scatter plot shows every data point."
      ]
    }
  ]
}