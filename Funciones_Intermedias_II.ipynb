{
  "nbformat": 4,
  "nbformat_minor": 0,
  "metadata": {
    "colab": {
      "name": "Funciones Intermedias II.ipynb",
      "provenance": [],
      "authorship_tag": "ABX9TyP+zJZBuieJVvI7NY03NgBc",
      "include_colab_link": true
    },
    "kernelspec": {
      "name": "python3",
      "display_name": "Python 3"
    },
    "language_info": {
      "name": "python"
    }
  },
  "cells": [
    {
      "cell_type": "markdown",
      "metadata": {
        "id": "view-in-github",
        "colab_type": "text"
      },
      "source": [
        "<a href=\"https://colab.research.google.com/github/sebagit914/Challenge01/blob/master/Funciones_Intermedias_II.ipynb\" target=\"_parent\"><img src=\"https://colab.research.google.com/assets/colab-badge.svg\" alt=\"Open In Colab\"/></a>"
      ]
    },
    {
      "cell_type": "code",
      "metadata": {
        "colab": {
          "base_uri": "https://localhost:8080/"
        },
        "id": "asQlgmZpP2BW",
        "outputId": "d25ae2ee-d217-46c3-e9e6-0332a9477ce7"
      },
      "source": [
        "dojo = {\n",
        "   'locations': ['San Jose', 'Seattle', 'Dallas', 'Chicago', 'Tulsa', 'DC', 'Burbank'],\n",
        "   'instructors': ['Michael', 'Amy', 'Eduardo', 'Josh', 'Graham', 'Patrick', 'Minh', 'Devon']\n",
        "}\n",
        "def printInfo(some_dict):\n",
        "    for some_key in some_dict:\n",
        "        print(len(some_dict[some_key]))\n",
        "        for some_value in some_dict[some_key]:\n",
        "            print(some_value)\n",
        "printInfo(dojo)"
      ],
      "execution_count": 1,
      "outputs": [
        {
          "output_type": "stream",
          "text": [
            "7\n",
            "San Jose\n",
            "Seattle\n",
            "Dallas\n",
            "Chicago\n",
            "Tulsa\n",
            "DC\n",
            "Burbank\n",
            "8\n",
            "Michael\n",
            "Amy\n",
            "Eduardo\n",
            "Josh\n",
            "Graham\n",
            "Patrick\n",
            "Minh\n",
            "Devon\n"
          ],
          "name": "stdout"
        }
      ]
    }
  ]
}