{
  "nbformat": 4,
  "nbformat_minor": 0,
  "metadata": {
    "colab": {
      "name": "Inserción.ipynb",
      "provenance": [],
      "authorship_tag": "ABX9TyPJVFwq+zHZV7CkW/metN0d",
      "include_colab_link": true
    },
    "kernelspec": {
      "name": "python3",
      "display_name": "Python 3"
    },
    "language_info": {
      "name": "python"
    }
  },
  "cells": [
    {
      "cell_type": "markdown",
      "metadata": {
        "id": "view-in-github",
        "colab_type": "text"
      },
      "source": [
        "<a href=\"https://colab.research.google.com/github/sebagit914/Challenge01/blob/master/Inserci%C3%B3n.ipynb\" target=\"_parent\"><img src=\"https://colab.research.google.com/assets/colab-badge.svg\" alt=\"Open In Colab\"/></a>"
      ]
    },
    {
      "cell_type": "code",
      "metadata": {
        "id": "DnfUrkdcRqtE"
      },
      "source": [
        "testlist1 = [8,9,10,2,3,6,4,5,1,7]\n",
        "def insertion_sort(some_list):\n",
        "    count = 0\n",
        "    for x in range(1, len(some_list), 1):\n",
        "        for j in range(x, 0, -1):\n",
        "            if some_list[x-j] > some_list[x]:\n",
        "                count += 1\n",
        "                some_list[x], some_list[x-j] = some_list[x-j], some_list[x]\n",
        "    print(count)\n",
        "    print(some_list)\n",
        "insertion_sort(testlist1)"
      ],
      "execution_count": null,
      "outputs": []
    }
  ]
}