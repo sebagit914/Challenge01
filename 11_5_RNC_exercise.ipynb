{
  "nbformat": 4,
  "nbformat_minor": 0,
  "metadata": {
    "colab": {
      "name": "11.5_RNC_exercise.ipynb",
      "provenance": [],
      "collapsed_sections": [],
      "authorship_tag": "ABX9TyPcSKwHQm66RyF6+azs6d1N",
      "include_colab_link": true
    },
    "kernelspec": {
      "display_name": "Python 3",
      "name": "python3"
    },
    "language_info": {
      "name": "python"
    }
  },
  "cells": [
    {
      "cell_type": "markdown",
      "metadata": {
        "id": "view-in-github",
        "colab_type": "text"
      },
      "source": [
        "<a href=\"https://colab.research.google.com/github/sebagit914/Challenge01/blob/master/11_5_RNC_exercise.ipynb\" target=\"_parent\"><img src=\"https://colab.research.google.com/assets/colab-badge.svg\" alt=\"Open In Colab\"/></a>"
      ]
    },
    {
      "cell_type": "code",
      "metadata": {
        "id": "uK7NjLSfqh6l"
      },
      "source": [
        "# Imports\n",
        "import numpy as np\n",
        "import matplotlib.pyplot as plt\n",
        "import pandas as pd\n",
        "from sklearn.preprocessing import StandardScaler\n",
        "from tensorflow.keras.models import Sequential\n",
        "from tensorflow.keras.layers import Dense, Flatten, Conv2D, MaxPooling2D\n",
        "from tensorflow.keras.utils import to_categorical\n",
        "from tensorflow.keras.datasets import mnist"
      ],
      "execution_count": null,
      "outputs": []
    },
    {
      "cell_type": "markdown",
      "metadata": {
        "id": "onSfm4-y-c0f"
      },
      "source": [
        "Importar datos\n",
        "\n",
        "El conjunto de datos que usaremos acá es la base de datos MNIST que está construida en Keras Estos datos contienen muchos dígitos escritos a mano del 0 al 9. La tarea es clasificar cada imagen con el dígito que corresponde. Nuevamente, esta es una tarea fácil para nosotros, pero una históricamente difícil para un computador."
      ]
    },
    {
      "cell_type": "code",
      "metadata": {
        "id": "6I2IcIe-5aWw",
        "colab": {
          "base_uri": "https://localhost:8080/"
        },
        "outputId": "03199fef-fe54-442f-d27d-e8ac560adb1b"
      },
      "source": [
        "# Obtener datos: ya está dividido en conjuntos de entrenamiento y prueba\n",
        "(X_train, y_train), (X_test, y_test) = mnist.load_data()"
      ],
      "execution_count": null,
      "outputs": [
        {
          "output_type": "stream",
          "name": "stdout",
          "text": [
            "Downloading data from https://storage.googleapis.com/tensorflow/tf-keras-datasets/mnist.npz\n",
            "11493376/11490434 [==============================] - 0s 0us/step\n",
            "11501568/11490434 [==============================] - 0s 0us/step\n"
          ]
        }
      ]
    },
    {
      "cell_type": "code",
      "metadata": {
        "colab": {
          "base_uri": "https://localhost:8080/"
        },
        "id": "KHxZVSc95oLJ",
        "outputId": "68a0213c-749d-4a77-cab2-b871888a7ad9"
      },
      "source": [
        "X_train.shape"
      ],
      "execution_count": null,
      "outputs": [
        {
          "output_type": "execute_result",
          "data": {
            "text/plain": [
              "(60000, 28, 28)"
            ]
          },
          "metadata": {},
          "execution_count": 3
        }
      ]
    },
    {
      "cell_type": "markdown",
      "metadata": {
        "id": "fDvpy6S3-zYQ"
      },
      "source": [
        "Escalar datos\n",
        "\n",
        "Queremos escalar los datos entre 0 y 1, Esta es  una opción recurrente porque mejora la velocidad. \n",
        "\n",
        "Ya que los pixeles son valores numéricos entre 0 y 225, podemos dividir por el valor máximo para lograrlo. "
      ]
    },
    {
      "cell_type": "code",
      "metadata": {
        "id": "UCRiMPGD-2Q9"
      },
      "source": [
        "# Escalar datos entre 0 y 1\n",
        "X_train = X_train / 255\n",
        "X_test = X_test / 255"
      ],
      "execution_count": null,
      "outputs": []
    },
    {
      "cell_type": "markdown",
      "metadata": {
        "id": "vs4LEaGe-7I7"
      },
      "source": [
        "Reformar datos\n",
        "\n",
        "Ahora necesitamos reformar nuestros datos. Actualmente, cada imagen es de 28 pixeles x 28 pixeles. Ya que cada pixel tiene un valor de color, tenemos que hacer una reforma para que sea 28x28x1. Si tenemos valores RGB (rojo, verde y azul, por sus iniciales en inglés), querremos reformar a 28x28x3."
      ]
    },
    {
      "cell_type": "code",
      "metadata": {
        "id": "5ufSZvb1-7gb"
      },
      "source": [
        "# Reformar datos\n",
        "X_train = X_train.reshape(X_train.shape[0], 28, 28, 1)\n",
        "X_test = X_test.reshape(X_test.shape[0], 28, 28, 1)"
      ],
      "execution_count": null,
      "outputs": []
    },
    {
      "cell_type": "code",
      "metadata": {
        "id": "wC9A3yAu-9Sb"
      },
      "source": [
        ""
      ],
      "execution_count": null,
      "outputs": []
    },
    {
      "cell_type": "markdown",
      "metadata": {
        "id": "RMKySqzX_BnE"
      },
      "source": [
        "Formato objetivo\n",
        "\n",
        "También necesitamos convertir nuestro objetivo en una categoría.\n",
        "\n",
        "Ya que nuestro objetivo es numérico (0,2,3, etc.), nuestro computador va a reconocer los dígitos más grandes como valores numéricos altos. Sin embargo, todo lo que hacemos en este ejercicio es clasificar cuál imagen es cada una. En este caso, un 9 no tendría que tener un valor más alto que 1. Clasificar un 8 como 7 no es mejor que clasificarlo como un 2. Los dos son incorrectos.\n",
        "\n",
        "Por suerte, Keras nos hace fácil esta tarea al usar la clase to_categorical."
      ]
    },
    {
      "cell_type": "code",
      "metadata": {
        "id": "9vnMaO_4_B-b"
      },
      "source": [
        "y_train = to_categorical(y_train, num_classes = 10)\n",
        "y_test = to_categorical(y_test, num_classes = 10)"
      ],
      "execution_count": null,
      "outputs": []
    },
    {
      "cell_type": "markdown",
      "metadata": {
        "id": "h51d2HhJ_FuE"
      },
      "source": [
        "¡Ahora podemos construir la RNC!\n",
        "\n",
        "Paso 1: Definir la estructura de nuestra red"
      ]
    },
    {
      "cell_type": "code",
      "metadata": {
        "colab": {
          "base_uri": "https://localhost:8080/"
        },
        "id": "C3Wfbz2p_Dwc",
        "outputId": "e669f330-c2cb-4a62-e03c-2cf76c3244c9"
      },
      "source": [
        "# Paso 1: Definir nuestra estructura de red\n",
        "# Guardar la forma de entrada\n",
        "input_shape = X_train.shape[1:4]\n",
        "input_shape"
      ],
      "execution_count": null,
      "outputs": [
        {
          "output_type": "execute_result",
          "data": {
            "text/plain": [
              "(28, 28, 1)"
            ]
          },
          "metadata": {},
          "execution_count": 7
        }
      ]
    },
    {
      "cell_type": "code",
      "metadata": {
        "id": "mSNsfATI_I0b"
      },
      "source": [
        "# Modelo secuencial\n",
        "model = Sequential()"
      ],
      "execution_count": null,
      "outputs": []
    },
    {
      "cell_type": "code",
      "metadata": {
        "id": "OXzDuuBR_Kbr"
      },
      "source": [
        "# Capa convolucional\n",
        "model.add(Conv2D(filters = 8, # Cuantos filtros quieres usar\n",
        "                 kernel_size = 3, # tamaño de cada filtro\n",
        "                 input_shape = input_shape)) # ¿Cuál es la forma de tus características de entrada (definimos esto arriba)\n",
        "# Pooling layer\n",
        "model.add(MaxPooling2D(pool_size = 2)) # Tamaño de pooling\n",
        "# Capa de aplanamiento\n",
        "model.add(Flatten())\n",
        "# Capa de salida\n",
        "model.add(Dense(10, # Cuantas posibilidades de salida tenemos\n",
        "                activation = 'softmax')) # ¿Qué función de activación estás usando?"
      ],
      "execution_count": null,
      "outputs": []
    },
    {
      "cell_type": "markdown",
      "metadata": {
        "id": "xjlvytso_OzF"
      },
      "source": [
        "Paso 2: Compilar el modelo\n",
        "\n",
        "Ya que este es un problema de clasificación multiclase, usaremos la entropía cruzada categórica como función de pérdida. También podemos rastrear la precisión a través del tiempo al especificarlo en los parámetros métricos."
      ]
    },
    {
      "cell_type": "code",
      "metadata": {
        "id": "zBhU3SZi_Mc8"
      },
      "source": [
        "# Paso 2: compilar\n",
        "model.compile(loss = 'categorical_crossentropy', optimizer = 'adam', metrics = ['acc'])"
      ],
      "execution_count": null,
      "outputs": []
    },
    {
      "cell_type": "code",
      "metadata": {
        "colab": {
          "base_uri": "https://localhost:8080/"
        },
        "id": "Z9F_g3is_SQ9",
        "outputId": "f71f9b0b-d6d2-425b-ce76-b3fbe992b4ae"
      },
      "source": [
        "# Paso 3: ajustar nuestro modelo\n",
        "history = model.fit(X_train, y_train,\n",
        "                    validation_data = (X_test, y_test), \n",
        "                    epochs=20)"
      ],
      "execution_count": null,
      "outputs": [
        {
          "output_type": "stream",
          "name": "stdout",
          "text": [
            "Epoch 1/20\n",
            "1875/1875 [==============================] - 18s 9ms/step - loss: 0.3486 - acc: 0.8996 - val_loss: 0.2295 - val_acc: 0.9357\n",
            "Epoch 2/20\n",
            "1875/1875 [==============================] - 17s 9ms/step - loss: 0.2074 - acc: 0.9406 - val_loss: 0.1715 - val_acc: 0.9530\n",
            "Epoch 3/20\n",
            "1875/1875 [==============================] - 17s 9ms/step - loss: 0.1528 - acc: 0.9574 - val_loss: 0.1321 - val_acc: 0.9636\n",
            "Epoch 4/20\n",
            "1875/1875 [==============================] - 17s 9ms/step - loss: 0.1218 - acc: 0.9653 - val_loss: 0.1125 - val_acc: 0.9671\n",
            "Epoch 5/20\n",
            "1875/1875 [==============================] - 17s 9ms/step - loss: 0.1020 - acc: 0.9703 - val_loss: 0.1026 - val_acc: 0.9696\n",
            "Epoch 6/20\n",
            "1553/1875 [=======================>......] - ETA: 2s - loss: 0.0891 - acc: 0.9744"
          ]
        }
      ]
    },
    {
      "cell_type": "code",
      "metadata": {
        "id": "bpHADC7s_UcL"
      },
      "source": [
        "# Visualizar la pérdida\n",
        "plt.plot(history.history['loss'], label='Train loss')\n",
        "plt.plot(history.history['val_loss'], label='Test Loss')\n",
        "plt.legend();"
      ],
      "execution_count": null,
      "outputs": []
    },
    {
      "cell_type": "code",
      "metadata": {
        "id": "VkdqQuAq_X6t"
      },
      "source": [
        "# Visualizar la precisión\n",
        "plt.plot(history.history['acc'], label='Train Accuracy')\n",
        "plt.plot(history.history['val_acc'], label='Test Accuracy')\n",
        "plt.legend();"
      ],
      "execution_count": null,
      "outputs": []
    },
    {
      "cell_type": "markdown",
      "metadata": {
        "id": "FC9egPJY_old"
      },
      "source": [
        "Podemos ver que después de solo 20 epochs, obtenemos una precisión de prueba de ¡casi 98%!"
      ]
    },
    {
      "cell_type": "code",
      "metadata": {
        "id": "tMqaSE7r_bHr"
      },
      "source": [
        ""
      ],
      "execution_count": null,
      "outputs": []
    }
  ]
}