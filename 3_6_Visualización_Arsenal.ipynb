{
  "nbformat": 4,
  "nbformat_minor": 0,
  "metadata": {
    "colab": {
      "name": "3.6.Visualización_Arsenal.ipynb",
      "provenance": [],
      "mount_file_id": "1pc0JHpxcPkTLl5hYcvHJ_fnxvpf-D4n8",
      "authorship_tag": "ABX9TyOUhuSP6+vBad6qieO8CrM3",
      "include_colab_link": true
    },
    "kernelspec": {
      "name": "python3",
      "display_name": "Python 3"
    },
    "language_info": {
      "name": "python"
    }
  },
  "cells": [
    {
      "cell_type": "markdown",
      "metadata": {
        "id": "view-in-github",
        "colab_type": "text"
      },
      "source": [
        "<a href=\"https://colab.research.google.com/github/sebagit914/Challenge01/blob/master/3_6_Visualizaci%C3%B3n_Arsenal.ipynb\" target=\"_parent\"><img src=\"https://colab.research.google.com/assets/colab-badge.svg\" alt=\"Open In Colab\"/></a>"
      ]
    },
    {
      "cell_type": "markdown",
      "metadata": {
        "id": "my5gAGl4Zqpe"
      },
      "source": [
        "# 1 Importar librerías"
      ]
    },
    {
      "cell_type": "code",
      "metadata": {
        "id": "bZdwfHpvbtBs"
      },
      "source": [
        "import pandas as pd\n",
        "import numpy as np\n",
        "import matplotlib.pyplot as plt\n",
        "import seaborn as sns\n"
      ],
      "execution_count": 2,
      "outputs": []
    },
    {
      "cell_type": "markdown",
      "metadata": {
        "id": "sfzBbUDvZwEs"
      },
      "source": [
        "# 2 Montar Google Drive Colab"
      ]
    },
    {
      "cell_type": "code",
      "metadata": {
        "colab": {
          "base_uri": "https://localhost:8080/"
        },
        "id": "p0jL72U9Tiqi",
        "outputId": "d821b28f-caf4-49f8-f235-88df929d06b9"
      },
      "source": [
        "from google.colab import drive\n",
        "drive.mount('/content/drive')"
      ],
      "execution_count": 3,
      "outputs": [
        {
          "output_type": "stream",
          "text": [
            "Drive already mounted at /content/drive; to attempt to forcibly remount, call drive.mount(\"/content/drive\", force_remount=True).\n"
          ],
          "name": "stdout"
        }
      ]
    },
    {
      "cell_type": "markdown",
      "metadata": {
        "id": "aPARN_OfZ0le"
      },
      "source": [
        "# 3 Cargar Dataset"
      ]
    },
    {
      "cell_type": "code",
      "metadata": {
        "colab": {
          "base_uri": "https://localhost:8080/",
          "height": 204
        },
        "id": "-JOte84jeWFf",
        "outputId": "10f93f43-8c1d-49d5-cc7a-b03871a12159"
      },
      "source": [
        "filename = '/content/drive/MyDrive/PTDataScience/PandasForDataManipulation/3º semana/3.6.Week51.xlsx'\n",
        "df = pd.read_excel(filename)\n",
        "df.head(5)"
      ],
      "execution_count": 6,
      "outputs": [
        {
          "output_type": "execute_result",
          "data": {
            "text/html": [
              "<div>\n",
              "<style scoped>\n",
              "    .dataframe tbody tr th:only-of-type {\n",
              "        vertical-align: middle;\n",
              "    }\n",
              "\n",
              "    .dataframe tbody tr th {\n",
              "        vertical-align: top;\n",
              "    }\n",
              "\n",
              "    .dataframe thead th {\n",
              "        text-align: right;\n",
              "    }\n",
              "</style>\n",
              "<table border=\"1\" class=\"dataframe\">\n",
              "  <thead>\n",
              "    <tr style=\"text-align: right;\">\n",
              "      <th></th>\n",
              "      <th>Season</th>\n",
              "      <th>Played</th>\n",
              "      <th>Won</th>\n",
              "      <th>Drawn</th>\n",
              "      <th>Lost</th>\n",
              "      <th>Goals For</th>\n",
              "      <th>Goals Against</th>\n",
              "      <th>Goal Difference</th>\n",
              "      <th>Points</th>\n",
              "      <th>Position</th>\n",
              "      <th>Final Points</th>\n",
              "      <th>Final Position</th>\n",
              "    </tr>\n",
              "  </thead>\n",
              "  <tbody>\n",
              "    <tr>\n",
              "      <th>0</th>\n",
              "      <td>1992/93</td>\n",
              "      <td>19</td>\n",
              "      <td>9</td>\n",
              "      <td>2</td>\n",
              "      <td>8</td>\n",
              "      <td>22</td>\n",
              "      <td>20</td>\n",
              "      <td>2</td>\n",
              "      <td>29</td>\n",
              "      <td>8</td>\n",
              "      <td>56.0</td>\n",
              "      <td>10.0</td>\n",
              "    </tr>\n",
              "    <tr>\n",
              "      <th>1</th>\n",
              "      <td>1993/94</td>\n",
              "      <td>21</td>\n",
              "      <td>9</td>\n",
              "      <td>7</td>\n",
              "      <td>5</td>\n",
              "      <td>20</td>\n",
              "      <td>13</td>\n",
              "      <td>7</td>\n",
              "      <td>34</td>\n",
              "      <td>5</td>\n",
              "      <td>71.0</td>\n",
              "      <td>4.0</td>\n",
              "    </tr>\n",
              "    <tr>\n",
              "      <th>2</th>\n",
              "      <td>1994/95</td>\n",
              "      <td>19</td>\n",
              "      <td>6</td>\n",
              "      <td>6</td>\n",
              "      <td>7</td>\n",
              "      <td>23</td>\n",
              "      <td>22</td>\n",
              "      <td>1</td>\n",
              "      <td>24</td>\n",
              "      <td>11</td>\n",
              "      <td>51.0</td>\n",
              "      <td>12.0</td>\n",
              "    </tr>\n",
              "    <tr>\n",
              "      <th>3</th>\n",
              "      <td>1995/96</td>\n",
              "      <td>18</td>\n",
              "      <td>8</td>\n",
              "      <td>7</td>\n",
              "      <td>3</td>\n",
              "      <td>23</td>\n",
              "      <td>12</td>\n",
              "      <td>11</td>\n",
              "      <td>31</td>\n",
              "      <td>6</td>\n",
              "      <td>63.0</td>\n",
              "      <td>5.0</td>\n",
              "    </tr>\n",
              "    <tr>\n",
              "      <th>4</th>\n",
              "      <td>1996/97</td>\n",
              "      <td>17</td>\n",
              "      <td>10</td>\n",
              "      <td>5</td>\n",
              "      <td>2</td>\n",
              "      <td>34</td>\n",
              "      <td>16</td>\n",
              "      <td>18</td>\n",
              "      <td>35</td>\n",
              "      <td>2</td>\n",
              "      <td>68.0</td>\n",
              "      <td>3.0</td>\n",
              "    </tr>\n",
              "  </tbody>\n",
              "</table>\n",
              "</div>"
            ],
            "text/plain": [
              "    Season  Played  Won  Drawn  ...  Points  Position  Final Points  Final Position\n",
              "0  1992/93      19    9      2  ...      29         8          56.0            10.0\n",
              "1  1993/94      21    9      7  ...      34         5          71.0             4.0\n",
              "2  1994/95      19    6      6  ...      24        11          51.0            12.0\n",
              "3  1995/96      18    8      7  ...      31         6          63.0             5.0\n",
              "4  1996/97      17   10      5  ...      35         2          68.0             3.0\n",
              "\n",
              "[5 rows x 12 columns]"
            ]
          },
          "metadata": {},
          "execution_count": 6
        }
      ]
    },
    {
      "cell_type": "code",
      "metadata": {
        "id": "j971dtibVRox"
      },
      "source": [
        "]]"
      ],
      "execution_count": null,
      "outputs": []
    }
  ]
}