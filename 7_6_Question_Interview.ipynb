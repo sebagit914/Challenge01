{
  "nbformat": 4,
  "nbformat_minor": 0,
  "metadata": {
    "colab": {
      "name": "7.6.Question_Interview.ipynb",
      "provenance": [],
      "collapsed_sections": [],
      "toc_visible": true,
      "mount_file_id": "1cJvqiL9Ewxg7Al7qcFhU4WI0NC65BTCA",
      "authorship_tag": "ABX9TyMVaaZr5KMhUogc+AnBlTuh",
      "include_colab_link": true
    },
    "kernelspec": {
      "name": "python3",
      "display_name": "Python 3"
    },
    "language_info": {
      "name": "python"
    }
  },
  "cells": [
    {
      "cell_type": "markdown",
      "metadata": {
        "id": "view-in-github",
        "colab_type": "text"
      },
      "source": [
        "<a href=\"https://colab.research.google.com/github/sebagit914/Challenge01/blob/master/7_6_Question_Interview.ipynb\" target=\"_parent\"><img src=\"https://colab.research.google.com/assets/colab-badge.svg\" alt=\"Open In Colab\"/></a>"
      ]
    },
    {
      "cell_type": "markdown",
      "metadata": {
        "id": "TwdwPE-h7WLn"
      },
      "source": [
        "Preguntas de entrevista sobre Regresión logística\n",
        "\n",
        "1 ¿Cuál es la diferencia entre un parámetro de modelo y un hiperparámetro de aprendizaje?\n",
        "\n",
        "2 Nombra y explica brevemente varias métricas de evaluación que son útiles para problemas de clasificación.\n",
        "\n",
        "3 ¿Cuáles son dos formas comunes de automatizar el ajuste de hiperparámetros?\n",
        "\n",
        "4 ¿Cuándo se debes trabajar sin regularización vs. Ridge vs. Lasso vs, Elastic Net?\n",
        "\n",
        "5 ¿Es la regresión logística un regresor o un clasificador?\n",
        "\n",
        "6 ¿Qué parámetros se deben ajustar en los modelos de regresión logística? Explica cómo afectan el aprendizaje de modelos.\n",
        "\n",
        "7 ¿Qué es la regularización? ¿Por qué lo usarías?\n",
        "\n",
        "8 ¿Cómo funciona la regresión logística?\n",
        "\n",
        "9 ¿Cómo se crea la curva ROC?\n",
        "\n",
        "10 ¿Cómo interpretarías un coeficiente de un modelo de regresión logística?"
      ]
    },
    {
      "cell_type": "code",
      "metadata": {
        "id": "Kv4tga797owG"
      },
      "source": [
        ""
      ],
      "execution_count": null,
      "outputs": []
    }
  ]
}