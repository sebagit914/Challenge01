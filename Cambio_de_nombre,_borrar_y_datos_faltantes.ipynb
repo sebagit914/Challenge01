{
  "nbformat": 4,
  "nbformat_minor": 0,
  "metadata": {
    "colab": {
      "name": "Cambio de nombre, borrar y datos faltantes.ipynb",
      "provenance": [],
      "mount_file_id": "1d_wVxgJsccDqqLgN9sEQ2UiWXLrs6I-_",
      "authorship_tag": "ABX9TyP2lk+0ZvfTbzurgSt3rM5C",
      "include_colab_link": true
    },
    "kernelspec": {
      "name": "python3",
      "display_name": "Python 3"
    },
    "language_info": {
      "name": "python"
    }
  },
  "cells": [
    {
      "cell_type": "markdown",
      "metadata": {
        "id": "view-in-github",
        "colab_type": "text"
      },
      "source": [
        "<a href=\"https://colab.research.google.com/github/sebagit914/Challenge01/blob/master/Cambio_de_nombre%2C_borrar_y_datos_faltantes.ipynb\" target=\"_parent\"><img src=\"https://colab.research.google.com/assets/colab-badge.svg\" alt=\"Open In Colab\"/></a>"
      ]
    },
    {
      "cell_type": "code",
      "metadata": {
        "colab": {
          "base_uri": "https://localhost:8080/"
        },
        "id": "38ZTcpmOwJQP",
        "outputId": "684f7cd0-5273-4a45-c2a8-cadafe690c2b"
      },
      "source": [
        "from google.colab import drive\n",
        "drive.mount('/content/drive')"
      ],
      "execution_count": 1,
      "outputs": [
        {
          "output_type": "stream",
          "text": [
            "Mounted at /content/drive\n"
          ],
          "name": "stdout"
        }
      ]
    },
    {
      "cell_type": "code",
      "metadata": {
        "colab": {
          "base_uri": "https://localhost:8080/",
          "height": 204
        },
        "id": "R4I7kA8SwPyQ",
        "outputId": "71521612-7da7-42c5-a43f-8cdb6f4818f7"
      },
      "source": [
        "import pandas as pd\n",
        "filename = '/content/drive/MyDrive/PTDataScience/PandasForDataManipulation/RailsToTrails_National_Count_Data_week.xlsx'\n",
        "bike_df = pd.read_excel(filename)\n",
        "bike_df.head()"
      ],
      "execution_count": 4,
      "outputs": [
        {
          "output_type": "execute_result",
          "data": {
            "text/html": [
              "<div>\n",
              "<style scoped>\n",
              "    .dataframe tbody tr th:only-of-type {\n",
              "        vertical-align: middle;\n",
              "    }\n",
              "\n",
              "    .dataframe tbody tr th {\n",
              "        vertical-align: top;\n",
              "    }\n",
              "\n",
              "    .dataframe thead th {\n",
              "        text-align: right;\n",
              "    }\n",
              "</style>\n",
              "<table border=\"1\" class=\"dataframe\">\n",
              "  <thead>\n",
              "    <tr style=\"text-align: right;\">\n",
              "      <th></th>\n",
              "      <th>Timeframe</th>\n",
              "      <th>Week of</th>\n",
              "      <th>2019 counts (31 counters)</th>\n",
              "      <th>2020 counts (31 counters)</th>\n",
              "      <th>2021 Counts</th>\n",
              "      <th>Change 2019-2020</th>\n",
              "      <th>Unnamed: 6</th>\n",
              "      <th>Unnamed: 7</th>\n",
              "      <th>Unnamed: 8</th>\n",
              "      <th>Unnamed: 9</th>\n",
              "    </tr>\n",
              "  </thead>\n",
              "  <tbody>\n",
              "    <tr>\n",
              "      <th>0</th>\n",
              "      <td>Week 1</td>\n",
              "      <td>2020-12-30</td>\n",
              "      <td>167679</td>\n",
              "      <td>183546</td>\n",
              "      <td>NaN</td>\n",
              "      <td>0.094627</td>\n",
              "      <td>1.094627</td>\n",
              "      <td>NaN</td>\n",
              "      <td>NaN</td>\n",
              "      <td>NaN</td>\n",
              "    </tr>\n",
              "    <tr>\n",
              "      <th>1</th>\n",
              "      <td>Week 2</td>\n",
              "      <td>2020-01-06</td>\n",
              "      <td>82340</td>\n",
              "      <td>97140</td>\n",
              "      <td>NaN</td>\n",
              "      <td>0.179743</td>\n",
              "      <td>117.974253</td>\n",
              "      <td>NaN</td>\n",
              "      <td>NaN</td>\n",
              "      <td>NaN</td>\n",
              "    </tr>\n",
              "    <tr>\n",
              "      <th>2</th>\n",
              "      <td>Week 3</td>\n",
              "      <td>2020-01-13</td>\n",
              "      <td>62315</td>\n",
              "      <td>75782</td>\n",
              "      <td>NaN</td>\n",
              "      <td>0.216112</td>\n",
              "      <td>121.611169</td>\n",
              "      <td>NaN</td>\n",
              "      <td>NaN</td>\n",
              "      <td>NaN</td>\n",
              "    </tr>\n",
              "    <tr>\n",
              "      <th>3</th>\n",
              "      <td>Week 4</td>\n",
              "      <td>2020-01-20</td>\n",
              "      <td>75801</td>\n",
              "      <td>83809</td>\n",
              "      <td>NaN</td>\n",
              "      <td>0.105645</td>\n",
              "      <td>110.564504</td>\n",
              "      <td>NaN</td>\n",
              "      <td>NaN</td>\n",
              "      <td>NaN</td>\n",
              "    </tr>\n",
              "    <tr>\n",
              "      <th>4</th>\n",
              "      <td>Week 5</td>\n",
              "      <td>2020-01-27</td>\n",
              "      <td>75841</td>\n",
              "      <td>94738</td>\n",
              "      <td>NaN</td>\n",
              "      <td>0.249166</td>\n",
              "      <td>124.916602</td>\n",
              "      <td>NaN</td>\n",
              "      <td>NaN</td>\n",
              "      <td>NaN</td>\n",
              "    </tr>\n",
              "  </tbody>\n",
              "</table>\n",
              "</div>"
            ],
            "text/plain": [
              "  Timeframe    Week of  ...  Unnamed: 8  Unnamed: 9\n",
              "0    Week 1 2020-12-30  ...         NaN         NaN\n",
              "1    Week 2 2020-01-06  ...         NaN         NaN\n",
              "2    Week 3 2020-01-13  ...         NaN         NaN\n",
              "3    Week 4 2020-01-20  ...         NaN         NaN\n",
              "4    Week 5 2020-01-27  ...         NaN         NaN\n",
              "\n",
              "[5 rows x 10 columns]"
            ]
          },
          "metadata": {
            "tags": []
          },
          "execution_count": 4
        }
      ]
    },
    {
      "cell_type": "code",
      "metadata": {
        "colab": {
          "base_uri": "https://localhost:8080/"
        },
        "id": "ziFFSZMuwkcI",
        "outputId": "6d56a298-92c4-43a4-8739-96dca7ac4d70"
      },
      "source": [
        "bike_df.info()"
      ],
      "execution_count": 6,
      "outputs": [
        {
          "output_type": "stream",
          "text": [
            "<class 'pandas.core.frame.DataFrame'>\n",
            "RangeIndex: 52 entries, 0 to 51\n",
            "Data columns (total 10 columns):\n",
            " #   Column                      Non-Null Count  Dtype         \n",
            "---  ------                      --------------  -----         \n",
            " 0   Timeframe                   52 non-null     object        \n",
            " 1   Week of                     52 non-null     datetime64[ns]\n",
            " 2    2019 counts (31 counters)  52 non-null     int64         \n",
            " 3    2020 counts (31 counters)  52 non-null     int64         \n",
            " 4   2021 Counts                 0 non-null      float64       \n",
            " 5   Change 2019-2020            52 non-null     float64       \n",
            " 6   Unnamed: 6                  52 non-null     float64       \n",
            " 7   Unnamed: 7                  0 non-null      float64       \n",
            " 8   Unnamed: 8                  1 non-null      float64       \n",
            " 9   Unnamed: 9                  1 non-null      float64       \n",
            "dtypes: datetime64[ns](1), float64(6), int64(2), object(1)\n",
            "memory usage: 4.2+ KB\n"
          ],
          "name": "stdout"
        }
      ]
    },
    {
      "cell_type": "code",
      "metadata": {
        "colab": {
          "base_uri": "https://localhost:8080/"
        },
        "id": "WPXQDfE2wq2Y",
        "outputId": "c2751e7f-e6fd-4eb4-d05e-5d566f3a3bf3"
      },
      "source": [
        "bike_df.shape"
      ],
      "execution_count": 8,
      "outputs": [
        {
          "output_type": "execute_result",
          "data": {
            "text/plain": [
              "(52, 10)"
            ]
          },
          "metadata": {
            "tags": []
          },
          "execution_count": 8
        }
      ]
    },
    {
      "cell_type": "markdown",
      "metadata": {
        "id": "42ED-S8iw-0S"
      },
      "source": [
        "**01. Completa lo siguiente:**\n",
        "\n",
        "- Unnamed: 7\n",
        "- Unnamed: 8\n",
        "- Unnamed: 9"
      ]
    },
    {
      "cell_type": "code",
      "metadata": {
        "id": "Ek4B-6WRxIbi"
      },
      "source": [
        ""
      ],
      "execution_count": null,
      "outputs": []
    },
    {
      "cell_type": "markdown",
      "metadata": {
        "id": "iNWIrCHhxkSk"
      },
      "source": [
        "**02. Cambia el nombre de la columna Unnamed: 6 a percent_change.**"
      ]
    },
    {
      "cell_type": "code",
      "metadata": {
        "colab": {
          "base_uri": "https://localhost:8080/",
          "height": 204
        },
        "id": "Z0qNeQALxm7l",
        "outputId": "c9d0f578-31cf-41cf-c27a-40e8915825c1"
      },
      "source": [
        "bike_df = bike_df.rename(columns= {'Unnamed: 6' : 'percent_change'})\n",
        "bike_df.head()"
      ],
      "execution_count": 9,
      "outputs": [
        {
          "output_type": "execute_result",
          "data": {
            "text/html": [
              "<div>\n",
              "<style scoped>\n",
              "    .dataframe tbody tr th:only-of-type {\n",
              "        vertical-align: middle;\n",
              "    }\n",
              "\n",
              "    .dataframe tbody tr th {\n",
              "        vertical-align: top;\n",
              "    }\n",
              "\n",
              "    .dataframe thead th {\n",
              "        text-align: right;\n",
              "    }\n",
              "</style>\n",
              "<table border=\"1\" class=\"dataframe\">\n",
              "  <thead>\n",
              "    <tr style=\"text-align: right;\">\n",
              "      <th></th>\n",
              "      <th>Timeframe</th>\n",
              "      <th>Week of</th>\n",
              "      <th>2019 counts (31 counters)</th>\n",
              "      <th>2020 counts (31 counters)</th>\n",
              "      <th>2021 Counts</th>\n",
              "      <th>Change 2019-2020</th>\n",
              "      <th>percent_change</th>\n",
              "      <th>Unnamed: 7</th>\n",
              "      <th>Unnamed: 8</th>\n",
              "      <th>Unnamed: 9</th>\n",
              "    </tr>\n",
              "  </thead>\n",
              "  <tbody>\n",
              "    <tr>\n",
              "      <th>0</th>\n",
              "      <td>Week 1</td>\n",
              "      <td>2020-12-30</td>\n",
              "      <td>167679</td>\n",
              "      <td>183546</td>\n",
              "      <td>NaN</td>\n",
              "      <td>0.094627</td>\n",
              "      <td>1.094627</td>\n",
              "      <td>NaN</td>\n",
              "      <td>NaN</td>\n",
              "      <td>NaN</td>\n",
              "    </tr>\n",
              "    <tr>\n",
              "      <th>1</th>\n",
              "      <td>Week 2</td>\n",
              "      <td>2020-01-06</td>\n",
              "      <td>82340</td>\n",
              "      <td>97140</td>\n",
              "      <td>NaN</td>\n",
              "      <td>0.179743</td>\n",
              "      <td>117.974253</td>\n",
              "      <td>NaN</td>\n",
              "      <td>NaN</td>\n",
              "      <td>NaN</td>\n",
              "    </tr>\n",
              "    <tr>\n",
              "      <th>2</th>\n",
              "      <td>Week 3</td>\n",
              "      <td>2020-01-13</td>\n",
              "      <td>62315</td>\n",
              "      <td>75782</td>\n",
              "      <td>NaN</td>\n",
              "      <td>0.216112</td>\n",
              "      <td>121.611169</td>\n",
              "      <td>NaN</td>\n",
              "      <td>NaN</td>\n",
              "      <td>NaN</td>\n",
              "    </tr>\n",
              "    <tr>\n",
              "      <th>3</th>\n",
              "      <td>Week 4</td>\n",
              "      <td>2020-01-20</td>\n",
              "      <td>75801</td>\n",
              "      <td>83809</td>\n",
              "      <td>NaN</td>\n",
              "      <td>0.105645</td>\n",
              "      <td>110.564504</td>\n",
              "      <td>NaN</td>\n",
              "      <td>NaN</td>\n",
              "      <td>NaN</td>\n",
              "    </tr>\n",
              "    <tr>\n",
              "      <th>4</th>\n",
              "      <td>Week 5</td>\n",
              "      <td>2020-01-27</td>\n",
              "      <td>75841</td>\n",
              "      <td>94738</td>\n",
              "      <td>NaN</td>\n",
              "      <td>0.249166</td>\n",
              "      <td>124.916602</td>\n",
              "      <td>NaN</td>\n",
              "      <td>NaN</td>\n",
              "      <td>NaN</td>\n",
              "    </tr>\n",
              "  </tbody>\n",
              "</table>\n",
              "</div>"
            ],
            "text/plain": [
              "  Timeframe    Week of  ...  Unnamed: 8  Unnamed: 9\n",
              "0    Week 1 2020-12-30  ...         NaN         NaN\n",
              "1    Week 2 2020-01-06  ...         NaN         NaN\n",
              "2    Week 3 2020-01-13  ...         NaN         NaN\n",
              "3    Week 4 2020-01-20  ...         NaN         NaN\n",
              "4    Week 5 2020-01-27  ...         NaN         NaN\n",
              "\n",
              "[5 rows x 10 columns]"
            ]
          },
          "metadata": {
            "tags": []
          },
          "execution_count": 9
        }
      ]
    },
    {
      "cell_type": "code",
      "metadata": {
        "id": "hD73H5mxyFqP"
      },
      "source": [
        ""
      ],
      "execution_count": null,
      "outputs": []
    },
    {
      "cell_type": "markdown",
      "metadata": {
        "id": "9uM40FCFyH5B"
      },
      "source": [
        "**03. ¿Cuántos valores faltantes hay en el conjunto de datos?¿En qué columnas se encuentran?**"
      ]
    },
    {
      "cell_type": "code",
      "metadata": {
        "colab": {
          "base_uri": "https://localhost:8080/"
        },
        "id": "TrxtBXlVyKWz",
        "outputId": "0bf17989-1d37-40b7-f90d-4f0d58678680"
      },
      "source": [
        "bike_df.info()"
      ],
      "execution_count": 10,
      "outputs": [
        {
          "output_type": "stream",
          "text": [
            "<class 'pandas.core.frame.DataFrame'>\n",
            "RangeIndex: 52 entries, 0 to 51\n",
            "Data columns (total 10 columns):\n",
            " #   Column                      Non-Null Count  Dtype         \n",
            "---  ------                      --------------  -----         \n",
            " 0   Timeframe                   52 non-null     object        \n",
            " 1   Week of                     52 non-null     datetime64[ns]\n",
            " 2    2019 counts (31 counters)  52 non-null     int64         \n",
            " 3    2020 counts (31 counters)  52 non-null     int64         \n",
            " 4   2021 Counts                 0 non-null      float64       \n",
            " 5   Change 2019-2020            52 non-null     float64       \n",
            " 6   percent_change              52 non-null     float64       \n",
            " 7   Unnamed: 7                  0 non-null      float64       \n",
            " 8   Unnamed: 8                  1 non-null      float64       \n",
            " 9   Unnamed: 9                  1 non-null      float64       \n",
            "dtypes: datetime64[ns](1), float64(6), int64(2), object(1)\n",
            "memory usage: 4.2+ KB\n"
          ],
          "name": "stdout"
        }
      ]
    },
    {
      "cell_type": "code",
      "metadata": {
        "colab": {
          "base_uri": "https://localhost:8080/"
        },
        "id": "HyeFIMX1yYZD",
        "outputId": "d8a68653-f62d-4d9f-8d53-13e21c6dfa18"
      },
      "source": [
        "missing = bike_df.isna().sum()\n",
        "missing"
      ],
      "execution_count": 22,
      "outputs": [
        {
          "output_type": "execute_result",
          "data": {
            "text/plain": [
              "Timeframe                      0\n",
              "Week of                        0\n",
              " 2019 counts (31 counters)     0\n",
              " 2020 counts (31 counters)     0\n",
              "2021 Counts                   52\n",
              "Change 2019-2020               0\n",
              "percent_change                 0\n",
              "Unnamed: 7                    52\n",
              "Unnamed: 8                    51\n",
              "Unnamed: 9                    51\n",
              "dtype: int64"
            ]
          },
          "metadata": {
            "tags": []
          },
          "execution_count": 22
        }
      ]
    },
    {
      "cell_type": "markdown",
      "metadata": {
        "id": "XK0Pbpgt0YFs"
      },
      "source": [
        "**04. Ingresa todos los valores faltantes de la columna 2021 Counts con 0.**"
      ]
    },
    {
      "cell_type": "code",
      "metadata": {
        "colab": {
          "base_uri": "https://localhost:8080/"
        },
        "id": "td-AfYON0cpa",
        "outputId": "9da7f076-5d74-4009-f62f-9b43ec0bd910"
      },
      "source": [
        "fill_2021_Counts = bike_df['2021 Counts'].fillna(0)\n",
        "fill_2021_Counts.head()"
      ],
      "execution_count": 23,
      "outputs": [
        {
          "output_type": "execute_result",
          "data": {
            "text/plain": [
              "0    0.0\n",
              "1    0.0\n",
              "2    0.0\n",
              "3    0.0\n",
              "4    0.0\n",
              "Name: 2021 Counts, dtype: float64"
            ]
          },
          "metadata": {
            "tags": []
          },
          "execution_count": 23
        }
      ]
    },
    {
      "cell_type": "markdown",
      "metadata": {
        "id": "UVNQXDeE2Yr9"
      },
      "source": [
        "**05. Opcional/Bonus: Hay un problema desafiante pero común en el nombre de la columna de conteo 2019. ¿Lo puedes encontrar? Si lo logras, cámbiale el nombre a la columna conteo 2019 (31 contadores) a \"conteos_2019\" (un nombre de columna más Pythónico).**"
      ]
    },
    {
      "cell_type": "code",
      "metadata": {
        "colab": {
          "base_uri": "https://localhost:8080/",
          "height": 181
        },
        "id": "XzC3TNXc2bOE",
        "outputId": "cfe24bdf-e9f6-4d77-e5e0-b62042218c21"
      },
      "source": [
        "bike_df = bike_df.rename(columns= { '2019 counts (31 counters)' :'conteos_2019' }, inplace = True)\n",
        "bike_df.head()"
      ],
      "execution_count": 34,
      "outputs": [
        {
          "output_type": "error",
          "ename": "AttributeError",
          "evalue": "ignored",
          "traceback": [
            "\u001b[0;31m---------------------------------------------------------------------------\u001b[0m",
            "\u001b[0;31mAttributeError\u001b[0m                            Traceback (most recent call last)",
            "\u001b[0;32m<ipython-input-34-eebf49bdf32a>\u001b[0m in \u001b[0;36m<module>\u001b[0;34m()\u001b[0m\n\u001b[1;32m      1\u001b[0m \u001b[0mbike_df\u001b[0m \u001b[0;34m=\u001b[0m \u001b[0mbike_df\u001b[0m\u001b[0;34m.\u001b[0m\u001b[0mrename\u001b[0m\u001b[0;34m(\u001b[0m\u001b[0mcolumns\u001b[0m\u001b[0;34m=\u001b[0m \u001b[0;34m{\u001b[0m \u001b[0;34m'2019 counts (31 counters)'\u001b[0m \u001b[0;34m:\u001b[0m\u001b[0;34m'conteos_2019'\u001b[0m \u001b[0;34m}\u001b[0m\u001b[0;34m,\u001b[0m \u001b[0minplace\u001b[0m \u001b[0;34m=\u001b[0m \u001b[0;32mTrue\u001b[0m\u001b[0;34m)\u001b[0m\u001b[0;34m\u001b[0m\u001b[0;34m\u001b[0m\u001b[0m\n\u001b[0;32m----> 2\u001b[0;31m \u001b[0mbike_df\u001b[0m\u001b[0;34m.\u001b[0m\u001b[0mhead\u001b[0m\u001b[0;34m(\u001b[0m\u001b[0;34m)\u001b[0m\u001b[0;34m\u001b[0m\u001b[0;34m\u001b[0m\u001b[0m\n\u001b[0m",
            "\u001b[0;31mAttributeError\u001b[0m: 'NoneType' object has no attribute 'head'"
          ]
        }
      ]
    },
    {
      "cell_type": "code",
      "metadata": {
        "id": "KHKi8BsX3lgp"
      },
      "source": [
        ""
      ],
      "execution_count": null,
      "outputs": []
    }
  ]
}