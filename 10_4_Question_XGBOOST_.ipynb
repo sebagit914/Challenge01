{
  "nbformat": 4,
  "nbformat_minor": 0,
  "metadata": {
    "colab": {
      "name": "10.4_Question_XGBOOST .ipynb",
      "provenance": [],
      "collapsed_sections": [],
      "authorship_tag": "ABX9TyOaT3aqbHwXfx+TiXybC4RJ",
      "include_colab_link": true
    },
    "kernelspec": {
      "name": "python3",
      "display_name": "Python 3"
    },
    "language_info": {
      "name": "python"
    }
  },
  "cells": [
    {
      "cell_type": "markdown",
      "metadata": {
        "id": "view-in-github",
        "colab_type": "text"
      },
      "source": [
        "<a href=\"https://colab.research.google.com/github/sebagit914/Challenge01/blob/master/10_4_Question_XGBOOST_.ipynb\" target=\"_parent\"><img src=\"https://colab.research.google.com/assets/colab-badge.svg\" alt=\"Open In Colab\"/></a>"
      ]
    },
    {
      "cell_type": "code",
      "metadata": {
        "colab": {
          "base_uri": "https://localhost:8080/"
        },
        "id": "elqBjhcQo8hG",
        "outputId": "0c5d86d2-b854-47de-bac4-f39178232e19"
      },
      "source": [
        "from google.colab import drive\n",
        "drive.mount('/content/drive')"
      ],
      "execution_count": null,
      "outputs": [
        {
          "output_type": "stream",
          "name": "stdout",
          "text": [
            "Mounted at /content/drive\n"
          ]
        }
      ]
    },
    {
      "cell_type": "code",
      "metadata": {
        "id": "FUgvUV-gsDBc"
      },
      "source": [
        ""
      ],
      "execution_count": null,
      "outputs": []
    },
    {
      "cell_type": "markdown",
      "metadata": {
        "id": "voU1WfaIvIlx"
      },
      "source": [
        "Reducción de dimensionalidad - Preguntas de entrevista.\n",
        "\n",
        "¿Qué es boosting?\n",
        "\n",
        "¿Cuál es la diferencia entre bagging(ensacado) y boosting(impulso)?\n",
        "\n",
        "¿Cómo difiere la potenciación del gradiente de algoritmos de árboles de decisiones tradicionales?\n",
        "\n",
        "¿Qué hiperparámetros pueden calibrarse en potenciación del gradiente, además de cada hiperparámetro individual de los árboles?\n",
        "\n",
        "¿Cómo puedes reducir el sobreajuste al potenciar la gradiente?\n",
        "\n",
        "¿Por qué múltiples árboles débiles al azar podrían ser mejor que un solo árbol largo? \n",
        "\n",
        "¿Qué es potenciación del gradiente?\n",
        "\n",
        "¿Qué es stacking?\n",
        "\n",
        "¿Cuáles son los pros y contras del bagging?\n",
        "\n",
        "¿Cuáles son los pros y contras del boosting?\n"
      ]
    },
    {
      "cell_type": "code",
      "metadata": {
        "id": "ybblz7ikvJAl"
      },
      "source": [
        ""
      ],
      "execution_count": null,
      "outputs": []
    }
  ]
}