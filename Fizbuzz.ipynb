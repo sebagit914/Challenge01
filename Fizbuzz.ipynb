{
  "nbformat": 4,
  "nbformat_minor": 0,
  "metadata": {
    "colab": {
      "name": "Fizbuzz.ipynb",
      "provenance": [],
      "toc_visible": true,
      "authorship_tag": "ABX9TyOvDTxCiQbIuzn6CA1Rxa1y",
      "include_colab_link": true
    },
    "kernelspec": {
      "name": "python3",
      "display_name": "Python 3"
    },
    "language_info": {
      "name": "python"
    }
  },
  "cells": [
    {
      "cell_type": "markdown",
      "metadata": {
        "id": "view-in-github",
        "colab_type": "text"
      },
      "source": [
        "<a href=\"https://colab.research.google.com/github/sebagit914/Challenge01/blob/master/Fizbuzz.ipynb\" target=\"_parent\"><img src=\"https://colab.research.google.com/assets/colab-badge.svg\" alt=\"Open In Colab\"/></a>"
      ]
    },
    {
      "cell_type": "markdown",
      "metadata": {
        "id": "bexqG5q2dC8_"
      },
      "source": [
        "# 1 Importar librerias"
      ]
    },
    {
      "cell_type": "code",
      "metadata": {
        "id": "CjCsHPVVc79v"
      },
      "source": [
        "import pandas as pd\n",
        "import numpy as np"
      ],
      "execution_count": 1,
      "outputs": []
    },
    {
      "cell_type": "markdown",
      "metadata": {
        "id": "o4GhJPYCdYn5"
      },
      "source": [
        "FizzBuzz es una pregunta de entrevista común que se usa en múltiples lenguajes de programación como una manera de filtrar a los candidatos a programadores. Aunque este es un curso de ciencia de datos, es importante tener en cuenta que te pueden hacer preguntas como estas en situaciones de entrevistas. También es una manera de reforzar tu conocimiento.\n",
        "\n",
        "A continuación, mostramos una manera común de preguntar FizzBuzz.\n",
        "\n",
        "Escribe código que muestre en pantalla los números del 1 al 20, pero para los múltiplos de tres, muestra en pantalla «Fizz» en lugar del número y para los múltiplos de cinco, muestra «Buzz». Para los números que son múltiplos de cinco y tres, muestra en pantalla «FizzBuzz».\n",
        "\n",
        "Aquí hay una muestra del formato de salida de la solución:\n",
        "\n",
        "1\n",
        "2\n",
        "Fizz\n",
        "4\n",
        "Buzz\n",
        "Fizz\n",
        "7\n",
        "8\n",
        "Fizz\n",
        "Buzz\n",
        "11\n",
        "Fizz\n",
        "13\n",
        "14\n",
        "FizzBuzz\n",
        "16\n",
        "17\n",
        "Fizz\n",
        "19\n",
        "Buzz"
      ]
    },
    {
      "cell_type": "code",
      "metadata": {
        "colab": {
          "base_uri": "https://localhost:8080/"
        },
        "id": "xb0mBpyZdbml",
        "outputId": "fc0f1689-072d-4107-9c20-ad7726be1548"
      },
      "source": [
        "for num in range(1, 21):\n",
        "    if num % 3 == 0 and num % 5 == 0:\n",
        "        print('FizzBuzz')\n",
        "    elif num % 3 == 0:\n",
        "        print('Fizz')\n",
        "    elif num % 5 == 0:\n",
        "        print('Buzz')\n",
        "    else:\n",
        "        print(num)"
      ],
      "execution_count": 8,
      "outputs": [
        {
          "output_type": "stream",
          "text": [
            "1\n",
            "2\n",
            "Fizz\n",
            "4\n",
            "Buzz\n",
            "Fizz\n",
            "7\n",
            "8\n",
            "Fizz\n",
            "Buzz\n",
            "11\n",
            "Fizz\n",
            "13\n",
            "14\n",
            "FizzBuzz\n",
            "16\n",
            "17\n",
            "Fizz\n",
            "19\n",
            "Buzz\n"
          ],
          "name": "stdout"
        }
      ]
    },
    {
      "cell_type": "markdown",
      "metadata": {
        "id": "MyJoEN5LdCB7"
      },
      "source": [
        ""
      ]
    }
  ]
}