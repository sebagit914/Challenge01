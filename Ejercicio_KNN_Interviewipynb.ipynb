{
  "nbformat": 4,
  "nbformat_minor": 0,
  "metadata": {
    "colab": {
      "name": "Ejercicio KNN Interviewipynb",
      "provenance": [],
      "authorship_tag": "ABX9TyNIbKjlZR+NXsHJdm2pU/Y5",
      "include_colab_link": true
    },
    "kernelspec": {
      "name": "python3",
      "display_name": "Python 3"
    },
    "language_info": {
      "name": "python"
    }
  },
  "cells": [
    {
      "cell_type": "markdown",
      "metadata": {
        "id": "view-in-github",
        "colab_type": "text"
      },
      "source": [
        "<a href=\"https://colab.research.google.com/github/sebagit914/Challenge01/blob/master/Ejercicio_KNN_Interviewipynb.ipynb\" target=\"_parent\"><img src=\"https://colab.research.google.com/assets/colab-badge.svg\" alt=\"Open In Colab\"/></a>"
      ]
    },
    {
      "cell_type": "code",
      "metadata": {
        "id": "wLVVvHX9MMRw"
      },
      "source": [
        ""
      ],
      "execution_count": null,
      "outputs": []
    },
    {
      "cell_type": "markdown",
      "metadata": {
        "id": "TFpeIlMuMPyX"
      },
      "source": [
        "Intro to Machine Learning - Interview Question Solutions\n",
        "\n",
        "1. What is the difference between supervised and unsupervised learning?\n",
        "    - In supervised learning, we have a target (y) vector to predict.\n",
        "      In unsupervised learning, we do not have this target.\n",
        "\n",
        "2. What is the difference between regression and classification?\n",
        "    - Regression predicts a continuous variable,\n",
        "      while classification predicts a categorical variable.\n",
        "\n",
        "3. What are the assumptions of a linear regression model?\n",
        "    - Linearity: the target (y) and the features (X) have a linear relationship.\n",
        "    - Independence: the errors are not correlated with one another.\n",
        "    - Normality: the errors are normally distributed.\n",
        "    - Homoskedasticity: the variance of the error term is constant across values of the target and features.\n",
        "\n",
        "4. Explain the KNN algorithm.\n",
        "    - kNN makes a prediction by averaging the k neighbors nearest to a given data point.\n",
        "\n",
        "5. Explain linear regression to a non-technical coworker.\n",
        "    - The linear regression model finds the line of best fit for the data\n",
        "    - this allows us to predict the target using a linear relationship between\n",
        "      our features and our target.\n",
        "\n",
        "6. What is the bias-variance tradeoff?\n",
        "    - Bias refers to an error from an estimator that is too general\n",
        "      and does not learn relationships from a data set that would allow\n",
        "      it to make better predictions. Variance refers to error from an\n",
        "      estimator being too specific and learning relationships that are\n",
        "      specific to the training set but will not generalize to new records well.\n",
        "      The bias-variance trade-off is the trade-off between underfitting and overfitting.\n",
        "      We want to find a balance between bias and variance: general enough to\n",
        "      make good predictions on new data but specific enough to pick up as much\n",
        "      signal as possible.\n",
        "\n",
        "7. What is machine learning?\n",
        "    - Machine learning is the field of science that studies algorithms and\n",
        "      uses data to approximate functions increasingly well as they are given\n",
        "      more observations without being programmed to do so.\n",
        "\n",
        "8. What are some common applications of machine learning?\n",
        "    - Machine learning algorithms are often used to learn and automate human processes,\n",
        "      optimize outcomes, predict outcomes, model complex relationships,\n",
        "      and to learn patterns in data (among many other uses!)\n",
        "\n",
        "9. What does increasing the number of neighbors in a KNN model do to the bias and variance?\n",
        "    - As k increases, bias tends to increase and variance decreases.\n",
        "\n",
        "10. Describe various metrics for evaluating a regression model.\n",
        "    - Mean squared error (MSE) - the average of the squared error of each prediction\n",
        "    - Root mean squared error (RMSE) - square root of MSE\n",
        "    - Mean absolute error (MAE) - the average of the absolute error of each prediction\n",
        "    - Coefficient of determination (R^2) - proportion of variance in the target that is predictable from the features\n"
      ]
    }
  ]
}