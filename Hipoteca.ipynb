{
  "nbformat": 4,
  "nbformat_minor": 0,
  "metadata": {
    "colab": {
      "name": "Hipoteca.ipynb",
      "provenance": [],
      "mount_file_id": "1nnhlAvY15OFZW-PucLSdAHvV1ZfMzs6q",
      "authorship_tag": "ABX9TyPRUuB4HcJ3zjwoxn+1CqiJ",
      "include_colab_link": true
    },
    "kernelspec": {
      "name": "python3",
      "display_name": "Python 3"
    },
    "language_info": {
      "name": "python"
    }
  },
  "cells": [
    {
      "cell_type": "markdown",
      "metadata": {
        "id": "view-in-github",
        "colab_type": "text"
      },
      "source": [
        "<a href=\"https://colab.research.google.com/github/sebagit914/Challenge01/blob/master/Hipoteca.ipynb\" target=\"_parent\"><img src=\"https://colab.research.google.com/assets/colab-badge.svg\" alt=\"Open In Colab\"/></a>"
      ]
    },
    {
      "cell_type": "code",
      "metadata": {
        "id": "lZkk2dJgfx6_"
      },
      "source": [
        "#CÁLCULO HIPOTECA"
      ],
      "execution_count": null,
      "outputs": []
    },
    {
      "cell_type": "code",
      "metadata": {
        "id": "gwWnQl6Ui3_U"
      },
      "source": [
        "import math"
      ],
      "execution_count": null,
      "outputs": []
    },
    {
      "cell_type": "code",
      "metadata": {
        "id": "oq6UVt20f33h"
      },
      "source": [
        "n = 360\n",
        "p = 400000\n",
        "r = 0.0025\n"
      ],
      "execution_count": 72,
      "outputs": []
    },
    {
      "cell_type": "code",
      "metadata": {
        "id": "3gqSqbO7gI4y"
      },
      "source": [
        "def cuota(n,p,r):\n",
        "    x = (r*(1+r)**(n))\n",
        "    z = ((1+r)**(n)-1)\n",
        "    y =  p*(x/z)\n",
        "    return(y)"
      ],
      "execution_count": 73,
      "outputs": []
    },
    {
      "cell_type": "code",
      "metadata": {
        "colab": {
          "base_uri": "https://localhost:8080/"
        },
        "id": "tcBMPW3XsID1",
        "outputId": "c7696e80-4655-47cb-f862-130478750024"
      },
      "source": [
        "m = cuota(n,p,r)\n",
        "print(m)"
      ],
      "execution_count": 74,
      "outputs": [
        {
          "output_type": "stream",
          "text": [
            "1686.4161349178237\n"
          ],
          "name": "stdout"
        }
      ]
    },
    {
      "cell_type": "markdown",
      "metadata": {
        "id": "X_UdOPy0tjjb"
      },
      "source": [
        ""
      ]
    },
    {
      "cell_type": "code",
      "metadata": {
        "id": "kdiAnr8cxtre"
      },
      "source": [
        ""
      ],
      "execution_count": null,
      "outputs": []
    }
  ]
}