{
  "nbformat": 4,
  "nbformat_minor": 0,
  "metadata": {
    "colab": {
      "name": "Funciones_II.ipynb",
      "provenance": [],
      "authorship_tag": "ABX9TyMT8jloHX/98mYZo7UxXIGW",
      "include_colab_link": true
    },
    "kernelspec": {
      "name": "python3",
      "display_name": "Python 3"
    },
    "language_info": {
      "name": "python"
    }
  },
  "cells": [
    {
      "cell_type": "markdown",
      "metadata": {
        "id": "view-in-github",
        "colab_type": "text"
      },
      "source": [
        "<a href=\"https://colab.research.google.com/github/sebagit914/Challenge01/blob/master/Funciones_II.ipynb\" target=\"_parent\"><img src=\"https://colab.research.google.com/assets/colab-badge.svg\" alt=\"Open In Colab\"/></a>"
      ]
    },
    {
      "cell_type": "code",
      "metadata": {
        "id": "GQXNxVv1rX_S"
      },
      "source": [
        "#01.Cuenta Regresiva\n",
        "#Crea una función que acepte un número como entrada. Devuelve una lista nueva que cuenta de uno en uno, \n",
        "#desde el número (como elemento 0) hasta 0 (como último elemento).\n",
        "#Ejemplo: cuentaregresiva(5) debe devolver la lista: [5,4,3,2,1,0]"
      ],
      "execution_count": 1,
      "outputs": []
    },
    {
      "cell_type": "code",
      "metadata": {
        "colab": {
          "base_uri": "https://localhost:8080/",
          "height": 215
        },
        "id": "cfrIoK_h0G5S",
        "outputId": "c9d5b779-3485-4005-dbeb-e56ba0130ef8"
      },
      "source": [
        "def my_function(food):\n",
        "  for x in range(0,food+1):\n",
        "    print(num-x)\n",
        "\n",
        "my_function = int(input(\"Enter x: \"))\n",
        "my_function(food)\n"
      ],
      "execution_count": 3,
      "outputs": [
        {
          "output_type": "stream",
          "text": [
            "Enter x: 5\n"
          ],
          "name": "stdout"
        },
        {
          "output_type": "error",
          "ename": "NameError",
          "evalue": "ignored",
          "traceback": [
            "\u001b[0;31m---------------------------------------------------------------------------\u001b[0m",
            "\u001b[0;31mNameError\u001b[0m                                 Traceback (most recent call last)",
            "\u001b[0;32m<ipython-input-3-8466c5cb9802>\u001b[0m in \u001b[0;36m<module>\u001b[0;34m()\u001b[0m\n\u001b[1;32m      4\u001b[0m \u001b[0;34m\u001b[0m\u001b[0m\n\u001b[1;32m      5\u001b[0m \u001b[0mmy_function\u001b[0m \u001b[0;34m=\u001b[0m \u001b[0mint\u001b[0m\u001b[0;34m(\u001b[0m\u001b[0minput\u001b[0m\u001b[0;34m(\u001b[0m\u001b[0;34m\"Enter x: \"\u001b[0m\u001b[0;34m)\u001b[0m\u001b[0;34m)\u001b[0m\u001b[0;34m\u001b[0m\u001b[0;34m\u001b[0m\u001b[0m\n\u001b[0;32m----> 6\u001b[0;31m \u001b[0mmy_function\u001b[0m\u001b[0;34m(\u001b[0m\u001b[0mfood\u001b[0m\u001b[0;34m)\u001b[0m\u001b[0;34m\u001b[0m\u001b[0;34m\u001b[0m\u001b[0m\n\u001b[0m",
            "\u001b[0;31mNameError\u001b[0m: name 'food' is not defined"
          ]
        }
      ]
    },
    {
      "cell_type": "code",
      "metadata": {
        "colab": {
          "base_uri": "https://localhost:8080/"
        },
        "id": "_vRi27OE5F5d",
        "outputId": "a8fb837e-ae68-4bcd-deff-096d732eeb28"
      },
      "source": [
        "def my_function(food):\n",
        "  for x in food:\n",
        "    print(x)\n",
        "\n",
        "fruits = [\"apple\", \"banana\", \"cherry\"]\n",
        "\n",
        "my_function(fruits)"
      ],
      "execution_count": 1,
      "outputs": [
        {
          "output_type": "stream",
          "text": [
            "apple\n",
            "banana\n",
            "cherry\n"
          ],
          "name": "stdout"
        }
      ]
    },
    {
      "cell_type": "code",
      "metadata": {
        "colab": {
          "base_uri": "https://localhost:8080/"
        },
        "id": "foKoHAIhrd8Z",
        "outputId": "83bc72d7-1327-48c0-837e-c487927d113f"
      },
      "source": [
        "def max_fun(a,b,c):\n",
        "  return max(a,b,c)\n",
        "\n",
        "  print(max_fun(2,5,8))"
      ],
      "execution_count": 14,
      "outputs": [
        {
          "output_type": "stream",
          "text": [
            "8\n"
          ],
          "name": "stdout"
        }
      ]
    },
    {
      "cell_type": "code",
      "metadata": {
        "colab": {
          "base_uri": "https://localhost:8080/"
        },
        "id": "s47UrVwArmYH",
        "outputId": "abaabf6c-cff8-442b-9acb-a27a6bf7ef87"
      },
      "source": [
        "def check_for_max(a,b,c):\n",
        "  if a>b and a>c:\n",
        "    print(str(a)+ \" is the largest\")\n",
        "  elif b>a and b>c:\n",
        "    print(str(b)+ \" is the largest\")\n",
        "  elif c>a and c>b:\n",
        "    print(str(c)+ \" is the largest\")\n",
        "  else:\n",
        "    pass\n",
        "\n",
        "x = int(input(\"Enter x: \"))\n",
        "y = int(input(\"Enter y: \"))\n",
        "z = int(input(\"Enter z: \"))\n",
        "check_for_max(x,y,z)"
      ],
      "execution_count": 8,
      "outputs": [
        {
          "output_type": "stream",
          "text": [
            "Enter x: 2\n",
            "Enter y: 3\n",
            "Enter z: 4\n",
            "4 is the largest\n"
          ],
          "name": "stdout"
        }
      ]
    },
    {
      "cell_type": "code",
      "metadata": {
        "colab": {
          "base_uri": "https://localhost:8080/"
        },
        "id": "BNyRLOBnsph6",
        "outputId": "95cc5356-0c33-42f9-b4e9-1d05f0cfa837"
      },
      "source": [
        "\n",
        "num = 10\n",
        "\n",
        "for i in range (0,num+1):\n",
        "\n",
        "  print(num-i)"
      ],
      "execution_count": 51,
      "outputs": [
        {
          "output_type": "stream",
          "text": [
            "10\n",
            "9\n",
            "8\n",
            "7\n",
            "6\n",
            "5\n",
            "4\n",
            "3\n",
            "2\n",
            "1\n",
            "0\n"
          ],
          "name": "stdout"
        }
      ]
    },
    {
      "cell_type": "code",
      "metadata": {
        "id": "JBElYMYL4EBe"
      },
      "source": [
        "def string_reverse():\n",
        "  a = input('Type anything here: ')\n",
        "  newstring = ''\n",
        "  for char in a[::-1]:\n",
        "    newstring = newstring+char\n",
        "    print('The reversed string is: ')\n",
        "    return newstring"
      ],
      "execution_count": 8,
      "outputs": []
    },
    {
      "cell_type": "code",
      "metadata": {
        "id": "y5zQRJpC5Cuf"
      },
      "source": [
        ""
      ],
      "execution_count": null,
      "outputs": []
    },
    {
      "cell_type": "code",
      "metadata": {
        "id": "uvfxqjBY5EfX"
      },
      "source": [
        ""
      ],
      "execution_count": null,
      "outputs": []
    }
  ]
}