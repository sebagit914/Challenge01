{
  "nbformat": 4,
  "nbformat_minor": 0,
  "metadata": {
    "colab": {
      "name": "Funciones_II.ipynb",
      "provenance": [],
      "authorship_tag": "ABX9TyM4b23u7dmFsVQ/KCGDGLTM",
      "include_colab_link": true
    },
    "kernelspec": {
      "display_name": "Python 3",
      "name": "python3"
    },
    "language_info": {
      "name": "python"
    }
  },
  "cells": [
    {
      "cell_type": "markdown",
      "metadata": {
        "id": "view-in-github",
        "colab_type": "text"
      },
      "source": [
        "<a href=\"https://colab.research.google.com/github/sebagit914/Challenge01/blob/master/Funciones_II.ipynb\" target=\"_parent\"><img src=\"https://colab.research.google.com/assets/colab-badge.svg\" alt=\"Open In Colab\"/></a>"
      ]
    },
    {
      "cell_type": "code",
      "metadata": {
        "id": "d3XQI3mjazr-"
      },
      "source": [
        ""
      ],
      "execution_count": null,
      "outputs": []
    },
    {
      "cell_type": "markdown",
      "metadata": {
        "id": "aWdpJrndLL4Q"
      },
      "source": [
        "**01.Cuenta Regresiva\n",
        "Crea una función que acepte un número como entrada. Devuelve una lista nueva que cuenta de uno en uno, \n",
        "desde el número (como elemento 0) hasta 0 (como último elemento).\n",
        "Ejemplo: cuentaregresiva(5) debe devolver la lista: [5,4,3,2,1,0]**"
      ]
    },
    {
      "cell_type": "code",
      "metadata": {
        "id": "uvfxqjBY5EfX"
      },
      "source": [
        "def countdown(num):\n",
        "  \n",
        "  for i in range (0,num+1):\n",
        "  \n",
        "    print(num-i)\n",
        "\n",
        "cuenta = int(input(\"Enter x: \"))\n",
        "countdown(cuenta)\n",
        "\n",
        "#countdown(5)"
      ],
      "execution_count": null,
      "outputs": []
    },
    {
      "cell_type": "markdown",
      "metadata": {
        "id": "j84VCMTFLbYZ"
      },
      "source": [
        "**02.Print y return -  Crea una función que reciba una lista con dos números. Imprime el primer valor y devuelve el segundo.\n",
        "Ejemplo: : print_and_return([1,2]) debe imprimir 1 y devolver 2**"
      ]
    },
    {
      "cell_type": "code",
      "metadata": {
        "colab": {
          "base_uri": "https://localhost:8080/"
        },
        "id": "IvASPqJCryTY",
        "outputId": "70a87d65-c404-4dad-e401-d7e59f619f18"
      },
      "source": [
        "def funcion2(a,b):\n",
        "    print(a)\n",
        "    return b\n",
        "\n",
        "funcion2(1,2)"
      ],
      "execution_count": 2,
      "outputs": [
        {
          "output_type": "stream",
          "text": [
            "1\n"
          ],
          "name": "stdout"
        },
        {
          "output_type": "execute_result",
          "data": {
            "text/plain": [
              "2"
            ]
          },
          "metadata": {
            "tags": []
          },
          "execution_count": 2
        }
      ]
    },
    {
      "cell_type": "markdown",
      "metadata": {
        "id": "s_549OD-L70q"
      },
      "source": [
        "**03.Primero más longitud - Crea una función que acepte una lista y devuelva la suma del primer valor de la lista, más la longitud de la lista.\n",
        "Ejemplo: first_plus_length([1,2,3,4,5])  debe devolver 6 (primer valor): 1 +length: 5)**"
      ]
    },
    {
      "cell_type": "code",
      "metadata": {
        "colab": {
          "base_uri": "https://localhost:8080/"
        },
        "id": "HQVROrdyL_gM",
        "outputId": "2c9fe544-ff2d-49f6-de3a-abed665529b1"
      },
      "source": [
        "def function(suma):\n",
        "\n",
        "  lista1 = len(lista)\n",
        "  return lista1\n",
        "  uno = lista[0]\n",
        "  return uno\n",
        "  suma = lista1 + uno\n",
        "\n",
        "\n",
        "lista = [1,2,3]\n",
        "function(lista)\n",
        "\n",
        "print(suma)"
      ],
      "execution_count": 31,
      "outputs": [
        {
          "output_type": "stream",
          "text": [
            "3\n"
          ],
          "name": "stdout"
        }
      ]
    },
    {
      "cell_type": "markdown",
      "metadata": {
        "id": "MnAsSwmY0Zzs"
      },
      "source": [
        "**04.Esta longitud, ese valor - Escribe una función que acepte dos enteros como parámetros: tamaño y valor. La función debe crear y devolver una lista cuya longitud sea igual al tamaño dado, y cuyos valores sean, todos, el valor dado.\n",
        "Ejemplo: length_and_value(4,7) debe devolver [7,7,7,7]\n",
        "Ejemplo: length_and_value(6,2) debe devolver [2,2,2,2,2,2]**"
      ]
    },
    {
      "cell_type": "code",
      "metadata": {
        "colab": {
          "base_uri": "https://localhost:8080/"
        },
        "id": "qyvl4aXP0ebR",
        "outputId": "5c8ef0fd-997e-4052-aa65-8dcad9098916"
      },
      "source": [
        "def length_and_value(tamano, valor):\n",
        "    nuevaLista = []\n",
        "    for i in range(tamano):\n",
        "        nuevaLista.append(valor)\n",
        "    return nuevaLista\n",
        "print(length_and_value(3,8))"
      ],
      "execution_count": 10,
      "outputs": [
        {
          "output_type": "stream",
          "text": [
            "[8, 8, 8]\n"
          ],
          "name": "stdout"
        }
      ]
    },
    {
      "cell_type": "code",
      "metadata": {
        "id": "3ryfrLja2v3c"
      },
      "source": [
        ""
      ],
      "execution_count": null,
      "outputs": []
    },
    {
      "cell_type": "markdown",
      "metadata": {
        "id": "cX6UDOtU28X6"
      },
      "source": [
        "**05.Valores mayores que el segundo (opcional) - Escribe una función que acepte una lista y cree una nueva que contenga solo los valores de la lista original que sean mayores que su segundo valor. Imprime cuántos valores son y luego devuelve la lista nueva. Si la lista tiene menos de 2 elementos, has que la función devuelva False\n",
        "Ejemplo: values_greater_than_second([5,2,3,2,1,4]) debe imprimir 3 y devolver [5,3,4]\n",
        "Ejemplo: values_greater_than_second([3]) debe devolver False**"
      ]
    },
    {
      "cell_type": "code",
      "metadata": {
        "colab": {
          "base_uri": "https://localhost:8080/"
        },
        "id": "QiISHYOG2_2O",
        "outputId": "b7556e62-4467-4d3b-8c80-0d69ba14b0f2"
      },
      "source": [
        "def values_greater_than_second(list):\n",
        "    if len(list)<2:\n",
        "        return False\n",
        "    newList = []\n",
        "    # greaterThan = list[1]\n",
        "    for val in list:\n",
        "        if val>list[1]:\n",
        "            newList.append(val)\n",
        "    print(len(newList))    \n",
        "    return newList\n",
        "print(values_greater_than_second([55,6,2,3,99,78,20,1]))\n",
        "print(values_greater_than_second([55,0,2,3,99,78,20,1]))\n",
        "print(values_greater_than_second([1]))\n",
        "print(values_greater_than_second([]))"
      ],
      "execution_count": 11,
      "outputs": [
        {
          "output_type": "stream",
          "text": [
            "4\n",
            "[55, 99, 78, 20]\n",
            "7\n",
            "[55, 2, 3, 99, 78, 20, 1]\n",
            "False\n",
            "False\n"
          ],
          "name": "stdout"
        }
      ]
    },
    {
      "cell_type": "code",
      "metadata": {
        "id": "VrIFZHfr3JMQ"
      },
      "source": [
        ""
      ],
      "execution_count": null,
      "outputs": []
    }
  ]
}