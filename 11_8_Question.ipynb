{
  "nbformat": 4,
  "nbformat_minor": 0,
  "metadata": {
    "colab": {
      "name": "11.8_Question.ipynb",
      "provenance": [],
      "collapsed_sections": [],
      "authorship_tag": "ABX9TyNeIIVTbmMUUH4pYu/hI4F9",
      "include_colab_link": true
    },
    "kernelspec": {
      "display_name": "Python 3",
      "name": "python3"
    },
    "language_info": {
      "name": "python"
    }
  },
  "cells": [
    {
      "cell_type": "markdown",
      "metadata": {
        "id": "view-in-github",
        "colab_type": "text"
      },
      "source": [
        "<a href=\"https://colab.research.google.com/github/sebagit914/Challenge01/blob/master/11_8_Question.ipynb\" target=\"_parent\"><img src=\"https://colab.research.google.com/assets/colab-badge.svg\" alt=\"Open In Colab\"/></a>"
      ]
    },
    {
      "cell_type": "markdown",
      "metadata": {
        "id": "pFzrXbtxs-NE"
      },
      "source": [
        "Preguntas de entrevista sobre Aprendizaje profundo\n",
        "\n",
        "¿Cuándo usarías una red neuronal recurrente?\n",
        "\n",
        "¿Cómo funciona una red neuronal recurrente?\n",
        "\n",
        "¿Qué hiperparámetros están disponibles en LSTM?\n",
        "\n",
        "Explica a un compañero de trabajo no técnico qué son las redes neuronales.\n",
        "\n",
        "Imagina que utilizas una red neuronal para clasificar imágenes, pero tu conjunto de datos es muy pequeño. Necesitas agregar datos adicionales para construir un modelo bueno, pero no tienes acceso a otras imágenes. ¿Qué harías?\n",
        "¿Cómo funciona la propagación hacia atrás?\n",
        "\n",
        "¿Con qué tipos de redes neuronales has trabajado? \n",
        "\n",
        "¿Qué tipos de conjuntos de datos son mejores para las redes neuronales?\n",
        "\n",
        "¿Por qué las RNC son buenas para los datos de imágenes?\n",
        "\n",
        "¿Cuáles son las desventajas del aumento de datos?"
      ]
    },
    {
      "cell_type": "code",
      "metadata": {
        "id": "cxxu8F4PtC5Z"
      },
      "source": [
        ""
      ],
      "execution_count": null,
      "outputs": []
    }
  ]
}