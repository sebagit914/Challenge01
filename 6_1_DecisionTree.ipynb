{
  "nbformat": 4,
  "nbformat_minor": 0,
  "metadata": {
    "colab": {
      "name": "6.1.DecisionTree.ipynb",
      "provenance": [],
      "collapsed_sections": [],
      "toc_visible": true,
      "authorship_tag": "ABX9TyOXHuThVGTgZiOBNO17x2hB",
      "include_colab_link": true
    },
    "kernelspec": {
      "name": "python3",
      "display_name": "Python 3"
    },
    "language_info": {
      "name": "python"
    }
  },
  "cells": [
    {
      "cell_type": "markdown",
      "metadata": {
        "id": "view-in-github",
        "colab_type": "text"
      },
      "source": [
        "<a href=\"https://colab.research.google.com/github/sebagit914/Challenge01/blob/master/6_1_DecisionTree.ipynb\" target=\"_parent\"><img src=\"https://colab.research.google.com/assets/colab-badge.svg\" alt=\"Open In Colab\"/></a>"
      ]
    },
    {
      "cell_type": "code",
      "metadata": {
        "id": "Xrtiu3sk53vu"
      },
      "source": [
        ""
      ],
      "execution_count": null,
      "outputs": []
    },
    {
      "cell_type": "markdown",
      "metadata": {
        "id": "SvIaji0155mG"
      },
      "source": [
        "1 ¿Cuál de KNN o regresión lineal pareció un mejor modelo cuando no usaste la división entrenar probar?\n",
        "\n",
        "2 ¿Cuál de KNN o regresión lineal pareció un mejor modelo cuando usaste la división entrenar probar?\n",
        "\n",
        "3 ¿Hubo alguna ventaja en la regresión lineal en términos de la cantidad de código que tenías que escribir?\n",
        "\n",
        "4 ¿Hay alguna forma de mostrarle a alguien cuál de los dos modelos fue más efectivo?\n",
        "\n",
        "5 ¿Crees que podrías haber mejorado KNN para mejorar la eficacia del modelo?"
      ]
    },
    {
      "cell_type": "markdown",
      "metadata": {
        "id": "IMa78WWOfd3S"
      },
      "source": [
        "# Importación de libreria"
      ]
    },
    {
      "cell_type": "code",
      "metadata": {
        "id": "clIjzha3dlcX"
      },
      "source": [
        "import pandas as pd\n",
        "import numpy as np\n",
        "import matplotlib.pyplot as plt\n",
        "import seaborn as sns\n",
        "\n",
        "# Para escalar datos\n",
        "from sklearn.preprocessing import StandardScaler\n",
        "from sklearn.datasets import load_iris\n",
        "from sklearn.linear_model import LinearRegression\n",
        "from sklearn.neighbors import KNeighborsClassifier\n",
        "from sklearn.neighbors import KNeighborsRegressor\n",
        "\n",
        "# Para la validación del modelo\n",
        "from sklearn.model_selection import train_test_split\n",
        "\n"
      ],
      "execution_count": 37,
      "outputs": []
    },
    {
      "cell_type": "markdown",
      "metadata": {
        "id": "svyY8T26fiB_"
      },
      "source": [
        "# Data importation"
      ]
    },
    {
      "cell_type": "code",
      "metadata": {
        "colab": {
          "base_uri": "https://localhost:8080/",
          "height": 206
        },
        "id": "T5PQANkId6iY",
        "outputId": "70572311-96d5-4a21-e7dd-8d0361d264d4"
      },
      "source": [
        "#filename = '/content/drive/MyDrive/PTDataScience/PandasForDataManipulation/abalone_csv.csv'\n",
        "df = pd.read_csv(r'https://archive.ics.uci.edu/ml/machine-learning-databases/abalone/abalone.data', header = None)\n",
        "df.head()"
      ],
      "execution_count": 16,
      "outputs": [
        {
          "output_type": "execute_result",
          "data": {
            "text/html": [
              "<div>\n",
              "<style scoped>\n",
              "    .dataframe tbody tr th:only-of-type {\n",
              "        vertical-align: middle;\n",
              "    }\n",
              "\n",
              "    .dataframe tbody tr th {\n",
              "        vertical-align: top;\n",
              "    }\n",
              "\n",
              "    .dataframe thead th {\n",
              "        text-align: right;\n",
              "    }\n",
              "</style>\n",
              "<table border=\"1\" class=\"dataframe\">\n",
              "  <thead>\n",
              "    <tr style=\"text-align: right;\">\n",
              "      <th></th>\n",
              "      <th>0</th>\n",
              "      <th>1</th>\n",
              "      <th>2</th>\n",
              "      <th>3</th>\n",
              "      <th>4</th>\n",
              "      <th>5</th>\n",
              "      <th>6</th>\n",
              "      <th>7</th>\n",
              "      <th>8</th>\n",
              "    </tr>\n",
              "  </thead>\n",
              "  <tbody>\n",
              "    <tr>\n",
              "      <th>0</th>\n",
              "      <td>M</td>\n",
              "      <td>0.455</td>\n",
              "      <td>0.365</td>\n",
              "      <td>0.095</td>\n",
              "      <td>0.5140</td>\n",
              "      <td>0.2245</td>\n",
              "      <td>0.1010</td>\n",
              "      <td>0.150</td>\n",
              "      <td>15</td>\n",
              "    </tr>\n",
              "    <tr>\n",
              "      <th>1</th>\n",
              "      <td>M</td>\n",
              "      <td>0.350</td>\n",
              "      <td>0.265</td>\n",
              "      <td>0.090</td>\n",
              "      <td>0.2255</td>\n",
              "      <td>0.0995</td>\n",
              "      <td>0.0485</td>\n",
              "      <td>0.070</td>\n",
              "      <td>7</td>\n",
              "    </tr>\n",
              "    <tr>\n",
              "      <th>2</th>\n",
              "      <td>F</td>\n",
              "      <td>0.530</td>\n",
              "      <td>0.420</td>\n",
              "      <td>0.135</td>\n",
              "      <td>0.6770</td>\n",
              "      <td>0.2565</td>\n",
              "      <td>0.1415</td>\n",
              "      <td>0.210</td>\n",
              "      <td>9</td>\n",
              "    </tr>\n",
              "    <tr>\n",
              "      <th>3</th>\n",
              "      <td>M</td>\n",
              "      <td>0.440</td>\n",
              "      <td>0.365</td>\n",
              "      <td>0.125</td>\n",
              "      <td>0.5160</td>\n",
              "      <td>0.2155</td>\n",
              "      <td>0.1140</td>\n",
              "      <td>0.155</td>\n",
              "      <td>10</td>\n",
              "    </tr>\n",
              "    <tr>\n",
              "      <th>4</th>\n",
              "      <td>I</td>\n",
              "      <td>0.330</td>\n",
              "      <td>0.255</td>\n",
              "      <td>0.080</td>\n",
              "      <td>0.2050</td>\n",
              "      <td>0.0895</td>\n",
              "      <td>0.0395</td>\n",
              "      <td>0.055</td>\n",
              "      <td>7</td>\n",
              "    </tr>\n",
              "  </tbody>\n",
              "</table>\n",
              "</div>"
            ],
            "text/plain": [
              "   0      1      2      3       4       5       6      7   8\n",
              "0  M  0.455  0.365  0.095  0.5140  0.2245  0.1010  0.150  15\n",
              "1  M  0.350  0.265  0.090  0.2255  0.0995  0.0485  0.070   7\n",
              "2  F  0.530  0.420  0.135  0.6770  0.2565  0.1415  0.210   9\n",
              "3  M  0.440  0.365  0.125  0.5160  0.2155  0.1140  0.155  10\n",
              "4  I  0.330  0.255  0.080  0.2050  0.0895  0.0395  0.055   7"
            ]
          },
          "metadata": {},
          "execution_count": 16
        }
      ]
    },
    {
      "cell_type": "code",
      "metadata": {
        "id": "cu1ub_wPeUho"
      },
      "source": [
        "#Rings gives the age in years\n",
        "df.columns = ['Sex', 'Length', 'Diameter', 'Height', 'Whole_weight', 'Shucked_weight',\n",
        "       'Viscera_weight', 'Shell_weight', 'Rings']"
      ],
      "execution_count": 17,
      "outputs": []
    },
    {
      "cell_type": "code",
      "metadata": {
        "colab": {
          "base_uri": "https://localhost:8080/"
        },
        "id": "n7HQgIENeXUG",
        "outputId": "6935fd30-29b6-41c1-c79a-d2aab4812606"
      },
      "source": [
        "df.shape"
      ],
      "execution_count": 18,
      "outputs": [
        {
          "output_type": "execute_result",
          "data": {
            "text/plain": [
              "(4177, 9)"
            ]
          },
          "metadata": {},
          "execution_count": 18
        }
      ]
    },
    {
      "cell_type": "code",
      "metadata": {
        "id": "nLEEgYxAeivU"
      },
      "source": [
        "#Utilizo 2 [[]] porq debe ser bidimensional\n",
        "X = df[['Length', 'Diameter', 'Height', 'Whole_weight', 'Shucked_weight',\n",
        "       'Viscera_weight', 'Shell_weight']]\n",
        "y = df['Rings']"
      ],
      "execution_count": 19,
      "outputs": []
    },
    {
      "cell_type": "code",
      "metadata": {
        "colab": {
          "base_uri": "https://localhost:8080/"
        },
        "id": "VQK5okYvfGcG",
        "outputId": "d82803d7-e5d2-4c23-ac7e-16be886fd519"
      },
      "source": [
        "y.shape"
      ],
      "execution_count": 20,
      "outputs": [
        {
          "output_type": "execute_result",
          "data": {
            "text/plain": [
              "(4177,)"
            ]
          },
          "metadata": {},
          "execution_count": 20
        }
      ]
    },
    {
      "cell_type": "markdown",
      "metadata": {
        "id": "CvGL6VwZ8m8U"
      },
      "source": [
        "# Regresion Lineal sin train test split"
      ]
    },
    {
      "cell_type": "code",
      "metadata": {
        "colab": {
          "base_uri": "https://localhost:8080/"
        },
        "id": "1rAOfc-r77Hz",
        "outputId": "5ab53220-1328-40c6-9c74-e31982b42d6c"
      },
      "source": [
        "lr = LinearRegression()\n",
        "lr.fit(X,y)"
      ],
      "execution_count": 21,
      "outputs": [
        {
          "output_type": "execute_result",
          "data": {
            "text/plain": [
              "LinearRegression(copy_X=True, fit_intercept=True, n_jobs=None, normalize=False)"
            ]
          },
          "metadata": {},
          "execution_count": 21
        }
      ]
    },
    {
      "cell_type": "code",
      "metadata": {
        "colab": {
          "base_uri": "https://localhost:8080/"
        },
        "id": "TCJFdjq58tPR",
        "outputId": "6867a00a-2886-4e63-af61-8603eb8ea862"
      },
      "source": [
        "#R2\n",
        "lr.score(X,y)"
      ],
      "execution_count": 29,
      "outputs": [
        {
          "output_type": "execute_result",
          "data": {
            "text/plain": [
              "0.5276299399919837"
            ]
          },
          "metadata": {},
          "execution_count": 29
        }
      ]
    },
    {
      "cell_type": "code",
      "metadata": {
        "colab": {
          "base_uri": "https://localhost:8080/"
        },
        "id": "XX1NAxXE8xpl",
        "outputId": "079829c5-9da4-4aca-a5d5-3786aac17128"
      },
      "source": [
        "from sklearn.metrics import mean_squared_error\n",
        "mean_squared_error(y, lr.predict(X))"
      ],
      "execution_count": 24,
      "outputs": [
        {
          "output_type": "execute_result",
          "data": {
            "text/plain": [
              "4.909236815818961"
            ]
          },
          "metadata": {},
          "execution_count": 24
        }
      ]
    },
    {
      "cell_type": "markdown",
      "metadata": {
        "id": "l9wpyiXY9EKz"
      },
      "source": [
        "# Regresión Lineal con train and test split\n",
        "\n",
        "Predecir la edad del abalon desde las medidas fisicas usando regresion lineal con train test split"
      ]
    },
    {
      "cell_type": "code",
      "metadata": {
        "id": "kiIvy5qae-qI"
      },
      "source": [
        "#Division data set entrenamiento validación\n",
        "X_train, X_test, y_train, y_test = train_test_split(X, y, random_state=3)"
      ],
      "execution_count": 25,
      "outputs": []
    },
    {
      "cell_type": "code",
      "metadata": {
        "colab": {
          "base_uri": "https://localhost:8080/"
        },
        "id": "bggV0hwm9iQe",
        "outputId": "18e31777-647c-4e7e-8ad2-51b94a2a7527"
      },
      "source": [
        "lr_tts = LinearRegression()\n",
        "lr_tts.fit(X_train, y_train)"
      ],
      "execution_count": 26,
      "outputs": [
        {
          "output_type": "execute_result",
          "data": {
            "text/plain": [
              "LinearRegression(copy_X=True, fit_intercept=True, n_jobs=None, normalize=False)"
            ]
          },
          "metadata": {},
          "execution_count": 26
        }
      ]
    },
    {
      "cell_type": "code",
      "metadata": {
        "colab": {
          "base_uri": "https://localhost:8080/"
        },
        "id": "ERXjsAU89zw2",
        "outputId": "9389e7e7-8cc5-4fe3-a88c-16f14532c5ae"
      },
      "source": [
        "#R2 training\n",
        "lr_tts.score(X_train, y_train)"
      ],
      "execution_count": 30,
      "outputs": [
        {
          "output_type": "execute_result",
          "data": {
            "text/plain": [
              "0.5354587218762767"
            ]
          },
          "metadata": {},
          "execution_count": 30
        }
      ]
    },
    {
      "cell_type": "code",
      "metadata": {
        "colab": {
          "base_uri": "https://localhost:8080/"
        },
        "id": "_ZfcqmnD-IqG",
        "outputId": "28948505-9ec2-4797-86d9-63d17255eeb3"
      },
      "source": [
        "#R2 Test\n",
        "lr_tts.score(X_test, y_test)"
      ],
      "execution_count": 32,
      "outputs": [
        {
          "output_type": "execute_result",
          "data": {
            "text/plain": [
              "0.4980116590773243"
            ]
          },
          "metadata": {},
          "execution_count": 32
        }
      ]
    },
    {
      "cell_type": "code",
      "metadata": {
        "colab": {
          "base_uri": "https://localhost:8080/"
        },
        "id": "UL8_U_-l-Vbh",
        "outputId": "bdc02950-fbb8-401a-8082-1a418a93561b"
      },
      "source": [
        "#MSE Training\n",
        "mean_squared_error(y_train, lr_tts.predict(X_train))"
      ],
      "execution_count": 34,
      "outputs": [
        {
          "output_type": "execute_result",
          "data": {
            "text/plain": [
              "4.992563931163743"
            ]
          },
          "metadata": {},
          "execution_count": 34
        }
      ]
    },
    {
      "cell_type": "code",
      "metadata": {
        "colab": {
          "base_uri": "https://localhost:8080/"
        },
        "id": "mLrOGQIL-rV-",
        "outputId": "4e681467-9ceb-499a-b14f-0eb3bff0a531"
      },
      "source": [
        "#MSE Training\n",
        "mean_squared_error(y_test, lr_tts.predict(X_test))"
      ],
      "execution_count": 35,
      "outputs": [
        {
          "output_type": "execute_result",
          "data": {
            "text/plain": [
              "4.683229785541616"
            ]
          },
          "metadata": {},
          "execution_count": 35
        }
      ]
    },
    {
      "cell_type": "markdown",
      "metadata": {
        "id": "bUDu9HxqgD9G"
      },
      "source": [
        "# Knn sin train and test"
      ]
    },
    {
      "cell_type": "code",
      "metadata": {
        "id": "-LzY7YxegGUR"
      },
      "source": [
        "\n",
        "scaler = StandardScaler()\n",
        "scaler.fit(X)\n",
        "X_scaled = scaler.transform(X)\n"
      ],
      "execution_count": 39,
      "outputs": []
    },
    {
      "cell_type": "code",
      "metadata": {
        "colab": {
          "base_uri": "https://localhost:8080/"
        },
        "id": "JYqhK1m4_yZl",
        "outputId": "fef80a12-16b4-4cb4-92fe-5c2c64bbc7a2"
      },
      "source": [
        "knn = KNeighborsRegressor()\n",
        "knn.fit(X_scaled, y)"
      ],
      "execution_count": 40,
      "outputs": [
        {
          "output_type": "execute_result",
          "data": {
            "text/plain": [
              "KNeighborsRegressor(algorithm='auto', leaf_size=30, metric='minkowski',\n",
              "                    metric_params=None, n_jobs=None, n_neighbors=5, p=2,\n",
              "                    weights='uniform')"
            ]
          },
          "metadata": {},
          "execution_count": 40
        }
      ]
    },
    {
      "cell_type": "code",
      "metadata": {
        "colab": {
          "base_uri": "https://localhost:8080/"
        },
        "id": "B4oBnTwagK2s",
        "outputId": "d848cd24-18bb-471a-cfb2-9bea22272b50"
      },
      "source": [
        "# R2\n",
        "knn.score(X_scaled, y)\n"
      ],
      "execution_count": 42,
      "outputs": [
        {
          "output_type": "execute_result",
          "data": {
            "text/plain": [
              "0.6576046052340014"
            ]
          },
          "metadata": {},
          "execution_count": 42
        }
      ]
    },
    {
      "cell_type": "code",
      "metadata": {
        "colab": {
          "base_uri": "https://localhost:8080/"
        },
        "id": "6aCsnlEyAQ47",
        "outputId": "9d63d221-d582-467e-c4b7-1b0fb9343e23"
      },
      "source": [
        "# MSE\n",
        "mean_squared_error(y, knn.predict(X_scaled))"
      ],
      "execution_count": 43,
      "outputs": [
        {
          "output_type": "execute_result",
          "data": {
            "text/plain": [
              "3.5584390711036633"
            ]
          },
          "metadata": {},
          "execution_count": 43
        }
      ]
    },
    {
      "cell_type": "markdown",
      "metadata": {
        "id": "ynN4e5WrgWKm"
      },
      "source": [
        "#  Knn con train and test"
      ]
    },
    {
      "cell_type": "code",
      "metadata": {
        "id": "sQx5QDe6AuVT"
      },
      "source": [
        "#Division data set entrenamiento validación\n",
        "X_train, X_test, y_train, y_test = train_test_split(X, y, random_state=3)"
      ],
      "execution_count": 45,
      "outputs": []
    },
    {
      "cell_type": "code",
      "metadata": {
        "id": "RBs5QMPDAyaB"
      },
      "source": [
        "scaler = StandardScaler()\n",
        "scaler.fit(X_train)\n",
        "\n",
        "X_train = scaler.transform(X_train)\n",
        "X_test =  scaler.transform(X_test)\n",
        "\n"
      ],
      "execution_count": 46,
      "outputs": []
    },
    {
      "cell_type": "code",
      "metadata": {
        "colab": {
          "base_uri": "https://localhost:8080/"
        },
        "id": "V3fHThcsBEMX",
        "outputId": "4b6ec2af-16f9-4ce0-ad8e-cbf054309f86"
      },
      "source": [
        "knn_tts = KNeighborsRegressor()\n",
        "knn_tts.fit(X_train, y_train)"
      ],
      "execution_count": 47,
      "outputs": [
        {
          "output_type": "execute_result",
          "data": {
            "text/plain": [
              "KNeighborsRegressor(algorithm='auto', leaf_size=30, metric='minkowski',\n",
              "                    metric_params=None, n_jobs=None, n_neighbors=5, p=2,\n",
              "                    weights='uniform')"
            ]
          },
          "metadata": {},
          "execution_count": 47
        }
      ]
    },
    {
      "cell_type": "code",
      "metadata": {
        "colab": {
          "base_uri": "https://localhost:8080/"
        },
        "id": "uebd_WvjBS-H",
        "outputId": "c0976651-5392-4435-b82e-4368737d8266"
      },
      "source": [
        "#R2 Training KNN Regressor\n",
        "knn_tts.score(X_train, y_train)"
      ],
      "execution_count": 49,
      "outputs": [
        {
          "output_type": "execute_result",
          "data": {
            "text/plain": [
              "0.6606257644607018"
            ]
          },
          "metadata": {},
          "execution_count": 49
        }
      ]
    },
    {
      "cell_type": "code",
      "metadata": {
        "colab": {
          "base_uri": "https://localhost:8080/"
        },
        "id": "Bx9u3m0tBbZE",
        "outputId": "01ac9551-1825-4a84-cdee-68c4e3001526"
      },
      "source": [
        "#R2 Test KNN Regressor\n",
        "knn_tts.score(X_test, y_test)"
      ],
      "execution_count": 50,
      "outputs": [
        {
          "output_type": "execute_result",
          "data": {
            "text/plain": [
              "0.44745716828227694"
            ]
          },
          "metadata": {},
          "execution_count": 50
        }
      ]
    },
    {
      "cell_type": "code",
      "metadata": {
        "colab": {
          "base_uri": "https://localhost:8080/"
        },
        "id": "sbc3kHkQBjVo",
        "outputId": "0d13ad5b-954b-4920-ea90-ee500d4ebf83"
      },
      "source": [
        "#MSE Training regressor\n",
        "mean_squared_error(y_train, knn_tts.predict(X_train))"
      ],
      "execution_count": 53,
      "outputs": [
        {
          "output_type": "execute_result",
          "data": {
            "text/plain": [
              "3.6473563218390805"
            ]
          },
          "metadata": {},
          "execution_count": 53
        }
      ]
    },
    {
      "cell_type": "code",
      "metadata": {
        "colab": {
          "base_uri": "https://localhost:8080/"
        },
        "id": "IGsCfL_eBw11",
        "outputId": "a515fd05-2961-4ef4-efe8-74ac2158ebf1"
      },
      "source": [
        "#MSE Test KNN regressor\n",
        "mean_squared_error(y_test, knn_tts.predict(X_test))"
      ],
      "execution_count": 54,
      "outputs": [
        {
          "output_type": "execute_result",
          "data": {
            "text/plain": [
              "5.154870813397129"
            ]
          },
          "metadata": {},
          "execution_count": 54
        }
      ]
    },
    {
      "cell_type": "markdown",
      "metadata": {
        "id": "5zxlTJsiB7Q_"
      },
      "source": [
        "1 ¿Cuál de KNN o regresión lineal pareció un mejor modelo cuando no usaste la división entrenar probar?\n",
        "\n",
        "El objetivo es buscar un r2 alto y un MSE bajo. Por lo tanto, la mejor regresion lineal sin split es KNN\n",
        "\n",
        "2 ¿Cuál de KNN o regresión lineal pareció un mejor modelo cuando usaste la división entrenar probar?\n",
        "\n",
        "\n",
        "Linear regresion\n",
        "\n",
        "3 ¿Hubo alguna ventaja en la regresión lineal en términos de la cantidad de código que tenías que escribir?\n",
        "\n",
        "Linear regresion no requiere tanto codigo\n",
        "\n",
        "\n",
        "4 ¿Hay alguna forma de mostrarle a alguien cuál de los dos modelos fue más efectivo?\n",
        "compare the metricsof testing data\n",
        "\n",
        "5 ¿Crees que podrías haber mejorado KNN para mejorar la eficacia del modelo?"
      ]
    },
    {
      "cell_type": "markdown",
      "metadata": {
        "id": "R-52P_dLBt4o"
      },
      "source": [
        ""
      ]
    }
  ]
}