{
  "nbformat": 4,
  "nbformat_minor": 0,
  "metadata": {
    "colab": {
      "name": "Groupby.ipynb",
      "provenance": [],
      "mount_file_id": "1B0onFrSjMvijVp9PYa_KrzXvz4qL5VCK",
      "authorship_tag": "ABX9TyPDGyqLCZ1RQ/1lzkinDTCB",
      "include_colab_link": true
    },
    "kernelspec": {
      "name": "python3",
      "display_name": "Python 3"
    },
    "language_info": {
      "name": "python"
    }
  },
  "cells": [
    {
      "cell_type": "markdown",
      "metadata": {
        "id": "view-in-github",
        "colab_type": "text"
      },
      "source": [
        "<a href=\"https://colab.research.google.com/github/sebagit914/Challenge01/blob/master/Groupby.ipynb\" target=\"_parent\"><img src=\"https://colab.research.google.com/assets/colab-badge.svg\" alt=\"Open In Colab\"/></a>"
      ]
    },
    {
      "cell_type": "code",
      "metadata": {
        "colab": {
          "base_uri": "https://localhost:8080/"
        },
        "id": "UvGhPRLwZcJ0",
        "outputId": "856409fb-60b5-4506-80fe-00b00e4fc317"
      },
      "source": [
        "from google.colab import drive\n",
        "drive.mount('/content/drive')"
      ],
      "execution_count": 72,
      "outputs": [
        {
          "output_type": "stream",
          "text": [
            "Drive already mounted at /content/drive; to attempt to forcibly remount, call drive.mount(\"/content/drive\", force_remount=True).\n"
          ],
          "name": "stdout"
        }
      ]
    },
    {
      "cell_type": "code",
      "metadata": {
        "id": "7qDnrJjlf4fC"
      },
      "source": [
        "import numpy as np\n",
        "import pandas as pd"
      ],
      "execution_count": 73,
      "outputs": []
    },
    {
      "cell_type": "markdown",
      "metadata": {
        "id": "SjeFVxBWjYoc"
      },
      "source": [
        "01. Cambiar el nombre de las columnas\n",
        "\n",
        "Cambia el nombre de la columna 0 a «ID_Flujo»\n",
        "\n",
        "Cambia el nombre de la columna 1 a «Fecha»\n",
        "\n",
        "Cambia el nombre de la columna 2 a «Hora»\n",
        "\n",
        "Cambia el nombre de la columna 3 a «Conteo»"
      ]
    },
    {
      "cell_type": "code",
      "metadata": {
        "id": "GiwmjMR1ZwyF"
      },
      "source": [
        "import pandas as pd\n",
        "filename = '/content/drive/MyDrive/PTDataScience/PandasForDataManipulation/CalIt2.data.csv'\n",
        "df = np.array(pd.read_csv(filename))\n",
        "\n"
      ],
      "execution_count": 74,
      "outputs": []
    },
    {
      "cell_type": "code",
      "metadata": {
        "colab": {
          "base_uri": "https://localhost:8080/",
          "height": 419
        },
        "id": "wztL1Xd9hcXl",
        "outputId": "9ee76c91-da8a-4941-d377-e7253f1bf5cd"
      },
      "source": [
        "# Al revisar el tipo de datos, es posible observar que se trata de una matriz array. Por lo tanto, debemos transformarla en DF y nombrar las etiquetas.\n",
        "df1 = pd.DataFrame(df, columns = ['ID_Flujo','Fecha','Hora','Conteo'])\n",
        "df1"
      ],
      "execution_count": 75,
      "outputs": [
        {
          "output_type": "execute_result",
          "data": {
            "text/html": [
              "<div>\n",
              "<style scoped>\n",
              "    .dataframe tbody tr th:only-of-type {\n",
              "        vertical-align: middle;\n",
              "    }\n",
              "\n",
              "    .dataframe tbody tr th {\n",
              "        vertical-align: top;\n",
              "    }\n",
              "\n",
              "    .dataframe thead th {\n",
              "        text-align: right;\n",
              "    }\n",
              "</style>\n",
              "<table border=\"1\" class=\"dataframe\">\n",
              "  <thead>\n",
              "    <tr style=\"text-align: right;\">\n",
              "      <th></th>\n",
              "      <th>ID_Flujo</th>\n",
              "      <th>Fecha</th>\n",
              "      <th>Hora</th>\n",
              "      <th>Conteo</th>\n",
              "    </tr>\n",
              "  </thead>\n",
              "  <tbody>\n",
              "    <tr>\n",
              "      <th>0</th>\n",
              "      <td>9</td>\n",
              "      <td>07/24/05</td>\n",
              "      <td>00:00:00</td>\n",
              "      <td>0</td>\n",
              "    </tr>\n",
              "    <tr>\n",
              "      <th>1</th>\n",
              "      <td>7</td>\n",
              "      <td>07/24/05</td>\n",
              "      <td>00:30:00</td>\n",
              "      <td>1</td>\n",
              "    </tr>\n",
              "    <tr>\n",
              "      <th>2</th>\n",
              "      <td>9</td>\n",
              "      <td>07/24/05</td>\n",
              "      <td>00:30:00</td>\n",
              "      <td>0</td>\n",
              "    </tr>\n",
              "    <tr>\n",
              "      <th>3</th>\n",
              "      <td>7</td>\n",
              "      <td>07/24/05</td>\n",
              "      <td>01:00:00</td>\n",
              "      <td>0</td>\n",
              "    </tr>\n",
              "    <tr>\n",
              "      <th>4</th>\n",
              "      <td>9</td>\n",
              "      <td>07/24/05</td>\n",
              "      <td>01:00:00</td>\n",
              "      <td>0</td>\n",
              "    </tr>\n",
              "    <tr>\n",
              "      <th>...</th>\n",
              "      <td>...</td>\n",
              "      <td>...</td>\n",
              "      <td>...</td>\n",
              "      <td>...</td>\n",
              "    </tr>\n",
              "    <tr>\n",
              "      <th>10074</th>\n",
              "      <td>9</td>\n",
              "      <td>11/05/05</td>\n",
              "      <td>22:30:00</td>\n",
              "      <td>0</td>\n",
              "    </tr>\n",
              "    <tr>\n",
              "      <th>10075</th>\n",
              "      <td>7</td>\n",
              "      <td>11/05/05</td>\n",
              "      <td>23:00:00</td>\n",
              "      <td>0</td>\n",
              "    </tr>\n",
              "    <tr>\n",
              "      <th>10076</th>\n",
              "      <td>9</td>\n",
              "      <td>11/05/05</td>\n",
              "      <td>23:00:00</td>\n",
              "      <td>0</td>\n",
              "    </tr>\n",
              "    <tr>\n",
              "      <th>10077</th>\n",
              "      <td>7</td>\n",
              "      <td>11/05/05</td>\n",
              "      <td>23:30:00</td>\n",
              "      <td>1</td>\n",
              "    </tr>\n",
              "    <tr>\n",
              "      <th>10078</th>\n",
              "      <td>9</td>\n",
              "      <td>11/05/05</td>\n",
              "      <td>23:30:00</td>\n",
              "      <td>0</td>\n",
              "    </tr>\n",
              "  </tbody>\n",
              "</table>\n",
              "<p>10079 rows × 4 columns</p>\n",
              "</div>"
            ],
            "text/plain": [
              "      ID_Flujo     Fecha      Hora Conteo\n",
              "0            9  07/24/05  00:00:00      0\n",
              "1            7  07/24/05  00:30:00      1\n",
              "2            9  07/24/05  00:30:00      0\n",
              "3            7  07/24/05  01:00:00      0\n",
              "4            9  07/24/05  01:00:00      0\n",
              "...        ...       ...       ...    ...\n",
              "10074        9  11/05/05  22:30:00      0\n",
              "10075        7  11/05/05  23:00:00      0\n",
              "10076        9  11/05/05  23:00:00      0\n",
              "10077        7  11/05/05  23:30:00      1\n",
              "10078        9  11/05/05  23:30:00      0\n",
              "\n",
              "[10079 rows x 4 columns]"
            ]
          },
          "metadata": {},
          "execution_count": 75
        }
      ]
    },
    {
      "cell_type": "markdown",
      "metadata": {
        "id": "RplkWiGcjHDz"
      },
      "source": [
        "02. Seleccionar datos\n",
        "\n",
        "Selecciona todos los datos para la fecha del 24 de Julio de 2005 que tengan un número de identificación de flujo = 7.\n",
        "\n",
        "De los datos seleccionados en el paso 1, clasifica los resultados de conteo en orden descendiente y crea el formato de salida de las 10 filas superiores. Asigna el formato de salida a una variable llamada top10."
      ]
    },
    {
      "cell_type": "code",
      "metadata": {
        "colab": {
          "base_uri": "https://localhost:8080/"
        },
        "id": "gxvajP87fJRL",
        "outputId": "ac021423-ee20-47f7-e58c-040e4d6799a0"
      },
      "source": [
        "#Se verifica que la columna fecha esté en datetime\n",
        "df1.dtypes"
      ],
      "execution_count": 76,
      "outputs": [
        {
          "output_type": "execute_result",
          "data": {
            "text/plain": [
              "ID_Flujo    object\n",
              "Fecha       object\n",
              "Hora        object\n",
              "Conteo      object\n",
              "dtype: object"
            ]
          },
          "metadata": {},
          "execution_count": 76
        }
      ]
    },
    {
      "cell_type": "code",
      "metadata": {
        "id": "QolmpT-0p7ye"
      },
      "source": [
        "#La columna fecha no está en datetime. Por lo tanto, se transforma a date\n",
        "df1[\"Fecha\"]= pd.to_datetime(df1[\"Fecha\"])"
      ],
      "execution_count": 77,
      "outputs": []
    },
    {
      "cell_type": "code",
      "metadata": {
        "colab": {
          "base_uri": "https://localhost:8080/"
        },
        "id": "OwzpwFT2uqq2",
        "outputId": "e3fc0e96-566d-4df3-a029-ff4745e04675"
      },
      "source": [
        "df1.dtypes"
      ],
      "execution_count": 78,
      "outputs": [
        {
          "output_type": "execute_result",
          "data": {
            "text/plain": [
              "ID_Flujo            object\n",
              "Fecha       datetime64[ns]\n",
              "Hora                object\n",
              "Conteo              object\n",
              "dtype: object"
            ]
          },
          "metadata": {},
          "execution_count": 78
        }
      ]
    },
    {
      "cell_type": "code",
      "metadata": {
        "colab": {
          "base_uri": "https://localhost:8080/",
          "height": 204
        },
        "id": "rypwe-JoBq5c",
        "outputId": "ff14c28a-1298-4052-d02d-490746ddfd9a"
      },
      "source": [
        "df1.head()"
      ],
      "execution_count": 79,
      "outputs": [
        {
          "output_type": "execute_result",
          "data": {
            "text/html": [
              "<div>\n",
              "<style scoped>\n",
              "    .dataframe tbody tr th:only-of-type {\n",
              "        vertical-align: middle;\n",
              "    }\n",
              "\n",
              "    .dataframe tbody tr th {\n",
              "        vertical-align: top;\n",
              "    }\n",
              "\n",
              "    .dataframe thead th {\n",
              "        text-align: right;\n",
              "    }\n",
              "</style>\n",
              "<table border=\"1\" class=\"dataframe\">\n",
              "  <thead>\n",
              "    <tr style=\"text-align: right;\">\n",
              "      <th></th>\n",
              "      <th>ID_Flujo</th>\n",
              "      <th>Fecha</th>\n",
              "      <th>Hora</th>\n",
              "      <th>Conteo</th>\n",
              "    </tr>\n",
              "  </thead>\n",
              "  <tbody>\n",
              "    <tr>\n",
              "      <th>0</th>\n",
              "      <td>9</td>\n",
              "      <td>2005-07-24</td>\n",
              "      <td>00:00:00</td>\n",
              "      <td>0</td>\n",
              "    </tr>\n",
              "    <tr>\n",
              "      <th>1</th>\n",
              "      <td>7</td>\n",
              "      <td>2005-07-24</td>\n",
              "      <td>00:30:00</td>\n",
              "      <td>1</td>\n",
              "    </tr>\n",
              "    <tr>\n",
              "      <th>2</th>\n",
              "      <td>9</td>\n",
              "      <td>2005-07-24</td>\n",
              "      <td>00:30:00</td>\n",
              "      <td>0</td>\n",
              "    </tr>\n",
              "    <tr>\n",
              "      <th>3</th>\n",
              "      <td>7</td>\n",
              "      <td>2005-07-24</td>\n",
              "      <td>01:00:00</td>\n",
              "      <td>0</td>\n",
              "    </tr>\n",
              "    <tr>\n",
              "      <th>4</th>\n",
              "      <td>9</td>\n",
              "      <td>2005-07-24</td>\n",
              "      <td>01:00:00</td>\n",
              "      <td>0</td>\n",
              "    </tr>\n",
              "  </tbody>\n",
              "</table>\n",
              "</div>"
            ],
            "text/plain": [
              "  ID_Flujo      Fecha      Hora Conteo\n",
              "0        9 2005-07-24  00:00:00      0\n",
              "1        7 2005-07-24  00:30:00      1\n",
              "2        9 2005-07-24  00:30:00      0\n",
              "3        7 2005-07-24  01:00:00      0\n",
              "4        9 2005-07-24  01:00:00      0"
            ]
          },
          "metadata": {},
          "execution_count": 79
        }
      ]
    },
    {
      "cell_type": "code",
      "metadata": {
        "id": "OX7Cv_xzSFGa"
      },
      "source": [
        "df2 = df1"
      ],
      "execution_count": 80,
      "outputs": []
    },
    {
      "cell_type": "code",
      "metadata": {
        "colab": {
          "base_uri": "https://localhost:8080/",
          "height": 419
        },
        "id": "Z5OZZukfBQhk",
        "outputId": "28148471-67ef-4212-9a11-9556e7899b63"
      },
      "source": [
        "#Se aplican los 2 filtros requeridos:\n",
        "\n",
        "filtro1 = (df2['Fecha']>'2005-07-24')\n",
        "filtro2 = (df2['ID_Flujo']==7)\n",
        "filtro3 = df2.loc[filtro1 & filtro2, : ]\n",
        "filtro3"
      ],
      "execution_count": 81,
      "outputs": [
        {
          "output_type": "execute_result",
          "data": {
            "text/html": [
              "<div>\n",
              "<style scoped>\n",
              "    .dataframe tbody tr th:only-of-type {\n",
              "        vertical-align: middle;\n",
              "    }\n",
              "\n",
              "    .dataframe tbody tr th {\n",
              "        vertical-align: top;\n",
              "    }\n",
              "\n",
              "    .dataframe thead th {\n",
              "        text-align: right;\n",
              "    }\n",
              "</style>\n",
              "<table border=\"1\" class=\"dataframe\">\n",
              "  <thead>\n",
              "    <tr style=\"text-align: right;\">\n",
              "      <th></th>\n",
              "      <th>ID_Flujo</th>\n",
              "      <th>Fecha</th>\n",
              "      <th>Hora</th>\n",
              "      <th>Conteo</th>\n",
              "    </tr>\n",
              "  </thead>\n",
              "  <tbody>\n",
              "    <tr>\n",
              "      <th>95</th>\n",
              "      <td>7</td>\n",
              "      <td>2005-07-25</td>\n",
              "      <td>00:00:00</td>\n",
              "      <td>1</td>\n",
              "    </tr>\n",
              "    <tr>\n",
              "      <th>97</th>\n",
              "      <td>7</td>\n",
              "      <td>2005-07-25</td>\n",
              "      <td>00:30:00</td>\n",
              "      <td>0</td>\n",
              "    </tr>\n",
              "    <tr>\n",
              "      <th>99</th>\n",
              "      <td>7</td>\n",
              "      <td>2005-07-25</td>\n",
              "      <td>01:00:00</td>\n",
              "      <td>0</td>\n",
              "    </tr>\n",
              "    <tr>\n",
              "      <th>101</th>\n",
              "      <td>7</td>\n",
              "      <td>2005-07-25</td>\n",
              "      <td>01:30:00</td>\n",
              "      <td>0</td>\n",
              "    </tr>\n",
              "    <tr>\n",
              "      <th>103</th>\n",
              "      <td>7</td>\n",
              "      <td>2005-07-25</td>\n",
              "      <td>02:00:00</td>\n",
              "      <td>0</td>\n",
              "    </tr>\n",
              "    <tr>\n",
              "      <th>...</th>\n",
              "      <td>...</td>\n",
              "      <td>...</td>\n",
              "      <td>...</td>\n",
              "      <td>...</td>\n",
              "    </tr>\n",
              "    <tr>\n",
              "      <th>10069</th>\n",
              "      <td>7</td>\n",
              "      <td>2005-11-05</td>\n",
              "      <td>21:30:00</td>\n",
              "      <td>0</td>\n",
              "    </tr>\n",
              "    <tr>\n",
              "      <th>10071</th>\n",
              "      <td>7</td>\n",
              "      <td>2005-11-05</td>\n",
              "      <td>22:00:00</td>\n",
              "      <td>3</td>\n",
              "    </tr>\n",
              "    <tr>\n",
              "      <th>10073</th>\n",
              "      <td>7</td>\n",
              "      <td>2005-11-05</td>\n",
              "      <td>22:30:00</td>\n",
              "      <td>0</td>\n",
              "    </tr>\n",
              "    <tr>\n",
              "      <th>10075</th>\n",
              "      <td>7</td>\n",
              "      <td>2005-11-05</td>\n",
              "      <td>23:00:00</td>\n",
              "      <td>0</td>\n",
              "    </tr>\n",
              "    <tr>\n",
              "      <th>10077</th>\n",
              "      <td>7</td>\n",
              "      <td>2005-11-05</td>\n",
              "      <td>23:30:00</td>\n",
              "      <td>1</td>\n",
              "    </tr>\n",
              "  </tbody>\n",
              "</table>\n",
              "<p>4992 rows × 4 columns</p>\n",
              "</div>"
            ],
            "text/plain": [
              "      ID_Flujo      Fecha      Hora Conteo\n",
              "95           7 2005-07-25  00:00:00      1\n",
              "97           7 2005-07-25  00:30:00      0\n",
              "99           7 2005-07-25  01:00:00      0\n",
              "101          7 2005-07-25  01:30:00      0\n",
              "103          7 2005-07-25  02:00:00      0\n",
              "...        ...        ...       ...    ...\n",
              "10069        7 2005-11-05  21:30:00      0\n",
              "10071        7 2005-11-05  22:00:00      3\n",
              "10073        7 2005-11-05  22:30:00      0\n",
              "10075        7 2005-11-05  23:00:00      0\n",
              "10077        7 2005-11-05  23:30:00      1\n",
              "\n",
              "[4992 rows x 4 columns]"
            ]
          },
          "metadata": {},
          "execution_count": 81
        }
      ]
    },
    {
      "cell_type": "markdown",
      "metadata": {
        "id": "QxjumsvXDMbZ"
      },
      "source": [
        "De los datos seleccionados en el paso 1, clasifica los resultados de conteo en orden descendiente y crea el formato de salida de las 10 filas superiores. Asigna el formato de salida a una variable llamada top10."
      ]
    },
    {
      "cell_type": "code",
      "metadata": {
        "colab": {
          "base_uri": "https://localhost:8080/",
          "height": 359
        },
        "id": "6ypvpMGvDQFG",
        "outputId": "c6396673-1146-4947-ba64-4ac58f1001f7"
      },
      "source": [
        "filtro3\n",
        "\n",
        "filtro3['Conteo']\n",
        "\n",
        "df3 = filtro3.sort_values('Conteo',ascending=False)\n",
        "Top10 = df3.head(10)\n",
        "Top10"
      ],
      "execution_count": 82,
      "outputs": [
        {
          "output_type": "execute_result",
          "data": {
            "text/html": [
              "<div>\n",
              "<style scoped>\n",
              "    .dataframe tbody tr th:only-of-type {\n",
              "        vertical-align: middle;\n",
              "    }\n",
              "\n",
              "    .dataframe tbody tr th {\n",
              "        vertical-align: top;\n",
              "    }\n",
              "\n",
              "    .dataframe thead th {\n",
              "        text-align: right;\n",
              "    }\n",
              "</style>\n",
              "<table border=\"1\" class=\"dataframe\">\n",
              "  <thead>\n",
              "    <tr style=\"text-align: right;\">\n",
              "      <th></th>\n",
              "      <th>ID_Flujo</th>\n",
              "      <th>Fecha</th>\n",
              "      <th>Hora</th>\n",
              "      <th>Conteo</th>\n",
              "    </tr>\n",
              "  </thead>\n",
              "  <tbody>\n",
              "    <tr>\n",
              "      <th>9685</th>\n",
              "      <td>7</td>\n",
              "      <td>2005-11-01</td>\n",
              "      <td>21:30:00</td>\n",
              "      <td>54</td>\n",
              "    </tr>\n",
              "    <tr>\n",
              "      <th>9681</th>\n",
              "      <td>7</td>\n",
              "      <td>2005-11-01</td>\n",
              "      <td>20:30:00</td>\n",
              "      <td>54</td>\n",
              "    </tr>\n",
              "    <tr>\n",
              "      <th>6877</th>\n",
              "      <td>7</td>\n",
              "      <td>2005-10-03</td>\n",
              "      <td>15:30:00</td>\n",
              "      <td>52</td>\n",
              "    </tr>\n",
              "    <tr>\n",
              "      <th>6879</th>\n",
              "      <td>7</td>\n",
              "      <td>2005-10-03</td>\n",
              "      <td>16:00:00</td>\n",
              "      <td>49</td>\n",
              "    </tr>\n",
              "    <tr>\n",
              "      <th>3619</th>\n",
              "      <td>7</td>\n",
              "      <td>2005-08-30</td>\n",
              "      <td>17:00:00</td>\n",
              "      <td>47</td>\n",
              "    </tr>\n",
              "    <tr>\n",
              "      <th>8907</th>\n",
              "      <td>7</td>\n",
              "      <td>2005-10-24</td>\n",
              "      <td>19:00:00</td>\n",
              "      <td>43</td>\n",
              "    </tr>\n",
              "    <tr>\n",
              "      <th>9673</th>\n",
              "      <td>7</td>\n",
              "      <td>2005-11-01</td>\n",
              "      <td>18:30:00</td>\n",
              "      <td>42</td>\n",
              "    </tr>\n",
              "    <tr>\n",
              "      <th>1127</th>\n",
              "      <td>7</td>\n",
              "      <td>2005-08-04</td>\n",
              "      <td>18:00:00</td>\n",
              "      <td>40</td>\n",
              "    </tr>\n",
              "    <tr>\n",
              "      <th>9683</th>\n",
              "      <td>7</td>\n",
              "      <td>2005-11-01</td>\n",
              "      <td>21:00:00</td>\n",
              "      <td>40</td>\n",
              "    </tr>\n",
              "    <tr>\n",
              "      <th>2461</th>\n",
              "      <td>7</td>\n",
              "      <td>2005-08-18</td>\n",
              "      <td>15:30:00</td>\n",
              "      <td>39</td>\n",
              "    </tr>\n",
              "  </tbody>\n",
              "</table>\n",
              "</div>"
            ],
            "text/plain": [
              "     ID_Flujo      Fecha      Hora Conteo\n",
              "9685        7 2005-11-01  21:30:00     54\n",
              "9681        7 2005-11-01  20:30:00     54\n",
              "6877        7 2005-10-03  15:30:00     52\n",
              "6879        7 2005-10-03  16:00:00     49\n",
              "3619        7 2005-08-30  17:00:00     47\n",
              "8907        7 2005-10-24  19:00:00     43\n",
              "9673        7 2005-11-01  18:30:00     42\n",
              "1127        7 2005-08-04  18:00:00     40\n",
              "9683        7 2005-11-01  21:00:00     40\n",
              "2461        7 2005-08-18  15:30:00     39"
            ]
          },
          "metadata": {},
          "execution_count": 82
        }
      ]
    },
    {
      "cell_type": "markdown",
      "metadata": {
        "id": "VARZd0owK9aD"
      },
      "source": [
        "sacar minimo de la columna\n",
        "apply (valor temporal a menos crear variable"
      ]
    },
    {
      "cell_type": "markdown",
      "metadata": {
        "id": "i0NJUn9GFRTJ"
      },
      "source": [
        "03. Función Apply\n",
        "\n",
        "Para las 10 filas sacadas arriba, usa la función Apply de pandas para restar el valor menor de los 10 de todos ellos y luego saca el valor promedio de los conteos resultantes."
      ]
    },
    {
      "cell_type": "code",
      "metadata": {
        "id": "d-OXXeaKHMDG"
      },
      "source": [
        "Top10 = Top10['Conteo'].apply(lambda x:x-39)"
      ],
      "execution_count": 83,
      "outputs": []
    },
    {
      "cell_type": "code",
      "metadata": {
        "id": "n2K_2S7NIeFu",
        "colab": {
          "base_uri": "https://localhost:8080/"
        },
        "outputId": "259df5e3-b56b-4863-a9fd-6a624f435698"
      },
      "source": [
        "Top10"
      ],
      "execution_count": 84,
      "outputs": [
        {
          "output_type": "execute_result",
          "data": {
            "text/plain": [
              "9685    15\n",
              "9681    15\n",
              "6877    13\n",
              "6879    10\n",
              "3619     8\n",
              "8907     4\n",
              "9673     3\n",
              "1127     1\n",
              "9683     1\n",
              "2461     0\n",
              "Name: Conteo, dtype: int64"
            ]
          },
          "metadata": {},
          "execution_count": 84
        }
      ]
    },
    {
      "cell_type": "markdown",
      "metadata": {
        "id": "dTE8TP1VRonz"
      },
      "source": [
        "04. Agrupar\n",
        "\n",
        "Selecciona los datos del mes de agosto 2005 que tengan una ID de flujo =7\n",
        "Agrupa los datos basándose en la fecha y saca el conteo máximo por fecha."
      ]
    },
    {
      "cell_type": "code",
      "metadata": {
        "colab": {
          "base_uri": "https://localhost:8080/",
          "height": 419
        },
        "id": "K-GXh3CpRqTw",
        "outputId": "dded22b3-e916-4911-8d87-aa97fa5434f7"
      },
      "source": [
        "comp1 = (df1['Fecha']>'2005-08-01')\n",
        "comp2 = (df1['Fecha']<'2005-08-31')\n",
        "comp3 = (df1['ID_Flujo'] == 7)\n",
        "comp4 = df1.loc[comp1 & comp2 & comp3, : ]\n",
        "comp4\n",
        "\n"
      ],
      "execution_count": 87,
      "outputs": [
        {
          "output_type": "execute_result",
          "data": {
            "text/html": [
              "<div>\n",
              "<style scoped>\n",
              "    .dataframe tbody tr th:only-of-type {\n",
              "        vertical-align: middle;\n",
              "    }\n",
              "\n",
              "    .dataframe tbody tr th {\n",
              "        vertical-align: top;\n",
              "    }\n",
              "\n",
              "    .dataframe thead th {\n",
              "        text-align: right;\n",
              "    }\n",
              "</style>\n",
              "<table border=\"1\" class=\"dataframe\">\n",
              "  <thead>\n",
              "    <tr style=\"text-align: right;\">\n",
              "      <th></th>\n",
              "      <th>ID_Flujo</th>\n",
              "      <th>Fecha</th>\n",
              "      <th>Hora</th>\n",
              "      <th>Conteo</th>\n",
              "    </tr>\n",
              "  </thead>\n",
              "  <tbody>\n",
              "    <tr>\n",
              "      <th>863</th>\n",
              "      <td>7</td>\n",
              "      <td>2005-08-02</td>\n",
              "      <td>00:00:00</td>\n",
              "      <td>2</td>\n",
              "    </tr>\n",
              "    <tr>\n",
              "      <th>865</th>\n",
              "      <td>7</td>\n",
              "      <td>2005-08-02</td>\n",
              "      <td>00:30:00</td>\n",
              "      <td>0</td>\n",
              "    </tr>\n",
              "    <tr>\n",
              "      <th>867</th>\n",
              "      <td>7</td>\n",
              "      <td>2005-08-02</td>\n",
              "      <td>01:00:00</td>\n",
              "      <td>1</td>\n",
              "    </tr>\n",
              "    <tr>\n",
              "      <th>869</th>\n",
              "      <td>7</td>\n",
              "      <td>2005-08-02</td>\n",
              "      <td>01:30:00</td>\n",
              "      <td>0</td>\n",
              "    </tr>\n",
              "    <tr>\n",
              "      <th>871</th>\n",
              "      <td>7</td>\n",
              "      <td>2005-08-02</td>\n",
              "      <td>02:00:00</td>\n",
              "      <td>1</td>\n",
              "    </tr>\n",
              "    <tr>\n",
              "      <th>...</th>\n",
              "      <td>...</td>\n",
              "      <td>...</td>\n",
              "      <td>...</td>\n",
              "      <td>...</td>\n",
              "    </tr>\n",
              "    <tr>\n",
              "      <th>3637</th>\n",
              "      <td>7</td>\n",
              "      <td>2005-08-30</td>\n",
              "      <td>21:30:00</td>\n",
              "      <td>0</td>\n",
              "    </tr>\n",
              "    <tr>\n",
              "      <th>3639</th>\n",
              "      <td>7</td>\n",
              "      <td>2005-08-30</td>\n",
              "      <td>22:00:00</td>\n",
              "      <td>0</td>\n",
              "    </tr>\n",
              "    <tr>\n",
              "      <th>3641</th>\n",
              "      <td>7</td>\n",
              "      <td>2005-08-30</td>\n",
              "      <td>22:30:00</td>\n",
              "      <td>1</td>\n",
              "    </tr>\n",
              "    <tr>\n",
              "      <th>3643</th>\n",
              "      <td>7</td>\n",
              "      <td>2005-08-30</td>\n",
              "      <td>23:00:00</td>\n",
              "      <td>1</td>\n",
              "    </tr>\n",
              "    <tr>\n",
              "      <th>3645</th>\n",
              "      <td>7</td>\n",
              "      <td>2005-08-30</td>\n",
              "      <td>23:30:00</td>\n",
              "      <td>1</td>\n",
              "    </tr>\n",
              "  </tbody>\n",
              "</table>\n",
              "<p>1392 rows × 4 columns</p>\n",
              "</div>"
            ],
            "text/plain": [
              "     ID_Flujo      Fecha      Hora Conteo\n",
              "863         7 2005-08-02  00:00:00      2\n",
              "865         7 2005-08-02  00:30:00      0\n",
              "867         7 2005-08-02  01:00:00      1\n",
              "869         7 2005-08-02  01:30:00      0\n",
              "871         7 2005-08-02  02:00:00      1\n",
              "...       ...        ...       ...    ...\n",
              "3637        7 2005-08-30  21:30:00      0\n",
              "3639        7 2005-08-30  22:00:00      0\n",
              "3641        7 2005-08-30  22:30:00      1\n",
              "3643        7 2005-08-30  23:00:00      1\n",
              "3645        7 2005-08-30  23:30:00      1\n",
              "\n",
              "[1392 rows x 4 columns]"
            ]
          },
          "metadata": {},
          "execution_count": 87
        }
      ]
    },
    {
      "cell_type": "code",
      "metadata": {
        "colab": {
          "base_uri": "https://localhost:8080/"
        },
        "id": "2yJz0DMxTz4_",
        "outputId": "b9cd2243-aa89-47b2-dd36-eb395a2e1419"
      },
      "source": [
        "comp4.max()"
      ],
      "execution_count": 88,
      "outputs": [
        {
          "output_type": "execute_result",
          "data": {
            "text/plain": [
              "ID_Flujo                      7\n",
              "Fecha       2005-08-30 00:00:00\n",
              "Hora                   23:30:00\n",
              "Conteo                       47\n",
              "dtype: object"
            ]
          },
          "metadata": {},
          "execution_count": 88
        }
      ]
    },
    {
      "cell_type": "code",
      "metadata": {
        "id": "Xf4LNn7yVSxE"
      },
      "source": [
        ""
      ],
      "execution_count": null,
      "outputs": []
    }
  ]
}