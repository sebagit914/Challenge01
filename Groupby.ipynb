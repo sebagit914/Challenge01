{
  "nbformat": 4,
  "nbformat_minor": 0,
  "metadata": {
    "colab": {
      "name": "Groupby.ipynb",
      "provenance": [],
      "mount_file_id": "1B0onFrSjMvijVp9PYa_KrzXvz4qL5VCK",
      "authorship_tag": "ABX9TyOoxayRzptKkwEfQye/942n",
      "include_colab_link": true
    },
    "kernelspec": {
      "name": "python3",
      "display_name": "Python 3"
    },
    "language_info": {
      "name": "python"
    }
  },
  "cells": [
    {
      "cell_type": "markdown",
      "metadata": {
        "id": "view-in-github",
        "colab_type": "text"
      },
      "source": [
        "<a href=\"https://colab.research.google.com/github/sebagit914/Challenge01/blob/master/Groupby.ipynb\" target=\"_parent\"><img src=\"https://colab.research.google.com/assets/colab-badge.svg\" alt=\"Open In Colab\"/></a>"
      ]
    },
    {
      "cell_type": "code",
      "metadata": {
        "colab": {
          "base_uri": "https://localhost:8080/"
        },
        "id": "UvGhPRLwZcJ0",
        "outputId": "13cac14f-219d-4f56-d007-c08631060363"
      },
      "source": [
        "from google.colab import drive\n",
        "drive.mount('/content/drive')"
      ],
      "execution_count": 2,
      "outputs": [
        {
          "output_type": "stream",
          "text": [
            "Drive already mounted at /content/drive; to attempt to forcibly remount, call drive.mount(\"/content/drive\", force_remount=True).\n"
          ],
          "name": "stdout"
        }
      ]
    },
    {
      "cell_type": "code",
      "metadata": {
        "id": "7qDnrJjlf4fC"
      },
      "source": [
        "import numpy as np\n",
        "import pandas as pd"
      ],
      "execution_count": 3,
      "outputs": []
    },
    {
      "cell_type": "markdown",
      "metadata": {
        "id": "SjeFVxBWjYoc"
      },
      "source": [
        "01. Cambiar el nombre de las columnas\n",
        "\n",
        "Cambia el nombre de la columna 0 a «ID_Flujo»\n",
        "\n",
        "Cambia el nombre de la columna 1 a «Fecha»\n",
        "\n",
        "Cambia el nombre de la columna 2 a «Hora»\n",
        "\n",
        "Cambia el nombre de la columna 3 a «Conteo»"
      ]
    },
    {
      "cell_type": "code",
      "metadata": {
        "id": "GiwmjMR1ZwyF"
      },
      "source": [
        "import pandas as pd\n",
        "filename = '/content/drive/MyDrive/PTDataScience/PandasForDataManipulation/CalIt2.data.csv'\n",
        "df = np.array(pd.read_csv(filename))\n",
        "\n"
      ],
      "execution_count": 10,
      "outputs": []
    },
    {
      "cell_type": "code",
      "metadata": {
        "colab": {
          "base_uri": "https://localhost:8080/",
          "height": 419
        },
        "id": "wztL1Xd9hcXl",
        "outputId": "6b1dbe50-492d-46ad-cefe-403b42a883e5"
      },
      "source": [
        "# Al revisar el tipo de datos, es posible observar que se trata de una matriz array. Por lo tanto, debemos transformarla en DF y nombrar las etiquetas.\n",
        "df1 = pd.DataFrame(df, columns = ['ID_Flujo','Fecha','Hora','Conteo'])\n",
        "df1"
      ],
      "execution_count": 11,
      "outputs": [
        {
          "output_type": "execute_result",
          "data": {
            "text/html": [
              "<div>\n",
              "<style scoped>\n",
              "    .dataframe tbody tr th:only-of-type {\n",
              "        vertical-align: middle;\n",
              "    }\n",
              "\n",
              "    .dataframe tbody tr th {\n",
              "        vertical-align: top;\n",
              "    }\n",
              "\n",
              "    .dataframe thead th {\n",
              "        text-align: right;\n",
              "    }\n",
              "</style>\n",
              "<table border=\"1\" class=\"dataframe\">\n",
              "  <thead>\n",
              "    <tr style=\"text-align: right;\">\n",
              "      <th></th>\n",
              "      <th>ID_Flujo</th>\n",
              "      <th>Fecha</th>\n",
              "      <th>Hora</th>\n",
              "      <th>Conteo</th>\n",
              "    </tr>\n",
              "  </thead>\n",
              "  <tbody>\n",
              "    <tr>\n",
              "      <th>0</th>\n",
              "      <td>9</td>\n",
              "      <td>07/24/05</td>\n",
              "      <td>00:00:00</td>\n",
              "      <td>0</td>\n",
              "    </tr>\n",
              "    <tr>\n",
              "      <th>1</th>\n",
              "      <td>7</td>\n",
              "      <td>07/24/05</td>\n",
              "      <td>00:30:00</td>\n",
              "      <td>1</td>\n",
              "    </tr>\n",
              "    <tr>\n",
              "      <th>2</th>\n",
              "      <td>9</td>\n",
              "      <td>07/24/05</td>\n",
              "      <td>00:30:00</td>\n",
              "      <td>0</td>\n",
              "    </tr>\n",
              "    <tr>\n",
              "      <th>3</th>\n",
              "      <td>7</td>\n",
              "      <td>07/24/05</td>\n",
              "      <td>01:00:00</td>\n",
              "      <td>0</td>\n",
              "    </tr>\n",
              "    <tr>\n",
              "      <th>4</th>\n",
              "      <td>9</td>\n",
              "      <td>07/24/05</td>\n",
              "      <td>01:00:00</td>\n",
              "      <td>0</td>\n",
              "    </tr>\n",
              "    <tr>\n",
              "      <th>...</th>\n",
              "      <td>...</td>\n",
              "      <td>...</td>\n",
              "      <td>...</td>\n",
              "      <td>...</td>\n",
              "    </tr>\n",
              "    <tr>\n",
              "      <th>10074</th>\n",
              "      <td>9</td>\n",
              "      <td>11/05/05</td>\n",
              "      <td>22:30:00</td>\n",
              "      <td>0</td>\n",
              "    </tr>\n",
              "    <tr>\n",
              "      <th>10075</th>\n",
              "      <td>7</td>\n",
              "      <td>11/05/05</td>\n",
              "      <td>23:00:00</td>\n",
              "      <td>0</td>\n",
              "    </tr>\n",
              "    <tr>\n",
              "      <th>10076</th>\n",
              "      <td>9</td>\n",
              "      <td>11/05/05</td>\n",
              "      <td>23:00:00</td>\n",
              "      <td>0</td>\n",
              "    </tr>\n",
              "    <tr>\n",
              "      <th>10077</th>\n",
              "      <td>7</td>\n",
              "      <td>11/05/05</td>\n",
              "      <td>23:30:00</td>\n",
              "      <td>1</td>\n",
              "    </tr>\n",
              "    <tr>\n",
              "      <th>10078</th>\n",
              "      <td>9</td>\n",
              "      <td>11/05/05</td>\n",
              "      <td>23:30:00</td>\n",
              "      <td>0</td>\n",
              "    </tr>\n",
              "  </tbody>\n",
              "</table>\n",
              "<p>10079 rows × 4 columns</p>\n",
              "</div>"
            ],
            "text/plain": [
              "      ID_Flujo     Fecha      Hora Conteo\n",
              "0            9  07/24/05  00:00:00      0\n",
              "1            7  07/24/05  00:30:00      1\n",
              "2            9  07/24/05  00:30:00      0\n",
              "3            7  07/24/05  01:00:00      0\n",
              "4            9  07/24/05  01:00:00      0\n",
              "...        ...       ...       ...    ...\n",
              "10074        9  11/05/05  22:30:00      0\n",
              "10075        7  11/05/05  23:00:00      0\n",
              "10076        9  11/05/05  23:00:00      0\n",
              "10077        7  11/05/05  23:30:00      1\n",
              "10078        9  11/05/05  23:30:00      0\n",
              "\n",
              "[10079 rows x 4 columns]"
            ]
          },
          "metadata": {},
          "execution_count": 11
        }
      ]
    },
    {
      "cell_type": "markdown",
      "metadata": {
        "id": "RplkWiGcjHDz"
      },
      "source": [
        "02. Seleccionar datos\n",
        "\n",
        "Selecciona todos los datos para la fecha del 24 de Julio de 2005 que tengan un número de identificación de flujo = 7.\n",
        "\n",
        "De los datos seleccionados en el paso 1, clasifica los resultados de conteo en orden descendiente y crea el formato de salida de las 10 filas superiores. Asigna el formato de salida a una variable llamada top10."
      ]
    },
    {
      "cell_type": "code",
      "metadata": {
        "colab": {
          "base_uri": "https://localhost:8080/"
        },
        "id": "gxvajP87fJRL",
        "outputId": "995f792c-bd65-402b-b9ec-da456bb4901b"
      },
      "source": [
        "#Se verifica que la columna fecha esté en datetime\n",
        "df1.dtypes"
      ],
      "execution_count": 12,
      "outputs": [
        {
          "output_type": "execute_result",
          "data": {
            "text/plain": [
              "ID_Flujo    object\n",
              "Fecha       object\n",
              "Hora        object\n",
              "Conteo      object\n",
              "dtype: object"
            ]
          },
          "metadata": {},
          "execution_count": 12
        }
      ]
    },
    {
      "cell_type": "code",
      "metadata": {
        "id": "QolmpT-0p7ye"
      },
      "source": [
        "#La columna fecha no está en datetime. Por lo tanto, se transforma a date\n",
        "df1[\"Fecha\"]= pd.to_datetime(df1[\"Fecha\"])"
      ],
      "execution_count": 13,
      "outputs": []
    },
    {
      "cell_type": "code",
      "metadata": {
        "colab": {
          "base_uri": "https://localhost:8080/"
        },
        "id": "OwzpwFT2uqq2",
        "outputId": "b98f2215-d43c-4b05-d1f3-a38e1b788dba"
      },
      "source": [
        "df1.dtypes"
      ],
      "execution_count": 14,
      "outputs": [
        {
          "output_type": "execute_result",
          "data": {
            "text/plain": [
              "ID_Flujo            object\n",
              "Fecha       datetime64[ns]\n",
              "Hora                object\n",
              "Conteo              object\n",
              "dtype: object"
            ]
          },
          "metadata": {},
          "execution_count": 14
        }
      ]
    },
    {
      "cell_type": "code",
      "metadata": {
        "colab": {
          "base_uri": "https://localhost:8080/",
          "height": 204
        },
        "id": "rypwe-JoBq5c",
        "outputId": "1cabc501-8054-4dd7-fcfe-293c579d3f19"
      },
      "source": [
        "df1.head()"
      ],
      "execution_count": 15,
      "outputs": [
        {
          "output_type": "execute_result",
          "data": {
            "text/html": [
              "<div>\n",
              "<style scoped>\n",
              "    .dataframe tbody tr th:only-of-type {\n",
              "        vertical-align: middle;\n",
              "    }\n",
              "\n",
              "    .dataframe tbody tr th {\n",
              "        vertical-align: top;\n",
              "    }\n",
              "\n",
              "    .dataframe thead th {\n",
              "        text-align: right;\n",
              "    }\n",
              "</style>\n",
              "<table border=\"1\" class=\"dataframe\">\n",
              "  <thead>\n",
              "    <tr style=\"text-align: right;\">\n",
              "      <th></th>\n",
              "      <th>ID_Flujo</th>\n",
              "      <th>Fecha</th>\n",
              "      <th>Hora</th>\n",
              "      <th>Conteo</th>\n",
              "    </tr>\n",
              "  </thead>\n",
              "  <tbody>\n",
              "    <tr>\n",
              "      <th>0</th>\n",
              "      <td>9</td>\n",
              "      <td>2005-07-24</td>\n",
              "      <td>00:00:00</td>\n",
              "      <td>0</td>\n",
              "    </tr>\n",
              "    <tr>\n",
              "      <th>1</th>\n",
              "      <td>7</td>\n",
              "      <td>2005-07-24</td>\n",
              "      <td>00:30:00</td>\n",
              "      <td>1</td>\n",
              "    </tr>\n",
              "    <tr>\n",
              "      <th>2</th>\n",
              "      <td>9</td>\n",
              "      <td>2005-07-24</td>\n",
              "      <td>00:30:00</td>\n",
              "      <td>0</td>\n",
              "    </tr>\n",
              "    <tr>\n",
              "      <th>3</th>\n",
              "      <td>7</td>\n",
              "      <td>2005-07-24</td>\n",
              "      <td>01:00:00</td>\n",
              "      <td>0</td>\n",
              "    </tr>\n",
              "    <tr>\n",
              "      <th>4</th>\n",
              "      <td>9</td>\n",
              "      <td>2005-07-24</td>\n",
              "      <td>01:00:00</td>\n",
              "      <td>0</td>\n",
              "    </tr>\n",
              "  </tbody>\n",
              "</table>\n",
              "</div>"
            ],
            "text/plain": [
              "  ID_Flujo      Fecha      Hora Conteo\n",
              "0        9 2005-07-24  00:00:00      0\n",
              "1        7 2005-07-24  00:30:00      1\n",
              "2        9 2005-07-24  00:30:00      0\n",
              "3        7 2005-07-24  01:00:00      0\n",
              "4        9 2005-07-24  01:00:00      0"
            ]
          },
          "metadata": {},
          "execution_count": 15
        }
      ]
    },
    {
      "cell_type": "code",
      "metadata": {
        "colab": {
          "base_uri": "https://localhost:8080/",
          "height": 419
        },
        "id": "Z5OZZukfBQhk",
        "outputId": "5c2309c8-a766-405f-bc7f-b9d520445d4a"
      },
      "source": [
        "#Se aplican los 2 filtros requeridos:\n",
        "\n",
        "filtro1 = (df1['Fecha']>'2005-07-24')\n",
        "filtro2 = (df1['ID_Flujo']==7)\n",
        "filtro3 = df1.loc[filtro1 & filtro2, : ]\n",
        "filtro3"
      ],
      "execution_count": 16,
      "outputs": [
        {
          "output_type": "execute_result",
          "data": {
            "text/html": [
              "<div>\n",
              "<style scoped>\n",
              "    .dataframe tbody tr th:only-of-type {\n",
              "        vertical-align: middle;\n",
              "    }\n",
              "\n",
              "    .dataframe tbody tr th {\n",
              "        vertical-align: top;\n",
              "    }\n",
              "\n",
              "    .dataframe thead th {\n",
              "        text-align: right;\n",
              "    }\n",
              "</style>\n",
              "<table border=\"1\" class=\"dataframe\">\n",
              "  <thead>\n",
              "    <tr style=\"text-align: right;\">\n",
              "      <th></th>\n",
              "      <th>ID_Flujo</th>\n",
              "      <th>Fecha</th>\n",
              "      <th>Hora</th>\n",
              "      <th>Conteo</th>\n",
              "    </tr>\n",
              "  </thead>\n",
              "  <tbody>\n",
              "    <tr>\n",
              "      <th>95</th>\n",
              "      <td>7</td>\n",
              "      <td>2005-07-25</td>\n",
              "      <td>00:00:00</td>\n",
              "      <td>1</td>\n",
              "    </tr>\n",
              "    <tr>\n",
              "      <th>97</th>\n",
              "      <td>7</td>\n",
              "      <td>2005-07-25</td>\n",
              "      <td>00:30:00</td>\n",
              "      <td>0</td>\n",
              "    </tr>\n",
              "    <tr>\n",
              "      <th>99</th>\n",
              "      <td>7</td>\n",
              "      <td>2005-07-25</td>\n",
              "      <td>01:00:00</td>\n",
              "      <td>0</td>\n",
              "    </tr>\n",
              "    <tr>\n",
              "      <th>101</th>\n",
              "      <td>7</td>\n",
              "      <td>2005-07-25</td>\n",
              "      <td>01:30:00</td>\n",
              "      <td>0</td>\n",
              "    </tr>\n",
              "    <tr>\n",
              "      <th>103</th>\n",
              "      <td>7</td>\n",
              "      <td>2005-07-25</td>\n",
              "      <td>02:00:00</td>\n",
              "      <td>0</td>\n",
              "    </tr>\n",
              "    <tr>\n",
              "      <th>...</th>\n",
              "      <td>...</td>\n",
              "      <td>...</td>\n",
              "      <td>...</td>\n",
              "      <td>...</td>\n",
              "    </tr>\n",
              "    <tr>\n",
              "      <th>10069</th>\n",
              "      <td>7</td>\n",
              "      <td>2005-11-05</td>\n",
              "      <td>21:30:00</td>\n",
              "      <td>0</td>\n",
              "    </tr>\n",
              "    <tr>\n",
              "      <th>10071</th>\n",
              "      <td>7</td>\n",
              "      <td>2005-11-05</td>\n",
              "      <td>22:00:00</td>\n",
              "      <td>3</td>\n",
              "    </tr>\n",
              "    <tr>\n",
              "      <th>10073</th>\n",
              "      <td>7</td>\n",
              "      <td>2005-11-05</td>\n",
              "      <td>22:30:00</td>\n",
              "      <td>0</td>\n",
              "    </tr>\n",
              "    <tr>\n",
              "      <th>10075</th>\n",
              "      <td>7</td>\n",
              "      <td>2005-11-05</td>\n",
              "      <td>23:00:00</td>\n",
              "      <td>0</td>\n",
              "    </tr>\n",
              "    <tr>\n",
              "      <th>10077</th>\n",
              "      <td>7</td>\n",
              "      <td>2005-11-05</td>\n",
              "      <td>23:30:00</td>\n",
              "      <td>1</td>\n",
              "    </tr>\n",
              "  </tbody>\n",
              "</table>\n",
              "<p>4992 rows × 4 columns</p>\n",
              "</div>"
            ],
            "text/plain": [
              "      ID_Flujo      Fecha      Hora Conteo\n",
              "95           7 2005-07-25  00:00:00      1\n",
              "97           7 2005-07-25  00:30:00      0\n",
              "99           7 2005-07-25  01:00:00      0\n",
              "101          7 2005-07-25  01:30:00      0\n",
              "103          7 2005-07-25  02:00:00      0\n",
              "...        ...        ...       ...    ...\n",
              "10069        7 2005-11-05  21:30:00      0\n",
              "10071        7 2005-11-05  22:00:00      3\n",
              "10073        7 2005-11-05  22:30:00      0\n",
              "10075        7 2005-11-05  23:00:00      0\n",
              "10077        7 2005-11-05  23:30:00      1\n",
              "\n",
              "[4992 rows x 4 columns]"
            ]
          },
          "metadata": {},
          "execution_count": 16
        }
      ]
    },
    {
      "cell_type": "markdown",
      "metadata": {
        "id": "QxjumsvXDMbZ"
      },
      "source": [
        "De los datos seleccionados en el paso 1, clasifica los resultados de conteo en orden descendiente y crea el formato de salida de las 10 filas superiores. Asigna el formato de salida a una variable llamada top10."
      ]
    },
    {
      "cell_type": "code",
      "metadata": {
        "colab": {
          "base_uri": "https://localhost:8080/",
          "height": 359
        },
        "id": "6ypvpMGvDQFG",
        "outputId": "76dac0fd-9d0d-4a24-9c03-0acfda062238"
      },
      "source": [
        "filtro3['Conteo']\n",
        "\n",
        "df2 = filtro3.sort_values('Conteo',ascending=False)\n",
        "Top10 = df2.head(10)\n",
        "Top10"
      ],
      "execution_count": 17,
      "outputs": [
        {
          "output_type": "execute_result",
          "data": {
            "text/html": [
              "<div>\n",
              "<style scoped>\n",
              "    .dataframe tbody tr th:only-of-type {\n",
              "        vertical-align: middle;\n",
              "    }\n",
              "\n",
              "    .dataframe tbody tr th {\n",
              "        vertical-align: top;\n",
              "    }\n",
              "\n",
              "    .dataframe thead th {\n",
              "        text-align: right;\n",
              "    }\n",
              "</style>\n",
              "<table border=\"1\" class=\"dataframe\">\n",
              "  <thead>\n",
              "    <tr style=\"text-align: right;\">\n",
              "      <th></th>\n",
              "      <th>ID_Flujo</th>\n",
              "      <th>Fecha</th>\n",
              "      <th>Hora</th>\n",
              "      <th>Conteo</th>\n",
              "    </tr>\n",
              "  </thead>\n",
              "  <tbody>\n",
              "    <tr>\n",
              "      <th>9685</th>\n",
              "      <td>7</td>\n",
              "      <td>2005-11-01</td>\n",
              "      <td>21:30:00</td>\n",
              "      <td>54</td>\n",
              "    </tr>\n",
              "    <tr>\n",
              "      <th>9681</th>\n",
              "      <td>7</td>\n",
              "      <td>2005-11-01</td>\n",
              "      <td>20:30:00</td>\n",
              "      <td>54</td>\n",
              "    </tr>\n",
              "    <tr>\n",
              "      <th>6877</th>\n",
              "      <td>7</td>\n",
              "      <td>2005-10-03</td>\n",
              "      <td>15:30:00</td>\n",
              "      <td>52</td>\n",
              "    </tr>\n",
              "    <tr>\n",
              "      <th>6879</th>\n",
              "      <td>7</td>\n",
              "      <td>2005-10-03</td>\n",
              "      <td>16:00:00</td>\n",
              "      <td>49</td>\n",
              "    </tr>\n",
              "    <tr>\n",
              "      <th>3619</th>\n",
              "      <td>7</td>\n",
              "      <td>2005-08-30</td>\n",
              "      <td>17:00:00</td>\n",
              "      <td>47</td>\n",
              "    </tr>\n",
              "    <tr>\n",
              "      <th>8907</th>\n",
              "      <td>7</td>\n",
              "      <td>2005-10-24</td>\n",
              "      <td>19:00:00</td>\n",
              "      <td>43</td>\n",
              "    </tr>\n",
              "    <tr>\n",
              "      <th>9673</th>\n",
              "      <td>7</td>\n",
              "      <td>2005-11-01</td>\n",
              "      <td>18:30:00</td>\n",
              "      <td>42</td>\n",
              "    </tr>\n",
              "    <tr>\n",
              "      <th>1127</th>\n",
              "      <td>7</td>\n",
              "      <td>2005-08-04</td>\n",
              "      <td>18:00:00</td>\n",
              "      <td>40</td>\n",
              "    </tr>\n",
              "    <tr>\n",
              "      <th>9683</th>\n",
              "      <td>7</td>\n",
              "      <td>2005-11-01</td>\n",
              "      <td>21:00:00</td>\n",
              "      <td>40</td>\n",
              "    </tr>\n",
              "    <tr>\n",
              "      <th>2461</th>\n",
              "      <td>7</td>\n",
              "      <td>2005-08-18</td>\n",
              "      <td>15:30:00</td>\n",
              "      <td>39</td>\n",
              "    </tr>\n",
              "  </tbody>\n",
              "</table>\n",
              "</div>"
            ],
            "text/plain": [
              "     ID_Flujo      Fecha      Hora Conteo\n",
              "9685        7 2005-11-01  21:30:00     54\n",
              "9681        7 2005-11-01  20:30:00     54\n",
              "6877        7 2005-10-03  15:30:00     52\n",
              "6879        7 2005-10-03  16:00:00     49\n",
              "3619        7 2005-08-30  17:00:00     47\n",
              "8907        7 2005-10-24  19:00:00     43\n",
              "9673        7 2005-11-01  18:30:00     42\n",
              "1127        7 2005-08-04  18:00:00     40\n",
              "9683        7 2005-11-01  21:00:00     40\n",
              "2461        7 2005-08-18  15:30:00     39"
            ]
          },
          "metadata": {},
          "execution_count": 17
        }
      ]
    },
    {
      "cell_type": "code",
      "metadata": {
        "id": "xEukRaLaDbk0"
      },
      "source": [
        ""
      ],
      "execution_count": 17,
      "outputs": []
    },
    {
      "cell_type": "markdown",
      "metadata": {
        "id": "i0NJUn9GFRTJ"
      },
      "source": [
        "03. Función Apply\n",
        "\n",
        "Para las 10 filas sacadas arriba, usa la función Apply de pandas para restar el valor menor de los 10 de todos ellos y luego saca el valor promedio de los conteos resultantes."
      ]
    },
    {
      "cell_type": "code",
      "metadata": {
        "colab": {
          "base_uri": "https://localhost:8080/",
          "height": 359
        },
        "id": "d-OXXeaKHMDG",
        "outputId": "e7830603-443a-4679-acf6-58e17168f18e"
      },
      "source": [
        "Top10['Conteo'].apply(lambda x:x-39)\n",
        "Top10"
      ],
      "execution_count": 19,
      "outputs": [
        {
          "output_type": "execute_result",
          "data": {
            "text/html": [
              "<div>\n",
              "<style scoped>\n",
              "    .dataframe tbody tr th:only-of-type {\n",
              "        vertical-align: middle;\n",
              "    }\n",
              "\n",
              "    .dataframe tbody tr th {\n",
              "        vertical-align: top;\n",
              "    }\n",
              "\n",
              "    .dataframe thead th {\n",
              "        text-align: right;\n",
              "    }\n",
              "</style>\n",
              "<table border=\"1\" class=\"dataframe\">\n",
              "  <thead>\n",
              "    <tr style=\"text-align: right;\">\n",
              "      <th></th>\n",
              "      <th>ID_Flujo</th>\n",
              "      <th>Fecha</th>\n",
              "      <th>Hora</th>\n",
              "      <th>Conteo</th>\n",
              "    </tr>\n",
              "  </thead>\n",
              "  <tbody>\n",
              "    <tr>\n",
              "      <th>9685</th>\n",
              "      <td>7</td>\n",
              "      <td>2005-11-01</td>\n",
              "      <td>21:30:00</td>\n",
              "      <td>54</td>\n",
              "    </tr>\n",
              "    <tr>\n",
              "      <th>9681</th>\n",
              "      <td>7</td>\n",
              "      <td>2005-11-01</td>\n",
              "      <td>20:30:00</td>\n",
              "      <td>54</td>\n",
              "    </tr>\n",
              "    <tr>\n",
              "      <th>6877</th>\n",
              "      <td>7</td>\n",
              "      <td>2005-10-03</td>\n",
              "      <td>15:30:00</td>\n",
              "      <td>52</td>\n",
              "    </tr>\n",
              "    <tr>\n",
              "      <th>6879</th>\n",
              "      <td>7</td>\n",
              "      <td>2005-10-03</td>\n",
              "      <td>16:00:00</td>\n",
              "      <td>49</td>\n",
              "    </tr>\n",
              "    <tr>\n",
              "      <th>3619</th>\n",
              "      <td>7</td>\n",
              "      <td>2005-08-30</td>\n",
              "      <td>17:00:00</td>\n",
              "      <td>47</td>\n",
              "    </tr>\n",
              "    <tr>\n",
              "      <th>8907</th>\n",
              "      <td>7</td>\n",
              "      <td>2005-10-24</td>\n",
              "      <td>19:00:00</td>\n",
              "      <td>43</td>\n",
              "    </tr>\n",
              "    <tr>\n",
              "      <th>9673</th>\n",
              "      <td>7</td>\n",
              "      <td>2005-11-01</td>\n",
              "      <td>18:30:00</td>\n",
              "      <td>42</td>\n",
              "    </tr>\n",
              "    <tr>\n",
              "      <th>1127</th>\n",
              "      <td>7</td>\n",
              "      <td>2005-08-04</td>\n",
              "      <td>18:00:00</td>\n",
              "      <td>40</td>\n",
              "    </tr>\n",
              "    <tr>\n",
              "      <th>9683</th>\n",
              "      <td>7</td>\n",
              "      <td>2005-11-01</td>\n",
              "      <td>21:00:00</td>\n",
              "      <td>40</td>\n",
              "    </tr>\n",
              "    <tr>\n",
              "      <th>2461</th>\n",
              "      <td>7</td>\n",
              "      <td>2005-08-18</td>\n",
              "      <td>15:30:00</td>\n",
              "      <td>39</td>\n",
              "    </tr>\n",
              "  </tbody>\n",
              "</table>\n",
              "</div>"
            ],
            "text/plain": [
              "     ID_Flujo      Fecha      Hora Conteo\n",
              "9685        7 2005-11-01  21:30:00     54\n",
              "9681        7 2005-11-01  20:30:00     54\n",
              "6877        7 2005-10-03  15:30:00     52\n",
              "6879        7 2005-10-03  16:00:00     49\n",
              "3619        7 2005-08-30  17:00:00     47\n",
              "8907        7 2005-10-24  19:00:00     43\n",
              "9673        7 2005-11-01  18:30:00     42\n",
              "1127        7 2005-08-04  18:00:00     40\n",
              "9683        7 2005-11-01  21:00:00     40\n",
              "2461        7 2005-08-18  15:30:00     39"
            ]
          },
          "metadata": {},
          "execution_count": 19
        }
      ]
    },
    {
      "cell_type": "code",
      "metadata": {
        "id": "n2K_2S7NIeFu"
      },
      "source": [
        ""
      ],
      "execution_count": null,
      "outputs": []
    }
  ]
}