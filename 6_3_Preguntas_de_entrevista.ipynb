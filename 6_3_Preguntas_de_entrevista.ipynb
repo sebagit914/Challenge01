{
  "nbformat": 4,
  "nbformat_minor": 0,
  "metadata": {
    "colab": {
      "name": "6.3. Preguntas de entrevista.ipynb",
      "provenance": [],
      "authorship_tag": "ABX9TyP4IK/XDLQJasylapIUYmoc",
      "include_colab_link": true
    },
    "kernelspec": {
      "name": "python3",
      "display_name": "Python 3"
    },
    "language_info": {
      "name": "python"
    }
  },
  "cells": [
    {
      "cell_type": "markdown",
      "metadata": {
        "id": "view-in-github",
        "colab_type": "text"
      },
      "source": [
        "<a href=\"https://colab.research.google.com/github/sebagit914/Challenge01/blob/master/6_3_Preguntas_de_entrevista.ipynb\" target=\"_parent\"><img src=\"https://colab.research.google.com/assets/colab-badge.svg\" alt=\"Open In Colab\"/></a>"
      ]
    },
    {
      "cell_type": "code",
      "metadata": {
        "id": "yoJvDxIf2OH1"
      },
      "source": [
        ""
      ],
      "execution_count": null,
      "outputs": []
    },
    {
      "cell_type": "markdown",
      "metadata": {
        "id": "N8Cmi_132Ski"
      },
      "source": [
        "Preguntas de entrevista sobre modelos basados en árboles\n",
        "\n",
        "¿Cómo funcionan los árboles de decisión?\n",
        "\n",
        "¿Cuál es la diferencia entre un árbol de decisiones y un bosque aleatorio?\n",
        "\n",
        "¿Qué es el bootstrapping?\n",
        "\n",
        "¿Qué es el ensacado?\n",
        "\n",
        "¿Por qué un bosque aleatorio podría ser mejor que un árbol de decisiones?\n",
        "\n",
        "¿Qué son los datos de entrenamiento y para qué se utilizan?\n",
        "\n",
        "¿Qué es un equipo de prueba y por qué usar uno?\n",
        "\n",
        "¿Qué es la validación cruzada y por qué es útil?\n",
        "\n",
        "¿Cuáles son los principales hiperparámetros que puedes ajustar para árboles de decisión?\n",
        "\n",
        "¿Cuáles son algunas formas de reducir el sobreajuste con árboles de decisión?"
      ]
    },
    {
      "cell_type": "markdown",
      "metadata": {
        "id": "X69V3UEt2pbx"
      },
      "source": [
        "Tree-Based Models & Model Validation - Interview Question Solutions\n",
        "\n",
        "1. How do decision trees work?\n",
        "    - A classification tree learns a sequence of if then questions with\n",
        "      each question involving one feature and one split point.\n",
        "      The value between the nodes is called a split point.\n",
        "      A good value (one that results in largest information gain) for a split\n",
        "      point is one that does a good job of separating one class from the others.\n",
        "\n",
        "2. What is the difference between a decision tree and a random forest?\n",
        "    - Random forests involve multiple decision trees, each fit on a subset\n",
        "      of the features and a bootstrapped sample of the data.\n",
        "\n",
        "3. What is bootstrapping?\n",
        "    - Bootstrapping is sampling with replacement.\n",
        "\n",
        "4. What is bagging?\n",
        "    - Bagging stands for bootstrap aggregating - it is when multiple models\n",
        "      are fit on many bootstrapped samples of the data.\n",
        "\n",
        "5. Why might a random forest be better than a decision tree?\n",
        "    - Random forests are less prone to overfitting than a single decision tree.\n",
        "\n",
        "6. What is training data and what is it used for?\n",
        "    - Training data is a set of examples that will be used to train the\n",
        "      machine learning model.\n",
        "\n",
        "7. What is a test set and why use one?\n",
        "    - A test set is a set of data not used during training.\n",
        "      The model's performance is evaluated on the test set to predict how\n",
        "      well it will generalize to new data.\n",
        "\n",
        "8. What is cross validation and why is it useful?\n",
        "    - Cross validation is a technique for more accurately training and validating models.\n",
        "      It rotates what data is held out from model training to be used as the validation data.\n",
        "      Several models are trained and evaluated, with every piece of data being held\n",
        "      out from one model. The average performance of all the models is then calculated.\n",
        "\n",
        "9. What are the main hyperparameters that you can tune for decision trees?\n",
        "    - max depth - maximum tree depth\n",
        "    - min samples split - minimum number of samples for a node to be split\n",
        "    - min samples leaf - minimum number of samples for each leaf node\n",
        "    - max leaf nodes - the maximum number of leaf nodes in the tree\n",
        "    - max features - maximum number of features that are evaluated for splitting at each node (only valid for algorithms that randomize features considered at each split)\n",
        "\n",
        "10. What are some ways to reduce overfitting with decision trees?\n",
        "    - Reduce maximum depth\n",
        "    - Increase min samples split\n",
        "    - Balance your data to prevent bias toward dominant classes\n",
        "    - Increase the number of samples\n",
        "    - Decrease the number of features"
      ]
    },
    {
      "cell_type": "code",
      "metadata": {
        "id": "E50AzO112U7Z"
      },
      "source": [
        ""
      ],
      "execution_count": null,
      "outputs": []
    }
  ]
}