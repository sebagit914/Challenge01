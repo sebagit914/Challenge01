{
  "nbformat": 4,
  "nbformat_minor": 0,
  "metadata": {
    "colab": {
      "name": "6.3. Preguntas de entrevista.ipynb",
      "provenance": [],
      "authorship_tag": "ABX9TyPQXKjNhJFHymMOAlws1E6Y",
      "include_colab_link": true
    },
    "kernelspec": {
      "name": "python3",
      "display_name": "Python 3"
    },
    "language_info": {
      "name": "python"
    }
  },
  "cells": [
    {
      "cell_type": "markdown",
      "metadata": {
        "id": "view-in-github",
        "colab_type": "text"
      },
      "source": [
        "<a href=\"https://colab.research.google.com/github/sebagit914/Challenge01/blob/master/6_3_Preguntas_de_entrevista.ipynb\" target=\"_parent\"><img src=\"https://colab.research.google.com/assets/colab-badge.svg\" alt=\"Open In Colab\"/></a>"
      ]
    },
    {
      "cell_type": "code",
      "metadata": {
        "id": "yoJvDxIf2OH1"
      },
      "source": [
        ""
      ],
      "execution_count": null,
      "outputs": []
    },
    {
      "cell_type": "markdown",
      "metadata": {
        "id": "N8Cmi_132Ski"
      },
      "source": [
        "Preguntas de entrevista sobre modelos basados en árboles\n",
        "\n",
        "¿Cómo funcionan los árboles de decisión?\n",
        "\n",
        "¿Cuál es la diferencia entre un árbol de decisiones y un bosque aleatorio?\n",
        "\n",
        "¿Qué es el bootstrapping?\n",
        "\n",
        "¿Qué es el ensacado?\n",
        "\n",
        "¿Por qué un bosque aleatorio podría ser mejor que un árbol de decisiones?\n",
        "\n",
        "¿Qué son los datos de entrenamiento y para qué se utilizan?\n",
        "\n",
        "¿Qué es un equipo de prueba y por qué usar uno?\n",
        "\n",
        "¿Qué es la validación cruzada y por qué es útil?\n",
        "\n",
        "¿Cuáles son los principales hiperparámetros que puedes ajustar para árboles de decisión?\n",
        "\n",
        "¿Cuáles son algunas formas de reducir el sobreajuste con árboles de decisión?"
      ]
    },
    {
      "cell_type": "code",
      "metadata": {
        "id": "E50AzO112U7Z"
      },
      "source": [
        ""
      ],
      "execution_count": null,
      "outputs": []
    }
  ]
}