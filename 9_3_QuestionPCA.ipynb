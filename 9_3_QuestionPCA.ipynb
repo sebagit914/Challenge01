{
  "nbformat": 4,
  "nbformat_minor": 0,
  "metadata": {
    "colab": {
      "name": "9.3.QuestionPCA.ipynb",
      "provenance": [],
      "collapsed_sections": [],
      "authorship_tag": "ABX9TyPwYsq7U/mUGBWaIzX9VE61",
      "include_colab_link": true
    },
    "kernelspec": {
      "name": "python3",
      "display_name": "Python 3"
    },
    "language_info": {
      "name": "python"
    }
  },
  "cells": [
    {
      "cell_type": "markdown",
      "metadata": {
        "id": "view-in-github",
        "colab_type": "text"
      },
      "source": [
        "<a href=\"https://colab.research.google.com/github/sebagit914/Challenge01/blob/master/9_3_QuestionPCA.ipynb\" target=\"_parent\"><img src=\"https://colab.research.google.com/assets/colab-badge.svg\" alt=\"Open In Colab\"/></a>"
      ]
    },
    {
      "cell_type": "code",
      "metadata": {
        "id": "wjXTbdEebMRe"
      },
      "source": [
        ""
      ],
      "execution_count": null,
      "outputs": []
    },
    {
      "cell_type": "markdown",
      "metadata": {
        "id": "p7_6gZwhNC9h"
      },
      "source": [
        "Reducción de dimensionalidad - Preguntas de entrevista.\n",
        "\n",
        "¿Por qué querrías usar técnicas de reducción de dimensionalidad para transformar tus datos antes de entrenarlos?\n",
        "\n",
        "¿Por qué querrías evitar técnicas de reducción de dimensionalidad para transformar tus datos antes de entrenarlos?\n",
        "\n",
        "Nombra un algoritmo popular de reducción de dimensionalidad y descríbelo de forma breve.\n",
        "\n",
        "Después de reducir la dimensionalidad, ¿puedes transformar los datos al espacio de características original? ¿Cómo?\n",
        "\n",
        "¿Cómo seleccionas el número de componentes principales necesarios para el ACP? \n",
        "¿Cuándo usarías el ACP?   \n",
        "\n",
        "¿Por qué llevarías a cabo el ACP incluso sin tener una gran cantidad de características?\n",
        "\n",
        "¿En qué casos NO llevarías a cabo un ACP?  \n",
        "\n",
        "¿Cuál es la interpretación geométrica de un vector propio y un valor propio?\n",
        "\n",
        "¿Cuál es la interpretación algebraica de un vector propio y un valor propio?\n"
      ]
    }
  ]
}