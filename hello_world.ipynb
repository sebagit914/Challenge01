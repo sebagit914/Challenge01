{
  "nbformat": 4,
  "nbformat_minor": 0,
  "metadata": {
    "colab": {
      "name": "hello_world.ipynb",
      "provenance": [],
      "authorship_tag": "ABX9TyPsYmTWZFlHGwrTzUvovxJg",
      "include_colab_link": true
    },
    "kernelspec": {
      "name": "python3",
      "display_name": "Python 3"
    },
    "language_info": {
      "name": "python"
    }
  },
  "cells": [
    {
      "cell_type": "markdown",
      "metadata": {
        "id": "view-in-github",
        "colab_type": "text"
      },
      "source": [
        "<a href=\"https://colab.research.google.com/github/sebagit914/Challenge01/blob/master/hello_world.ipynb\" target=\"_parent\"><img src=\"https://colab.research.google.com/assets/colab-badge.svg\" alt=\"Open In Colab\"/></a>"
      ]
    },
    {
      "cell_type": "code",
      "metadata": {
        "id": "s13HC16kZdhd",
        "colab": {
          "base_uri": "https://localhost:8080/",
          "height": 132
        },
        "outputId": "aef3ed7a-8578-452f-fb8f-b91e34bb0cfb"
      },
      "source": [
        "# 1. TASK: print \"Hola, mundo\"\n",
        "print( your code here )\n",
        "# 2. print \"Hola Noelle!\" con el nombre de una variable\n",
        "name = \"Noelle\"\n",
        "print( your code here )\t# con una coma\n",
        "print( your code here )\t# con un +\n",
        "# 3. print \"Hola 42!\" con el número en una variable\n",
        "name = 42\n",
        "print( your code here )\t# con una coma\n",
        "print( your code here )\t# con un +\t-- ¡esta nos debería arrojar un error!\n",
        "# 4. print \"Amo comer sushi y pizza.\" con las comidas en variables\n",
        "fave_food1 = \"sushi\"\n",
        "fave_food2 = \"pizza\"\n",
        "print( your code here ) # with .format()\n",
        "print( your code here ) # with an f string"
      ],
      "execution_count": 1,
      "outputs": [
        {
          "output_type": "error",
          "ename": "SyntaxError",
          "evalue": "ignored",
          "traceback": [
            "\u001b[0;36m  File \u001b[0;32m\"<ipython-input-1-404172b0b4f6>\"\u001b[0;36m, line \u001b[0;32m2\u001b[0m\n\u001b[0;31m    print( your code here )\u001b[0m\n\u001b[0m                   ^\u001b[0m\n\u001b[0;31mSyntaxError\u001b[0m\u001b[0;31m:\u001b[0m invalid syntax\n"
          ]
        }
      ]
    },
    {
      "cell_type": "code",
      "metadata": {
        "colab": {
          "base_uri": "https://localhost:8080/"
        },
        "id": "aAcMxy2fd46p",
        "outputId": "cf3979f3-71bf-4fbe-e083-4bbb7d6f8868"
      },
      "source": [
        "# 1. TASK: print \"Hola, mundo\"\n",
        "print( \"Hola, mundo\" )\n"
      ],
      "execution_count": 2,
      "outputs": [
        {
          "output_type": "stream",
          "text": [
            "Hola, mundo\n"
          ],
          "name": "stdout"
        }
      ]
    },
    {
      "cell_type": "code",
      "metadata": {
        "colab": {
          "base_uri": "https://localhost:8080/"
        },
        "id": "7eP8QBo4d5Eq",
        "outputId": "813fbd1f-ee7f-47f9-f81b-7738347b71c5"
      },
      "source": [
        "# 2. print \"Hola Noelle!\" con el nombre de una variable\n",
        "name = \"Noelle\"\n",
        "print(\"Hola\", name,\"!\")\t# con una coma\n",
        "print( \"Hola\" \" \" + name + \"!\")\t# con un +"
      ],
      "execution_count": 3,
      "outputs": [
        {
          "output_type": "stream",
          "text": [
            "Hola Noelle !\n",
            "Hola Noelle!\n"
          ],
          "name": "stdout"
        }
      ]
    },
    {
      "cell_type": "code",
      "metadata": {
        "colab": {
          "base_uri": "https://localhost:8080/"
        },
        "id": "1Z16N0HPd5IH",
        "outputId": "8091ed5a-3897-42a6-dee7-781fbde0a91d"
      },
      "source": [
        "# 3. print \"Hola 42!\" con el número en una variable\n",
        "name = 42\n",
        "print( \"Hola\", str(name) )\t# con una coma\n",
        "print( \"Hola\" + str(name) )\t# con un +\t-- ¡esta nos debería arrojar un error!"
      ],
      "execution_count": 4,
      "outputs": [
        {
          "output_type": "stream",
          "text": [
            "Hola 42\n",
            "Hola42\n"
          ],
          "name": "stdout"
        }
      ]
    },
    {
      "cell_type": "code",
      "metadata": {
        "colab": {
          "base_uri": "https://localhost:8080/"
        },
        "id": "2bK5W500f7I9",
        "outputId": "21655865-3574-4199-c0da-155cec870994"
      },
      "source": [
        "# 4. print \"Amo comer sushi y pizza.\" con las comidas en variables\n",
        "fave_food1 = \"sushi\"\n",
        "fave_food2 = \"pizza\"\n",
        "print(\"Amo comer {} y {}\".format(fave_food1, fave_food2) ) # with .format()\n",
        "print( f\"Amo comer {fave_food1} y {fave_food2}\" ) # with an f string"
      ],
      "execution_count": null,
      "outputs": [
        {
          "output_type": "stream",
          "text": [
            "Amo comer sushi y pizza\n",
            "Amo comer sushi y pizza\n"
          ],
          "name": "stdout"
        }
      ]
    },
    {
      "cell_type": "code",
      "metadata": {
        "id": "3yu3u_2Of7VE"
      },
      "source": [
        ""
      ],
      "execution_count": null,
      "outputs": []
    }
  ]
}