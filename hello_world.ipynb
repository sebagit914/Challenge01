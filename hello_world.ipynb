{
  "nbformat": 4,
  "nbformat_minor": 0,
  "metadata": {
    "colab": {
      "name": "hello_world.ipynb",
      "provenance": [],
      "authorship_tag": "ABX9TyPUtHwZnRyQhY0YmGlRZeIk",
      "include_colab_link": true
    },
    "kernelspec": {
      "name": "python3",
      "display_name": "Python 3"
    },
    "language_info": {
      "name": "python"
    }
  },
  "cells": [
    {
      "cell_type": "markdown",
      "metadata": {
        "id": "view-in-github",
        "colab_type": "text"
      },
      "source": [
        "<a href=\"https://colab.research.google.com/github/sebagit914/Challenge01/blob/master/hello_world.ipynb\" target=\"_parent\"><img src=\"https://colab.research.google.com/assets/colab-badge.svg\" alt=\"Open In Colab\"/></a>"
      ]
    },
    {
      "cell_type": "code",
      "metadata": {
        "id": "s13HC16kZdhd"
      },
      "source": [
        "# 1. TASK: print \"Hola, mundo\"\n",
        "print( your code here )\n",
        "# 2. print \"Hola Noelle!\" con el nombre de una variable\n",
        "name = \"Noelle\"\n",
        "print( your code here )\t# con una coma\n",
        "print( your code here )\t# con un +\n",
        "# 3. print \"Hola 42!\" con el número en una variable\n",
        "name = 42\n",
        "print( your code here )\t# con una coma\n",
        "print( your code here )\t# con un +\t-- ¡esta nos debería arrojar un error!\n",
        "# 4. print \"Amo comer sushi y pizza.\" con las comidas en variables\n",
        "fave_food1 = \"sushi\"\n",
        "fave_food2 = \"pizza\"\n",
        "print( your code here ) # with .format()\n",
        "print( your code here ) # with an f string"
      ],
      "execution_count": null,
      "outputs": []
    },
    {
      "cell_type": "code",
      "metadata": {
        "colab": {
          "base_uri": "https://localhost:8080/"
        },
        "id": "aAcMxy2fd46p",
        "outputId": "de3c6eba-88c5-4a1a-96ba-d31b78c960cb"
      },
      "source": [
        "# 1. TASK: print \"Hola, mundo\"\n",
        "print( \"Hola, mundo\" )\n"
      ],
      "execution_count": 21,
      "outputs": [
        {
          "output_type": "stream",
          "text": [
            "Hola, mundo\n"
          ],
          "name": "stdout"
        }
      ]
    },
    {
      "cell_type": "code",
      "metadata": {
        "colab": {
          "base_uri": "https://localhost:8080/"
        },
        "id": "7eP8QBo4d5Eq",
        "outputId": "3039453a-6c94-4c7b-d62c-a660b2b3d712"
      },
      "source": [
        "# 2. print \"Hola Noelle!\" con el nombre de una variable\n",
        "name = \"Noelle\"\n",
        "print(\"Hola\", name,\"!\")\t# con una coma\n",
        "print( \"Hola\" \" \" + name + \"!\")\t# con un +"
      ],
      "execution_count": 35,
      "outputs": [
        {
          "output_type": "stream",
          "text": [
            "Hola Noelle !\n",
            "Hola Noelle!\n"
          ],
          "name": "stdout"
        }
      ]
    },
    {
      "cell_type": "code",
      "metadata": {
        "colab": {
          "base_uri": "https://localhost:8080/",
          "height": 215
        },
        "id": "1Z16N0HPd5IH",
        "outputId": "5f8e8720-5c91-4598-f64e-7aa6a9504c8e"
      },
      "source": [
        "# 3. print \"Hola 42!\" con el número en una variable\n",
        "name = 42\n",
        "print( \"Hola\", name )\t# con una coma\n",
        "print( \"Hola\" + name )\t# con un +\t-- ¡esta nos debería arrojar un error!"
      ],
      "execution_count": 37,
      "outputs": [
        {
          "output_type": "stream",
          "text": [
            "Hola 42\n"
          ],
          "name": "stdout"
        },
        {
          "output_type": "error",
          "ename": "TypeError",
          "evalue": "ignored",
          "traceback": [
            "\u001b[0;31m---------------------------------------------------------------------------\u001b[0m",
            "\u001b[0;31mTypeError\u001b[0m                                 Traceback (most recent call last)",
            "\u001b[0;32m<ipython-input-37-0eab2c36b4ca>\u001b[0m in \u001b[0;36m<module>\u001b[0;34m()\u001b[0m\n\u001b[1;32m      2\u001b[0m \u001b[0mname\u001b[0m \u001b[0;34m=\u001b[0m \u001b[0;36m42\u001b[0m\u001b[0;34m\u001b[0m\u001b[0;34m\u001b[0m\u001b[0m\n\u001b[1;32m      3\u001b[0m \u001b[0mprint\u001b[0m\u001b[0;34m(\u001b[0m \u001b[0;34m\"Hola\"\u001b[0m\u001b[0;34m,\u001b[0m \u001b[0mname\u001b[0m \u001b[0;34m)\u001b[0m   \u001b[0;31m# con una coma\u001b[0m\u001b[0;34m\u001b[0m\u001b[0;34m\u001b[0m\u001b[0m\n\u001b[0;32m----> 4\u001b[0;31m \u001b[0mprint\u001b[0m\u001b[0;34m(\u001b[0m \u001b[0;34m\"Hola\"\u001b[0m \u001b[0;34m+\u001b[0m \u001b[0mname\u001b[0m \u001b[0;34m)\u001b[0m  \u001b[0;31m# con un +      -- ¡esta nos debería arrojar un error!\u001b[0m\u001b[0;34m\u001b[0m\u001b[0;34m\u001b[0m\u001b[0m\n\u001b[0m",
            "\u001b[0;31mTypeError\u001b[0m: can only concatenate str (not \"int\") to str"
          ]
        }
      ]
    },
    {
      "cell_type": "code",
      "metadata": {
        "colab": {
          "base_uri": "https://localhost:8080/"
        },
        "id": "2bK5W500f7I9",
        "outputId": "21655865-3574-4199-c0da-155cec870994"
      },
      "source": [
        "# 4. print \"Amo comer sushi y pizza.\" con las comidas en variables\n",
        "fave_food1 = \"sushi\"\n",
        "fave_food2 = \"pizza\"\n",
        "print(\"Amo comer {} y {}\".format(fave_food1, fave_food2) ) # with .format()\n",
        "print( f\"Amo comer {fave_food1} y {fave_food2}\" ) # with an f string"
      ],
      "execution_count": 39,
      "outputs": [
        {
          "output_type": "stream",
          "text": [
            "Amo comer sushi y pizza\n",
            "Amo comer sushi y pizza\n"
          ],
          "name": "stdout"
        }
      ]
    },
    {
      "cell_type": "code",
      "metadata": {
        "id": "3yu3u_2Of7VE"
      },
      "source": [
        ""
      ],
      "execution_count": null,
      "outputs": []
    }
  ]
}