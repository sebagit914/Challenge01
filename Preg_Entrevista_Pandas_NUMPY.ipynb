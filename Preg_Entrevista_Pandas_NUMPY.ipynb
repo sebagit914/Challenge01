{
  "nbformat": 4,
  "nbformat_minor": 0,
  "metadata": {
    "colab": {
      "name": "Preg.Entrevista_Pandas/NUMPY.ipynb",
      "provenance": [],
      "authorship_tag": "ABX9TyMuP7ZjgBVxUWKbULVXU6NJ",
      "include_colab_link": true
    },
    "kernelspec": {
      "name": "python3",
      "display_name": "Python 3"
    },
    "language_info": {
      "name": "python"
    }
  },
  "cells": [
    {
      "cell_type": "markdown",
      "metadata": {
        "id": "view-in-github",
        "colab_type": "text"
      },
      "source": [
        "<a href=\"https://colab.research.google.com/github/sebagit914/Challenge01/blob/master/Preg_Entrevista_Pandas_NUMPY.ipynb\" target=\"_parent\"><img src=\"https://colab.research.google.com/assets/colab-badge.svg\" alt=\"Open In Colab\"/></a>"
      ]
    },
    {
      "cell_type": "code",
      "metadata": {
        "id": "hRrdJDg2PtDL"
      },
      "source": [
        "Pandas - Interview Question Solutions\n",
        "\n",
        "1. What is a Pandas DataFrame?\n",
        "    - A Pandas DataFrame is a two-dimensional data structure that stores data in tabular form.\n",
        "    - Data is stored in rows and columns.\n",
        "    - It is a human-readable way to work with data in Python.\n",
        "\n",
        "2. What is a Pandas Series?\n",
        "    - A Pandas Series is a one-dimensional array - you can think of this as one column from a DataFrame.\n",
        "\n",
        "3. How would you make an empty DataFrame in Python?\n",
        "\"\"\"\n",
        "    # method 1:\n",
        "    pd.DataFrame()\n",
        "\n",
        "    # method 2: save this as a variable\n",
        "    df = pd.DataFrame()\n",
        "\n",
        "\"\"\"\n",
        "4. In Pandas, how would you find the number of unique values in a column?\n",
        "    - There are several ways to accomplish this:\n",
        "\"\"\"\n",
        "    # Method 1:\n",
        "    df.value_counts(df[‘column’])\n",
        "\n",
        "    # Method 2:\n",
        "    len(pd.unique(df[‘column’])\n",
        "\n",
        "    # Method 3:\n",
        "    df[‘column’].nunique()\n",
        "\n",
        "\"\"\"\"\"\n",
        "5. What are some benefits of using Pandas?\n",
        "    - Human-readable/friendly\n",
        "    - Easy manipulation of data thanks to its methods\n",
        "    - Efficient on large data\n",
        "    - Made for Python\n",
        "\n",
        "6. How would you add a column to a pandas DataFrame?\n",
        "\"\"\"\n",
        "    # Adding empty column:\n",
        "    df[‘new_col’] = np.nan\n",
        "\n",
        "    # Adding existing list as new column:\n",
        "    df[‘new_col’] = my_list\n",
        "\n",
        "\"\"\"\n",
        "7. How would you rename a column in a Pandas DataFrame?\n",
        "\"\"\"\n",
        "    # Method 1:\n",
        "    df.rename(columns = {‘old_name’: ‘new_name’}, inplace = True)\n",
        "\n",
        "    # Method 2:\n",
        "    df.columns = [‘col1_new_name’, … ‘coln_new_name’]\n",
        "\n",
        "\"\"\"\n",
        "8. How would you convert a Pandas DataFrame to a numpy array?\n",
        "\"\"\"\n",
        "    # Method 1:\n",
        "    df.to_numpy()\n",
        "\n",
        "    # Method 2:\n",
        "    df.values\n",
        "\n",
        "\"\"\"\n",
        "9. How would you save a Pandas DataFrame to a csv file?\n",
        "\"\"\"\n",
        "    df.to_csv(‘name.csv’)\n",
        "\n",
        "\"\"\"\n",
        "10. Define GroupBy in Pandas.\n",
        "    - Groupby rearranges the data into various groups based on some criteria.\n",
        "\"\"\""
      ],
      "execution_count": null,
      "outputs": []
    }
  ]
}