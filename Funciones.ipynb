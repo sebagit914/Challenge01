{
  "nbformat": 4,
  "nbformat_minor": 0,
  "metadata": {
    "colab": {
      "name": "Funciones.ipynb",
      "provenance": [],
      "authorship_tag": "ABX9TyM8zp5uWWaZclLFFaHrqibg",
      "include_colab_link": true
    },
    "kernelspec": {
      "name": "python3",
      "display_name": "Python 3"
    },
    "language_info": {
      "name": "python"
    }
  },
  "cells": [
    {
      "cell_type": "markdown",
      "metadata": {
        "id": "view-in-github",
        "colab_type": "text"
      },
      "source": [
        "<a href=\"https://colab.research.google.com/github/sebagit914/Challenge01/blob/master/Funciones.ipynb\" target=\"_parent\"><img src=\"https://colab.research.google.com/assets/colab-badge.svg\" alt=\"Open In Colab\"/></a>"
      ]
    },
    {
      "cell_type": "code",
      "metadata": {
        "colab": {
          "base_uri": "https://localhost:8080/"
        },
        "id": "FFrne1Wyi5K-",
        "outputId": "356958bf-c6d4-4aec-bef7-0e16c7eb343b"
      },
      "source": [
        "#1\n",
        "def a():\n",
        "    return 5\n",
        "print(a())"
      ],
      "execution_count": 1,
      "outputs": [
        {
          "output_type": "stream",
          "text": [
            "5\n"
          ],
          "name": "stdout"
        }
      ]
    },
    {
      "cell_type": "code",
      "metadata": {
        "colab": {
          "base_uri": "https://localhost:8080/"
        },
        "id": "7VTMeWY3jJCJ",
        "outputId": "02c1ed12-21c2-4a84-f9cf-4b60bfc91e78"
      },
      "source": [
        "#2\n",
        "def a():\n",
        "    return 5\n",
        "print(a()+a())\n"
      ],
      "execution_count": 2,
      "outputs": [
        {
          "output_type": "stream",
          "text": [
            "10\n"
          ],
          "name": "stdout"
        }
      ]
    },
    {
      "cell_type": "code",
      "metadata": {
        "colab": {
          "base_uri": "https://localhost:8080/"
        },
        "id": "0qaTOtekjWJR",
        "outputId": "2df69f8a-4589-46ac-ac49-55244de2596d"
      },
      "source": [
        "#3\n",
        "def a():\n",
        "    return 5\n",
        "    return 10\n",
        "print(a())"
      ],
      "execution_count": 3,
      "outputs": [
        {
          "output_type": "stream",
          "text": [
            "5\n"
          ],
          "name": "stdout"
        }
      ]
    },
    {
      "cell_type": "code",
      "metadata": {
        "colab": {
          "base_uri": "https://localhost:8080/"
        },
        "id": "eCgKzv49jepx",
        "outputId": "83dc4ee4-d46f-468c-aaf8-8cc7794cfc58"
      },
      "source": [
        "#4\n",
        "def a():\n",
        "    return 5\n",
        "    print(10)\n",
        "print(a())"
      ],
      "execution_count": 8,
      "outputs": [
        {
          "output_type": "stream",
          "text": [
            "5\n"
          ],
          "name": "stdout"
        }
      ]
    },
    {
      "cell_type": "code",
      "metadata": {
        "colab": {
          "base_uri": "https://localhost:8080/"
        },
        "id": "EyhlxwH0jtOt",
        "outputId": "7b337ba1-1fe7-4127-8bf0-36e6051ed1b8"
      },
      "source": [
        "#5\n",
        "def a():\n",
        "    print(5)\n",
        "x = a()\n",
        "print(x)"
      ],
      "execution_count": 9,
      "outputs": [
        {
          "output_type": "stream",
          "text": [
            "5\n",
            "None\n"
          ],
          "name": "stdout"
        }
      ]
    },
    {
      "cell_type": "code",
      "metadata": {
        "colab": {
          "base_uri": "https://localhost:8080/",
          "height": 232
        },
        "id": "l6T_g_-1kCWF",
        "outputId": "e38ba2e7-7b5a-4095-87b1-23474148eeab"
      },
      "source": [
        "#6\n",
        "def a(b,c):\n",
        "    print(b+c)\n",
        "print(a(1,2) + a(2,3))\n"
      ],
      "execution_count": 13,
      "outputs": [
        {
          "output_type": "stream",
          "text": [
            "3\n",
            "5\n"
          ],
          "name": "stdout"
        },
        {
          "output_type": "error",
          "ename": "TypeError",
          "evalue": "ignored",
          "traceback": [
            "\u001b[0;31m---------------------------------------------------------------------------\u001b[0m",
            "\u001b[0;31mTypeError\u001b[0m                                 Traceback (most recent call last)",
            "\u001b[0;32m<ipython-input-13-c5f8fce73963>\u001b[0m in \u001b[0;36m<module>\u001b[0;34m()\u001b[0m\n\u001b[1;32m      2\u001b[0m \u001b[0;32mdef\u001b[0m \u001b[0ma\u001b[0m\u001b[0;34m(\u001b[0m\u001b[0mb\u001b[0m\u001b[0;34m,\u001b[0m\u001b[0mc\u001b[0m\u001b[0;34m)\u001b[0m\u001b[0;34m:\u001b[0m\u001b[0;34m\u001b[0m\u001b[0;34m\u001b[0m\u001b[0m\n\u001b[1;32m      3\u001b[0m     \u001b[0mprint\u001b[0m\u001b[0;34m(\u001b[0m\u001b[0mb\u001b[0m\u001b[0;34m+\u001b[0m\u001b[0mc\u001b[0m\u001b[0;34m)\u001b[0m\u001b[0;34m\u001b[0m\u001b[0;34m\u001b[0m\u001b[0m\n\u001b[0;32m----> 4\u001b[0;31m \u001b[0mprint\u001b[0m\u001b[0;34m(\u001b[0m\u001b[0ma\u001b[0m\u001b[0;34m(\u001b[0m\u001b[0;36m1\u001b[0m\u001b[0;34m,\u001b[0m\u001b[0;36m2\u001b[0m\u001b[0;34m)\u001b[0m \u001b[0;34m+\u001b[0m \u001b[0ma\u001b[0m\u001b[0;34m(\u001b[0m\u001b[0;36m2\u001b[0m\u001b[0;34m,\u001b[0m\u001b[0;36m3\u001b[0m\u001b[0;34m)\u001b[0m\u001b[0;34m)\u001b[0m\u001b[0;34m\u001b[0m\u001b[0;34m\u001b[0m\u001b[0m\n\u001b[0m",
            "\u001b[0;31mTypeError\u001b[0m: unsupported operand type(s) for +: 'NoneType' and 'NoneType'"
          ]
        }
      ]
    },
    {
      "cell_type": "code",
      "metadata": {
        "colab": {
          "base_uri": "https://localhost:8080/"
        },
        "id": "m0a75BjhkTMr",
        "outputId": "fd365de3-f841-4f4e-f698-036eb5b7a592"
      },
      "source": [
        "#7\n",
        "def a(b,c):\n",
        "    return str(b)+str(c)\n",
        "print(a(2,5))\n"
      ],
      "execution_count": 14,
      "outputs": [
        {
          "output_type": "stream",
          "text": [
            "25\n"
          ],
          "name": "stdout"
        }
      ]
    },
    {
      "cell_type": "code",
      "metadata": {
        "colab": {
          "base_uri": "https://localhost:8080/"
        },
        "id": "PNlG1OpYkrTg",
        "outputId": "b594c19c-d5f4-4066-d09f-61e58605cac3"
      },
      "source": [
        "#8\n",
        "def a():\n",
        "    b = 100\n",
        "    print(b)\n",
        "    if b < 10:\n",
        "        return 5\n",
        "    else:\n",
        "        return 10\n",
        "    return 7\n",
        "print(a())"
      ],
      "execution_count": 15,
      "outputs": [
        {
          "output_type": "stream",
          "text": [
            "100\n",
            "10\n"
          ],
          "name": "stdout"
        }
      ]
    },
    {
      "cell_type": "code",
      "metadata": {
        "colab": {
          "base_uri": "https://localhost:8080/"
        },
        "id": "zrc6KKO2k4Hh",
        "outputId": "a49af056-e274-4db9-9cca-be65c6bd38fd"
      },
      "source": [
        "#9\n",
        "def a(b,c):\n",
        "    if b<c:\n",
        "        return 7\n",
        "    else:\n",
        "        return 14\n",
        "    return 3\n",
        "print(a(2,3))\n",
        "print(a(5,3))\n",
        "print(a(2,3) + a(5,3))"
      ],
      "execution_count": 16,
      "outputs": [
        {
          "output_type": "stream",
          "text": [
            "7\n",
            "14\n",
            "21\n"
          ],
          "name": "stdout"
        }
      ]
    },
    {
      "cell_type": "code",
      "metadata": {
        "colab": {
          "base_uri": "https://localhost:8080/"
        },
        "id": "Ft9StRJolN21",
        "outputId": "f68fd944-08ad-4965-9a64-ac9f6a53cec6"
      },
      "source": [
        "#10\n",
        "def a(b,c):\n",
        "    return b+c\n",
        "    return 10\n",
        "print(a(3,5))"
      ],
      "execution_count": 17,
      "outputs": [
        {
          "output_type": "stream",
          "text": [
            "8\n"
          ],
          "name": "stdout"
        }
      ]
    },
    {
      "cell_type": "code",
      "metadata": {
        "colab": {
          "base_uri": "https://localhost:8080/"
        },
        "id": "1zrN1JcOlhRQ",
        "outputId": "e557e060-dd77-4ea6-c660-c69688d40fe9"
      },
      "source": [
        "#11\n",
        "b = 500\n",
        "print(b)\n",
        "def a():\n",
        "    b = 300\n",
        "    print(b)\n",
        "print(b)\n",
        "a()\n",
        "print(b)"
      ],
      "execution_count": 18,
      "outputs": [
        {
          "output_type": "stream",
          "text": [
            "500\n",
            "500\n",
            "300\n",
            "500\n"
          ],
          "name": "stdout"
        }
      ]
    },
    {
      "cell_type": "code",
      "metadata": {
        "colab": {
          "base_uri": "https://localhost:8080/"
        },
        "id": "ig-HtYmglpee",
        "outputId": "7e1dc697-7b09-4d0a-ecbe-d287e47b4b13"
      },
      "source": [
        "#12\n",
        "b = 500\n",
        "print(b)\n",
        "def a():\n",
        "    b = 300\n",
        "    print(b)\n",
        "    return b\n",
        "print(b)\n",
        "a()\n",
        "print(b)"
      ],
      "execution_count": 19,
      "outputs": [
        {
          "output_type": "stream",
          "text": [
            "500\n",
            "500\n",
            "300\n",
            "500\n"
          ],
          "name": "stdout"
        }
      ]
    },
    {
      "cell_type": "code",
      "metadata": {
        "colab": {
          "base_uri": "https://localhost:8080/"
        },
        "id": "6RMBc6CumLTl",
        "outputId": "089e265e-b748-45bb-fe59-ca8ffe71b170"
      },
      "source": [
        "#13\n",
        "b = 500\n",
        "print(b)\n",
        "def a():\n",
        "    b = 300\n",
        "    print(b)\n",
        "    return b\n",
        "print(b)\n",
        "b=a()\n",
        "print(b)"
      ],
      "execution_count": 20,
      "outputs": [
        {
          "output_type": "stream",
          "text": [
            "500\n",
            "500\n",
            "300\n",
            "300\n"
          ],
          "name": "stdout"
        }
      ]
    },
    {
      "cell_type": "code",
      "metadata": {
        "colab": {
          "base_uri": "https://localhost:8080/"
        },
        "id": "4b_05FzRm5X9",
        "outputId": "4848531c-2748-4230-9f3a-17c29ff918aa"
      },
      "source": [
        "#14\n",
        "def a():\n",
        "    print(1)\n",
        "    b()\n",
        "    print(2)\n",
        "def b():\n",
        "    print(3)\n",
        "a()"
      ],
      "execution_count": 21,
      "outputs": [
        {
          "output_type": "stream",
          "text": [
            "1\n",
            "3\n",
            "2\n"
          ],
          "name": "stdout"
        }
      ]
    },
    {
      "cell_type": "code",
      "metadata": {
        "colab": {
          "base_uri": "https://localhost:8080/"
        },
        "id": "pTmS5fwvnZyU",
        "outputId": "059dedfe-8eb8-40b1-e7c8-d4b4dd8a19aa"
      },
      "source": [
        "#15\n",
        "def a():\n",
        "    print(1)\n",
        "    x = b()\n",
        "    print(x)\n",
        "    return 10\n",
        "def b():\n",
        "    print(3)\n",
        "    return 5\n",
        "y = a()\n",
        "print(y)"
      ],
      "execution_count": 22,
      "outputs": [
        {
          "output_type": "stream",
          "text": [
            "1\n",
            "3\n",
            "5\n",
            "10\n"
          ],
          "name": "stdout"
        }
      ]
    },
    {
      "cell_type": "code",
      "metadata": {
        "id": "r6ulzHLcngL7"
      },
      "source": [
        ""
      ],
      "execution_count": null,
      "outputs": []
    }
  ]
}