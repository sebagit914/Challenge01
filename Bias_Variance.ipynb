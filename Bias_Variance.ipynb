{
  "nbformat": 4,
  "nbformat_minor": 0,
  "metadata": {
    "colab": {
      "name": "Bias_Variance.ipynb",
      "provenance": [],
      "authorship_tag": "ABX9TyOGpW4z/KGG32J676/D4pTM",
      "include_colab_link": true
    },
    "kernelspec": {
      "name": "python3",
      "display_name": "Python 3"
    },
    "language_info": {
      "name": "python"
    }
  },
  "cells": [
    {
      "cell_type": "markdown",
      "metadata": {
        "id": "view-in-github",
        "colab_type": "text"
      },
      "source": [
        "<a href=\"https://colab.research.google.com/github/sebagit914/Challenge01/blob/master/Bias_Variance.ipynb\" target=\"_parent\"><img src=\"https://colab.research.google.com/assets/colab-badge.svg\" alt=\"Open In Colab\"/></a>"
      ]
    },
    {
      "cell_type": "markdown",
      "metadata": {
        "id": "RwpUnYpClqpp"
      },
      "source": [
        "Para enviar esta actividad, ingresa un archivo de texto con un resumen de una oración del trade-off sesgo/varianza en tus propias palabras"
      ]
    },
    {
      "cell_type": "markdown",
      "metadata": {
        "id": "9gM9tWullsIK"
      },
      "source": [
        "Lo óptimo que queremos tener, es un modelo que tenga poco bias y poca varianza. Esto es lo que se llamaría un modelo robusto."
      ]
    },
    {
      "cell_type": "code",
      "metadata": {
        "id": "ltsYk6Wbm397"
      },
      "source": [
        ""
      ],
      "execution_count": null,
      "outputs": []
    }
  ]
}