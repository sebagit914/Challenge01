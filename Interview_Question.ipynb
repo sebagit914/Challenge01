{
  "nbformat": 4,
  "nbformat_minor": 0,
  "metadata": {
    "colab": {
      "name": "Interview_Question.ipynb",
      "provenance": [],
      "collapsed_sections": [],
      "authorship_tag": "ABX9TyOadtspfP0iEazVmbUeZ4Jw",
      "include_colab_link": true
    },
    "kernelspec": {
      "name": "python3",
      "display_name": "Python 3"
    },
    "language_info": {
      "name": "python"
    }
  },
  "cells": [
    {
      "cell_type": "markdown",
      "metadata": {
        "id": "view-in-github",
        "colab_type": "text"
      },
      "source": [
        "<a href=\"https://colab.research.google.com/github/sebagit914/Challenge01/blob/master/Interview_Question.ipynb\" target=\"_parent\"><img src=\"https://colab.research.google.com/assets/colab-badge.svg\" alt=\"Open In Colab\"/></a>"
      ]
    },
    {
      "cell_type": "code",
      "metadata": {
        "id": "H6wOUIoJIaFs"
      },
      "source": [
        ""
      ],
      "execution_count": null,
      "outputs": []
    },
    {
      "cell_type": "markdown",
      "metadata": {
        "id": "TnpddT-FIcpX"
      },
      "source": [
        "¿Qué es una desviación típica?\n",
        "Dada una matriz de confusión, calcula la precisión.\n",
        "Dada una matriz de confusión, calcula la sensibilidad.\n",
        "¿Cuál es la diferencia entre precisión y recall?\n",
        "¿Cuál es la diferencia entre sensibilidad y especificidad?\n",
        "Qué es mejor, ¿falsos positivos o falsos negativos?\n",
        "¿Qué es un valor p?\n",
        "¿Qué es un intervalo de confianza?\n",
        "¿Qué valor es el usado más comúnmente para determinar la significación estadística?\n",
        "¿Qué es un error Tipo 2?"
      ]
    }
  ]
}